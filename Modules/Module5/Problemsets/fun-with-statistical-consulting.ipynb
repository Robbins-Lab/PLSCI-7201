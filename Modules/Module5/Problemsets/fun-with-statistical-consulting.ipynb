{
 "cells": [
  {
   "cell_type": "markdown",
   "id": "c513990b",
   "metadata": {},
   "source": [
    "# You have been hired by a consulting company fresh out of grad school. Tiffany & Co contracts you to build a predictor of diamond price based on various attributes. \n",
    "\n",
    "## Using the R data set \"diamonds\" , build a prediction model of price and put together a report for your boss. Your report must include these three sections:\n",
    "\n",
    "### 1. Data set description: a summary and visualizations of the data set\n",
    "### 2. Description of your model building process and quality control\n",
    "### 3. Final prediction model and recommendations\n"
   ]
  },
  {
   "cell_type": "code",
   "execution_count": 1,
   "id": "1ea50b77-9f6b-4781-8ad3-93ef555e07ad",
   "metadata": {},
   "outputs": [
    {
     "name": "stderr",
     "output_type": "stream",
     "text": [
      "── \u001b[1mAttaching core tidyverse packages\u001b[22m ──────────────────────── tidyverse 2.0.0 ──\n",
      "\u001b[32m✔\u001b[39m \u001b[34mdplyr    \u001b[39m 1.1.3     \u001b[32m✔\u001b[39m \u001b[34mreadr    \u001b[39m 2.1.4\n",
      "\u001b[32m✔\u001b[39m \u001b[34mforcats  \u001b[39m 1.0.0     \u001b[32m✔\u001b[39m \u001b[34mstringr  \u001b[39m 1.5.0\n",
      "\u001b[32m✔\u001b[39m \u001b[34mggplot2  \u001b[39m 3.4.4     \u001b[32m✔\u001b[39m \u001b[34mtibble   \u001b[39m 3.2.1\n",
      "\u001b[32m✔\u001b[39m \u001b[34mlubridate\u001b[39m 1.9.3     \u001b[32m✔\u001b[39m \u001b[34mtidyr    \u001b[39m 1.3.0\n",
      "\u001b[32m✔\u001b[39m \u001b[34mpurrr    \u001b[39m 1.0.2     \n",
      "── \u001b[1mConflicts\u001b[22m ────────────────────────────────────────── tidyverse_conflicts() ──\n",
      "\u001b[31m✖\u001b[39m \u001b[34mdplyr\u001b[39m::\u001b[32mfilter()\u001b[39m masks \u001b[34mstats\u001b[39m::filter()\n",
      "\u001b[31m✖\u001b[39m \u001b[34mdplyr\u001b[39m::\u001b[32mlag()\u001b[39m    masks \u001b[34mstats\u001b[39m::lag()\n",
      "\u001b[36mℹ\u001b[39m Use the conflicted package (\u001b[3m\u001b[34m<http://conflicted.r-lib.org/>\u001b[39m\u001b[23m) to force all conflicts to become errors\n"
     ]
    },
    {
     "ename": "ERROR",
     "evalue": "Error in library(tidymodels): there is no package called ‘tidymodels’\n",
     "output_type": "error",
     "traceback": [
      "Error in library(tidymodels): there is no package called ‘tidymodels’\nTraceback:\n",
      "1. library(tidymodels)"
     ]
    }
   ],
   "source": [
    "#Loading some Libraries\n",
    "library(knitr)\n",
    "library(tidyverse)\n",
    "library(tidymodels)\n"
   ]
  },
  {
   "cell_type": "markdown",
   "id": "7b5500f7-9cb8-4489-adbc-2aed1f6705a5",
   "metadata": {},
   "source": [
    "## Data set descritpion (3 pts)"
   ]
  },
  {
   "cell_type": "code",
   "execution_count": 4,
   "id": "260d643a-d9cb-4a4e-855e-e9a387ea2e77",
   "metadata": {},
   "outputs": [
    {
     "data": {
      "text/plain": [
       "     carat               cut        color        clarity          depth      \n",
       " Min.   :0.2000   Fair     : 1610   D: 6775   SI1    :13065   Min.   :43.00  \n",
       " 1st Qu.:0.4000   Good     : 4906   E: 9797   VS2    :12258   1st Qu.:61.00  \n",
       " Median :0.7000   Very Good:12082   F: 9542   SI2    : 9194   Median :61.80  \n",
       " Mean   :0.7979   Premium  :13791   G:11292   VS1    : 8171   Mean   :61.75  \n",
       " 3rd Qu.:1.0400   Ideal    :21551   H: 8304   VVS2   : 5066   3rd Qu.:62.50  \n",
       " Max.   :5.0100                     I: 5422   VVS1   : 3655   Max.   :79.00  \n",
       "                                    J: 2808   (Other): 2531                  \n",
       "     table           price             x                y         \n",
       " Min.   :43.00   Min.   :  326   Min.   : 0.000   Min.   : 0.000  \n",
       " 1st Qu.:56.00   1st Qu.:  950   1st Qu.: 4.710   1st Qu.: 4.720  \n",
       " Median :57.00   Median : 2401   Median : 5.700   Median : 5.710  \n",
       " Mean   :57.46   Mean   : 3933   Mean   : 5.731   Mean   : 5.735  \n",
       " 3rd Qu.:59.00   3rd Qu.: 5324   3rd Qu.: 6.540   3rd Qu.: 6.540  \n",
       " Max.   :95.00   Max.   :18823   Max.   :10.740   Max.   :58.900  \n",
       "                                                                  \n",
       "       z         \n",
       " Min.   : 0.000  \n",
       " 1st Qu.: 2.910  \n",
       " Median : 3.530  \n",
       " Mean   : 3.539  \n",
       " 3rd Qu.: 4.040  \n",
       " Max.   :31.800  \n",
       "                 "
      ]
     },
     "metadata": {},
     "output_type": "display_data"
    }
   ],
   "source": [
    "your_data<-as.data.frame(diamonds)\n",
    "# The str() and summary() functions can be helpful\n",
    "\n",
    "summary(your_data)\n"
   ]
  },
  {
   "cell_type": "markdown",
   "id": "2c9fd610-8a8f-4701-ae3d-46ae7c1332b6",
   "metadata": {},
   "source": [
    "## Description of your model building process (3.5 pts)"
   ]
  },
  {
   "cell_type": "code",
   "execution_count": null,
   "id": "5b0900d2-be8f-4a25-bf48-aee34338528a",
   "metadata": {},
   "outputs": [],
   "source": [
    "# The hist() and plot() functions can be helpful to look at the distribtuion \n",
    "# and relationships between variables. "
   ]
  },
  {
   "cell_type": "markdown",
   "id": "2d0dd7f3-9b34-4f05-814c-ea9839a2926e",
   "metadata": {},
   "source": [
    "## Final prediction model and recommendations (include your code) (3.5 pts)"
   ]
  },
  {
   "cell_type": "code",
   "execution_count": null,
   "id": "bb6dff6e-c33f-4da8-8fb2-a18edf989cf8",
   "metadata": {},
   "outputs": [],
   "source": [
    "# Use the lm() function 2 bonus points for doing cross validation with your prediction model"
   ]
  }
 ],
 "metadata": {
  "jupytext": {
   "cell_metadata_filter": "-all",
   "main_language": "python",
   "notebook_metadata_filter": "-all"
  },
  "kernelspec": {
   "display_name": "R",
   "language": "R",
   "name": "ir"
  },
  "language_info": {
   "codemirror_mode": "r",
   "file_extension": ".r",
   "mimetype": "text/x-r-source",
   "name": "R",
   "pygments_lexer": "r",
   "version": "4.3.3"
  }
 },
 "nbformat": 4,
 "nbformat_minor": 5
}
