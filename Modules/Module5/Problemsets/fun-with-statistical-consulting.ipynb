{
 "cells": [
  {
   "cell_type": "markdown",
   "id": "c513990b",
   "metadata": {},
   "source": [
    "# You have been hired by a consulting company fresh out of grad school. Tiffany & Co contracts you to build a predictor of diamond price based on various attributes. \n",
    "\n",
    "## Using the R data set \"diamonds\" , build a prediction model of price and put together a report for your boss. Your report must include these three sections:\n",
    "\n",
    "### 1. Data set description: a summary and visualizations of the data set\n",
    "### 2. Description of your model building process and quality control\n",
    "### 3. Final prediction model and recommendations\n"
   ]
  },
  {
   "cell_type": "code",
   "execution_count": null,
   "id": "1ea50b77-9f6b-4781-8ad3-93ef555e07ad",
   "metadata": {},
   "outputs": [],
   "source": [
    "#Loading some Libraries\n",
    "library(knitr)\n",
    "library(tidyverse)\n",
    "library(tidymodels)\n"
   ]
  },
  {
   "cell_type": "markdown",
   "id": "7b5500f7-9cb8-4489-adbc-2aed1f6705a5",
   "metadata": {},
   "source": [
    "## Data set descritpion (3 pts)"
   ]
  },
  {
   "cell_type": "code",
   "execution_count": null,
   "id": "260d643a-d9cb-4a4e-855e-e9a387ea2e77",
   "metadata": {},
   "outputs": [],
   "source": [
    "# your_data<-as.data.frame(diamonds)\n",
    "# The str() and summary() functions can be helpful"
   ]
  },
  {
   "cell_type": "markdown",
   "id": "2c9fd610-8a8f-4701-ae3d-46ae7c1332b6",
   "metadata": {},
   "source": [
    "## Description of your model building process (3.5 pts)"
   ]
  },
  {
   "cell_type": "code",
   "execution_count": null,
   "id": "5b0900d2-be8f-4a25-bf48-aee34338528a",
   "metadata": {},
   "outputs": [],
   "source": [
    "# The hist() and plot() functions can be helpful to look at the distribtuion \n",
    "# and relationships between variables. "
   ]
  },
  {
   "cell_type": "markdown",
   "id": "2d0dd7f3-9b34-4f05-814c-ea9839a2926e",
   "metadata": {},
   "source": [
    "## Final prediction model and recommendations (include your code) (3.5 pts)"
   ]
  },
  {
   "cell_type": "code",
   "execution_count": null,
   "id": "bb6dff6e-c33f-4da8-8fb2-a18edf989cf8",
   "metadata": {},
   "outputs": [],
   "source": [
    "# Use the lm() function 2 bonus points for doing cross validation with your prediction model"
   ]
  }
 ],
 "metadata": {
  "jupytext": {
   "cell_metadata_filter": "-all",
   "main_language": "python",
   "notebook_metadata_filter": "-all"
  },
  "kernelspec": {
   "display_name": "R",
   "language": "R",
   "name": "ir"
  },
  "language_info": {
   "codemirror_mode": "r",
   "file_extension": ".r",
   "mimetype": "text/x-r-source",
   "name": "R",
   "pygments_lexer": "r",
   "version": "4.2.3"
  }
 },
 "nbformat": 4,
 "nbformat_minor": 5
}
