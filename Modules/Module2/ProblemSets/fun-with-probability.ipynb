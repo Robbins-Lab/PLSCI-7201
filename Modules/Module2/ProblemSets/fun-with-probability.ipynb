{
 "cells": [
  {
   "cell_type": "markdown",
   "id": "03b36cc3-78fb-4651-97f4-65a257464fcd",
   "metadata": {},
   "source": [
    "# Part 1 Distributions in R\n",
    "\n",
    "## R comes with a psuedo-random number generator that enables random sampling from different statistical distributions. Before you can start sampling, it is important to understand how to do something over and over again using loops."
   ]
  },
  {
   "cell_type": "markdown",
   "id": "69cf9cbc",
   "metadata": {
    "lines_to_next_cell": 0
   },
   "source": [
    "## We will primarily be using for loops. A for loop is used to iterate over a sequence. \n",
    "### The code below iterates over the values 1 through 10, storing the value in the \n",
    "### variable i. The variable i is then added to a vector called vals using the \n",
    "### concatenate operator c(). Run the code below so you understand it. **Once you \n",
    "### understand the loop, modify the code below to to store the values: 20, 33, 50 \n",
    "### and 54 in vals instead and print vals.** "
   ]
  },
  {
   "cell_type": "code",
   "execution_count": 1,
   "id": "23279665",
   "metadata": {},
   "outputs": [
    {
     "data": {
      "text/html": [
       "<style>\n",
       ".list-inline {list-style: none; margin:0; padding: 0}\n",
       ".list-inline>li {display: inline-block}\n",
       ".list-inline>li:not(:last-child)::after {content: \"\\00b7\"; padding: 0 .5ex}\n",
       "</style>\n",
       "<ol class=list-inline><li>1</li><li>2</li><li>3</li><li>4</li><li>5</li><li>6</li><li>7</li><li>8</li><li>9</li><li>10</li></ol>\n"
      ],
      "text/latex": [
       "\\begin{enumerate*}\n",
       "\\item 1\n",
       "\\item 2\n",
       "\\item 3\n",
       "\\item 4\n",
       "\\item 5\n",
       "\\item 6\n",
       "\\item 7\n",
       "\\item 8\n",
       "\\item 9\n",
       "\\item 10\n",
       "\\end{enumerate*}\n"
      ],
      "text/markdown": [
       "1. 1\n",
       "2. 2\n",
       "3. 3\n",
       "4. 4\n",
       "5. 5\n",
       "6. 6\n",
       "7. 7\n",
       "8. 8\n",
       "9. 9\n",
       "10. 10\n",
       "\n",
       "\n"
      ],
      "text/plain": [
       " [1]  1  2  3  4  5  6  7  8  9 10"
      ]
     },
     "metadata": {},
     "output_type": "display_data"
    }
   ],
   "source": [
    "vals <- c()\n",
    "myList <- c(1:10)\n",
    "for(i in myList){\n",
    "  vals <- c(vals, i)\n",
    "}\n",
    "vals"
   ]
  },
  {
   "cell_type": "markdown",
   "id": "c8367664",
   "metadata": {},
   "source": [
    "### Let's explore the R function sample(). Read the sample help page.\n",
    "### **Using the above code as a hint, write a for loop that samples from the vector 1 through 10 ten thousand times and stores the result in a variable named vals2. Please, DO NOT print vals2!**"
   ]
  },
  {
   "cell_type": "code",
   "execution_count": 2,
   "id": "1058ee22",
   "metadata": {},
   "outputs": [],
   "source": [
    "# You code here\n",
    "vals2 <- c()\n",
    "for(i in 1:10000){\n",
    "  \n",
    "}"
   ]
  },
  {
   "cell_type": "markdown",
   "id": "97135a0b",
   "metadata": {
    "lines_to_next_cell": 0
   },
   "source": [
    "### **Plot these values using the hist() function. Describe the distribution of vals2.**"
   ]
  },
  {
   "cell_type": "code",
   "execution_count": null,
   "id": "3ddb2207",
   "metadata": {},
   "outputs": [],
   "source": [
    "# Your code here\n",
    "hist(vals2)"
   ]
  },
  {
   "cell_type": "markdown",
   "id": "856f8585",
   "metadata": {
    "lines_to_next_cell": 0
   },
   "source": []
  },
  {
   "cell_type": "markdown",
   "id": "ad1ea6b1",
   "metadata": {
    "lines_to_next_cell": 0
   },
   "source": [
    "### **Use the rnorm() function to generate a sample from a normal distribution with mean of 0 and a standard deviation of 1 and print this value. execute the code in thcell and look at the value. Execute the code again and look at the value. Now place set.seed(100) above your sampling code and and execute the code twice again. What is set.seed() doing?**"
   ]
  },
  {
   "cell_type": "code",
   "execution_count": null,
   "id": "3da0e700",
   "metadata": {
    "tags": []
   },
   "outputs": [],
   "source": [
    " # Your code here\n"
   ]
  },
  {
   "cell_type": "markdown",
   "id": "5f24e4f5",
   "metadata": {
    "lines_to_next_cell": 0
   },
   "source": [
    "### **Use rbinom to do 1000 flips of a fair coin and plot the resulting distribution. Save the output in a variable called flips and plot the distribution of flips**"
   ]
  },
  {
   "cell_type": "code",
   "execution_count": null,
   "id": "e4d0a7c0",
   "metadata": {},
   "outputs": [],
   "source": [
    "set.seed(100)\n",
    "# Your code here\n",
    "flips <- rbinom()\n",
    "hist(flips)\n"
   ]
  },
  {
   "cell_type": "markdown",
   "id": "9fac5177",
   "metadata": {
    "lines_to_next_cell": 0
   },
   "source": [
    "### **Calculate the number of successes in a trial, lets say 1 = tails = success, for 10 trials of five flips and plot the resulting distribution. (Hint for 1 in 10, calculate the number of successes in a trial of five flips and add the result to a vector.**"
   ]
  },
  {
   "cell_type": "code",
   "execution_count": null,
   "id": "2ce62018",
   "metadata": {
    "lines_to_next_cell": 2
   },
   "outputs": [],
   "source": [
    "set.seed(100)\n",
    "# Your code here\n",
    "res <- rbinom()\n",
    "hist(res)\n"
   ]
  },
  {
   "cell_type": "markdown",
   "id": "38e3dd57",
   "metadata": {
    "lines_to_next_cell": 0
   },
   "source": [
    "### **Now plot the number of successes in a trial for 100 trials of ten flips and plot the resulting distribution.**"
   ]
  },
  {
   "cell_type": "code",
   "execution_count": null,
   "id": "eb0fd7e1",
   "metadata": {},
   "outputs": [],
   "source": [
    "set.seed(100)\n",
    "# Your code here\n",
    "res2 <- rbinom()\n",
    "hist(res2)"
   ]
  },
  {
   "cell_type": "markdown",
   "id": "6f8c82e6",
   "metadata": {
    "lines_to_next_cell": 0
   },
   "source": [
    "### **Now plot the number of successes in a trial for 1000 trials of twenty flips and plot the resulting distribution.**"
   ]
  },
  {
   "cell_type": "code",
   "execution_count": null,
   "id": "4964112b",
   "metadata": {},
   "outputs": [],
   "source": [
    "set.seed(100)\n",
    "# Your code here\n",
    "res3 <- rbinom()\n",
    "hist(res3)"
   ]
  },
  {
   "cell_type": "markdown",
   "id": "a4246270",
   "metadata": {},
   "source": [
    "### **What do you notice about the distributions as you increase the number of flips in a trial and the number of trials?**"
   ]
  },
  {
   "cell_type": "markdown",
   "id": "e397359e",
   "metadata": {
    "lines_to_next_cell": 0,
    "tags": []
   },
   "source": [
    "# Part 2 Probability\n",
    "\n",
    "### **You work in livestock production and you want to determine if a new sire is carrying a resessive allele that causing a genetic disorder. Unfortunately no markers are avaialble to screen for the allele. To determine if the sire is carrying the allele, it is mated with dams that are known to have one copy of the allele. If any progeny show the phenotype for the disorder you will know the bull is a carrier.**\n",
    "### ***How many normal progeny do you need to see before you can be 95% confident the sire is not a carrier? (Hint: 25% of the progeny will show the phenotype if the sire is a carrier)***\n"
   ]
  },
  {
   "cell_type": "code",
   "execution_count": null,
   "id": "2e725bc2",
   "metadata": {
    "lines_to_next_cell": 2
   },
   "outputs": [],
   "source": [
    "# your code here"
   ]
  },
  {
   "cell_type": "markdown",
   "id": "d0cff9ed-3918-4fc2-b6fd-60e897d60bf4",
   "metadata": {},
   "source": [
    "### **In mice the probability of having a female mouse is 0.5. In a litter of 5 mice, what is the probability of having at least 3 female mice?**"
   ]
  },
  {
   "cell_type": "code",
   "execution_count": 1,
   "id": "13d9b86a-2737-4d87-813c-6a3751a548ae",
   "metadata": {},
   "outputs": [],
   "source": [
    "# your code here"
   ]
  },
  {
   "cell_type": "markdown",
   "id": "7ec6393c",
   "metadata": {
    "lines_to_next_cell": 0
   },
   "source": [
    "### **You go out to a field of tomatoes and take a random sample of ten tomato plants for measuring tomato sugar content. You go out to the field again the next day and take another sample of ten tomatoes. The sugar values of all of the tomatoes in the population are provided below as pop1. What is the probability that the the absolute difference the two samples will be greater than 3 units of sugar? (Hint: think monte carlo)**"
   ]
  },
  {
   "cell_type": "code",
   "execution_count": null,
   "id": "e60451d2",
   "metadata": {
    "lines_to_next_cell": 0
   },
   "outputs": [],
   "source": [
    "set.seed(100)\n",
    "pop1 <- rnorm(10,10,2.5)\n",
    "# Your code here"
   ]
  },
  {
   "cell_type": "markdown",
   "id": "6990cca4",
   "metadata": {
    "lines_to_next_cell": 0,
    "tags": []
   },
   "source": [
    "### **Let's suppose there are two populations, the original pop1 and a high sugar population, pop2. What is the probability that the mean(pop2) - mean(pop1) is greater than 3 units of sugar?**"
   ]
  },
  {
   "cell_type": "code",
   "execution_count": null,
   "id": "24406149",
   "metadata": {},
   "outputs": [],
   "source": [
    "pop_size = 10\n",
    "set.seed(100)\n",
    "count=0\n",
    "pop1 <- rnorm(pop_size,10,2.5)\n",
    "pop2 <- rnorm(pop_size,14,2.5)\n",
    "# Your code here"
   ]
  },
  {
   "cell_type": "markdown",
   "id": "49abbbb2-cc33-4d9b-8772-79616f2bd22b",
   "metadata": {},
   "source": [
    "### **Increase the pop_size to 100. How does this change the the probability?** "
   ]
  },
  {
   "cell_type": "code",
   "execution_count": null,
   "id": "3847b075-4387-433b-a980-b9bbb47cf241",
   "metadata": {},
   "outputs": [],
   "source": []
  }
 ],
 "metadata": {
  "jupytext": {
   "cell_metadata_filter": "-all",
   "main_language": "R",
   "notebook_metadata_filter": "-all"
  },
  "kernelspec": {
   "display_name": "R",
   "language": "R",
   "name": "ir"
  },
  "language_info": {
   "codemirror_mode": "r",
   "file_extension": ".r",
   "mimetype": "text/x-r-source",
   "name": "R",
   "pygments_lexer": "r",
   "version": "4.3.3"
  }
 },
 "nbformat": 4,
 "nbformat_minor": 5
}
