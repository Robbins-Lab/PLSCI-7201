{
 "cells": [
  {
   "cell_type": "markdown",
   "id": "376a5490-f395-474a-bcca-aadaab901d0c",
   "metadata": {},
   "source": [
    "# Power Analysis"
   ]
  },
  {
   "cell_type": "markdown",
   "id": "49f95514-2abc-4ce0-b128-81cc09fe3ca2",
   "metadata": {},
   "source": [
    "## Here is an example of a power analysis for a simple experiment comparing two treatments. First we specify our assumptions about the magnitude of the residual variance or error in measuring the effect of the treatments, and the degree to which we beleive the two treatments will differ."
   ]
  },
  {
   "cell_type": "code",
   "execution_count": 11,
   "id": "b895f243-8ca6-4a72-999f-3b80f5606d4e",
   "metadata": {},
   "outputs": [],
   "source": [
    "#our alternative hypothesis is that trtment two will increase the observed phenotype by x units\n",
    "diff_trt=4\n",
    "#based on a pilot experiment or prior knowledge we are assuming residual variance will be approximately 30\n",
    "res_var=30"
   ]
  },
  {
   "cell_type": "markdown",
   "id": "e17e08c9-2732-4432-b82e-27ee0376c83f",
   "metadata": {},
   "source": [
    "## In this example we are going to use the paramerters above to construct the distribution of **diff_trt**, assuming a balanced experiment with appropriate experimental designs."
   ]
  },
  {
   "cell_type": "code",
   "execution_count": 16,
   "id": "e809064b-f375-4d61-a2dc-94edd1fbad66",
   "metadata": {},
   "outputs": [
    {
     "name": "stdout",
     "output_type": "stream",
     "text": [
      "[1] \"Critical Value\"\n"
     ]
    },
    {
     "data": {
      "text/html": [
       "2.92015878425615"
      ],
      "text/latex": [
       "2.92015878425615"
      ],
      "text/markdown": [
       "2.92015878425615"
      ],
      "text/plain": [
       "[1] 2.920159"
      ]
     },
     "metadata": {},
     "output_type": "display_data"
    }
   ],
   "source": [
    "# replication per treatment\n",
    "reps=20\n",
    "diff_trt_var=res_var/reps + res_var/reps\n",
    "df=2*reps-2\n",
    "#determing the critical value for a one-side t-tes\n",
    "z_thresh = qt(.95,df)\n",
    "# Determining the difference in means that would need to be observed in order to surpase the threshold\n",
    "critical_value = z_thresh * diff_trt_var**.5\n",
    "print(\"Critical Value\")\n",
    "critical_value"
   ]
  },
  {
   "cell_type": "markdown",
   "id": "86735395-3663-4569-ad49-663aa85c2d69",
   "metadata": {},
   "source": [
    "## Now that we have the critical value we will determine the probability of observing that critical value given the assumed distribution of **diff_trt** under the alternative hypothis (trt 2 > than trt1)"
   ]
  },
  {
   "cell_type": "code",
   "execution_count": 17,
   "id": "97f12288-919a-4e96-a614-54a378f11acb",
   "metadata": {},
   "outputs": [
    {
     "data": {
      "text/html": [
       "-0.623446616591766"
      ],
      "text/latex": [
       "-0.623446616591766"
      ],
      "text/markdown": [
       "-0.623446616591766"
      ],
      "text/plain": [
       "[1] -0.6234466"
      ]
     },
     "metadata": {},
     "output_type": "display_data"
    },
    {
     "data": {
      "text/html": [
       "0.731642236363857"
      ],
      "text/latex": [
       "0.731642236363857"
      ],
      "text/markdown": [
       "0.731642236363857"
      ],
      "text/plain": [
       "[1] 0.7316422"
      ]
     },
     "metadata": {},
     "output_type": "display_data"
    }
   ],
   "source": [
    "# since I'm going to use a standard, centralized t-distribution I need to center and scale the critical value\n",
    "centered_cv=(critical_value-diff_trt)/diff_trt_var**.5\n",
    "centered_cv\n",
    "power=1-pt(centered_cv,df)\n",
    "power"
   ]
  },
  {
   "cell_type": "markdown",
   "id": "4c476795-cc0e-4b89-9282-2eeeadaacd7c",
   "metadata": {},
   "source": [
    "## Code to calculate power could be placed in a loop over increasing replication to form a power curve."
   ]
  },
  {
   "cell_type": "code",
   "execution_count": 19,
   "id": "a128d0f6-4296-47c4-afd4-1b8f855e9d14",
   "metadata": {},
   "outputs": [
    {
     "data": {
      "image/png": "[encoded data removed]",
      "text/plain": [
       "plot without title"
      ]
     },
     "metadata": {
      "image/png": {
       "height": 420,
       "width": 420
      }
     },
     "output_type": "display_data"
    }
   ],
   "source": [
    "replications=c(5:60)\n",
    "power=rep(0,length(replications))\n",
    "\n",
    "for(i in 1:length(replications)){\n",
    "reps = replications[i]\n",
    "diff_trt_var=res_var/reps + res_var/reps\n",
    "df=2*reps-2\n",
    "#determing the critical value for a one-side t-tes\n",
    "z_thresh = qt(.95,df)\n",
    "# Determining the difference in means that would need to be observed in order to surpase the threshold\n",
    "critical_value = z_thresh * diff_trt_var**.5\n",
    "centered_cv=(critical_value-diff_trt)/diff_trt_var**.5\n",
    "centered_cv\n",
    "power[i]=1-pt(centered_cv,df)\n",
    "    \n",
    "}\n",
    "          \n",
    "\n",
    "plot(replications, power)"
   ]
  },
  {
   "cell_type": "markdown",
   "id": "9b896978-de50-4baa-94be-7736b4b06b43",
   "metadata": {},
   "source": [
    "## What is a potential issue with this approach to power calculations?"
   ]
  },
  {
   "cell_type": "code",
   "execution_count": null,
   "id": "280606e6-ea81-4df2-a973-3a1595bbd27b",
   "metadata": {},
   "outputs": [],
   "source": []
  }
 ],
 "metadata": {
  "kernelspec": {
   "display_name": "R",
   "language": "R",
   "name": "ir"
  },
  "language_info": {
   "codemirror_mode": "r",
   "file_extension": ".r",
   "mimetype": "text/x-r-source",
   "name": "R",
   "pygments_lexer": "r",
   "version": "4.3.3"
  }
 },
 "nbformat": 4,
 "nbformat_minor": 5
}
