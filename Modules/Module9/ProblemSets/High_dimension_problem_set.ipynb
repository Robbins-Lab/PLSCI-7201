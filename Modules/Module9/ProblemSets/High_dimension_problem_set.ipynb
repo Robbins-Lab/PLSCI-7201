{
 "cells": [
  {
   "cell_type": "markdown",
   "id": "3abbfb4e-dadb-4a88-8e90-e24cf5605850",
   "metadata": {},
   "source": [
    "# Part 1 Visualization"
   ]
  },
  {
   "cell_type": "markdown",
   "id": "f0be260d-8a7a-49b6-9d52-161e3549e40e",
   "metadata": {},
   "source": [
    "We will investigate gene expression results from an experiment in *Drosophila melanogaster* cell cultures. The experiment investigated the effect of RNAi knock-down of the splicing factor pasilla on gene expression. There are two groups: treatment and control. Sample information is give in the file **\"sample_info.csv\"**. The gene expression matrix with samples on the columns and genes on the rows is given in **\"gene_expression.csv\"**."
   ]
  },
  {
   "cell_type": "markdown",
   "id": "2366f741-41ff-4c5a-b2d9-4f43cd2698c7",
   "metadata": {},
   "source": [
    "## Read in the datafiles **1pt**"
   ]
  },
  {
   "cell_type": "code",
   "execution_count": null,
   "id": "97741b11-87c2-4248-9f57-9df4758248d6",
   "metadata": {},
   "outputs": [],
   "source": [
    "# your code here"
   ]
  },
  {
   "cell_type": "markdown",
   "id": "814f1545-f869-4911-aca1-f78faf07a9e8",
   "metadata": {},
   "source": [
    "## Run principal components analysis on the gene expression matrix using the function `prcomp`. Make a scree plot of the prcomp object by calling the `plot` function on it. Describe what you can deduce from the scree plot. **1 pt**"
   ]
  },
  {
   "cell_type": "code",
   "execution_count": 1,
   "id": "6b6ac28e-7430-4061-8592-e1c8218bb227",
   "metadata": {},
   "outputs": [],
   "source": [
    "# your code here"
   ]
  },
  {
   "cell_type": "markdown",
   "id": "af66ada7-57e7-41b0-8bed-36fe996bd2fb",
   "metadata": {},
   "source": [
    "## Create a plot of the first two PCs. Describe the plot and your interpretation of it. Note: you should incorporate the information provided in sample_info.csv in your interpretation. **2 pt**"
   ]
  },
  {
   "cell_type": "code",
   "execution_count": null,
   "id": "39ad918a-7f05-4e69-8108-33d8de1dae07",
   "metadata": {},
   "outputs": [],
   "source": [
    "# your code here"
   ]
  },
  {
   "cell_type": "markdown",
   "id": "c1177ab9-73eb-4217-9b92-4a88f03958b7",
   "metadata": {},
   "source": [
    "# Part 2 Modeling"
   ]
  },
  {
   "cell_type": "markdown",
   "id": "e26b9b4a-bc73-467e-8d89-cb21456eaf20",
   "metadata": {},
   "source": [
    "The files **\"train.csv\"** and **\"test.csv\"** are from a study looking at the ability of near-infared spectra to predict total carotenoid content in cassava tubers. The first column in each file \"TCC\" is the total carotenoid content, and subsequent columns starting with \"X\" followed by a number represent the absorbance at a given wavelength. You will use the train data to train different models and validate your model using the test dataset. Please look at the lecture exercises for code examples."
   ]
  },
  {
   "cell_type": "markdown",
   "id": "f5c9e287-8074-41db-9826-bb94c4732ee5",
   "metadata": {},
   "source": [
    "## Read in the data sets. Train a model using principal components regression and calculate its accuracy. How many components were used in your model and how did you pick them? **3 pts**"
   ]
  },
  {
   "cell_type": "code",
   "execution_count": 3,
   "id": "8adf4816-f4f7-4330-a0fe-879d84bafeaa",
   "metadata": {},
   "outputs": [],
   "source": [
    "# your code here"
   ]
  },
  {
   "cell_type": "markdown",
   "id": "9bf31275-d89a-4a71-9274-e85efbcd19dd",
   "metadata": {},
   "source": [
    "## Train a model using ridge-regression and calculate its accuracy. What did you use as your lambda value? **2 pts**"
   ]
  },
  {
   "cell_type": "code",
   "execution_count": 4,
   "id": "6b59dcee-1f4a-4fc4-9f10-c5c7a1584400",
   "metadata": {},
   "outputs": [],
   "source": [
    "# your code here"
   ]
  },
  {
   "cell_type": "markdown",
   "id": "99d9c757-8984-4e2a-9ac3-84aed47aa1f0",
   "metadata": {},
   "source": [
    "## Which model technique performed the best? Given how the different modeling techniques work, why do you think this technique performed the best? **1 pt**"
   ]
  },
  {
   "cell_type": "markdown",
   "id": "811acc96-fa39-4f55-adba-4fda5418095d",
   "metadata": {},
   "source": []
  }
 ],
 "metadata": {
  "kernelspec": {
   "display_name": "R",
   "language": "R",
   "name": "ir"
  },
  "language_info": {
   "codemirror_mode": "r",
   "file_extension": ".r",
   "mimetype": "text/x-r-source",
   "name": "R",
   "pygments_lexer": "r",
   "version": "4.3.3"
  }
 },
 "nbformat": 4,
 "nbformat_minor": 5
}
