{
 "cells": [
  {
   "cell_type": "markdown",
   "id": "6efce073",
   "metadata": {},
   "source": [
    "# Part 1\n",
    "I'm interested in testing protocols for rapid cycle advancment of wheat lines in the green house. To do this I want to determine the best light treatment to induce flowering and maximize the number of generations that can be achieved in a year. I'm also interested in the interactions between light treatments and varieties. \n",
    "\n",
    "I have access to 3 greenhouses, each one with enough space to replicate the genotypes 4 times. I want to test 3 light treatments and based on some initial experiements there is variation in light intensity and temperature throughout each of the greenhouses.\n"
   ]
  },
  {
   "cell_type": "markdown",
   "id": "e688c377-4743-423b-b42d-9951091797e7",
   "metadata": {},
   "source": [
    "**What experimental design do you recommend using? (provide justification for your choice) (2 pts)**"
   ]
  },
  {
   "cell_type": "code",
   "execution_count": null,
   "id": "c6e96c63-7a34-4825-b030-cd4a69284fb2",
   "metadata": {},
   "outputs": [],
   "source": []
  },
  {
   "cell_type": "markdown",
   "id": "e0159b75-fc5f-4e73-924b-4c11f0eec2d6",
   "metadata": {},
   "source": [
    "**Based on your selected design, what model should be used to analyze the data (clearly specify any interaction terms and nesting)? (2 pts)**"
   ]
  },
  {
   "cell_type": "code",
   "execution_count": null,
   "id": "340ee8dd-45c1-4a3f-93d3-c75e7b5efbbc",
   "metadata": {},
   "outputs": [],
   "source": []
  },
  {
   "cell_type": "markdown",
   "id": "4adcbd3c-054f-4e81-b74c-f529e2a69312",
   "metadata": {},
   "source": [
    "# Part 2 \n",
    "Import the maize MaizeRILs2 data set. This data set represents a multi-environment\n",
    "trial for a set of recombinent inbred lines (RILs, these are your treatments). RILs are grown in an RCBD\n",
    "with two reps at four locations and their height is measured. \n",
    "The researchers are interested in assessing whether there is a significant interaction of RIL with location. The researchers\n",
    "would also like to select the tallest 10 lines overall."
   ]
  },
  {
   "cell_type": "markdown",
   "id": "c64a4871",
   "metadata": {
    "lines_to_next_cell": 0
   },
   "source": [
    "**Is this a balanced data set? (Hint: use `table()`) (1 pt)**"
   ]
  },
  {
   "cell_type": "code",
   "execution_count": null,
   "id": "ad90f1e5",
   "metadata": {
    "lines_to_next_cell": 2
   },
   "outputs": [],
   "source": [
    "# Your code here\n",
    "#maize <- read.csv(\"MaizeRILs2.csv\")"
   ]
  },
  {
   "cell_type": "markdown",
   "id": "e7b55620",
   "metadata": {
    "lines_to_next_cell": 0
   },
   "source": [
    "**Fit a model where all experimental factors are random except for RIL (1 pt)**"
   ]
  },
  {
   "cell_type": "code",
   "execution_count": null,
   "id": "3f5e9612",
   "metadata": {},
   "outputs": [],
   "source": [
    "# Your code here\n"
   ]
  },
  {
   "cell_type": "markdown",
   "id": "daf8b261",
   "metadata": {
    "lines_to_next_cell": 0
   },
   "source": [
    "**Fit a model where all experimental factors are random. (1 pt)**"
   ]
  },
  {
   "cell_type": "code",
   "execution_count": null,
   "id": "0db805b9",
   "metadata": {},
   "outputs": [],
   "source": [
    "# Your code here\n"
   ]
  },
  {
   "cell_type": "markdown",
   "id": "15c19ff1",
   "metadata": {
    "lines_to_next_cell": 0
   },
   "source": [
    "**Extract the estimates for RIL from both models (Hint: use `mmer.predict`) and plot the results from each model against one another in a scatter plot . Describe what you see. (1 pt)**"
   ]
  },
  {
   "cell_type": "code",
   "execution_count": null,
   "id": "4031681e",
   "metadata": {},
   "outputs": [],
   "source": [
    "# Your code here"
   ]
  },
  {
   "cell_type": "markdown",
   "id": "16be2db7",
   "metadata": {
    "lines_to_next_cell": 0
   },
   "source": [
    "**Fit a full and reduced model suitable for testing the interaction of interest. Is the interaction significant? (1 pt)**"
   ]
  },
  {
   "cell_type": "code",
   "execution_count": null,
   "id": "3a93c5c2",
   "metadata": {},
   "outputs": [],
   "source": [
    "# Your code here"
   ]
  },
  {
   "cell_type": "markdown",
   "id": "492a26de",
   "metadata": {
    "lines_to_next_cell": 0
   },
   "source": [
    "**Fit a final model and extract the top ten RILS based on BLUPs (1 pt)**"
   ]
  },
  {
   "cell_type": "markdown",
   "id": "7fd9edc2",
   "metadata": {},
   "source": []
  }
 ],
 "metadata": {
  "jupytext": {
   "cell_metadata_filter": "-all",
   "main_language": "R",
   "notebook_metadata_filter": "-all"
  },
  "kernelspec": {
   "display_name": "R",
   "language": "R",
   "name": "ir"
  },
  "language_info": {
   "codemirror_mode": "r",
   "file_extension": ".r",
   "mimetype": "text/x-r-source",
   "name": "R",
   "pygments_lexer": "r",
   "version": "4.3.3"
  }
 },
 "nbformat": 4,
 "nbformat_minor": 5
}
