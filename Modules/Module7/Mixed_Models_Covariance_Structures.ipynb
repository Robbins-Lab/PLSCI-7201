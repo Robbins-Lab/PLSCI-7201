{
  "cells": [
    {
      "cell_type": "markdown",
      "id": "6948ebde-9430-4e29-9df5-8090a46295ed",
      "metadata": {
        "jp-MarkdownHeadingCollapsed": true,
        "tags": [],
        "id": "6948ebde-9430-4e29-9df5-8090a46295ed"
      },
      "source": [
        "# Conducting Genetic Evaluations using Mixed Models\n",
        "\n",
        "In this module we will cover the basics of analyzing plant breeding data using mixed models for the purpose of calculating the genetic merit of lines for use as parents commonly referred to as **Estimated Breeding Values (EBV) or Genomic Estimated Breeding Values (GEBV)**. We will only cover 2 examples, but the course will provide some basic information on the sommer package and how to run the analysis using the ILCI JupyterHub Environment. Mixed models are powerful tools for the analysis of breeding data because they can incorporate knowledge of genetic inheritance and genetic control of complex traits, leading to more accurate estimates of genetic merit.\n",
        "\n",
        "**Specifically this module will provide:**\n",
        "\n",
        "- A brief review of inheritance, basic principles of quantitative genetics, and response to selection.\n",
        "- An introduction the the mixed model package sommer and instructions on how to fit and interpret results from the sommer package.\n",
        "- Two examples of fitting mixed models using pedigree and genomic relationship matrices.\n",
        "\n"
      ]
    },
    {
      "cell_type": "markdown",
      "id": "eb93aeed-ecf2-4fa8-8284-2da386bd1c21",
      "metadata": {
        "tags": [],
        "id": "eb93aeed-ecf2-4fa8-8284-2da386bd1c21"
      },
      "source": [
        "# Inheritance\n",
        "\n",
        "![](https://github.com/krr73/PLSCI-7201/blob/main/Modules/Module7/images/Meiosis.png?raw=1)"
      ]
    },
    {
      "cell_type": "markdown",
      "id": "4ffb5add-68fc-4a1d-86fb-b71392f3c4e6",
      "metadata": {
        "id": "4ffb5add-68fc-4a1d-86fb-b71392f3c4e6"
      },
      "source": [
        " 1.  **Law of segregation**: A trait is influenced by a pair of alleles but each individual passes on to       its progeny a gamete that contains only a single, random, allele.\n",
        "\n",
        "2.  **Law of independent assortment**: Alleles of different factors combine independently in the gamete."
      ]
    },
    {
      "cell_type": "markdown",
      "id": "41be41d0-f27b-43c6-b15e-aae3d111696f",
      "metadata": {
        "id": "41be41d0-f27b-43c6-b15e-aae3d111696f"
      },
      "source": [
        "# Inheritance of alleles is random and conditional on the genotype of parents\n",
        "- As a result inheritance follows well defined discrete statistical probability distributions\n",
        "- This combined with the properties of the central limit theorem enable us to treat most complex genetic (influenced by multiple genetic and environmental factors) effects as being normally distributed.\n",
        "- The fact that complex genetic effects tend to follow normal distributions means statistical approaches play a critical role in plant breeding efforts.\n",
        "- **Quantitative Genetics** is a field of science that specializes in developing and applying statistical modeling to better understand and more effectively modify complex genetic traits.\n"
      ]
    },
    {
      "cell_type": "markdown",
      "id": "0f9c5ecb-a73a-445f-b414-29a636496085",
      "metadata": {
        "id": "0f9c5ecb-a73a-445f-b414-29a636496085"
      },
      "source": [
        "# Central Limit Theorem\n",
        "CLT states the sum of a large number of independent identically distributed random variables with a finite variance will be approximately normal.\n",
        "\n",
        "In this section, we demonstrate the Central Limit Theorem using a graphical approach. We generate a sample data set following an exponential distribution using the rexp function. The goal is to visualize the distribution of these data points.\n",
        "\n",
        "We utilize the ggplot2 library for creating histograms. The geom_histogram function is used to create a histogram of the data, allowing us to observe the population distribution. Various aesthetic elements are added for clarity, including labeling the x-axis, setting a title, and customizing the theme for better visualization."
      ]
    },
    {
      "cell_type": "code",
      "source": [
        "#Loading libraries\n",
        "req_packages<-c(\"ggplot2\", \"sommer\")\n",
        "\n",
        "for(i in c(1:length(req_packages))){\n",
        "  if (!require(req_packages[i], character.only = TRUE)){\n",
        "   install.packages(req_packages[i])\n",
        "  }\n",
        "}\n"
      ],
      "metadata": {
        "id": "EjccO2hq4zof",
        "outputId": "7ebabc17-62c4-4dc0-e788-9e30aa05d105",
        "colab": {
          "base_uri": "https://localhost:8080/"
        }
      },
      "id": "EjccO2hq4zof",
      "execution_count": 3,
      "outputs": [
        {
          "output_type": "stream",
          "name": "stderr",
          "text": [
            "Loading required package: ggplot2\n",
            "\n",
            "Loading required package: sommer\n",
            "\n",
            "Warning message in library(package, lib.loc = lib.loc, character.only = TRUE, logical.return = TRUE, :\n",
            "“there is no package called ‘sommer’”\n",
            "Installing package into ‘/usr/local/lib/R/site-library’\n",
            "(as ‘lib’ is unspecified)\n",
            "\n",
            "also installing the dependencies ‘RcppArmadillo’, ‘RcppProgress’\n",
            "\n",
            "\n"
          ]
        }
      ]
    },
    {
      "cell_type": "code",
      "execution_count": 4,
      "id": "3ae6d5bf-8478-4193-8f81-6e61af8b8322",
      "metadata": {
        "tags": [],
        "id": "3ae6d5bf-8478-4193-8f81-6e61af8b8322",
        "outputId": "4fce6582-7508-41b5-a253-08b7a5448088",
        "colab": {
          "base_uri": "https://localhost:8080/",
          "height": 437
        }
      },
      "outputs": [
        {
          "output_type": "display_data",
          "data": {
            "text/plain": [
              "plot without title"
            ],
            "image/png": "[encoded data removed]"
          },
          "metadata": {
            "image/png": {
              "width": 420,
              "height": 420
            }
          }
        }
      ],
      "source": [
        "# Central Limit Demo\n",
        "library(ggplot2)\n",
        "set.seed(100)\n",
        "dat = rexp(10000)\n",
        "#dat=runif(10000)\n",
        "ggplot(data.frame(x=dat), aes(x=x)) +\n",
        "  geom_histogram(aes(y = after_stat(density)), binwidth=.1 ) + xlab(\"x value\") +\n",
        "  ggtitle(\"Population Distribution\") +\n",
        "  theme_bw(base_size=18) +\n",
        "  theme(panel.background=element_blank(),\n",
        "        panel.grid=element_blank())"
      ]
    },
    {
      "cell_type": "markdown",
      "id": "71889067-da86-4a4c-936a-409f26a23564",
      "metadata": {
        "id": "71889067-da86-4a4c-936a-409f26a23564"
      },
      "source": [
        "In this section, we demonstrate the concept of sampling distribution of the sample mean. We begin by setting a seed for reproducibility. Our goal is to understand how the means of samples, taken from our original dataset, distribute themselves.\n",
        "\n",
        "We conduct a simulation where we repeatedly draw samples of size 30 from our dataset dat, compute their means, and store these means in an array. This process is repeated 1000 times to generate a robust sample of means.\n",
        "\n",
        "After accumulating these sample means, we plot their distribution using ggplot2. The resulting histogram will help us observe the distribution of the sample means, which is a critical concept in understanding the Central Limit Theorem. The histogram is styled for better readability and aesthetics."
      ]
    },
    {
      "cell_type": "code",
      "execution_count": 5,
      "id": "06d38ca7-d658-4559-b180-27302192a3da",
      "metadata": {
        "tags": [],
        "id": "06d38ca7-d658-4559-b180-27302192a3da",
        "outputId": "78e82b9e-f743-4ea5-d9b7-c3b1c511a92b",
        "colab": {
          "base_uri": "https://localhost:8080/",
          "height": 437
        }
      },
      "outputs": [
        {
          "output_type": "display_data",
          "data": {
            "text/plain": [
              "plot without title"
            ],
            "image/png": "[encoded data removed]"
          },
          "metadata": {
            "image/png": {
              "width": 420,
              "height": 420
            }
          }
        }
      ],
      "source": [
        "set.seed(100)\n",
        "samples <- c()\n",
        "for(i in 1:1000){\n",
        "  samples <- c(samples, mean(sample(dat, 30)))\n",
        "}\n",
        "ggplot(data.frame(x=samples), aes(x=x)) +\n",
        "  geom_histogram(aes(y = after_stat(density)), binwidth=.05 ) + xlab(\"x value\") +\n",
        "  ggtitle(\"1000 Means of 30 from Population\") +\n",
        "  theme_bw(base_size=18) +\n",
        "  theme(panel.background=element_blank(),\n",
        "        panel.grid=element_blank())"
      ]
    },
    {
      "cell_type": "markdown",
      "id": "8ac7d818-0dab-467f-8ebc-686f2d102039",
      "metadata": {
        "id": "8ac7d818-0dab-467f-8ebc-686f2d102039"
      },
      "source": [
        "# How many genes need to control a trait before the genetic effects follow a normal distribution?\n",
        "\n",
        "This section focuses on simulating the genetic effects of quantitative trait loci (QTL) that control a particular trait of interest. We define the number of QTLs and simulate their effects on a population of 1000 lines.\n",
        "\n",
        "**Initialization**: We start by specifying the number of QTLs (`nQTL`) influencing the trait."
      ]
    },
    {
      "cell_type": "code",
      "execution_count": 6,
      "id": "06f209c5-e461-4acc-bab0-ec7294c1c903",
      "metadata": {
        "id": "06f209c5-e461-4acc-bab0-ec7294c1c903"
      },
      "outputs": [],
      "source": [
        "# number of quantitative trait loci controlling the trait of interest\n",
        "nQTL=7"
      ]
    },
    {
      "cell_type": "markdown",
      "id": "31279e6e-093e-41fe-958b-896739384f67",
      "metadata": {
        "id": "31279e6e-093e-41fe-958b-896739384f67"
      },
      "source": [
        "**Storage Vector**: A vector (`gEffects`) is initialized to store the cumulative effect of QTLs for each line."
      ]
    },
    {
      "cell_type": "code",
      "execution_count": 7,
      "id": "93670da3-b1a3-49ce-b61b-e84e5350ef66",
      "metadata": {
        "id": "93670da3-b1a3-49ce-b61b-e84e5350ef66"
      },
      "outputs": [],
      "source": [
        "# allocating a vector to store the sum of QTL effects for 1000 lines\n",
        "gEffects=rep(0,1000)"
      ]
    },
    {
      "cell_type": "markdown",
      "id": "fc5186ea-4994-4af2-867a-df06297aa5e2",
      "metadata": {
        "id": "fc5186ea-4994-4af2-867a-df06297aa5e2"
      },
      "source": [
        "**QTL Effect Simulation**: The effects of each QTL are simulated using a uniform distribution. This represents the random nature of genetic variation."
      ]
    },
    {
      "cell_type": "code",
      "execution_count": 8,
      "id": "47d42472-152f-492b-bc1d-96f29f0a9a95",
      "metadata": {
        "id": "47d42472-152f-492b-bc1d-96f29f0a9a95"
      },
      "outputs": [],
      "source": [
        "# simulating QTL effects using a uniform distribution (0,1)\n",
        "QTLeffect=runif(nQTL)"
      ]
    },
    {
      "cell_type": "markdown",
      "id": "e06bf42b-9b2e-43b3-a7d4-882738332d39",
      "metadata": {
        "id": "e06bf42b-9b2e-43b3-a7d4-882738332d39"
      },
      "source": [
        "**Sampling Genotypes**: We simulate bi-allelic polymorphisms for each line, assuming a high minor allele frequency. The genotype at each locus is determined by sampling, and the effect of each allele is added to or subtracted from the total genetic effect for each line."
      ]
    },
    {
      "cell_type": "code",
      "execution_count": 9,
      "id": "f9db23d6-5e49-4be1-accd-c113b3dcc028",
      "metadata": {
        "id": "f9db23d6-5e49-4be1-accd-c113b3dcc028"
      },
      "outputs": [],
      "source": [
        "# Sampling bi-allelic polymorphisms for 10000 lines\n",
        "# Assuming a high minor allele frequency of .4\n",
        "# setting up a loop to sample genotypes\n",
        "for(i in c(1:1000)){\n",
        "    for(j in c(1:nQTL)){\n",
        "        # sample first allele at the jth locus\n",
        "        if(runif(1)>.4){\n",
        "            #adding allele effect for the ith line\n",
        "            gEffects[i]=gEffects[i]+QTLeffect[j]\n",
        "        } else {\n",
        "            gEffects[i]=gEffects[i]-QTLeffect[j]\n",
        "        }\n",
        "\n",
        "        # sample second allele a jth locus\n",
        "        if(runif(1)>.4){\n",
        "            #adding allele effect for the ith line\n",
        "            gEffects[i]=gEffects[i]+QTLeffect[j]\n",
        "        } else {\n",
        "            gEffects[i]=gEffects[i]-QTLeffect[j]\n",
        "        }\n",
        "    }\n",
        "}"
      ]
    },
    {
      "cell_type": "markdown",
      "id": "489a0d3a-8758-438b-b6b0-d48465492d50",
      "metadata": {
        "id": "489a0d3a-8758-438b-b6b0-d48465492d50"
      },
      "source": [
        "**Visualization**: Finally, we plot the distribution of genetic effects across the 1000 lines using `ggplot2`. This histogram provides insights into the variability of genetic contributions across different lines."
      ]
    },
    {
      "cell_type": "code",
      "execution_count": 10,
      "id": "43bf8e1f-023f-4290-aed0-68501bb98959",
      "metadata": {
        "tags": [],
        "id": "43bf8e1f-023f-4290-aed0-68501bb98959",
        "outputId": "a3b86699-0656-4111-8de1-df94f9a6a2f2",
        "colab": {
          "base_uri": "https://localhost:8080/",
          "height": 437
        }
      },
      "outputs": [
        {
          "output_type": "display_data",
          "data": {
            "text/plain": [
              "plot without title"
            ],
            "image/png": "[encoded data removed]"
          },
          "metadata": {
            "image/png": {
              "width": 420,
              "height": 420
            }
          }
        }
      ],
      "source": [
        "ggplot(data.frame(x=gEffects), aes(x=x)) +\n",
        "  geom_histogram(aes(y = after_stat(density)), binwidth=.2 ) + xlab(\"genetic value\") +\n",
        "  ggtitle(\"Distribution of genetics effects\") +\n",
        "  theme_bw(base_size=18) +\n",
        "  theme(panel.background=element_blank(),\n",
        "        panel.grid=element_blank())"
      ]
    },
    {
      "cell_type": "markdown",
      "id": "4f4ea8d0-9c47-44cd-994e-10d6f768c0ef",
      "metadata": {
        "id": "4f4ea8d0-9c47-44cd-994e-10d6f768c0ef"
      },
      "source": [
        "# Activity:\n",
        "Use the above code and modify the number of QTL controlling the trait of interest 'nQTL'. Approximately how many QTL need to be controlling the trait before the distribution on genetic values looks normal?"
      ]
    },
    {
      "cell_type": "code",
      "execution_count": 11,
      "id": "54a05ab3-a824-45d5-bf30-2fa8b0567224",
      "metadata": {
        "tags": [],
        "id": "54a05ab3-a824-45d5-bf30-2fa8b0567224",
        "outputId": "7ccf21d4-4304-4551-f56b-5bc3d8bc4b05",
        "colab": {
          "base_uri": "https://localhost:8080/",
          "height": 437
        }
      },
      "outputs": [
        {
          "output_type": "display_data",
          "data": {
            "text/plain": [
              "plot without title"
            ],
            "image/png": "[encoded data removed]"
          },
          "metadata": {
            "image/png": {
              "width": 420,
              "height": 420
            }
          }
        }
      ],
      "source": [
        "# number of quantitative trait loci controlling the trait of interest\n",
        "nQTL=5\n",
        "# allocating a vector to store the sum of QTL effects for 1000 lines\n",
        "gEffects=rep(0,1000)\n",
        "# simulating QTL effects using a uniform distribution (0,1)\n",
        "QTLeffect=runif(nQTL)\n",
        "# Sampling bi-allelic polymorphisms for 10000 lines\n",
        "# Assuming a high minor allele frequency of .4\n",
        "# setting up a loop to sample genotypes\n",
        "for(i in c(1:1000)){\n",
        "    for(j in c(1:nQTL)){\n",
        "        # sample first allele at the jth locus\n",
        "        if(runif(1)>.4){\n",
        "            #adding allele effect for the ith line\n",
        "            gEffects[i]=gEffects[i]+QTLeffect[j]\n",
        "        } else {\n",
        "            gEffects[i]=gEffects[i]-QTLeffect[j]\n",
        "        }\n",
        "\n",
        "        # sample second allele a jth locus\n",
        "        if(runif(1)>.4){\n",
        "            #adding allele effect for the ith line\n",
        "            gEffects[i]=gEffects[i]+QTLeffect[j]\n",
        "        } else {\n",
        "            gEffects[i]=gEffects[i]-QTLeffect[j]\n",
        "        }\n",
        "    }\n",
        "}\n",
        "ggplot(data.frame(x=gEffects), aes(x=x)) +\n",
        "  geom_histogram(aes(y = after_stat(density)), binwidth=.2 ) + xlab(\"genetic value\") +\n",
        "  ggtitle(\"Distribution of genetics effects\") +\n",
        "  theme_bw(base_size=18) +\n",
        "  theme(panel.background=element_blank(),\n",
        "        panel.grid=element_blank())"
      ]
    },
    {
      "cell_type": "markdown",
      "id": "01063219-e7ca-4d13-ad92-5f61216986e8",
      "metadata": {
        "id": "01063219-e7ca-4d13-ad92-5f61216986e8"
      },
      "source": [
        "**Answer -**"
      ]
    },
    {
      "cell_type": "markdown",
      "id": "e459d92c-18aa-476c-b7e7-f7f4df120d53",
      "metadata": {
        "id": "e459d92c-18aa-476c-b7e7-f7f4df120d53"
      },
      "source": [
        "# Moments of a statistical distribution.\n",
        "\n",
        "The central moments of a statistical distribution represented by a **probability density function (PDF)** describe important attributes of the ditribution. In particular the first two central moments are important for mixed models and calculating expected response to selection (covered later).\n",
        "\n",
        "The mean **$\\mu$** is the first moment of the distribution and it provides information on the center of the distribution.\n",
        "\n",
        "The variance **$\\sigma^2$** is the second central moment and provides information on the spread of data points around the mean."
      ]
    },
    {
      "cell_type": "markdown",
      "id": "7e369000-fda3-49da-bc39-8655009f0267",
      "metadata": {
        "jp-MarkdownHeadingCollapsed": true,
        "tags": [],
        "id": "7e369000-fda3-49da-bc39-8655009f0267"
      },
      "source": [
        "# Linear Models\n",
        "\n",
        "When we use the term \"Linear Model\" we are refering to a model in which the models effects are estimated as a linear function of the dependent variable - the **phenotype** in the case of plant breeding applications.\n",
        "\n",
        "The dependent variable is often denoted as $y$\n",
        "\n",
        "When deriving estimators for linear models there are certain properties that are desirable:\n",
        "\n",
        "- **Best** - This means the estimator has the minimum error variance of all possible linear estimators.\n",
        "- **Linear** - As previously mention, this mean the estimator is a linear function of of $y$. The mean is a simple example of a linear estimator as:\n",
        "        $\\bar{y}=\\frac{\\sum_{i=1}^{n} y_i}{n}$\n",
        "- **Unbiased** - An estimator is unbiased when the expectation of the estimator is equal to the expectation of the true value. In other words, as the amount of information used to calculate the estimator increase, the error in the estimate decrease towards 0.\n",
        "\n",
        "When using linear model software in R, the obtained estimates of model effects are the **Best Linear Unbiased Estimates** or **BLUE**."
      ]
    },
    {
      "cell_type": "markdown",
      "id": "e1c56298-f0a6-45d9-8132-65c26fa1384f",
      "metadata": {
        "id": "e1c56298-f0a6-45d9-8132-65c26fa1384f"
      },
      "source": [
        "# Partitioning of Phenotypes\n",
        "\n",
        "In Quantitative Genetics the basic linear model partitions observed phenotypes into genetic and environmental effects:\n",
        "\n",
        "$P = G + E$\n",
        "\n",
        "Assuming independence of genetic and environmental effects we can similarly partition phenotype vairance into:\n",
        "\n",
        "$\\sigma_{p}^2=\\sigma_{g}^2+\\sigma_{e}^2$\n",
        "\n",
        "Similarly it is necessary to partition genetic variance into additive ($\\sigma_{a}^2$), epistatic ($\\sigma_{aa}^2$)  and dominance ($\\sigma_{d}^2$)components.\n",
        "\n",
        "$\\sigma_{g}^2=\\sigma_{a}^2+\\sigma_{aa}^2+\\sigma_{d}^2$\n",
        "\n",
        "When making breeding crosses we tend to focus on additive genetic variance because additive genetic effects are what is passed on from parents to progeny."
      ]
    },
    {
      "cell_type": "markdown",
      "id": "a3af2e9f-f46e-48b7-abe5-2feeef5825f5",
      "metadata": {
        "id": "a3af2e9f-f46e-48b7-abe5-2feeef5825f5"
      },
      "source": [
        "# Heritability\n",
        "\n",
        "From this basic linear model and partitioning of phenotypic variance, we can derive the formula for heritability and the equation for response to selection.\n",
        "\n",
        "Broad sense heritability is **$H^2=\\frac{\\sigma_{g}^2}{\\sigma_{p}^2}$**\n",
        "\n",
        "Narrow sense is **$h^2=\\frac{\\sigma_{a}^2}{\\sigma_{p}^2}$**\n",
        "\n",
        "Since narrow sense heritability represents the portion of phenotypic variance explained by additive genetic variance we can calculate the expected response to selection as a function of  **$h^2$** and the **selection differential** - the difference in the phenotypic mean of selected individuals and the population from with the individuals were selected.\n"
      ]
    },
    {
      "cell_type": "markdown",
      "id": "da994dad-98b1-4f65-bb52-ed191c62beef",
      "metadata": {
        "id": "da994dad-98b1-4f65-bb52-ed191c62beef"
      },
      "source": [
        "# Response to selection\n",
        "\n",
        "\n",
        " $R=h^2*S$\n",
        "\n",
        "Here $R$ is the response to selection; $h^2$ the narow sense heritabilited; and $S$ is the selection differential as described above.\n",
        "\n",
        "When the phenotype of interest in normally distributed, which is often the case given the properties of Central Limit Theorem, $S$ can be expressed in terms of the standard deviations $S = i*\\sigma_{P}$\n",
        "\n",
        "![](https://github.com/krr73/PLSCI-7201/blob/main/Modules/Module7/images/selection_differential.png?raw=1)"
      ]
    },
    {
      "cell_type": "markdown",
      "id": "b73224a7-02d5-4b27-9734-cd676ef06ef4",
      "metadata": {
        "id": "b73224a7-02d5-4b27-9734-cd676ef06ef4"
      },
      "source": [
        "# Breeder's Equation\n",
        "\n",
        "When the data is normally distributed we can represent the response to selection as:\n",
        "\n",
        "$R=i*h^2*\\sigma_{P}$\n",
        "\n",
        "With some algebra we can also represent response to selection as:\n",
        "\n",
        "$R=i*h*\\sigma_{a}$\n",
        "\n",
        "The above equation gives us the response to selection when selecting on the phenotype or phenotypic means.\n",
        "\n",
        "When using more advanced models that generate more accruate estimates of genetic merit, it is preferred to replace **$h$** with **$r$** , where **$r$** is the accuracy of the estimate of genetic merit.\n",
        "\n",
        "$R=i*r*\\sigma_{a}$\n",
        "\n",
        "Often it is response to selection per year that is of most interest to breeders. To get this value we must divide respoinse to selection by the genration interval **$L$**.\n",
        "\n",
        "Generation interval is the number of years it takes to slection the progrney og a breeding cross to be the parents of the next generation.\n",
        "\n",
        " $R_{year}=\\frac{i*r*\\sigma_{a}}{L}$\n"
      ]
    },
    {
      "cell_type": "markdown",
      "id": "d5a51447-2b6a-443c-b70f-21246b490cbc",
      "metadata": {
        "id": "d5a51447-2b6a-443c-b70f-21246b490cbc"
      },
      "source": [
        "# Mixed Models\n",
        "\n",
        "Mixed models contain fixed effects and random effects. The estimate of a random effect is referred to as a **Best Linear Unbiased Predictors (BLUP)**. Here Best and Linear have the same meaning as previously described for BLUEs. The term unbiased is slightly different for random effects, but will not be covered in detail here.\n",
        "\n",
        "When treating something as a random effect, we make specific assumptions about the statistical distribution that gives rise to the observed random effects. When our assumptions about the statistical distribution are correct, and we have enough data to accurately estimate the parameters of the distribution (specifically the variance and covariance), then the additional information tends to result in more accruate estimates of effects.\n",
        "\n",
        "To illustate this let's take a simple example.\n"
      ]
    },
    {
      "cell_type": "markdown",
      "id": "2db3fbd9-235b-40ed-a861-bace6372fb59",
      "metadata": {
        "id": "2db3fbd9-235b-40ed-a861-bace6372fb59"
      },
      "source": [
        "# Fitting Mixed Models\n",
        "\n",
        "Let's start with an example that uses our knowledge of inheritance to improve the accuracy of selection.\n",
        "When using means as estimates of genetic merit accuracy ( **$r$** ) is calculated as:\n",
        "\n",
        "$r=\\sqrt{\\frac{\\sigma_{a}^2}{\\sigma_{a}^2+\\frac{\\sigma_{e}^2}{n_{rep}}}}$\n",
        "\n",
        "This is the case when mean performance is used as the selection criterion.\n",
        "Given our understanding of inheritance we can fit more accurate models by ustilizing information on genetic relationships."
      ]
    },
    {
      "cell_type": "markdown",
      "id": "6ee0435c-50a0-4e53-8f03-777e87aad909",
      "metadata": {
        "id": "6ee0435c-50a0-4e53-8f03-777e87aad909"
      },
      "source": [
        "# Genetic Relationships: Identity by Descent\n",
        "\n",
        "Covariance is a measure of the relationship between two vairables. When positive the two variables will tend to move in the same direction and when negative the two variables will tend to move in opposite directions.\n",
        "\n",
        "The genetic covariance between individuals for a given phenotype is determined by common alleles for the QTL that explain variance for the phenotype\n",
        "\n",
        "In the absence of detailed information on the QTL, the covariance can be approximated by calculating the probability two individuals carry alleles that are identical by descent (IBD).\n",
        "\n",
        "- IBD represents the probability that the same allele is inherited by two individuals from some common ancestor.\n",
        "- These calculations can be done using pedigrees or genotypes\n"
      ]
    },
    {
      "cell_type": "markdown",
      "id": "a0b9f899-6faf-4875-a99a-972527a9a1ce",
      "metadata": {
        "id": "a0b9f899-6faf-4875-a99a-972527a9a1ce"
      },
      "source": [
        "# A Simple Illustration\n",
        "In this exmple we are testing lines from 2 unrelated full sib families. The code below will analyze a polygenic trait and compare prediction accuracy using a model that ignores genetic relationships and a mixed model that accounts for the relationships.\n"
      ]
    },
    {
      "cell_type": "markdown",
      "id": "e8baadd9-7d4b-452f-abd2-d01060943bc9",
      "metadata": {
        "id": "e8baadd9-7d4b-452f-abd2-d01060943bc9"
      },
      "source": [
        "# Reading the data\n",
        "\n",
        "First let's read in the dataset and look at its contents.\n",
        "\n",
        "The data is stored as a csv file so we will use the `read.csv` command in R."
      ]
    },
    {
      "cell_type": "code",
      "execution_count": 12,
      "id": "e3709a54-164a-4db1-b6ec-e3fe6269ab8b",
      "metadata": {
        "tags": [],
        "id": "e3709a54-164a-4db1-b6ec-e3fe6269ab8b",
        "outputId": "7894faac-d518-49a6-81c9-e3ce2bf7fe8e",
        "colab": {
          "base_uri": "https://localhost:8080/",
          "height": 136
        }
      },
      "outputs": [
        {
          "output_type": "display_data",
          "data": {
            "text/plain": [
              "     block      variety         pheno          true_value    \n",
              " Min.   :1   Min.   : 1.0   Min.   : 55.11   Min.   :-6.274  \n",
              " 1st Qu.:1   1st Qu.: 8.0   1st Qu.: 87.44   1st Qu.:-1.045  \n",
              " Median :2   Median :15.5   Median : 98.37   Median : 3.379  \n",
              " Mean   :2   Mean   :15.5   Mean   :106.58   Mean   : 3.505  \n",
              " 3rd Qu.:3   3rd Qu.:23.0   3rd Qu.:130.47   3rd Qu.: 8.349  \n",
              " Max.   :3   Max.   :30.0   Max.   :167.26   Max.   :12.809  "
            ]
          },
          "metadata": {}
        }
      ],
      "source": [
        "# reading the data and storing it as phenodat\n",
        "\n",
        "phenodat=read.csv(\"https://raw.githubusercontent.com/Robbins-Lab/PLSCI-7201/refs/heads/main/Modules/Module7/datasets/Family_data.csv\",header=TRUE)\n",
        "\n",
        "# Header = TRUE because the file has a header row in it.\n",
        "\n",
        "summary(phenodat)"
      ]
    },
    {
      "cell_type": "markdown",
      "id": "1193eba6-0a6c-45f2-94ba-a8790521848d",
      "metadata": {
        "id": "1193eba6-0a6c-45f2-94ba-a8790521848d"
      },
      "source": [
        "Using the summary command we can that we have 3 blocks in the dataset and 30 varieties. There is a simulated phenotype and the true simulated genetic merit of the varieties. We will fit 2 models to this dataset:\n",
        "\n",
        "- Model 1 will treat variety as a fixed effect.\n",
        "- Model 2 will treat variety as a random effect and will account for pedigree relationships.\n",
        "\n",
        "First we must read in the pedigree relationship matrix in file \"Amat.csv\""
      ]
    },
    {
      "cell_type": "markdown",
      "id": "754ca9a9-2d26-4f24-9c18-b5594d868606",
      "metadata": {
        "id": "754ca9a9-2d26-4f24-9c18-b5594d868606"
      },
      "source": [
        "# Reading the Pedigree Relationship Matrix"
      ]
    },
    {
      "cell_type": "code",
      "execution_count": 13,
      "id": "2a9f5dea-38bf-443a-83a8-ef1f43d70efb",
      "metadata": {
        "tags": [],
        "id": "2a9f5dea-38bf-443a-83a8-ef1f43d70efb",
        "outputId": "98060152-6e6e-43da-fd7b-b81974e23a73",
        "colab": {
          "base_uri": "https://localhost:8080/",
          "height": 437
        }
      },
      "outputs": [
        {
          "output_type": "display_data",
          "data": {
            "text/plain": [
              "plot without title"
            ],
            "image/png": "[encoded data removed]"
          },
          "metadata": {
            "image/png": {
              "width": 420,
              "height": 420
            }
          }
        }
      ],
      "source": [
        "# reading the data and storing it as phenodat\n",
        "\n",
        "Amat=read.csv(\"https://raw.githubusercontent.com/Robbins-Lab/PLSCI-7201/refs/heads/main/Modules/Module7/datasets/Amat.csv\",header=FALSE)\n",
        "\n",
        "# Header = FALSE because the file has no header row in it.\n",
        "\n",
        "#converting to a matrix\n",
        "Amat=as.matrix(Amat)\n",
        "\n",
        "#creating a heatmap of the pedigree relationship matrix file\n",
        "\n",
        "image(Amat)"
      ]
    },
    {
      "cell_type": "markdown",
      "id": "fe2e5f51-b0e1-4a5b-8a92-ec27aa929265",
      "metadata": {
        "id": "fe2e5f51-b0e1-4a5b-8a92-ec27aa929265"
      },
      "source": [
        "Here we can see that we have two blocks of highly related (orange color) lines that are from the two full-sib families. The two families are unrelated to each other."
      ]
    },
    {
      "cell_type": "markdown",
      "id": "136359f3-35b8-4de7-8edd-ccc1c4677ead",
      "metadata": {
        "id": "136359f3-35b8-4de7-8edd-ccc1c4677ead"
      },
      "source": [
        "# The Sommer Mixed Model Package\n",
        "\n",
        "To fit the models we will be using the R package \"sommer\". There are many mixed model packages available and each have thier own specific syntax for specifying models. We strongly recmomend reading the manual for sommer before using the package (https://cran.r-project.org/web/packages/sommer/sommer.pdf).\n",
        "\n",
        "The manaul will give you examples of how to specify models and retrieve estimates from the output. For mixed models it is also important to know how to specify (co)variance structures. In this module we will give some examples but sommer is capable of supporting many (co)vairance sturctures that we will not cover here. It is encouraged that after students feel comfortable fitting basic models, they explore fitting more complex models from the sommer quick start guides:\n",
        "\n",
        "- https://cran.r-project.org/web/packages/sommer/vignettes/v1.sommer.quick.start.pdf\n",
        "- https://cran.r-project.org/web/packages/sommer/vignettes/v3.sommer.qg.pdf\n",
        "- https://cran.r-project.org/web/packages/sommer/vignettes/v4.sommer.gxe.pdf\n",
        "- https://cran.r-project.org/web/packages/sommer/vignettes/v6.sommer.spatial.pdf"
      ]
    },
    {
      "cell_type": "markdown",
      "id": "a13f5455-b6ad-4832-b935-1982c65e8613",
      "metadata": {
        "tags": [],
        "id": "a13f5455-b6ad-4832-b935-1982c65e8613"
      },
      "source": [
        "# Creating a data frame\n",
        "\n",
        "The sommer package requires datasets to be in an object called a dataframe. In our case we are reading in the data as a dataframe but we will creat a new data to illustrate how is is done with data htat is in a matrix format.\n"
      ]
    },
    {
      "cell_type": "code",
      "execution_count": 14,
      "id": "6cb8bd5f-1f65-4bba-b567-0f47153b23c1",
      "metadata": {
        "tags": [],
        "id": "6cb8bd5f-1f65-4bba-b567-0f47153b23c1"
      },
      "outputs": [],
      "source": [
        "# creating a data frame from the input data\n",
        "\n",
        "phenodatdf<-data.frame(block=as.factor(phenodat[,1]),variety=as.factor(phenodat[,2]), phenotype=as.double(phenodat[,3]))"
      ]
    },
    {
      "cell_type": "markdown",
      "id": "30291ad6-73fb-4065-9373-0cd7ee7f8538",
      "metadata": {
        "id": "30291ad6-73fb-4065-9373-0cd7ee7f8538"
      },
      "source": [
        "When creating the data frame we name each column in the data set and these are the names we will use when specifying the model\n",
        "\n",
        "For effects in which we want to estimate values for each level (i.e. block) we use the `as.factor()` command so sommer will know hoe to treat the effect in the model. In the case of block the numbers for each block (1,2,3) are arbitrary and have no relation to the effect of block. The same is true for variety.\n",
        "\n",
        "For effects in which the numeric value has meaning and we want to fit a regression coefficient, we use the `as.double()` command. We also use the `as.double()` command for the phenotypes we want to model as continuous triats."
      ]
    },
    {
      "cell_type": "markdown",
      "id": "92e0f205-27ff-4865-aa4d-90496bad2bed",
      "metadata": {
        "id": "92e0f205-27ff-4865-aa4d-90496bad2bed"
      },
      "source": [
        "# Pedigree Relationships\n",
        "\n",
        "Now that we have the data frame ready for analysis we need to prepare the pedigree relationship matrix for model 2. To do this we need to mapr the varieties in the dataset to the positions in the relationship matrix, and set an attribute to let the sommer package know if it needs to invert the matrix. To make this easy the variety ids in the datafile correspond directly to the position in the relationship matrix.\n",
        "\n",
        "To do this we use the commands: `rownames()`, `colnames()`, and `attr()`. In this casse we are going to set the attribute \"INVERSE\" to FALSE, so sommer knows that the relationship matrix has not been inverted."
      ]
    },
    {
      "cell_type": "code",
      "execution_count": 15,
      "id": "a000a342-0555-44a4-904e-2426e9d657ce",
      "metadata": {
        "tags": [],
        "id": "a000a342-0555-44a4-904e-2426e9d657ce"
      },
      "outputs": [],
      "source": [
        "rownames(Amat)=levels(phenodatdf$variety)\n",
        "colnames(Amat)=levels(phenodatdf$variety)\n",
        "\n",
        "attr(Amat, \"INVERSE\")=FALSE\n"
      ]
    },
    {
      "cell_type": "markdown",
      "id": "80932f4e-2abc-4232-a023-cc4a39a73080",
      "metadata": {
        "id": "80932f4e-2abc-4232-a023-cc4a39a73080"
      },
      "source": [
        "# Running the Models\n",
        "\n",
        "Now that the data is prepared for analysis we can run the models and look at the output.\n",
        "\n",
        "We will start by loading the sommer package:"
      ]
    },
    {
      "cell_type": "code",
      "execution_count": 17,
      "id": "08d2f807-2b93-4a03-b9cc-d72de30f847b",
      "metadata": {
        "tags": [],
        "id": "08d2f807-2b93-4a03-b9cc-d72de30f847b",
        "outputId": "9c9934a4-916c-4401-f380-36f60149f3b8",
        "colab": {
          "base_uri": "https://localhost:8080/"
        }
      },
      "outputs": [
        {
          "output_type": "stream",
          "name": "stderr",
          "text": [
            "Loading required package: Matrix\n",
            "\n",
            "Loading required package: MASS\n",
            "\n",
            "Loading required package: crayon\n",
            "\n",
            "\n",
            "Attaching package: ‘crayon’\n",
            "\n",
            "\n",
            "The following object is masked from ‘package:ggplot2’:\n",
            "\n",
            "    %+%\n",
            "\n",
            "\n"
          ]
        }
      ],
      "source": [
        "library(sommer)"
      ]
    },
    {
      "cell_type": "markdown",
      "id": "54510136-7d8d-4054-bff2-64644c08c905",
      "metadata": {
        "tags": [],
        "id": "54510136-7d8d-4054-bff2-64644c08c905"
      },
      "source": [
        "# Model 1 - Variety as fixed\n",
        "\n",
        "First we will run a simple model treating variety and block as fixed. The results of the analysis will be stored as \"model1_ped\""
      ]
    },
    {
      "cell_type": "code",
      "execution_count": 18,
      "id": "8164404a-4afe-42f4-94f9-5de161ea1f0d",
      "metadata": {
        "tags": [],
        "id": "8164404a-4afe-42f4-94f9-5de161ea1f0d",
        "outputId": "9cc98c3a-5992-4ec3-b677-f2d1b9afa17a",
        "colab": {
          "base_uri": "https://localhost:8080/"
        }
      },
      "outputs": [
        {
          "output_type": "stream",
          "name": "stderr",
          "text": [
            "This function has been deprecated. Please start using 'mmes' and its auxiliary functions (e.g., 'vsm', 'usm', 'dsm', 'ism', etc.). This function will be no longer maintained.\n",
            "\n"
          ]
        },
        {
          "output_type": "stream",
          "name": "stdout",
          "text": [
            "iteration    LogLik     wall    cpu(sec)   restrained\n",
            "    1      37.3551   18:34:52      0           0\n",
            "    2      37.3551   18:34:52      0           0\n",
            "    3      37.3551   18:34:52      0           0\n",
            "    4      37.3551   18:34:52      0           0\n"
          ]
        }
      ],
      "source": [
        "model1_ped<-mmer(phenotype ~ block + variety,\n",
        "                 rcov= ~ units,\n",
        "                 data=phenodatdf, verbose= TRUE)"
      ]
    },
    {
      "cell_type": "markdown",
      "id": "59c3f612-6a84-4681-ad5c-d40bf0c9c05f",
      "metadata": {
        "id": "59c3f612-6a84-4681-ad5c-d40bf0c9c05f"
      },
      "source": [
        "Before we look at the results, let's break down the model statement\n",
        "\n",
        "- `mmer()` is the mixed model solver used by sommer. There is also a `mmec()` function for solving mixed models that we will not cover here. For certain types of analysis 'mmec' will run faster.\n",
        "- The first line of the model statement specifies the phenotype and then the fixed effects \"block and variety.\n",
        "- The second line gives the covariance structure for the residuals `rcov= ~units` is the default structure in which residuals are treated as being identically and indepenedently distributed. When using the default structure this line can be omitted, but there are many ways in which the residual covariance can be modeled and I prefer to always explicitly state the structure I'm using.\n",
        "- The last line tells sommer which data frame to use and I set the verbose flag to TRUE so the **convergence** information is printed to the screen.\n",
        "\n",
        "**Convergence** - Mixed models must be solved iteratively as you need estimates of the model effects to estimate variance composnents and you need the variance components to estimate the random effects. This means the solver must start by randomly initializing the variance components and interatively update the solutions until cpnvergence has been achieled. Mixed models do not always converge for a variety of reasons, so it is important to first check for model convergence before using and of the model outputs."
      ]
    },
    {
      "cell_type": "markdown",
      "id": "824813a7-449a-4249-a1f1-6d7eae6d35fc",
      "metadata": {
        "id": "824813a7-449a-4249-a1f1-6d7eae6d35fc"
      },
      "source": [
        "# Model Output\n",
        "\n",
        "Now lets look at key componente of the model output. First we will use the function `summary()` to look at what is contained in the object **model1_ped**."
      ]
    },
    {
      "cell_type": "code",
      "execution_count": 19,
      "id": "b23d57b9-5cb6-42db-8b99-8569ae4bfc1c",
      "metadata": {
        "tags": [],
        "id": "b23d57b9-5cb6-42db-8b99-8569ae4bfc1c",
        "outputId": "4276d470-9d32-403b-f95f-a8b328ae9d16",
        "colab": {
          "base_uri": "https://localhost:8080/",
          "height": 1000
        }
      },
      "outputs": [
        {
          "output_type": "stream",
          "name": "stderr",
          "text": [
            "This function has been deprecated. Please start using 'mmes' and its auxiliary functions (e.g., 'vsm', 'usm', 'dsm', 'ism', etc.). This function will be no longer maintained.\n",
            "\n"
          ]
        },
        {
          "output_type": "display_data",
          "data": {
            "text/html": [
              "<dl>\n",
              "\t<dt>$groups</dt>\n",
              "\t\t<dd>NULL</dd>\n",
              "\t<dt>$varcomp</dt>\n",
              "\t\t<dd><table class=\"dataframe\">\n",
              "<caption>A data.frame: 1 × 4</caption>\n",
              "<thead>\n",
              "\t<tr><th></th><th scope=col>VarComp</th><th scope=col>VarCompSE</th><th scope=col>Zratio</th><th scope=col>Constraint</th></tr>\n",
              "\t<tr><th></th><th scope=col>&lt;dbl&gt;</th><th scope=col>&lt;dbl&gt;</th><th scope=col>&lt;dbl&gt;</th><th scope=col>&lt;chr&gt;</th></tr>\n",
              "</thead>\n",
              "<tbody>\n",
              "\t<tr><th scope=row>units.phenotype-phenotype</th><td>80.44305</td><td>14.9379</td><td>5.385165</td><td>Positive</td></tr>\n",
              "</tbody>\n",
              "</table>\n",
              "</dd>\n",
              "\t<dt>$betas</dt>\n",
              "\t\t<dd><table class=\"dataframe\">\n",
              "<caption>A data.frame: 32 × 5</caption>\n",
              "<thead>\n",
              "\t<tr><th scope=col>Trait</th><th scope=col>Effect</th><th scope=col>Estimate</th><th scope=col>Std.Error</th><th scope=col>t.value</th></tr>\n",
              "\t<tr><th scope=col>&lt;fct&gt;</th><th scope=col>&lt;fct&gt;</th><th scope=col>&lt;dbl&gt;</th><th scope=col>&lt;dbl&gt;</th><th scope=col>&lt;dbl&gt;</th></tr>\n",
              "</thead>\n",
              "<tbody>\n",
              "\t<tr><td>phenotype</td><td>(Intercept)</td><td>104.072383</td><td>5.348081</td><td>19.4597606</td></tr>\n",
              "\t<tr><td>phenotype</td><td>block2     </td><td> 40.147884</td><td>2.315787</td><td>17.3366035</td></tr>\n",
              "\t<tr><td>phenotype</td><td>block3     </td><td>-21.961745</td><td>2.315787</td><td>-9.4834903</td></tr>\n",
              "\t<tr><td>phenotype</td><td>variety2   </td><td>  4.698410</td><td>7.323162</td><td> 0.6415821</td></tr>\n",
              "\t<tr><td>phenotype</td><td>variety3   </td><td> -4.045684</td><td>7.323162</td><td>-0.5524505</td></tr>\n",
              "\t<tr><td>phenotype</td><td>variety4   </td><td>  9.295060</td><td>7.323162</td><td> 1.2692687</td></tr>\n",
              "\t<tr><td>phenotype</td><td>variety5   </td><td> -6.264846</td><td>7.323162</td><td>-0.8554837</td></tr>\n",
              "\t<tr><td>phenotype</td><td>variety6   </td><td> -4.819203</td><td>7.323162</td><td>-0.6580767</td></tr>\n",
              "\t<tr><td>phenotype</td><td>variety7   </td><td>  1.574979</td><td>7.323162</td><td> 0.2150682</td></tr>\n",
              "\t<tr><td>phenotype</td><td>variety8   </td><td> -4.471162</td><td>7.323162</td><td>-0.6105507</td></tr>\n",
              "\t<tr><td>phenotype</td><td>variety9   </td><td> -6.116193</td><td>7.323162</td><td>-0.8351847</td></tr>\n",
              "\t<tr><td>phenotype</td><td>variety10  </td><td>  2.370733</td><td>7.323162</td><td> 0.3237308</td></tr>\n",
              "\t<tr><td>phenotype</td><td>variety11  </td><td>  1.148843</td><td>7.323162</td><td> 0.1568780</td></tr>\n",
              "\t<tr><td>phenotype</td><td>variety12  </td><td> 15.894078</td><td>7.323162</td><td> 2.1703845</td></tr>\n",
              "\t<tr><td>phenotype</td><td>variety13  </td><td> -3.246923</td><td>7.323162</td><td>-0.4433772</td></tr>\n",
              "\t<tr><td>phenotype</td><td>variety14  </td><td> 13.635686</td><td>7.323162</td><td> 1.8619943</td></tr>\n",
              "\t<tr><td>phenotype</td><td>variety15  </td><td>  3.071534</td><td>7.323162</td><td> 0.4194273</td></tr>\n",
              "\t<tr><td>phenotype</td><td>variety16  </td><td> -7.410463</td><td>7.323162</td><td>-1.0119212</td></tr>\n",
              "\t<tr><td>phenotype</td><td>variety17  </td><td>-18.264561</td><td>7.323162</td><td>-2.4940813</td></tr>\n",
              "\t<tr><td>phenotype</td><td>variety18  </td><td>-14.476431</td><td>7.323162</td><td>-1.9768006</td></tr>\n",
              "\t<tr><td>phenotype</td><td>variety19  </td><td> -6.256304</td><td>7.323162</td><td>-0.8543173</td></tr>\n",
              "\t<tr><td>phenotype</td><td>variety20  </td><td>-13.475902</td><td>7.323162</td><td>-1.8401754</td></tr>\n",
              "\t<tr><td>phenotype</td><td>variety21  </td><td> -8.947447</td><td>7.323162</td><td>-1.2218011</td></tr>\n",
              "\t<tr><td>phenotype</td><td>variety22  </td><td> -8.828522</td><td>7.323162</td><td>-1.2055615</td></tr>\n",
              "\t<tr><td>phenotype</td><td>variety23  </td><td>-16.811621</td><td>7.323162</td><td>-2.2956779</td></tr>\n",
              "\t<tr><td>phenotype</td><td>variety24  </td><td>  4.494425</td><td>7.323162</td><td> 0.6137274</td></tr>\n",
              "\t<tr><td>phenotype</td><td>variety25  </td><td> -7.721186</td><td>7.323162</td><td>-1.0543513</td></tr>\n",
              "\t<tr><td>phenotype</td><td>variety26  </td><td>  6.679779</td><td>7.323162</td><td> 0.9121441</td></tr>\n",
              "\t<tr><td>phenotype</td><td>variety27  </td><td> -8.114406</td><td>7.323162</td><td>-1.1080468</td></tr>\n",
              "\t<tr><td>phenotype</td><td>variety28  </td><td> -5.314799</td><td>7.323162</td><td>-0.7257520</td></tr>\n",
              "\t<tr><td>phenotype</td><td>variety29  </td><td>-14.273119</td><td>7.323162</td><td>-1.9490377</td></tr>\n",
              "\t<tr><td>phenotype</td><td>variety30  </td><td>-10.546432</td><td>7.323162</td><td>-1.4401473</td></tr>\n",
              "</tbody>\n",
              "</table>\n",
              "</dd>\n",
              "\t<dt>$method</dt>\n",
              "\t\t<dd>'NR'</dd>\n",
              "\t<dt>$logo</dt>\n",
              "\t\t<dd><table class=\"dataframe\">\n",
              "<caption>A data.frame: 1 × 5</caption>\n",
              "<thead>\n",
              "\t<tr><th></th><th scope=col>logLik</th><th scope=col>AIC</th><th scope=col>BIC</th><th scope=col>Method</th><th scope=col>Converge</th></tr>\n",
              "\t<tr><th></th><th scope=col>&lt;dbl&gt;</th><th scope=col>&lt;dbl&gt;</th><th scope=col>&lt;dbl&gt;</th><th scope=col>&lt;chr&gt;</th><th scope=col>&lt;lgl&gt;</th></tr>\n",
              "</thead>\n",
              "<tbody>\n",
              "\t<tr><th scope=row>Value</th><td>37.35505</td><td>-10.71011</td><td>69.2838</td><td>NR</td><td>TRUE</td></tr>\n",
              "</tbody>\n",
              "</table>\n",
              "</dd>\n",
              "</dl>\n"
            ],
            "text/markdown": "$groups\n:   NULL\n$varcomp\n:   \nA data.frame: 1 × 4\n\n| <!--/--> | VarComp &lt;dbl&gt; | VarCompSE &lt;dbl&gt; | Zratio &lt;dbl&gt; | Constraint &lt;chr&gt; |\n|---|---|---|---|---|\n| units.phenotype-phenotype | 80.44305 | 14.9379 | 5.385165 | Positive |\n\n\n$betas\n:   \nA data.frame: 32 × 5\n\n| Trait &lt;fct&gt; | Effect &lt;fct&gt; | Estimate &lt;dbl&gt; | Std.Error &lt;dbl&gt; | t.value &lt;dbl&gt; |\n|---|---|---|---|---|\n| phenotype | (Intercept) | 104.072383 | 5.348081 | 19.4597606 |\n| phenotype | block2      |  40.147884 | 2.315787 | 17.3366035 |\n| phenotype | block3      | -21.961745 | 2.315787 | -9.4834903 |\n| phenotype | variety2    |   4.698410 | 7.323162 |  0.6415821 |\n| phenotype | variety3    |  -4.045684 | 7.323162 | -0.5524505 |\n| phenotype | variety4    |   9.295060 | 7.323162 |  1.2692687 |\n| phenotype | variety5    |  -6.264846 | 7.323162 | -0.8554837 |\n| phenotype | variety6    |  -4.819203 | 7.323162 | -0.6580767 |\n| phenotype | variety7    |   1.574979 | 7.323162 |  0.2150682 |\n| phenotype | variety8    |  -4.471162 | 7.323162 | -0.6105507 |\n| phenotype | variety9    |  -6.116193 | 7.323162 | -0.8351847 |\n| phenotype | variety10   |   2.370733 | 7.323162 |  0.3237308 |\n| phenotype | variety11   |   1.148843 | 7.323162 |  0.1568780 |\n| phenotype | variety12   |  15.894078 | 7.323162 |  2.1703845 |\n| phenotype | variety13   |  -3.246923 | 7.323162 | -0.4433772 |\n| phenotype | variety14   |  13.635686 | 7.323162 |  1.8619943 |\n| phenotype | variety15   |   3.071534 | 7.323162 |  0.4194273 |\n| phenotype | variety16   |  -7.410463 | 7.323162 | -1.0119212 |\n| phenotype | variety17   | -18.264561 | 7.323162 | -2.4940813 |\n| phenotype | variety18   | -14.476431 | 7.323162 | -1.9768006 |\n| phenotype | variety19   |  -6.256304 | 7.323162 | -0.8543173 |\n| phenotype | variety20   | -13.475902 | 7.323162 | -1.8401754 |\n| phenotype | variety21   |  -8.947447 | 7.323162 | -1.2218011 |\n| phenotype | variety22   |  -8.828522 | 7.323162 | -1.2055615 |\n| phenotype | variety23   | -16.811621 | 7.323162 | -2.2956779 |\n| phenotype | variety24   |   4.494425 | 7.323162 |  0.6137274 |\n| phenotype | variety25   |  -7.721186 | 7.323162 | -1.0543513 |\n| phenotype | variety26   |   6.679779 | 7.323162 |  0.9121441 |\n| phenotype | variety27   |  -8.114406 | 7.323162 | -1.1080468 |\n| phenotype | variety28   |  -5.314799 | 7.323162 | -0.7257520 |\n| phenotype | variety29   | -14.273119 | 7.323162 | -1.9490377 |\n| phenotype | variety30   | -10.546432 | 7.323162 | -1.4401473 |\n\n\n$method\n:   'NR'\n$logo\n:   \nA data.frame: 1 × 5\n\n| <!--/--> | logLik &lt;dbl&gt; | AIC &lt;dbl&gt; | BIC &lt;dbl&gt; | Method &lt;chr&gt; | Converge &lt;lgl&gt; |\n|---|---|---|---|---|---|\n| Value | 37.35505 | -10.71011 | 69.2838 | NR | TRUE |\n\n\n\n\n",
            "text/latex": "\\begin{description}\n\\item[\\$groups] NULL\n\\item[\\$varcomp] A data.frame: 1 × 4\n\\begin{tabular}{r|llll}\n  & VarComp & VarCompSE & Zratio & Constraint\\\\\n  & <dbl> & <dbl> & <dbl> & <chr>\\\\\n\\hline\n\tunits.phenotype-phenotype & 80.44305 & 14.9379 & 5.385165 & Positive\\\\\n\\end{tabular}\n\n\\item[\\$betas] A data.frame: 32 × 5\n\\begin{tabular}{lllll}\n Trait & Effect & Estimate & Std.Error & t.value\\\\\n <fct> & <fct> & <dbl> & <dbl> & <dbl>\\\\\n\\hline\n\t phenotype & (Intercept) & 104.072383 & 5.348081 & 19.4597606\\\\\n\t phenotype & block2      &  40.147884 & 2.315787 & 17.3366035\\\\\n\t phenotype & block3      & -21.961745 & 2.315787 & -9.4834903\\\\\n\t phenotype & variety2    &   4.698410 & 7.323162 &  0.6415821\\\\\n\t phenotype & variety3    &  -4.045684 & 7.323162 & -0.5524505\\\\\n\t phenotype & variety4    &   9.295060 & 7.323162 &  1.2692687\\\\\n\t phenotype & variety5    &  -6.264846 & 7.323162 & -0.8554837\\\\\n\t phenotype & variety6    &  -4.819203 & 7.323162 & -0.6580767\\\\\n\t phenotype & variety7    &   1.574979 & 7.323162 &  0.2150682\\\\\n\t phenotype & variety8    &  -4.471162 & 7.323162 & -0.6105507\\\\\n\t phenotype & variety9    &  -6.116193 & 7.323162 & -0.8351847\\\\\n\t phenotype & variety10   &   2.370733 & 7.323162 &  0.3237308\\\\\n\t phenotype & variety11   &   1.148843 & 7.323162 &  0.1568780\\\\\n\t phenotype & variety12   &  15.894078 & 7.323162 &  2.1703845\\\\\n\t phenotype & variety13   &  -3.246923 & 7.323162 & -0.4433772\\\\\n\t phenotype & variety14   &  13.635686 & 7.323162 &  1.8619943\\\\\n\t phenotype & variety15   &   3.071534 & 7.323162 &  0.4194273\\\\\n\t phenotype & variety16   &  -7.410463 & 7.323162 & -1.0119212\\\\\n\t phenotype & variety17   & -18.264561 & 7.323162 & -2.4940813\\\\\n\t phenotype & variety18   & -14.476431 & 7.323162 & -1.9768006\\\\\n\t phenotype & variety19   &  -6.256304 & 7.323162 & -0.8543173\\\\\n\t phenotype & variety20   & -13.475902 & 7.323162 & -1.8401754\\\\\n\t phenotype & variety21   &  -8.947447 & 7.323162 & -1.2218011\\\\\n\t phenotype & variety22   &  -8.828522 & 7.323162 & -1.2055615\\\\\n\t phenotype & variety23   & -16.811621 & 7.323162 & -2.2956779\\\\\n\t phenotype & variety24   &   4.494425 & 7.323162 &  0.6137274\\\\\n\t phenotype & variety25   &  -7.721186 & 7.323162 & -1.0543513\\\\\n\t phenotype & variety26   &   6.679779 & 7.323162 &  0.9121441\\\\\n\t phenotype & variety27   &  -8.114406 & 7.323162 & -1.1080468\\\\\n\t phenotype & variety28   &  -5.314799 & 7.323162 & -0.7257520\\\\\n\t phenotype & variety29   & -14.273119 & 7.323162 & -1.9490377\\\\\n\t phenotype & variety30   & -10.546432 & 7.323162 & -1.4401473\\\\\n\\end{tabular}\n\n\\item[\\$method] 'NR'\n\\item[\\$logo] A data.frame: 1 × 5\n\\begin{tabular}{r|lllll}\n  & logLik & AIC & BIC & Method & Converge\\\\\n  & <dbl> & <dbl> & <dbl> & <chr> & <lgl>\\\\\n\\hline\n\tValue & 37.35505 & -10.71011 & 69.2838 & NR & TRUE\\\\\n\\end{tabular}\n\n\\end{description}\n",
            "text/plain": [
              "$groups\n",
              "NULL\n",
              "\n",
              "$varcomp\n",
              "                           VarComp VarCompSE   Zratio Constraint\n",
              "units.phenotype-phenotype 80.44305   14.9379 5.385165   Positive\n",
              "\n",
              "$betas\n",
              "       Trait      Effect   Estimate Std.Error    t.value\n",
              "1  phenotype (Intercept) 104.072383  5.348081 19.4597606\n",
              "2  phenotype      block2  40.147884  2.315787 17.3366035\n",
              "3  phenotype      block3 -21.961745  2.315787 -9.4834903\n",
              "4  phenotype    variety2   4.698410  7.323162  0.6415821\n",
              "5  phenotype    variety3  -4.045684  7.323162 -0.5524505\n",
              "6  phenotype    variety4   9.295060  7.323162  1.2692687\n",
              "7  phenotype    variety5  -6.264846  7.323162 -0.8554837\n",
              "8  phenotype    variety6  -4.819203  7.323162 -0.6580767\n",
              "9  phenotype    variety7   1.574979  7.323162  0.2150682\n",
              "10 phenotype    variety8  -4.471162  7.323162 -0.6105507\n",
              "11 phenotype    variety9  -6.116193  7.323162 -0.8351847\n",
              "12 phenotype   variety10   2.370733  7.323162  0.3237308\n",
              "13 phenotype   variety11   1.148843  7.323162  0.1568780\n",
              "14 phenotype   variety12  15.894078  7.323162  2.1703845\n",
              "15 phenotype   variety13  -3.246923  7.323162 -0.4433772\n",
              "16 phenotype   variety14  13.635686  7.323162  1.8619943\n",
              "17 phenotype   variety15   3.071534  7.323162  0.4194273\n",
              "18 phenotype   variety16  -7.410463  7.323162 -1.0119212\n",
              "19 phenotype   variety17 -18.264561  7.323162 -2.4940813\n",
              "20 phenotype   variety18 -14.476431  7.323162 -1.9768006\n",
              "21 phenotype   variety19  -6.256304  7.323162 -0.8543173\n",
              "22 phenotype   variety20 -13.475902  7.323162 -1.8401754\n",
              "23 phenotype   variety21  -8.947447  7.323162 -1.2218011\n",
              "24 phenotype   variety22  -8.828522  7.323162 -1.2055615\n",
              "25 phenotype   variety23 -16.811621  7.323162 -2.2956779\n",
              "26 phenotype   variety24   4.494425  7.323162  0.6137274\n",
              "27 phenotype   variety25  -7.721186  7.323162 -1.0543513\n",
              "28 phenotype   variety26   6.679779  7.323162  0.9121441\n",
              "29 phenotype   variety27  -8.114406  7.323162 -1.1080468\n",
              "30 phenotype   variety28  -5.314799  7.323162 -0.7257520\n",
              "31 phenotype   variety29 -14.273119  7.323162 -1.9490377\n",
              "32 phenotype   variety30 -10.546432  7.323162 -1.4401473\n",
              "\n",
              "$method\n",
              "[1] \"NR\"\n",
              "\n",
              "$logo\n",
              "        logLik       AIC     BIC Method Converge\n",
              "Value 37.35505 -10.71011 69.2838     NR     TRUE\n",
              "\n",
              "attr(,\"class\")\n",
              "[1] \"summary.mmer\" \"list\"        "
            ]
          },
          "metadata": {}
        }
      ],
      "source": [
        "summary(model1_ped)"
      ]
    },
    {
      "cell_type": "markdown",
      "id": "3f853f45-356e-44c9-abae-44afbdcc0a58",
      "metadata": {
        "id": "3f853f45-356e-44c9-abae-44afbdcc0a58"
      },
      "source": [
        "**$groups** - Provides grouping information for more complicated covariance structures\n",
        "\n",
        "**$varcomp** - provdes estimates of the variance components, in this case only for the residual variance component as there are no random effects in the model.\n",
        "\n",
        "**$beta** - provides the estimates and standard errors of the fixed effects\n",
        "\n",
        "**method** - Gives the method used to solve the mixed model equations `NR` is a second derivative method that will not be covered in this course.\n",
        "\n",
        "**$logo** - Provides information on model fit and whether the model converged. Here we can see that Converged = TRUE, so we know the model converged successfuly. **Always confirm the model converged before using any results**.  "
      ]
    },
    {
      "cell_type": "markdown",
      "id": "3ae3a4c8-afd8-42b5-830b-e9139d87dffc",
      "metadata": {
        "id": "3ae3a4c8-afd8-42b5-830b-e9139d87dffc"
      },
      "source": [
        "# Solutions\n",
        "\n",
        "To pull out spcific components of **model1_ped** we use `$`\n",
        "\n",
        "The fixed effect solutions can be pulled out of the model object using the command `model1_ped$Beta`"
      ]
    },
    {
      "cell_type": "code",
      "execution_count": 20,
      "id": "4bb91020-e5a6-4244-97f2-67577d09fa0f",
      "metadata": {
        "tags": [],
        "id": "4bb91020-e5a6-4244-97f2-67577d09fa0f",
        "outputId": "ec5ba61f-e000-40dd-fe07-1b33a5bdbc1a",
        "colab": {
          "base_uri": "https://localhost:8080/",
          "height": 1000
        }
      },
      "outputs": [
        {
          "output_type": "display_data",
          "data": {
            "text/html": [
              "<table class=\"dataframe\">\n",
              "<caption>A data.frame: 32 × 3</caption>\n",
              "<thead>\n",
              "\t<tr><th scope=col>Trait</th><th scope=col>Effect</th><th scope=col>Estimate</th></tr>\n",
              "\t<tr><th scope=col>&lt;fct&gt;</th><th scope=col>&lt;fct&gt;</th><th scope=col>&lt;dbl&gt;</th></tr>\n",
              "</thead>\n",
              "<tbody>\n",
              "\t<tr><td>phenotype</td><td>(Intercept)</td><td>104.072383</td></tr>\n",
              "\t<tr><td>phenotype</td><td>block2     </td><td> 40.147884</td></tr>\n",
              "\t<tr><td>phenotype</td><td>block3     </td><td>-21.961745</td></tr>\n",
              "\t<tr><td>phenotype</td><td>variety2   </td><td>  4.698410</td></tr>\n",
              "\t<tr><td>phenotype</td><td>variety3   </td><td> -4.045684</td></tr>\n",
              "\t<tr><td>phenotype</td><td>variety4   </td><td>  9.295060</td></tr>\n",
              "\t<tr><td>phenotype</td><td>variety5   </td><td> -6.264846</td></tr>\n",
              "\t<tr><td>phenotype</td><td>variety6   </td><td> -4.819203</td></tr>\n",
              "\t<tr><td>phenotype</td><td>variety7   </td><td>  1.574979</td></tr>\n",
              "\t<tr><td>phenotype</td><td>variety8   </td><td> -4.471162</td></tr>\n",
              "\t<tr><td>phenotype</td><td>variety9   </td><td> -6.116193</td></tr>\n",
              "\t<tr><td>phenotype</td><td>variety10  </td><td>  2.370733</td></tr>\n",
              "\t<tr><td>phenotype</td><td>variety11  </td><td>  1.148843</td></tr>\n",
              "\t<tr><td>phenotype</td><td>variety12  </td><td> 15.894078</td></tr>\n",
              "\t<tr><td>phenotype</td><td>variety13  </td><td> -3.246923</td></tr>\n",
              "\t<tr><td>phenotype</td><td>variety14  </td><td> 13.635686</td></tr>\n",
              "\t<tr><td>phenotype</td><td>variety15  </td><td>  3.071534</td></tr>\n",
              "\t<tr><td>phenotype</td><td>variety16  </td><td> -7.410463</td></tr>\n",
              "\t<tr><td>phenotype</td><td>variety17  </td><td>-18.264561</td></tr>\n",
              "\t<tr><td>phenotype</td><td>variety18  </td><td>-14.476431</td></tr>\n",
              "\t<tr><td>phenotype</td><td>variety19  </td><td> -6.256304</td></tr>\n",
              "\t<tr><td>phenotype</td><td>variety20  </td><td>-13.475902</td></tr>\n",
              "\t<tr><td>phenotype</td><td>variety21  </td><td> -8.947447</td></tr>\n",
              "\t<tr><td>phenotype</td><td>variety22  </td><td> -8.828522</td></tr>\n",
              "\t<tr><td>phenotype</td><td>variety23  </td><td>-16.811621</td></tr>\n",
              "\t<tr><td>phenotype</td><td>variety24  </td><td>  4.494425</td></tr>\n",
              "\t<tr><td>phenotype</td><td>variety25  </td><td> -7.721186</td></tr>\n",
              "\t<tr><td>phenotype</td><td>variety26  </td><td>  6.679779</td></tr>\n",
              "\t<tr><td>phenotype</td><td>variety27  </td><td> -8.114406</td></tr>\n",
              "\t<tr><td>phenotype</td><td>variety28  </td><td> -5.314799</td></tr>\n",
              "\t<tr><td>phenotype</td><td>variety29  </td><td>-14.273119</td></tr>\n",
              "\t<tr><td>phenotype</td><td>variety30  </td><td>-10.546432</td></tr>\n",
              "</tbody>\n",
              "</table>\n"
            ],
            "text/markdown": "\nA data.frame: 32 × 3\n\n| Trait &lt;fct&gt; | Effect &lt;fct&gt; | Estimate &lt;dbl&gt; |\n|---|---|---|\n| phenotype | (Intercept) | 104.072383 |\n| phenotype | block2      |  40.147884 |\n| phenotype | block3      | -21.961745 |\n| phenotype | variety2    |   4.698410 |\n| phenotype | variety3    |  -4.045684 |\n| phenotype | variety4    |   9.295060 |\n| phenotype | variety5    |  -6.264846 |\n| phenotype | variety6    |  -4.819203 |\n| phenotype | variety7    |   1.574979 |\n| phenotype | variety8    |  -4.471162 |\n| phenotype | variety9    |  -6.116193 |\n| phenotype | variety10   |   2.370733 |\n| phenotype | variety11   |   1.148843 |\n| phenotype | variety12   |  15.894078 |\n| phenotype | variety13   |  -3.246923 |\n| phenotype | variety14   |  13.635686 |\n| phenotype | variety15   |   3.071534 |\n| phenotype | variety16   |  -7.410463 |\n| phenotype | variety17   | -18.264561 |\n| phenotype | variety18   | -14.476431 |\n| phenotype | variety19   |  -6.256304 |\n| phenotype | variety20   | -13.475902 |\n| phenotype | variety21   |  -8.947447 |\n| phenotype | variety22   |  -8.828522 |\n| phenotype | variety23   | -16.811621 |\n| phenotype | variety24   |   4.494425 |\n| phenotype | variety25   |  -7.721186 |\n| phenotype | variety26   |   6.679779 |\n| phenotype | variety27   |  -8.114406 |\n| phenotype | variety28   |  -5.314799 |\n| phenotype | variety29   | -14.273119 |\n| phenotype | variety30   | -10.546432 |\n\n",
            "text/latex": "A data.frame: 32 × 3\n\\begin{tabular}{lll}\n Trait & Effect & Estimate\\\\\n <fct> & <fct> & <dbl>\\\\\n\\hline\n\t phenotype & (Intercept) & 104.072383\\\\\n\t phenotype & block2      &  40.147884\\\\\n\t phenotype & block3      & -21.961745\\\\\n\t phenotype & variety2    &   4.698410\\\\\n\t phenotype & variety3    &  -4.045684\\\\\n\t phenotype & variety4    &   9.295060\\\\\n\t phenotype & variety5    &  -6.264846\\\\\n\t phenotype & variety6    &  -4.819203\\\\\n\t phenotype & variety7    &   1.574979\\\\\n\t phenotype & variety8    &  -4.471162\\\\\n\t phenotype & variety9    &  -6.116193\\\\\n\t phenotype & variety10   &   2.370733\\\\\n\t phenotype & variety11   &   1.148843\\\\\n\t phenotype & variety12   &  15.894078\\\\\n\t phenotype & variety13   &  -3.246923\\\\\n\t phenotype & variety14   &  13.635686\\\\\n\t phenotype & variety15   &   3.071534\\\\\n\t phenotype & variety16   &  -7.410463\\\\\n\t phenotype & variety17   & -18.264561\\\\\n\t phenotype & variety18   & -14.476431\\\\\n\t phenotype & variety19   &  -6.256304\\\\\n\t phenotype & variety20   & -13.475902\\\\\n\t phenotype & variety21   &  -8.947447\\\\\n\t phenotype & variety22   &  -8.828522\\\\\n\t phenotype & variety23   & -16.811621\\\\\n\t phenotype & variety24   &   4.494425\\\\\n\t phenotype & variety25   &  -7.721186\\\\\n\t phenotype & variety26   &   6.679779\\\\\n\t phenotype & variety27   &  -8.114406\\\\\n\t phenotype & variety28   &  -5.314799\\\\\n\t phenotype & variety29   & -14.273119\\\\\n\t phenotype & variety30   & -10.546432\\\\\n\\end{tabular}\n",
            "text/plain": [
              "   Trait     Effect      Estimate  \n",
              "1  phenotype (Intercept) 104.072383\n",
              "2  phenotype block2       40.147884\n",
              "3  phenotype block3      -21.961745\n",
              "4  phenotype variety2      4.698410\n",
              "5  phenotype variety3     -4.045684\n",
              "6  phenotype variety4      9.295060\n",
              "7  phenotype variety5     -6.264846\n",
              "8  phenotype variety6     -4.819203\n",
              "9  phenotype variety7      1.574979\n",
              "10 phenotype variety8     -4.471162\n",
              "11 phenotype variety9     -6.116193\n",
              "12 phenotype variety10     2.370733\n",
              "13 phenotype variety11     1.148843\n",
              "14 phenotype variety12    15.894078\n",
              "15 phenotype variety13    -3.246923\n",
              "16 phenotype variety14    13.635686\n",
              "17 phenotype variety15     3.071534\n",
              "18 phenotype variety16    -7.410463\n",
              "19 phenotype variety17   -18.264561\n",
              "20 phenotype variety18   -14.476431\n",
              "21 phenotype variety19    -6.256304\n",
              "22 phenotype variety20   -13.475902\n",
              "23 phenotype variety21    -8.947447\n",
              "24 phenotype variety22    -8.828522\n",
              "25 phenotype variety23   -16.811621\n",
              "26 phenotype variety24     4.494425\n",
              "27 phenotype variety25    -7.721186\n",
              "28 phenotype variety26     6.679779\n",
              "29 phenotype variety27    -8.114406\n",
              "30 phenotype variety28    -5.314799\n",
              "31 phenotype variety29   -14.273119\n",
              "32 phenotype variety30   -10.546432"
            ]
          },
          "metadata": {}
        }
      ],
      "source": [
        "sol_fixed=model1_ped$Beta\n",
        "sol_fixed"
      ]
    },
    {
      "cell_type": "markdown",
      "id": "12a590e8-3700-4a00-a0c6-3325b06a45d2",
      "metadata": {
        "id": "12a590e8-3700-4a00-a0c6-3325b06a45d2"
      },
      "source": [
        "In the above solutions '(intercept)' is equal to the value of 'variety1' in 'block1', 'block2' and 'block3' are the deviations of the effects of 'blocks 2 and 3' from 'block1', and the estimates of 'variety2 - 30' are deviations from 'variety1'.\n",
        "\n",
        "To get our estimates for variety we are going to add the average of the block effects to the estimates on the variety effects:"
      ]
    },
    {
      "cell_type": "code",
      "execution_count": 21,
      "id": "eae74b98-1b32-41ad-9359-216c681dac0f",
      "metadata": {
        "tags": [],
        "id": "eae74b98-1b32-41ad-9359-216c681dac0f",
        "outputId": "fe4af30e-b96f-4708-d79d-73e5a284cb6c",
        "colab": {
          "base_uri": "https://localhost:8080/",
          "height": 68
        }
      },
      "outputs": [
        {
          "output_type": "display_data",
          "data": {
            "text/html": [
              "<style>\n",
              ".list-inline {list-style: none; margin:0; padding: 0}\n",
              ".list-inline>li {display: inline-block}\n",
              ".list-inline>li:not(:last-child)::after {content: \"\\00b7\"; padding: 0 .5ex}\n",
              "</style>\n",
              "<ol class=list-inline><li>110.13442963334</li><li>114.832839353333</li><li>106.08874521</li><li>119.429490049999</li><li>103.869583883333</li><li>105.315227086666</li><li>111.709409053333</li><li>105.663267723333</li><li>104.018236723333</li><li>112.505162679999</li><li>111.283272633333</li><li>126.028507143333</li><li>106.887506856666</li><li>123.770115683333</li><li>113.205963769999</li><li>102.723966609999</li><li>91.8698685266657</li><li>95.6579982699989</li><li>103.878125276665</li><li>96.6585272299988</li><li>101.18698223</li><li>101.305907739999</li><li>93.3228084966656</li><li>114.628854983333</li><li>102.413244086666</li><li>116.814208496666</li><li>102.020023426666</li><li>104.819630366666</li><li>95.8613105199995</li><li>99.5879975866661</li></ol>\n"
            ],
            "text/markdown": "1. 110.13442963334\n2. 114.832839353333\n3. 106.08874521\n4. 119.429490049999\n5. 103.869583883333\n6. 105.315227086666\n7. 111.709409053333\n8. 105.663267723333\n9. 104.018236723333\n10. 112.505162679999\n11. 111.283272633333\n12. 126.028507143333\n13. 106.887506856666\n14. 123.770115683333\n15. 113.205963769999\n16. 102.723966609999\n17. 91.8698685266657\n18. 95.6579982699989\n19. 103.878125276665\n20. 96.6585272299988\n21. 101.18698223\n22. 101.305907739999\n23. 93.3228084966656\n24. 114.628854983333\n25. 102.413244086666\n26. 116.814208496666\n27. 102.020023426666\n28. 104.819630366666\n29. 95.8613105199995\n30. 99.5879975866661\n\n\n",
            "text/latex": "\\begin{enumerate*}\n\\item 110.13442963334\n\\item 114.832839353333\n\\item 106.08874521\n\\item 119.429490049999\n\\item 103.869583883333\n\\item 105.315227086666\n\\item 111.709409053333\n\\item 105.663267723333\n\\item 104.018236723333\n\\item 112.505162679999\n\\item 111.283272633333\n\\item 126.028507143333\n\\item 106.887506856666\n\\item 123.770115683333\n\\item 113.205963769999\n\\item 102.723966609999\n\\item 91.8698685266657\n\\item 95.6579982699989\n\\item 103.878125276665\n\\item 96.6585272299988\n\\item 101.18698223\n\\item 101.305907739999\n\\item 93.3228084966656\n\\item 114.628854983333\n\\item 102.413244086666\n\\item 116.814208496666\n\\item 102.020023426666\n\\item 104.819630366666\n\\item 95.8613105199995\n\\item 99.5879975866661\n\\end{enumerate*}\n",
            "text/plain": [
              " [1] 110.13443 114.83284 106.08875 119.42949 103.86958 105.31523 111.70941\n",
              " [8] 105.66327 104.01824 112.50516 111.28327 126.02851 106.88751 123.77012\n",
              "[15] 113.20596 102.72397  91.86987  95.65800 103.87813  96.65853 101.18698\n",
              "[22] 101.30591  93.32281 114.62885 102.41324 116.81421 102.02002 104.81963\n",
              "[29]  95.86131  99.58800"
            ]
          },
          "metadata": {}
        }
      ],
      "source": [
        "model1_ped_est=rep(0,30) # vector to store variety estimates\n",
        "block_average = sol_fixed$Estimate[1]/3 + (sol_fixed$Estimate[1] + sol_fixed$Estimate[2])/3 + (sol_fixed$Estimate[1] + sol_fixed$Estimate[3])/3 # averaging the block effects\n",
        "model1_ped_est[1] = 0 + block_average # deviation of 'variety1' from 'variety1' is 0\n",
        "model1_ped_est[2:30]= sol_fixed$Estimate[4:32] + block_average\n",
        "model1_ped_est"
      ]
    },
    {
      "cell_type": "markdown",
      "id": "f67d891c-595b-451c-b02e-14efdf2a64cb",
      "metadata": {
        "id": "f67d891c-595b-451c-b02e-14efdf2a64cb"
      },
      "source": [
        "Now I have my estimates from model 1, let's run a second model that treats variety as a random effect and uses the pedigree relationship matrix."
      ]
    },
    {
      "cell_type": "markdown",
      "id": "24f9207a-a655-4a50-9d2d-c6d630a9ac2a",
      "metadata": {
        "id": "24f9207a-a655-4a50-9d2d-c6d630a9ac2a"
      },
      "source": [
        "# Model 2 - Variety as Random"
      ]
    },
    {
      "cell_type": "code",
      "execution_count": 33,
      "id": "82712295-f8d6-4dae-a300-1322b8ea4e85",
      "metadata": {
        "tags": [],
        "id": "82712295-f8d6-4dae-a300-1322b8ea4e85",
        "outputId": "cbd2da37-6625-42d5-d4ea-efd428a5b838",
        "colab": {
          "base_uri": "https://localhost:8080/"
        }
      },
      "outputs": [
        {
          "output_type": "stream",
          "name": "stdout",
          "text": [
            "iteration    LogLik     wall    cpu(sec)   restrained\n",
            "    1      44.6105   18:39:57      0           0\n",
            "    2      45.8325   18:39:57      0           0\n",
            "    3      45.9284   18:39:57      0           0\n",
            "    4      45.9312   18:39:57      0           0\n",
            "    5      45.9312   18:39:57      0           0\n"
          ]
        }
      ],
      "source": [
        "model2_ped <- sommer::mmes(phenotype~block,\n",
        "              random= ~ vsm(ism(variety), Gu=Amat),\n",
        "              rcov= ~ units,\n",
        "              data=phenodatdf, verbose = TRUE)"
      ]
    },
    {
      "cell_type": "markdown",
      "id": "21c4f212-9dfb-42a4-bf81-92b9b39b3bd9",
      "metadata": {
        "id": "21c4f212-9dfb-42a4-bf81-92b9b39b3bd9"
      },
      "source": [
        "As you can see the model statement is similar but we now have a new row for the random effect: `random= ~ vsr(variety, Gu=Amat),`\n",
        "\n",
        "`random= ~` tells the model that we are giving it terms we want to treat as random.\n",
        "\n",
        "`vsr()` is a command that we use to specify variance structures\n",
        "\n",
        "In this case we are using `vsr()` to tell sommer we want to model variety as random with a user defined relationship matrix. `Gu` stands for covariance struture (G) that is user (u) defined.\n",
        "\n",
        "There are many different ways to construct covariance structures using  kronecker product between matrices and I highly encourage those who are interested to learn more about how to define more complex structures, but that is out of scope for this class.\n",
        "\n",
        "for more information on the kronecker product see: https://en.wikipedia.org/wiki/Kronecker_product"
      ]
    },
    {
      "cell_type": "markdown",
      "id": "810ed8f8-d105-4717-914e-daaf5c4d3cb4",
      "metadata": {
        "id": "810ed8f8-d105-4717-914e-daaf5c4d3cb4"
      },
      "source": [
        "Now let's sort the data and generate the predictions."
      ]
    },
    {
      "cell_type": "markdown",
      "id": "3b98e1df-5f07-4743-8f08-55f9c570786a",
      "metadata": {
        "id": "3b98e1df-5f07-4743-8f08-55f9c570786a"
      },
      "source": [
        "For more complicated mixed models it is easier to use the `predict.mmer()` function. To use the predict.mmer function we need to pull the DTable variable out of the model fit object:"
      ]
    },
    {
      "cell_type": "code",
      "execution_count": 34,
      "id": "a6627976-067c-4797-8f27-f7b7cb6c66ae",
      "metadata": {
        "tags": [],
        "id": "a6627976-067c-4797-8f27-f7b7cb6c66ae",
        "outputId": "28910a4e-0ad8-4ffa-bafd-55fd879184f8",
        "colab": {
          "base_uri": "https://localhost:8080/",
          "height": 159
        }
      },
      "outputs": [
        {
          "output_type": "display_data",
          "data": {
            "text/html": [
              "<table class=\"dataframe\">\n",
              "<caption>A data.frame: 2 × 4</caption>\n",
              "<thead>\n",
              "\t<tr><th scope=col>type</th><th scope=col>term</th><th scope=col>include</th><th scope=col>average</th></tr>\n",
              "\t<tr><th scope=col>&lt;chr&gt;</th><th scope=col>&lt;chr&gt;</th><th scope=col>&lt;lgl&gt;</th><th scope=col>&lt;lgl&gt;</th></tr>\n",
              "</thead>\n",
              "<tbody>\n",
              "\t<tr><td>fixed </td><td>block                       </td><td>FALSE</td><td>FALSE</td></tr>\n",
              "\t<tr><td>random</td><td>vsm(ism(variety), Gu = Amat)</td><td>FALSE</td><td>FALSE</td></tr>\n",
              "</tbody>\n",
              "</table>\n"
            ],
            "text/markdown": "\nA data.frame: 2 × 4\n\n| type &lt;chr&gt; | term &lt;chr&gt; | include &lt;lgl&gt; | average &lt;lgl&gt; |\n|---|---|---|---|\n| fixed  | block                        | FALSE | FALSE |\n| random | vsm(ism(variety), Gu = Amat) | FALSE | FALSE |\n\n",
            "text/latex": "A data.frame: 2 × 4\n\\begin{tabular}{llll}\n type & term & include & average\\\\\n <chr> & <chr> & <lgl> & <lgl>\\\\\n\\hline\n\t fixed  & block                        & FALSE & FALSE\\\\\n\t random & vsm(ism(variety), Gu = Amat) & FALSE & FALSE\\\\\n\\end{tabular}\n",
            "text/plain": [
              "  type   term                         include average\n",
              "1 fixed  block                        FALSE   FALSE  \n",
              "2 random vsm(ism(variety), Gu = Amat) FALSE   FALSE  "
            ]
          },
          "metadata": {}
        }
      ],
      "source": [
        "dtm2=model2_ped$Dtable\n",
        "dtm2"
      ]
    },
    {
      "cell_type": "markdown",
      "id": "87dfe229-095a-4806-89d8-8560fd066413",
      "metadata": {
        "id": "87dfe229-095a-4806-89d8-8560fd066413"
      },
      "source": [
        "The Dtable has one row for each variable in the model. We will modify the 'include' and 'average' columns in the table to indicate which variables we want included in the prediction and for the variables included, whether or not we want them averaged.\n",
        "\n",
        "For the variable of interest, variety in this case, we will include but not average. We always will include the intercept (denoted as 1 in the first row). In gereral we will always include and average fixed effects that are not of interest for the predictions, this ensures we get the correct standard errors for our predictions.\n",
        "\n",
        "Now lets modify the `dtm2` to get the predictions we want:"
      ]
    },
    {
      "cell_type": "code",
      "execution_count": 24,
      "id": "01be5b66-fddf-4a0b-a062-f07cc38eb078",
      "metadata": {
        "tags": [],
        "id": "01be5b66-fddf-4a0b-a062-f07cc38eb078",
        "outputId": "e29a6200-0868-4652-f8cc-d0c3e5f0450f",
        "colab": {
          "base_uri": "https://localhost:8080/",
          "height": 190
        }
      },
      "outputs": [
        {
          "output_type": "display_data",
          "data": {
            "text/html": [
              "<table class=\"dataframe\">\n",
              "<caption>A data.frame: 3 × 4</caption>\n",
              "<thead>\n",
              "\t<tr><th scope=col>type</th><th scope=col>term</th><th scope=col>include</th><th scope=col>average</th></tr>\n",
              "\t<tr><th scope=col>&lt;chr&gt;</th><th scope=col>&lt;chr&gt;</th><th scope=col>&lt;lgl&gt;</th><th scope=col>&lt;lgl&gt;</th></tr>\n",
              "</thead>\n",
              "<tbody>\n",
              "\t<tr><td>fixed </td><td>1      </td><td>TRUE</td><td>FALSE</td></tr>\n",
              "\t<tr><td>fixed </td><td>block  </td><td>TRUE</td><td> TRUE</td></tr>\n",
              "\t<tr><td>random</td><td>variety</td><td>TRUE</td><td>FALSE</td></tr>\n",
              "</tbody>\n",
              "</table>\n"
            ],
            "text/markdown": "\nA data.frame: 3 × 4\n\n| type &lt;chr&gt; | term &lt;chr&gt; | include &lt;lgl&gt; | average &lt;lgl&gt; |\n|---|---|---|---|\n| fixed  | 1       | TRUE | FALSE |\n| fixed  | block   | TRUE |  TRUE |\n| random | variety | TRUE | FALSE |\n\n",
            "text/latex": "A data.frame: 3 × 4\n\\begin{tabular}{llll}\n type & term & include & average\\\\\n <chr> & <chr> & <lgl> & <lgl>\\\\\n\\hline\n\t fixed  & 1       & TRUE & FALSE\\\\\n\t fixed  & block   & TRUE &  TRUE\\\\\n\t random & variety & TRUE & FALSE\\\\\n\\end{tabular}\n",
            "text/plain": [
              "  type   term    include average\n",
              "1 fixed  1       TRUE    FALSE  \n",
              "2 fixed  block   TRUE     TRUE  \n",
              "3 random variety TRUE    FALSE  "
            ]
          },
          "metadata": {}
        }
      ],
      "source": [
        "dtm2[1,\"include\"]=TRUE # intercept\n",
        "dtm2[2,\"include\"]=TRUE # block\n",
        "dtm2[2,\"average\"]=TRUE # block\n",
        "dtm2[3,\"include\"]=TRUE # variety\n",
        "dtm2"
      ]
    },
    {
      "cell_type": "code",
      "execution_count": 27,
      "id": "bd36f772-4445-4bb6-a35b-0b64d7cd1d4b",
      "metadata": {
        "tags": [],
        "id": "bd36f772-4445-4bb6-a35b-0b64d7cd1d4b",
        "outputId": "9e7fcb61-6355-4853-fabe-7142d8fba9fd",
        "colab": {
          "base_uri": "https://localhost:8080/",
          "height": 241
        }
      },
      "outputs": [
        {
          "output_type": "error",
          "ename": "ERROR",
          "evalue": "Error in UseMethod(\"predict\"): no applicable method for 'predict' applied to an object of class \"mmer\"\n",
          "traceback": [
            "Error in UseMethod(\"predict\"): no applicable method for 'predict' applied to an object of class \"mmer\"\nTraceback:\n",
            "1. .handleSimpleError(function (cnd) \n . {\n .     watcher$capture_plot_and_output()\n .     cnd <- sanitize_call(cnd)\n .     watcher$push(cnd)\n .     switch(on_error, continue = invokeRestart(\"eval_continue\"), \n .         stop = invokeRestart(\"eval_stop\"), error = NULL)\n . }, \"no applicable method for 'predict' applied to an object of class \\\"mmer\\\"\", \n .     base::quote(UseMethod(\"predict\")))"
          ]
        }
      ],
      "source": [
        "aM2_ped=predict(model2_ped, Dtable= dtm2, D=\"variety\")\n",
        "#getting the predicted values\n",
        "summary(aM2_ped)"
      ]
    },
    {
      "cell_type": "markdown",
      "id": "e91ecf9d-6310-4ad2-a886-a15cf1ce5bf5",
      "metadata": {
        "id": "e91ecf9d-6310-4ad2-a886-a15cf1ce5bf5"
      },
      "source": [
        "The object aM2 has the matrices used to calculate the predictions and the standard errors of the predictions; however, we are only interested in the predicted values 'pvals'. Let's pull out the predicted values to compare to the fixed effect models and the true simulated values."
      ]
    },
    {
      "cell_type": "code",
      "execution_count": null,
      "id": "4b51b34c-138a-41a8-92e8-425bfd57f9c2",
      "metadata": {
        "tags": [],
        "id": "4b51b34c-138a-41a8-92e8-425bfd57f9c2",
        "outputId": "8fe5fa7c-9356-4b59-9eca-1524ae94df3a"
      },
      "outputs": [
        {
          "data": {
            "text/html": [
              "<table class=\"dataframe\">\n",
              "<caption>A data.frame: 30 × 3</caption>\n",
              "<thead>\n",
              "\t<tr><th></th><th scope=col>variety</th><th scope=col>predicted.value</th><th scope=col>std.error</th></tr>\n",
              "\t<tr><th></th><th scope=col>&lt;chr&gt;</th><th scope=col>&lt;dbl&gt;</th><th scope=col>&lt;dbl&gt;</th></tr>\n",
              "</thead>\n",
              "<tbody>\n",
              "\t<tr><th scope=row>1</th><td>1 </td><td>110.59948</td><td>6.344083</td></tr>\n",
              "\t<tr><th scope=row>2</th><td>2 </td><td>112.87646</td><td>6.344083</td></tr>\n",
              "\t<tr><th scope=row>3</th><td>3 </td><td>108.63882</td><td>6.344083</td></tr>\n",
              "\t<tr><th scope=row>4</th><td>4 </td><td>115.10413</td><td>6.344083</td></tr>\n",
              "\t<tr><th scope=row>5</th><td>5 </td><td>107.56335</td><td>6.344083</td></tr>\n",
              "\t<tr><th scope=row>6</th><td>6 </td><td>108.26395</td><td>6.344083</td></tr>\n",
              "\t<tr><th scope=row>7</th><td>7 </td><td>111.36276</td><td>6.344083</td></tr>\n",
              "\t<tr><th scope=row>8</th><td>8 </td><td>108.43262</td><td>6.344083</td></tr>\n",
              "\t<tr><th scope=row>9</th><td>9 </td><td>107.63539</td><td>6.344083</td></tr>\n",
              "\t<tr><th scope=row>10</th><td>10</td><td>111.74840</td><td>6.344083</td></tr>\n",
              "\t<tr><th scope=row>11</th><td>11</td><td>111.15624</td><td>6.344083</td></tr>\n",
              "\t<tr><th scope=row>12</th><td>12</td><td>118.30221</td><td>6.344083</td></tr>\n",
              "\t<tr><th scope=row>13</th><td>13</td><td>109.02592</td><td>6.344083</td></tr>\n",
              "\t<tr><th scope=row>14</th><td>14</td><td>117.20773</td><td>6.344083</td></tr>\n",
              "\t<tr><th scope=row>15</th><td>15</td><td>112.08803</td><td>6.344083</td></tr>\n",
              "\t<tr><th scope=row>16</th><td>16</td><td>102.41749</td><td>6.344083</td></tr>\n",
              "\t<tr><th scope=row>17</th><td>17</td><td> 97.15728</td><td>6.344083</td></tr>\n",
              "\t<tr><th scope=row>18</th><td>18</td><td> 98.99312</td><td>6.344083</td></tr>\n",
              "\t<tr><th scope=row>19</th><td>19</td><td>102.97683</td><td>6.344083</td></tr>\n",
              "\t<tr><th scope=row>20</th><td>20</td><td> 99.47800</td><td>6.344083</td></tr>\n",
              "\t<tr><th scope=row>21</th><td>21</td><td>101.67262</td><td>6.344083</td></tr>\n",
              "\t<tr><th scope=row>22</th><td>22</td><td>101.73026</td><td>6.344083</td></tr>\n",
              "\t<tr><th scope=row>23</th><td>23</td><td> 97.86142</td><td>6.344083</td></tr>\n",
              "\t<tr><th scope=row>24</th><td>24</td><td>108.18695</td><td>6.344083</td></tr>\n",
              "\t<tr><th scope=row>25</th><td>25</td><td>102.26691</td><td>6.344083</td></tr>\n",
              "\t<tr><th scope=row>26</th><td>26</td><td>109.24603</td><td>6.344083</td></tr>\n",
              "\t<tr><th scope=row>27</th><td>27</td><td>102.07634</td><td>6.344083</td></tr>\n",
              "\t<tr><th scope=row>28</th><td>28</td><td>103.43311</td><td>6.344083</td></tr>\n",
              "\t<tr><th scope=row>29</th><td>29</td><td> 99.09165</td><td>6.344083</td></tr>\n",
              "\t<tr><th scope=row>30</th><td>30</td><td>100.89771</td><td>6.344083</td></tr>\n",
              "</tbody>\n",
              "</table>\n"
            ],
            "text/latex": [
              "A data.frame: 30 × 3\n",
              "\\begin{tabular}{r|lll}\n",
              "  & variety & predicted.value & std.error\\\\\n",
              "  & <chr> & <dbl> & <dbl>\\\\\n",
              "\\hline\n",
              "\t1 & 1  & 110.59948 & 6.344083\\\\\n",
              "\t2 & 2  & 112.87646 & 6.344083\\\\\n",
              "\t3 & 3  & 108.63882 & 6.344083\\\\\n",
              "\t4 & 4  & 115.10413 & 6.344083\\\\\n",
              "\t5 & 5  & 107.56335 & 6.344083\\\\\n",
              "\t6 & 6  & 108.26395 & 6.344083\\\\\n",
              "\t7 & 7  & 111.36276 & 6.344083\\\\\n",
              "\t8 & 8  & 108.43262 & 6.344083\\\\\n",
              "\t9 & 9  & 107.63539 & 6.344083\\\\\n",
              "\t10 & 10 & 111.74840 & 6.344083\\\\\n",
              "\t11 & 11 & 111.15624 & 6.344083\\\\\n",
              "\t12 & 12 & 118.30221 & 6.344083\\\\\n",
              "\t13 & 13 & 109.02592 & 6.344083\\\\\n",
              "\t14 & 14 & 117.20773 & 6.344083\\\\\n",
              "\t15 & 15 & 112.08803 & 6.344083\\\\\n",
              "\t16 & 16 & 102.41749 & 6.344083\\\\\n",
              "\t17 & 17 &  97.15728 & 6.344083\\\\\n",
              "\t18 & 18 &  98.99312 & 6.344083\\\\\n",
              "\t19 & 19 & 102.97683 & 6.344083\\\\\n",
              "\t20 & 20 &  99.47800 & 6.344083\\\\\n",
              "\t21 & 21 & 101.67262 & 6.344083\\\\\n",
              "\t22 & 22 & 101.73026 & 6.344083\\\\\n",
              "\t23 & 23 &  97.86142 & 6.344083\\\\\n",
              "\t24 & 24 & 108.18695 & 6.344083\\\\\n",
              "\t25 & 25 & 102.26691 & 6.344083\\\\\n",
              "\t26 & 26 & 109.24603 & 6.344083\\\\\n",
              "\t27 & 27 & 102.07634 & 6.344083\\\\\n",
              "\t28 & 28 & 103.43311 & 6.344083\\\\\n",
              "\t29 & 29 &  99.09165 & 6.344083\\\\\n",
              "\t30 & 30 & 100.89771 & 6.344083\\\\\n",
              "\\end{tabular}\n"
            ],
            "text/markdown": [
              "\n",
              "A data.frame: 30 × 3\n",
              "\n",
              "| <!--/--> | variety &lt;chr&gt; | predicted.value &lt;dbl&gt; | std.error &lt;dbl&gt; |\n",
              "|---|---|---|---|\n",
              "| 1 | 1  | 110.59948 | 6.344083 |\n",
              "| 2 | 2  | 112.87646 | 6.344083 |\n",
              "| 3 | 3  | 108.63882 | 6.344083 |\n",
              "| 4 | 4  | 115.10413 | 6.344083 |\n",
              "| 5 | 5  | 107.56335 | 6.344083 |\n",
              "| 6 | 6  | 108.26395 | 6.344083 |\n",
              "| 7 | 7  | 111.36276 | 6.344083 |\n",
              "| 8 | 8  | 108.43262 | 6.344083 |\n",
              "| 9 | 9  | 107.63539 | 6.344083 |\n",
              "| 10 | 10 | 111.74840 | 6.344083 |\n",
              "| 11 | 11 | 111.15624 | 6.344083 |\n",
              "| 12 | 12 | 118.30221 | 6.344083 |\n",
              "| 13 | 13 | 109.02592 | 6.344083 |\n",
              "| 14 | 14 | 117.20773 | 6.344083 |\n",
              "| 15 | 15 | 112.08803 | 6.344083 |\n",
              "| 16 | 16 | 102.41749 | 6.344083 |\n",
              "| 17 | 17 |  97.15728 | 6.344083 |\n",
              "| 18 | 18 |  98.99312 | 6.344083 |\n",
              "| 19 | 19 | 102.97683 | 6.344083 |\n",
              "| 20 | 20 |  99.47800 | 6.344083 |\n",
              "| 21 | 21 | 101.67262 | 6.344083 |\n",
              "| 22 | 22 | 101.73026 | 6.344083 |\n",
              "| 23 | 23 |  97.86142 | 6.344083 |\n",
              "| 24 | 24 | 108.18695 | 6.344083 |\n",
              "| 25 | 25 | 102.26691 | 6.344083 |\n",
              "| 26 | 26 | 109.24603 | 6.344083 |\n",
              "| 27 | 27 | 102.07634 | 6.344083 |\n",
              "| 28 | 28 | 103.43311 | 6.344083 |\n",
              "| 29 | 29 |  99.09165 | 6.344083 |\n",
              "| 30 | 30 | 100.89771 | 6.344083 |\n",
              "\n"
            ],
            "text/plain": [
              "   variety predicted.value std.error\n",
              "1  1       110.59948       6.344083 \n",
              "2  2       112.87646       6.344083 \n",
              "3  3       108.63882       6.344083 \n",
              "4  4       115.10413       6.344083 \n",
              "5  5       107.56335       6.344083 \n",
              "6  6       108.26395       6.344083 \n",
              "7  7       111.36276       6.344083 \n",
              "8  8       108.43262       6.344083 \n",
              "9  9       107.63539       6.344083 \n",
              "10 10      111.74840       6.344083 \n",
              "11 11      111.15624       6.344083 \n",
              "12 12      118.30221       6.344083 \n",
              "13 13      109.02592       6.344083 \n",
              "14 14      117.20773       6.344083 \n",
              "15 15      112.08803       6.344083 \n",
              "16 16      102.41749       6.344083 \n",
              "17 17       97.15728       6.344083 \n",
              "18 18       98.99312       6.344083 \n",
              "19 19      102.97683       6.344083 \n",
              "20 20       99.47800       6.344083 \n",
              "21 21      101.67262       6.344083 \n",
              "22 22      101.73026       6.344083 \n",
              "23 23       97.86142       6.344083 \n",
              "24 24      108.18695       6.344083 \n",
              "25 25      102.26691       6.344083 \n",
              "26 26      109.24603       6.344083 \n",
              "27 27      102.07634       6.344083 \n",
              "28 28      103.43311       6.344083 \n",
              "29 29       99.09165       6.344083 \n",
              "30 30      100.89771       6.344083 "
            ]
          },
          "metadata": {},
          "output_type": "display_data"
        }
      ],
      "source": [
        "pM2_ped=aM2_ped$pvals\n",
        "pM2_ped"
      ]
    },
    {
      "cell_type": "markdown",
      "id": "375b4dc4-54cc-445a-b8c6-bccf9e9044d0",
      "metadata": {
        "id": "375b4dc4-54cc-445a-b8c6-bccf9e9044d0"
      },
      "source": [
        "# Comparing Models\n",
        "\n",
        "Now that we have results fro mthe models let's compare performance.\n",
        "\n",
        "First let's plot the solutions from model 1 against model 2 to see how similar the results are."
      ]
    },
    {
      "cell_type": "code",
      "execution_count": null,
      "id": "ead3ef9e-cf42-4e17-978b-46cdec55c5e5",
      "metadata": {
        "tags": [],
        "id": "ead3ef9e-cf42-4e17-978b-46cdec55c5e5",
        "outputId": "9266caa3-fdf2-44a1-ae18-27f8985002f5"
      },
      "outputs": [
        {
          "data": {
            "image/png": "[encoded data removed]",
            "text/plain": [
              "Plot with title “Plot of variety BLUEs vs Pedigree BLUPs”"
            ]
          },
          "metadata": {
            "image/png": {
              "height": 420,
              "width": 420
            }
          },
          "output_type": "display_data"
        }
      ],
      "source": [
        "plot(model1_ped_est,pM2_ped$predicted.value, main=\"Plot of variety BLUEs vs Pedigree BLUPs\")"
      ]
    },
    {
      "cell_type": "markdown",
      "id": "ba2bd1c6-25d9-4ed5-872d-e20004072530",
      "metadata": {
        "id": "ba2bd1c6-25d9-4ed5-872d-e20004072530"
      },
      "source": [
        "In this plot the BLUPs are on the y-axis and the BLUEs are on the x-axis. An interestng pattern can be clearly seen in the plot. The BLUPs group into two distinct lines."
      ]
    },
    {
      "cell_type": "markdown",
      "id": "615a2bd8-38a6-4026-96d2-5d8052b6d672",
      "metadata": {
        "id": "615a2bd8-38a6-4026-96d2-5d8052b6d672"
      },
      "source": [
        "# Question:\n",
        "Why would the use of the pedigree relationship matrix result in two distinct clusters of Estimate Breeding Vaues?"
      ]
    },
    {
      "cell_type": "markdown",
      "id": "987c2c9b-c3cd-447e-9a9b-0933628d0a8c",
      "metadata": {
        "id": "987c2c9b-c3cd-447e-9a9b-0933628d0a8c"
      },
      "source": [
        "# Answer:\n"
      ]
    },
    {
      "cell_type": "markdown",
      "id": "53e27888-c209-496b-ab80-a74bbd353df4",
      "metadata": {
        "id": "53e27888-c209-496b-ab80-a74bbd353df4"
      },
      "source": [
        "# Accuracy of the Estimates\n",
        "\n",
        "To look at the accuracy of the estimates we will correlation the Estimated Breeding values from from model 1 and model 2 with the true breeding values.\n",
        "\n",
        "First let's pull the true values out of phenodat."
      ]
    },
    {
      "cell_type": "code",
      "execution_count": null,
      "id": "dcf2dd0a-e27d-4023-be4b-24e61700f817",
      "metadata": {
        "tags": [],
        "id": "dcf2dd0a-e27d-4023-be4b-24e61700f817"
      },
      "outputs": [],
      "source": [
        "True_EBV=phenodat[1:30,4]"
      ]
    },
    {
      "cell_type": "markdown",
      "id": "0bd70cfd-efe7-48f6-96f5-19be917edfa3",
      "metadata": {
        "tags": [],
        "id": "0bd70cfd-efe7-48f6-96f5-19be917edfa3"
      },
      "source": [
        "Now let's calculate accuracy by correlating the estimate values from each model with the true values."
      ]
    },
    {
      "cell_type": "code",
      "execution_count": null,
      "id": "58b3d071-ca59-40ef-8dfb-0dce7ee44319",
      "metadata": {
        "tags": [],
        "id": "58b3d071-ca59-40ef-8dfb-0dce7ee44319",
        "outputId": "911e6d0e-f6e0-447d-f3ff-6e888f097b13"
      },
      "outputs": [
        {
          "name": "stdout",
          "output_type": "stream",
          "text": [
            "[1] \"Correlation of model 1 estimates and True Breeding Values\"\n",
            "[1] 0.7663123\n",
            "[1] \"Correlation of model 2 estimates and True Breeding Values\"\n",
            "[1] 0.8504054\n"
          ]
        }
      ],
      "source": [
        "print(\"Correlation of model 1 estimates and True Breeding Values\")\n",
        "print(cor(model1_ped_est,True_EBV))\n",
        "\n",
        "print(\"Correlation of model 2 estimates and True Breeding Values\")\n",
        "print(cor(pM2_ped$predicted.value,True_EBV))"
      ]
    },
    {
      "cell_type": "markdown",
      "id": "95a5692e-12c8-4ce4-8558-45d01cd1fa32",
      "metadata": {
        "id": "95a5692e-12c8-4ce4-8558-45d01cd1fa32"
      },
      "source": [
        "As the results show, accounting for the pedigree relationships results in more accurate estimates of the true breeding values. This increase in accuracy would result in an increase in response to selection simply by analyzing the data using a more informative mixed model as opposed to a simple model treating variety as a fixed effect."
      ]
    },
    {
      "cell_type": "markdown",
      "id": "810b1614-08ca-406a-88c5-f2e794bbbf79",
      "metadata": {
        "id": "810b1614-08ca-406a-88c5-f2e794bbbf79"
      },
      "source": [
        "# Activity:\n",
        "Run model 2 without the pedigree relationship matrix (`random= ~ vsr(variety)`). How does that impact the accuracy and change the plots of the solutions for model 1 and model 2?"
      ]
    },
    {
      "cell_type": "code",
      "execution_count": null,
      "id": "acab6970-4558-4b3f-be68-8676c82e0443",
      "metadata": {
        "tags": [],
        "id": "acab6970-4558-4b3f-be68-8676c82e0443",
        "outputId": "5de2f8b6-1d9b-45e1-80f9-58daf278eb09"
      },
      "outputs": [
        {
          "name": "stdout",
          "output_type": "stream",
          "text": [
            "iteration    LogLik     wall    cpu(sec)   restrained\n",
            "    1      39.9805   18:37:14      0           0\n",
            "    2      41.1033   18:37:14      0           0\n",
            "    3      41.4123   18:37:14      0           0\n",
            "    4      41.4404   18:37:14      0           0\n",
            "    5      41.4407   18:37:14      0           0\n"
          ]
        },
        {
          "data": {
            "text/html": [
              "<table class=\"dataframe\">\n",
              "<caption>A data.frame: 3 × 4</caption>\n",
              "<thead>\n",
              "\t<tr><th scope=col>type</th><th scope=col>term</th><th scope=col>include</th><th scope=col>average</th></tr>\n",
              "\t<tr><th scope=col>&lt;chr&gt;</th><th scope=col>&lt;chr&gt;</th><th scope=col>&lt;lgl&gt;</th><th scope=col>&lt;lgl&gt;</th></tr>\n",
              "</thead>\n",
              "<tbody>\n",
              "\t<tr><td>fixed </td><td>1      </td><td>FALSE</td><td>FALSE</td></tr>\n",
              "\t<tr><td>fixed </td><td>block  </td><td>FALSE</td><td>FALSE</td></tr>\n",
              "\t<tr><td>random</td><td>variety</td><td>FALSE</td><td>FALSE</td></tr>\n",
              "</tbody>\n",
              "</table>\n"
            ],
            "text/latex": [
              "A data.frame: 3 × 4\n",
              "\\begin{tabular}{llll}\n",
              " type & term & include & average\\\\\n",
              " <chr> & <chr> & <lgl> & <lgl>\\\\\n",
              "\\hline\n",
              "\t fixed  & 1       & FALSE & FALSE\\\\\n",
              "\t fixed  & block   & FALSE & FALSE\\\\\n",
              "\t random & variety & FALSE & FALSE\\\\\n",
              "\\end{tabular}\n"
            ],
            "text/markdown": [
              "\n",
              "A data.frame: 3 × 4\n",
              "\n",
              "| type &lt;chr&gt; | term &lt;chr&gt; | include &lt;lgl&gt; | average &lt;lgl&gt; |\n",
              "|---|---|---|---|\n",
              "| fixed  | 1       | FALSE | FALSE |\n",
              "| fixed  | block   | FALSE | FALSE |\n",
              "| random | variety | FALSE | FALSE |\n",
              "\n"
            ],
            "text/plain": [
              "  type   term    include average\n",
              "1 fixed  1       FALSE   FALSE  \n",
              "2 fixed  block   FALSE   FALSE  \n",
              "3 random variety FALSE   FALSE  "
            ]
          },
          "metadata": {},
          "output_type": "display_data"
        },
        {
          "data": {
            "text/html": [
              "<table class=\"dataframe\">\n",
              "<caption>A data.frame: 3 × 4</caption>\n",
              "<thead>\n",
              "\t<tr><th scope=col>type</th><th scope=col>term</th><th scope=col>include</th><th scope=col>average</th></tr>\n",
              "\t<tr><th scope=col>&lt;chr&gt;</th><th scope=col>&lt;chr&gt;</th><th scope=col>&lt;lgl&gt;</th><th scope=col>&lt;lgl&gt;</th></tr>\n",
              "</thead>\n",
              "<tbody>\n",
              "\t<tr><td>fixed </td><td>1      </td><td>TRUE</td><td>FALSE</td></tr>\n",
              "\t<tr><td>fixed </td><td>block  </td><td>TRUE</td><td> TRUE</td></tr>\n",
              "\t<tr><td>random</td><td>variety</td><td>TRUE</td><td>FALSE</td></tr>\n",
              "</tbody>\n",
              "</table>\n"
            ],
            "text/latex": [
              "A data.frame: 3 × 4\n",
              "\\begin{tabular}{llll}\n",
              " type & term & include & average\\\\\n",
              " <chr> & <chr> & <lgl> & <lgl>\\\\\n",
              "\\hline\n",
              "\t fixed  & 1       & TRUE & FALSE\\\\\n",
              "\t fixed  & block   & TRUE &  TRUE\\\\\n",
              "\t random & variety & TRUE & FALSE\\\\\n",
              "\\end{tabular}\n"
            ],
            "text/markdown": [
              "\n",
              "A data.frame: 3 × 4\n",
              "\n",
              "| type &lt;chr&gt; | term &lt;chr&gt; | include &lt;lgl&gt; | average &lt;lgl&gt; |\n",
              "|---|---|---|---|\n",
              "| fixed  | 1       | TRUE | FALSE |\n",
              "| fixed  | block   | TRUE |  TRUE |\n",
              "| random | variety | TRUE | FALSE |\n",
              "\n"
            ],
            "text/plain": [
              "  type   term    include average\n",
              "1 fixed  1       TRUE    FALSE  \n",
              "2 fixed  block   TRUE     TRUE  \n",
              "3 random variety TRUE    FALSE  "
            ]
          },
          "metadata": {},
          "output_type": "display_data"
        },
        {
          "name": "stdout",
          "output_type": "stream",
          "text": [
            "[1] \"Correlation of model 2 no ped estimates and True Breeding Values\"\n",
            "[1] 0.7663123\n"
          ]
        },
        {
          "data": {
            "image/png": "[encoded data removed]",
            "text/plain": [
              "Plot with title “Plot of variety BLUEs vs No Pedigree BLUPs”"
            ]
          },
          "metadata": {
            "image/png": {
              "height": 420,
              "width": 420
            }
          },
          "output_type": "display_data"
        }
      ],
      "source": [
        "# Model 2 no ped\n",
        "model2_no_ped <- sommer::mmer(phenotype~block,\n",
        "              random= ~ vsr(variety),\n",
        "              rcov= ~ units,\n",
        "              data=phenodatdf, verbose = TRUE)\n",
        "\n",
        "dtm2np=model2_no_ped$Dtable\n",
        "dtm2np\n",
        "\n",
        "dtm2np[1,\"include\"]=TRUE # intercept\n",
        "dtm2np[2,\"include\"]=TRUE # block\n",
        "dtm2np[2,\"average\"]=TRUE # block\n",
        "dtm2np[3,\"include\"]=TRUE # variety\n",
        "dtm2np\n",
        "\n",
        "aM2_no_ped=predict.mmer(model2_no_ped, Dtable= dtm2np, D=\"variety\")\n",
        "#getting the predicted values\n",
        "pM2_no_ped=aM2_no_ped$pvals\n",
        "\n",
        "plot(model1_ped_est,pM2_no_ped$predicted.value, main=\"Plot of variety BLUEs vs No Pedigree BLUPs\")\n",
        "\n",
        "print(\"Correlation of model 2 no ped estimates and True Breeding Values\")\n",
        "print(cor(pM2_no_ped$predicted.value,True_EBV))\n"
      ]
    },
    {
      "cell_type": "markdown",
      "id": "c635ee58-4e1a-4a4d-8380-f52be709315b",
      "metadata": {
        "id": "c635ee58-4e1a-4a4d-8380-f52be709315b"
      },
      "source": [
        "# Answer\n"
      ]
    },
    {
      "cell_type": "markdown",
      "id": "50e0a55b-85b0-4a0b-b34a-51a9fd922528",
      "metadata": {
        "tags": [],
        "id": "50e0a55b-85b0-4a0b-b34a-51a9fd922528"
      },
      "source": [
        "# Fitting a GxE Model in sommer\n",
        "Genotype by environment interactions (GxE) are commonly observed in multi-environmental trials. Mixed models are well suited for analyzing genotype by environment interactions. Here w will use sommoer to fit some simple GxE models using a genomic relationship matrix.\n",
        "\n",
        "First we will read in the datasets and create a dataframe.\n",
        "\n",
        "The file \"GxE_dataset.csv\" contains experimental information and the phenotype of interest.\n",
        "\n",
        "The file \"GE_GRM.csv\" contains a genomic relationship matrix.\n"
      ]
    },
    {
      "cell_type": "code",
      "execution_count": null,
      "id": "1a47f668-85cd-4f4b-b11d-cf5ac08b8cfd",
      "metadata": {
        "tags": [],
        "id": "1a47f668-85cd-4f4b-b11d-cf5ac08b8cfd"
      },
      "outputs": [],
      "source": [
        "#read phenotypic datafaile\n",
        "phenodat=read.csv(\"https://raw.githubusercontent.com/Robbins-Lab/PLSCI-7201/refs/heads/main/Modules/Module7/datasets/GxE_dataset.csv\",header=TRUE)\n",
        "# create dataframe to pass to the mixed model software\n",
        "dataf=data.frame(loc=as.factor(phenodat$Locations),variety=as.factor(phenodat$Variety),phenotype=as.double(phenodat$Phenotype))\n",
        "#reading in the genomic relationship matrix\n",
        "snpRelMat=read.csv(\"https://raw.githubusercontent.com/Robbins-Lab/PLSCI-7201/refs/heads/main/Modules/Module7/datasets/GE_GRM.csv\",header=FALSE)"
      ]
    },
    {
      "cell_type": "markdown",
      "id": "9fbbbca4-e34f-4a92-883a-1d2c2c2f412b",
      "metadata": {
        "tags": [],
        "id": "9fbbbca4-e34f-4a92-883a-1d2c2c2f412b"
      },
      "source": [
        "For genomic relationship matrices it is common to add a small value to the diagonal to ensure that the matrix can be inverted"
      ]
    },
    {
      "cell_type": "code",
      "execution_count": null,
      "id": "b5554edb-0e3b-4915-8a2f-6c841f03b560",
      "metadata": {
        "tags": [],
        "id": "b5554edb-0e3b-4915-8a2f-6c841f03b560"
      },
      "outputs": [],
      "source": [
        "#adding small value to the diagonal\n",
        "Gsnp=as.matrix(snpRelMat)+diag(.0005,length(snpRelMat[,1]),length(snpRelMat[,1]))"
      ]
    },
    {
      "cell_type": "markdown",
      "id": "a05f0523-50a6-4b78-a51e-e9d62caca221",
      "metadata": {
        "id": "a05f0523-50a6-4b78-a51e-e9d62caca221"
      },
      "source": [
        "Mapping the rows/columns in the relationship matrix `Gsnp` with the levels of variety in the datafile"
      ]
    },
    {
      "cell_type": "code",
      "execution_count": null,
      "id": "2c1f247e-74f8-4987-8abf-6f86827bedc2",
      "metadata": {
        "tags": [],
        "id": "2c1f247e-74f8-4987-8abf-6f86827bedc2"
      },
      "outputs": [],
      "source": [
        "# Map elements in the relationship matrix to the phenotypes\n",
        "rownames(Gsnp)=levels(dataf$variety)\n",
        "colnames(Gsnp)=levels(dataf$variety)\n"
      ]
    },
    {
      "cell_type": "markdown",
      "id": "cded8981-f515-46e2-a6e5-800805cb523e",
      "metadata": {
        "id": "cded8981-f515-46e2-a6e5-800805cb523e"
      },
      "source": [
        "Generating a heatmap of the genomic relationships"
      ]
    },
    {
      "cell_type": "code",
      "execution_count": null,
      "id": "8cc4e54d-45ad-4d9c-a07e-c9970196e6c8",
      "metadata": {
        "tags": [],
        "id": "8cc4e54d-45ad-4d9c-a07e-c9970196e6c8",
        "outputId": "62f96bdf-c61c-4b8f-8558-0bc5de85a686"
      },
      "outputs": [
        {
          "data": {
            "image/png": "[encoded data removed]",
            "text/plain": [
              "plot without title"
            ]
          },
          "metadata": {
            "image/png": {
              "height": 420,
              "width": 420
            }
          },
          "output_type": "display_data"
        }
      ],
      "source": [
        "image(Gsnp)"
      ]
    },
    {
      "cell_type": "markdown",
      "id": "49b942ca-f266-44ec-a1da-7959a41b6c78",
      "metadata": {
        "id": "49b942ca-f266-44ec-a1da-7959a41b6c78"
      },
      "source": [
        "Setting the inverse attribute to FALSE so sommer knows to take the inverse when setting up the mixed model equations"
      ]
    },
    {
      "cell_type": "code",
      "execution_count": null,
      "id": "7bb8da34-1b18-4f98-ae58-1d5090376c29",
      "metadata": {
        "tags": [],
        "id": "7bb8da34-1b18-4f98-ae58-1d5090376c29"
      },
      "outputs": [],
      "source": [
        "attr(Gsnp, \"INVERSE\")=FALSE"
      ]
    },
    {
      "cell_type": "markdown",
      "id": "69e88cbd-343b-4a42-aa7a-37f6bf2037c7",
      "metadata": {
        "tags": [],
        "id": "69e88cbd-343b-4a42-aa7a-37f6bf2037c7"
      },
      "source": [
        "Now we will fit 2 different GXE models in sommer, differing based on the specified covariance structure of the genetics effects across environments."
      ]
    },
    {
      "cell_type": "markdown",
      "id": "597d9976-a3e9-4cf8-938e-13fa163b8031",
      "metadata": {
        "id": "597d9976-a3e9-4cf8-938e-13fa163b8031"
      },
      "source": [
        "# Model 1 Genomic BLUP (No GxE effect)\n",
        "\n"
      ]
    },
    {
      "cell_type": "code",
      "execution_count": null,
      "id": "be818f7d-26b6-445a-9bcf-58d49e3de791",
      "metadata": {
        "tags": [],
        "id": "be818f7d-26b6-445a-9bcf-58d49e3de791",
        "outputId": "d42fda42-1759-4569-a476-299f59ecbb5e"
      },
      "outputs": [
        {
          "name": "stdout",
          "output_type": "stream",
          "text": [
            "iteration    LogLik     wall    cpu(sec)   restrained\n",
            "    1      -188.417   18:51:45      0           0\n",
            "    2      -180.874   18:51:45      0           0\n",
            "    3      -179.704   18:51:45      0           0\n",
            "    4      -179.628   18:51:45      0           0\n",
            "    5      -179.628   18:51:45      0           0\n"
          ]
        },
        {
          "data": {
            "text/html": [
              "<dl>\n",
              "\t<dt>$groups</dt>\n",
              "\t\t<dd><table class=\"dataframe\">\n",
              "<caption>A matrix: 1 × 1 of type int</caption>\n",
              "<thead>\n",
              "\t<tr><th></th><th scope=col>phenotype</th></tr>\n",
              "</thead>\n",
              "<tbody>\n",
              "\t<tr><th scope=row>u:variety</th><td>120</td></tr>\n",
              "</tbody>\n",
              "</table>\n",
              "</dd>\n",
              "\t<dt>$varcomp</dt>\n",
              "\t\t<dd><table class=\"dataframe\">\n",
              "<caption>A data.frame: 2 × 4</caption>\n",
              "<thead>\n",
              "\t<tr><th></th><th scope=col>VarComp</th><th scope=col>VarCompSE</th><th scope=col>Zratio</th><th scope=col>Constraint</th></tr>\n",
              "\t<tr><th></th><th scope=col>&lt;dbl&gt;</th><th scope=col>&lt;dbl&gt;</th><th scope=col>&lt;dbl&gt;</th><th scope=col>&lt;chr&gt;</th></tr>\n",
              "</thead>\n",
              "<tbody>\n",
              "\t<tr><th scope=row>u:variety.phenotype-phenotype</th><td>1.178217</td><td>0.2484242</td><td> 4.742762</td><td>Positive</td></tr>\n",
              "\t<tr><th scope=row>units.phenotype-phenotype</th><td>2.209392</td><td>0.1264517</td><td>17.472217</td><td>Positive</td></tr>\n",
              "</tbody>\n",
              "</table>\n",
              "</dd>\n",
              "\t<dt>$betas</dt>\n",
              "\t\t<dd><table class=\"dataframe\">\n",
              "<caption>A data.frame: 3 × 5</caption>\n",
              "<thead>\n",
              "\t<tr><th scope=col>Trait</th><th scope=col>Effect</th><th scope=col>Estimate</th><th scope=col>Std.Error</th><th scope=col>t.value</th></tr>\n",
              "\t<tr><th scope=col>&lt;fct&gt;</th><th scope=col>&lt;fct&gt;</th><th scope=col>&lt;dbl&gt;</th><th scope=col>&lt;dbl&gt;</th><th scope=col>&lt;dbl&gt;</th></tr>\n",
              "</thead>\n",
              "<tbody>\n",
              "\t<tr><td>phenotype</td><td>(Intercept)</td><td>-0.4226534</td><td>0.09597243</td><td>-4.403904</td></tr>\n",
              "\t<tr><td>phenotype</td><td>loc2       </td><td> 0.8818094</td><td>0.13568934</td><td> 6.498738</td></tr>\n",
              "\t<tr><td>phenotype</td><td>loc3       </td><td> 2.2687929</td><td>0.13568934</td><td>16.720495</td></tr>\n",
              "</tbody>\n",
              "</table>\n",
              "</dd>\n",
              "\t<dt>$method</dt>\n",
              "\t\t<dd>'NR'</dd>\n",
              "\t<dt>$logo</dt>\n",
              "\t\t<dd><table class=\"dataframe\">\n",
              "<caption>A data.frame: 1 × 5</caption>\n",
              "<thead>\n",
              "\t<tr><th></th><th scope=col>logLik</th><th scope=col>AIC</th><th scope=col>BIC</th><th scope=col>Method</th><th scope=col>Converge</th></tr>\n",
              "\t<tr><th></th><th scope=col>&lt;dbl&gt;</th><th scope=col>&lt;dbl&gt;</th><th scope=col>&lt;dbl&gt;</th><th scope=col>&lt;chr&gt;</th><th scope=col>&lt;lgl&gt;</th></tr>\n",
              "</thead>\n",
              "<tbody>\n",
              "\t<tr><th scope=row>Value</th><td>-179.6279</td><td>365.2559</td><td>378.9936</td><td>NR</td><td>TRUE</td></tr>\n",
              "</tbody>\n",
              "</table>\n",
              "</dd>\n",
              "</dl>\n"
            ],
            "text/latex": [
              "\\begin{description}\n",
              "\\item[\\$groups] A matrix: 1 × 1 of type int\n",
              "\\begin{tabular}{r|l}\n",
              "  & phenotype\\\\\n",
              "\\hline\n",
              "\tu:variety & 120\\\\\n",
              "\\end{tabular}\n",
              "\n",
              "\\item[\\$varcomp] A data.frame: 2 × 4\n",
              "\\begin{tabular}{r|llll}\n",
              "  & VarComp & VarCompSE & Zratio & Constraint\\\\\n",
              "  & <dbl> & <dbl> & <dbl> & <chr>\\\\\n",
              "\\hline\n",
              "\tu:variety.phenotype-phenotype & 1.178217 & 0.2484242 &  4.742762 & Positive\\\\\n",
              "\tunits.phenotype-phenotype & 2.209392 & 0.1264517 & 17.472217 & Positive\\\\\n",
              "\\end{tabular}\n",
              "\n",
              "\\item[\\$betas] A data.frame: 3 × 5\n",
              "\\begin{tabular}{lllll}\n",
              " Trait & Effect & Estimate & Std.Error & t.value\\\\\n",
              " <fct> & <fct> & <dbl> & <dbl> & <dbl>\\\\\n",
              "\\hline\n",
              "\t phenotype & (Intercept) & -0.4226534 & 0.09597243 & -4.403904\\\\\n",
              "\t phenotype & loc2        &  0.8818094 & 0.13568934 &  6.498738\\\\\n",
              "\t phenotype & loc3        &  2.2687929 & 0.13568934 & 16.720495\\\\\n",
              "\\end{tabular}\n",
              "\n",
              "\\item[\\$method] 'NR'\n",
              "\\item[\\$logo] A data.frame: 1 × 5\n",
              "\\begin{tabular}{r|lllll}\n",
              "  & logLik & AIC & BIC & Method & Converge\\\\\n",
              "  & <dbl> & <dbl> & <dbl> & <chr> & <lgl>\\\\\n",
              "\\hline\n",
              "\tValue & -179.6279 & 365.2559 & 378.9936 & NR & TRUE\\\\\n",
              "\\end{tabular}\n",
              "\n",
              "\\end{description}\n"
            ],
            "text/markdown": [
              "$groups\n",
              ":   \n",
              "A matrix: 1 × 1 of type int\n",
              "\n",
              "| <!--/--> | phenotype |\n",
              "|---|---|\n",
              "| u:variety | 120 |\n",
              "\n",
              "\n",
              "$varcomp\n",
              ":   \n",
              "A data.frame: 2 × 4\n",
              "\n",
              "| <!--/--> | VarComp &lt;dbl&gt; | VarCompSE &lt;dbl&gt; | Zratio &lt;dbl&gt; | Constraint &lt;chr&gt; |\n",
              "|---|---|---|---|---|\n",
              "| u:variety.phenotype-phenotype | 1.178217 | 0.2484242 |  4.742762 | Positive |\n",
              "| units.phenotype-phenotype | 2.209392 | 0.1264517 | 17.472217 | Positive |\n",
              "\n",
              "\n",
              "$betas\n",
              ":   \n",
              "A data.frame: 3 × 5\n",
              "\n",
              "| Trait &lt;fct&gt; | Effect &lt;fct&gt; | Estimate &lt;dbl&gt; | Std.Error &lt;dbl&gt; | t.value &lt;dbl&gt; |\n",
              "|---|---|---|---|---|\n",
              "| phenotype | (Intercept) | -0.4226534 | 0.09597243 | -4.403904 |\n",
              "| phenotype | loc2        |  0.8818094 | 0.13568934 |  6.498738 |\n",
              "| phenotype | loc3        |  2.2687929 | 0.13568934 | 16.720495 |\n",
              "\n",
              "\n",
              "$method\n",
              ":   'NR'\n",
              "$logo\n",
              ":   \n",
              "A data.frame: 1 × 5\n",
              "\n",
              "| <!--/--> | logLik &lt;dbl&gt; | AIC &lt;dbl&gt; | BIC &lt;dbl&gt; | Method &lt;chr&gt; | Converge &lt;lgl&gt; |\n",
              "|---|---|---|---|---|---|\n",
              "| Value | -179.6279 | 365.2559 | 378.9936 | NR | TRUE |\n",
              "\n",
              "\n",
              "\n",
              "\n"
            ],
            "text/plain": [
              "===============================================================\n",
              "           Multivariate Linear Mixed Model fit by REML           \n",
              "************************  sommer 4.3  ************************ \n",
              "===============================================================\n",
              "         logLik      AIC      BIC Method Converge\n",
              "Value -179.6279 365.2559 378.9936     NR     TRUE\n",
              "===============================================================\n",
              "Variance-Covariance components:\n",
              "                              VarComp VarCompSE Zratio Constraint\n",
              "u:variety.phenotype-phenotype   1.178    0.2484  4.743   Positive\n",
              "units.phenotype-phenotype       2.209    0.1265 17.472   Positive\n",
              "===============================================================\n",
              "Fixed effects:\n",
              "      Trait      Effect Estimate Std.Error t.value\n",
              "1 phenotype (Intercept)  -0.4227   0.09597  -4.404\n",
              "2 phenotype        loc2   0.8818   0.13569   6.499\n",
              "3 phenotype        loc3   2.2688   0.13569  16.720\n",
              "===============================================================\n",
              "Groups and observations:\n",
              "          phenotype\n",
              "u:variety       120\n",
              "===============================================================\n",
              "Use the '$' sign to access results and parameters"
            ]
          },
          "metadata": {},
          "output_type": "display_data"
        }
      ],
      "source": [
        "#Model 1\n",
        "mNoGE <- sommer::mmer(phenotype~loc,\n",
        "              random= ~ vsr(variety, Gu=Gsnp),\n",
        "              rcov= ~ units,\n",
        "              data=dataf, verbose = TRUE)\n",
        "#Looking at the summary of the results\n",
        "summary(mNoGE)"
      ]
    },
    {
      "cell_type": "markdown",
      "id": "63c5aef7-08c8-4637-827b-c55beb731f98",
      "metadata": {
        "id": "63c5aef7-08c8-4637-827b-c55beb731f98"
      },
      "source": [
        "Now we will generate the GBLUPs using the predict.mmer function"
      ]
    },
    {
      "cell_type": "markdown",
      "id": "09890ae1-c193-4967-af9a-f75bd0965f9b",
      "metadata": {
        "id": "09890ae1-c193-4967-af9a-f75bd0965f9b"
      },
      "source": [
        "Setting up the Dtable:"
      ]
    },
    {
      "cell_type": "code",
      "execution_count": null,
      "id": "9998160f-c2e1-4f65-ae42-94080f9c4bc9",
      "metadata": {
        "tags": [],
        "id": "9998160f-c2e1-4f65-ae42-94080f9c4bc9",
        "outputId": "bb39e775-c6f2-4df2-995c-0cbd4ef89409"
      },
      "outputs": [
        {
          "data": {
            "text/html": [
              "<table class=\"dataframe\">\n",
              "<caption>A data.frame: 3 × 4</caption>\n",
              "<thead>\n",
              "\t<tr><th scope=col>type</th><th scope=col>term</th><th scope=col>include</th><th scope=col>average</th></tr>\n",
              "\t<tr><th scope=col>&lt;chr&gt;</th><th scope=col>&lt;chr&gt;</th><th scope=col>&lt;lgl&gt;</th><th scope=col>&lt;lgl&gt;</th></tr>\n",
              "</thead>\n",
              "<tbody>\n",
              "\t<tr><td>fixed </td><td>1      </td><td>FALSE</td><td>FALSE</td></tr>\n",
              "\t<tr><td>fixed </td><td>loc    </td><td>FALSE</td><td>FALSE</td></tr>\n",
              "\t<tr><td>random</td><td>variety</td><td>FALSE</td><td>FALSE</td></tr>\n",
              "</tbody>\n",
              "</table>\n"
            ],
            "text/latex": [
              "A data.frame: 3 × 4\n",
              "\\begin{tabular}{llll}\n",
              " type & term & include & average\\\\\n",
              " <chr> & <chr> & <lgl> & <lgl>\\\\\n",
              "\\hline\n",
              "\t fixed  & 1       & FALSE & FALSE\\\\\n",
              "\t fixed  & loc     & FALSE & FALSE\\\\\n",
              "\t random & variety & FALSE & FALSE\\\\\n",
              "\\end{tabular}\n"
            ],
            "text/markdown": [
              "\n",
              "A data.frame: 3 × 4\n",
              "\n",
              "| type &lt;chr&gt; | term &lt;chr&gt; | include &lt;lgl&gt; | average &lt;lgl&gt; |\n",
              "|---|---|---|---|\n",
              "| fixed  | 1       | FALSE | FALSE |\n",
              "| fixed  | loc     | FALSE | FALSE |\n",
              "| random | variety | FALSE | FALSE |\n",
              "\n"
            ],
            "text/plain": [
              "  type   term    include average\n",
              "1 fixed  1       FALSE   FALSE  \n",
              "2 fixed  loc     FALSE   FALSE  \n",
              "3 random variety FALSE   FALSE  "
            ]
          },
          "metadata": {},
          "output_type": "display_data"
        }
      ],
      "source": [
        "dtNoGE=mNoGE$Dtable\n",
        "dtNoGE"
      ]
    },
    {
      "cell_type": "code",
      "execution_count": null,
      "id": "5ab22d03-4508-4e4f-bf66-0f4db2ea78ba",
      "metadata": {
        "tags": [],
        "id": "5ab22d03-4508-4e4f-bf66-0f4db2ea78ba",
        "outputId": "0c3a9020-288f-4022-b825-bbc4ca1613b8"
      },
      "outputs": [
        {
          "data": {
            "text/html": [
              "<table class=\"dataframe\">\n",
              "<caption>A data.frame: 3 × 4</caption>\n",
              "<thead>\n",
              "\t<tr><th scope=col>type</th><th scope=col>term</th><th scope=col>include</th><th scope=col>average</th></tr>\n",
              "\t<tr><th scope=col>&lt;chr&gt;</th><th scope=col>&lt;chr&gt;</th><th scope=col>&lt;lgl&gt;</th><th scope=col>&lt;lgl&gt;</th></tr>\n",
              "</thead>\n",
              "<tbody>\n",
              "\t<tr><td>fixed </td><td>1      </td><td>TRUE</td><td>FALSE</td></tr>\n",
              "\t<tr><td>fixed </td><td>loc    </td><td>TRUE</td><td> TRUE</td></tr>\n",
              "\t<tr><td>random</td><td>variety</td><td>TRUE</td><td>FALSE</td></tr>\n",
              "</tbody>\n",
              "</table>\n"
            ],
            "text/latex": [
              "A data.frame: 3 × 4\n",
              "\\begin{tabular}{llll}\n",
              " type & term & include & average\\\\\n",
              " <chr> & <chr> & <lgl> & <lgl>\\\\\n",
              "\\hline\n",
              "\t fixed  & 1       & TRUE & FALSE\\\\\n",
              "\t fixed  & loc     & TRUE &  TRUE\\\\\n",
              "\t random & variety & TRUE & FALSE\\\\\n",
              "\\end{tabular}\n"
            ],
            "text/markdown": [
              "\n",
              "A data.frame: 3 × 4\n",
              "\n",
              "| type &lt;chr&gt; | term &lt;chr&gt; | include &lt;lgl&gt; | average &lt;lgl&gt; |\n",
              "|---|---|---|---|\n",
              "| fixed  | 1       | TRUE | FALSE |\n",
              "| fixed  | loc     | TRUE |  TRUE |\n",
              "| random | variety | TRUE | FALSE |\n",
              "\n"
            ],
            "text/plain": [
              "  type   term    include average\n",
              "1 fixed  1       TRUE    FALSE  \n",
              "2 fixed  loc     TRUE     TRUE  \n",
              "3 random variety TRUE    FALSE  "
            ]
          },
          "metadata": {},
          "output_type": "display_data"
        }
      ],
      "source": [
        "dtNoGE[1,\"include\"]=TRUE # intercept\n",
        "dtNoGE[2,\"include\"]=TRUE # loc\n",
        "dtNoGE[2,\"average\"]=TRUE # loc\n",
        "dtNoGE[3,\"include\"]=TRUE # variety\n",
        "dtNoGE"
      ]
    },
    {
      "cell_type": "markdown",
      "id": "3a01ef99-a42a-4999-8b40-314c5ea2ef4e",
      "metadata": {
        "id": "3a01ef99-a42a-4999-8b40-314c5ea2ef4e"
      },
      "source": [
        "Generating GBLUPs using predict.mmer:"
      ]
    },
    {
      "cell_type": "code",
      "execution_count": null,
      "id": "639f448f-7888-40cf-b609-7f2c72fc24d0",
      "metadata": {
        "tags": [],
        "id": "639f448f-7888-40cf-b609-7f2c72fc24d0",
        "outputId": "b741bf4d-b23e-4501-fca8-4543a4844703"
      },
      "outputs": [
        {
          "data": {
            "text/html": [
              "<table class=\"dataframe\">\n",
              "<caption>A data.frame: 120 × 3</caption>\n",
              "<thead>\n",
              "\t<tr><th></th><th scope=col>variety</th><th scope=col>predicted.value</th><th scope=col>std.error</th></tr>\n",
              "\t<tr><th></th><th scope=col>&lt;chr&gt;</th><th scope=col>&lt;dbl&gt;</th><th scope=col>&lt;dbl&gt;</th></tr>\n",
              "</thead>\n",
              "<tbody>\n",
              "\t<tr><th scope=row>1</th><td>1 </td><td> 0.073053088</td><td>1.168132</td></tr>\n",
              "\t<tr><th scope=row>2</th><td>2 </td><td>-0.805670377</td><td>1.166251</td></tr>\n",
              "\t<tr><th scope=row>3</th><td>3 </td><td>-0.146815902</td><td>1.180544</td></tr>\n",
              "\t<tr><th scope=row>4</th><td>4 </td><td> 1.227832873</td><td>1.147038</td></tr>\n",
              "\t<tr><th scope=row>5</th><td>5 </td><td> 0.110719019</td><td>1.181896</td></tr>\n",
              "\t<tr><th scope=row>6</th><td>6 </td><td> 1.276417975</td><td>1.140773</td></tr>\n",
              "\t<tr><th scope=row>7</th><td>7 </td><td> 0.328829292</td><td>1.165667</td></tr>\n",
              "\t<tr><th scope=row>8</th><td>8 </td><td>-0.339347179</td><td>1.108285</td></tr>\n",
              "\t<tr><th scope=row>9</th><td>9 </td><td> 0.115611603</td><td>1.162425</td></tr>\n",
              "\t<tr><th scope=row>10</th><td>10</td><td> 0.363546777</td><td>1.153290</td></tr>\n",
              "\t<tr><th scope=row>11</th><td>11</td><td>-0.637117019</td><td>1.152828</td></tr>\n",
              "\t<tr><th scope=row>12</th><td>12</td><td> 0.186365234</td><td>1.178068</td></tr>\n",
              "\t<tr><th scope=row>13</th><td>13</td><td>-1.185187559</td><td>1.128410</td></tr>\n",
              "\t<tr><th scope=row>14</th><td>14</td><td>-1.585529175</td><td>1.100661</td></tr>\n",
              "\t<tr><th scope=row>15</th><td>15</td><td>-1.578758226</td><td>1.190962</td></tr>\n",
              "\t<tr><th scope=row>16</th><td>16</td><td> 0.246674001</td><td>1.134392</td></tr>\n",
              "\t<tr><th scope=row>17</th><td>17</td><td>-1.075897848</td><td>1.171354</td></tr>\n",
              "\t<tr><th scope=row>18</th><td>18</td><td>-1.439425594</td><td>1.163303</td></tr>\n",
              "\t<tr><th scope=row>19</th><td>19</td><td>-0.401662040</td><td>1.176330</td></tr>\n",
              "\t<tr><th scope=row>20</th><td>20</td><td>-0.716273658</td><td>1.141858</td></tr>\n",
              "\t<tr><th scope=row>21</th><td>21</td><td>-1.167391593</td><td>1.101150</td></tr>\n",
              "\t<tr><th scope=row>22</th><td>22</td><td>-0.399066547</td><td>1.129507</td></tr>\n",
              "\t<tr><th scope=row>23</th><td>23</td><td> 0.193078429</td><td>1.117819</td></tr>\n",
              "\t<tr><th scope=row>24</th><td>24</td><td>-0.058972613</td><td>1.158981</td></tr>\n",
              "\t<tr><th scope=row>25</th><td>25</td><td> 0.486652007</td><td>1.155067</td></tr>\n",
              "\t<tr><th scope=row>26</th><td>26</td><td>-0.162313373</td><td>1.130868</td></tr>\n",
              "\t<tr><th scope=row>27</th><td>27</td><td>-0.112238104</td><td>1.158269</td></tr>\n",
              "\t<tr><th scope=row>28</th><td>28</td><td>-0.001643407</td><td>1.167710</td></tr>\n",
              "\t<tr><th scope=row>29</th><td>29</td><td> 0.459171029</td><td>1.170740</td></tr>\n",
              "\t<tr><th scope=row>30</th><td>30</td><td> 0.006263336</td><td>1.137405</td></tr>\n",
              "\t<tr><th scope=row>⋮</th><td>⋮</td><td>⋮</td><td>⋮</td></tr>\n",
              "\t<tr><th scope=row>91</th><td>91 </td><td>1.5168932</td><td>1.123809</td></tr>\n",
              "\t<tr><th scope=row>92</th><td>92 </td><td>1.7212498</td><td>1.210091</td></tr>\n",
              "\t<tr><th scope=row>93</th><td>93 </td><td>0.5486771</td><td>1.152342</td></tr>\n",
              "\t<tr><th scope=row>94</th><td>94 </td><td>1.8573060</td><td>1.165979</td></tr>\n",
              "\t<tr><th scope=row>95</th><td>95 </td><td>0.8585107</td><td>1.154658</td></tr>\n",
              "\t<tr><th scope=row>96</th><td>96 </td><td>2.2692094</td><td>1.191139</td></tr>\n",
              "\t<tr><th scope=row>97</th><td>97 </td><td>0.6980107</td><td>1.116961</td></tr>\n",
              "\t<tr><th scope=row>98</th><td>98 </td><td>0.4251090</td><td>1.125368</td></tr>\n",
              "\t<tr><th scope=row>99</th><td>99 </td><td>1.2195569</td><td>1.111418</td></tr>\n",
              "\t<tr><th scope=row>100</th><td>100</td><td>0.6378885</td><td>1.197802</td></tr>\n",
              "\t<tr><th scope=row>101</th><td>101</td><td>0.4243845</td><td>1.168460</td></tr>\n",
              "\t<tr><th scope=row>102</th><td>102</td><td>0.2234939</td><td>1.160688</td></tr>\n",
              "\t<tr><th scope=row>103</th><td>103</td><td>0.3046254</td><td>1.165791</td></tr>\n",
              "\t<tr><th scope=row>104</th><td>104</td><td>0.2075816</td><td>1.148945</td></tr>\n",
              "\t<tr><th scope=row>105</th><td>105</td><td>0.3841461</td><td>1.149458</td></tr>\n",
              "\t<tr><th scope=row>106</th><td>106</td><td>0.3738366</td><td>1.154529</td></tr>\n",
              "\t<tr><th scope=row>107</th><td>107</td><td>1.2241403</td><td>1.168015</td></tr>\n",
              "\t<tr><th scope=row>108</th><td>108</td><td>1.1005118</td><td>1.136558</td></tr>\n",
              "\t<tr><th scope=row>109</th><td>109</td><td>0.4347410</td><td>1.156125</td></tr>\n",
              "\t<tr><th scope=row>110</th><td>110</td><td>0.5140646</td><td>1.163997</td></tr>\n",
              "\t<tr><th scope=row>111</th><td>111</td><td>0.1406869</td><td>1.156665</td></tr>\n",
              "\t<tr><th scope=row>112</th><td>112</td><td>1.6067575</td><td>1.192228</td></tr>\n",
              "\t<tr><th scope=row>113</th><td>113</td><td>1.2105168</td><td>1.178594</td></tr>\n",
              "\t<tr><th scope=row>114</th><td>114</td><td>0.8057357</td><td>1.160088</td></tr>\n",
              "\t<tr><th scope=row>115</th><td>115</td><td>1.5807089</td><td>1.171133</td></tr>\n",
              "\t<tr><th scope=row>116</th><td>116</td><td>1.6281115</td><td>1.176398</td></tr>\n",
              "\t<tr><th scope=row>117</th><td>117</td><td>0.1427394</td><td>1.122057</td></tr>\n",
              "\t<tr><th scope=row>118</th><td>118</td><td>1.8279812</td><td>1.145023</td></tr>\n",
              "\t<tr><th scope=row>119</th><td>119</td><td>0.6820755</td><td>1.128439</td></tr>\n",
              "\t<tr><th scope=row>120</th><td>120</td><td>2.2355155</td><td>1.142447</td></tr>\n",
              "</tbody>\n",
              "</table>\n"
            ],
            "text/latex": [
              "A data.frame: 120 × 3\n",
              "\\begin{tabular}{r|lll}\n",
              "  & variety & predicted.value & std.error\\\\\n",
              "  & <chr> & <dbl> & <dbl>\\\\\n",
              "\\hline\n",
              "\t1 & 1  &  0.073053088 & 1.168132\\\\\n",
              "\t2 & 2  & -0.805670377 & 1.166251\\\\\n",
              "\t3 & 3  & -0.146815902 & 1.180544\\\\\n",
              "\t4 & 4  &  1.227832873 & 1.147038\\\\\n",
              "\t5 & 5  &  0.110719019 & 1.181896\\\\\n",
              "\t6 & 6  &  1.276417975 & 1.140773\\\\\n",
              "\t7 & 7  &  0.328829292 & 1.165667\\\\\n",
              "\t8 & 8  & -0.339347179 & 1.108285\\\\\n",
              "\t9 & 9  &  0.115611603 & 1.162425\\\\\n",
              "\t10 & 10 &  0.363546777 & 1.153290\\\\\n",
              "\t11 & 11 & -0.637117019 & 1.152828\\\\\n",
              "\t12 & 12 &  0.186365234 & 1.178068\\\\\n",
              "\t13 & 13 & -1.185187559 & 1.128410\\\\\n",
              "\t14 & 14 & -1.585529175 & 1.100661\\\\\n",
              "\t15 & 15 & -1.578758226 & 1.190962\\\\\n",
              "\t16 & 16 &  0.246674001 & 1.134392\\\\\n",
              "\t17 & 17 & -1.075897848 & 1.171354\\\\\n",
              "\t18 & 18 & -1.439425594 & 1.163303\\\\\n",
              "\t19 & 19 & -0.401662040 & 1.176330\\\\\n",
              "\t20 & 20 & -0.716273658 & 1.141858\\\\\n",
              "\t21 & 21 & -1.167391593 & 1.101150\\\\\n",
              "\t22 & 22 & -0.399066547 & 1.129507\\\\\n",
              "\t23 & 23 &  0.193078429 & 1.117819\\\\\n",
              "\t24 & 24 & -0.058972613 & 1.158981\\\\\n",
              "\t25 & 25 &  0.486652007 & 1.155067\\\\\n",
              "\t26 & 26 & -0.162313373 & 1.130868\\\\\n",
              "\t27 & 27 & -0.112238104 & 1.158269\\\\\n",
              "\t28 & 28 & -0.001643407 & 1.167710\\\\\n",
              "\t29 & 29 &  0.459171029 & 1.170740\\\\\n",
              "\t30 & 30 &  0.006263336 & 1.137405\\\\\n",
              "\t⋮ & ⋮ & ⋮ & ⋮\\\\\n",
              "\t91 & 91  & 1.5168932 & 1.123809\\\\\n",
              "\t92 & 92  & 1.7212498 & 1.210091\\\\\n",
              "\t93 & 93  & 0.5486771 & 1.152342\\\\\n",
              "\t94 & 94  & 1.8573060 & 1.165979\\\\\n",
              "\t95 & 95  & 0.8585107 & 1.154658\\\\\n",
              "\t96 & 96  & 2.2692094 & 1.191139\\\\\n",
              "\t97 & 97  & 0.6980107 & 1.116961\\\\\n",
              "\t98 & 98  & 0.4251090 & 1.125368\\\\\n",
              "\t99 & 99  & 1.2195569 & 1.111418\\\\\n",
              "\t100 & 100 & 0.6378885 & 1.197802\\\\\n",
              "\t101 & 101 & 0.4243845 & 1.168460\\\\\n",
              "\t102 & 102 & 0.2234939 & 1.160688\\\\\n",
              "\t103 & 103 & 0.3046254 & 1.165791\\\\\n",
              "\t104 & 104 & 0.2075816 & 1.148945\\\\\n",
              "\t105 & 105 & 0.3841461 & 1.149458\\\\\n",
              "\t106 & 106 & 0.3738366 & 1.154529\\\\\n",
              "\t107 & 107 & 1.2241403 & 1.168015\\\\\n",
              "\t108 & 108 & 1.1005118 & 1.136558\\\\\n",
              "\t109 & 109 & 0.4347410 & 1.156125\\\\\n",
              "\t110 & 110 & 0.5140646 & 1.163997\\\\\n",
              "\t111 & 111 & 0.1406869 & 1.156665\\\\\n",
              "\t112 & 112 & 1.6067575 & 1.192228\\\\\n",
              "\t113 & 113 & 1.2105168 & 1.178594\\\\\n",
              "\t114 & 114 & 0.8057357 & 1.160088\\\\\n",
              "\t115 & 115 & 1.5807089 & 1.171133\\\\\n",
              "\t116 & 116 & 1.6281115 & 1.176398\\\\\n",
              "\t117 & 117 & 0.1427394 & 1.122057\\\\\n",
              "\t118 & 118 & 1.8279812 & 1.145023\\\\\n",
              "\t119 & 119 & 0.6820755 & 1.128439\\\\\n",
              "\t120 & 120 & 2.2355155 & 1.142447\\\\\n",
              "\\end{tabular}\n"
            ],
            "text/markdown": [
              "\n",
              "A data.frame: 120 × 3\n",
              "\n",
              "| <!--/--> | variety &lt;chr&gt; | predicted.value &lt;dbl&gt; | std.error &lt;dbl&gt; |\n",
              "|---|---|---|---|\n",
              "| 1 | 1  |  0.073053088 | 1.168132 |\n",
              "| 2 | 2  | -0.805670377 | 1.166251 |\n",
              "| 3 | 3  | -0.146815902 | 1.180544 |\n",
              "| 4 | 4  |  1.227832873 | 1.147038 |\n",
              "| 5 | 5  |  0.110719019 | 1.181896 |\n",
              "| 6 | 6  |  1.276417975 | 1.140773 |\n",
              "| 7 | 7  |  0.328829292 | 1.165667 |\n",
              "| 8 | 8  | -0.339347179 | 1.108285 |\n",
              "| 9 | 9  |  0.115611603 | 1.162425 |\n",
              "| 10 | 10 |  0.363546777 | 1.153290 |\n",
              "| 11 | 11 | -0.637117019 | 1.152828 |\n",
              "| 12 | 12 |  0.186365234 | 1.178068 |\n",
              "| 13 | 13 | -1.185187559 | 1.128410 |\n",
              "| 14 | 14 | -1.585529175 | 1.100661 |\n",
              "| 15 | 15 | -1.578758226 | 1.190962 |\n",
              "| 16 | 16 |  0.246674001 | 1.134392 |\n",
              "| 17 | 17 | -1.075897848 | 1.171354 |\n",
              "| 18 | 18 | -1.439425594 | 1.163303 |\n",
              "| 19 | 19 | -0.401662040 | 1.176330 |\n",
              "| 20 | 20 | -0.716273658 | 1.141858 |\n",
              "| 21 | 21 | -1.167391593 | 1.101150 |\n",
              "| 22 | 22 | -0.399066547 | 1.129507 |\n",
              "| 23 | 23 |  0.193078429 | 1.117819 |\n",
              "| 24 | 24 | -0.058972613 | 1.158981 |\n",
              "| 25 | 25 |  0.486652007 | 1.155067 |\n",
              "| 26 | 26 | -0.162313373 | 1.130868 |\n",
              "| 27 | 27 | -0.112238104 | 1.158269 |\n",
              "| 28 | 28 | -0.001643407 | 1.167710 |\n",
              "| 29 | 29 |  0.459171029 | 1.170740 |\n",
              "| 30 | 30 |  0.006263336 | 1.137405 |\n",
              "| ⋮ | ⋮ | ⋮ | ⋮ |\n",
              "| 91 | 91  | 1.5168932 | 1.123809 |\n",
              "| 92 | 92  | 1.7212498 | 1.210091 |\n",
              "| 93 | 93  | 0.5486771 | 1.152342 |\n",
              "| 94 | 94  | 1.8573060 | 1.165979 |\n",
              "| 95 | 95  | 0.8585107 | 1.154658 |\n",
              "| 96 | 96  | 2.2692094 | 1.191139 |\n",
              "| 97 | 97  | 0.6980107 | 1.116961 |\n",
              "| 98 | 98  | 0.4251090 | 1.125368 |\n",
              "| 99 | 99  | 1.2195569 | 1.111418 |\n",
              "| 100 | 100 | 0.6378885 | 1.197802 |\n",
              "| 101 | 101 | 0.4243845 | 1.168460 |\n",
              "| 102 | 102 | 0.2234939 | 1.160688 |\n",
              "| 103 | 103 | 0.3046254 | 1.165791 |\n",
              "| 104 | 104 | 0.2075816 | 1.148945 |\n",
              "| 105 | 105 | 0.3841461 | 1.149458 |\n",
              "| 106 | 106 | 0.3738366 | 1.154529 |\n",
              "| 107 | 107 | 1.2241403 | 1.168015 |\n",
              "| 108 | 108 | 1.1005118 | 1.136558 |\n",
              "| 109 | 109 | 0.4347410 | 1.156125 |\n",
              "| 110 | 110 | 0.5140646 | 1.163997 |\n",
              "| 111 | 111 | 0.1406869 | 1.156665 |\n",
              "| 112 | 112 | 1.6067575 | 1.192228 |\n",
              "| 113 | 113 | 1.2105168 | 1.178594 |\n",
              "| 114 | 114 | 0.8057357 | 1.160088 |\n",
              "| 115 | 115 | 1.5807089 | 1.171133 |\n",
              "| 116 | 116 | 1.6281115 | 1.176398 |\n",
              "| 117 | 117 | 0.1427394 | 1.122057 |\n",
              "| 118 | 118 | 1.8279812 | 1.145023 |\n",
              "| 119 | 119 | 0.6820755 | 1.128439 |\n",
              "| 120 | 120 | 2.2355155 | 1.142447 |\n",
              "\n"
            ],
            "text/plain": [
              "    variety predicted.value std.error\n",
              "1   1        0.073053088    1.168132 \n",
              "2   2       -0.805670377    1.166251 \n",
              "3   3       -0.146815902    1.180544 \n",
              "4   4        1.227832873    1.147038 \n",
              "5   5        0.110719019    1.181896 \n",
              "6   6        1.276417975    1.140773 \n",
              "7   7        0.328829292    1.165667 \n",
              "8   8       -0.339347179    1.108285 \n",
              "9   9        0.115611603    1.162425 \n",
              "10  10       0.363546777    1.153290 \n",
              "11  11      -0.637117019    1.152828 \n",
              "12  12       0.186365234    1.178068 \n",
              "13  13      -1.185187559    1.128410 \n",
              "14  14      -1.585529175    1.100661 \n",
              "15  15      -1.578758226    1.190962 \n",
              "16  16       0.246674001    1.134392 \n",
              "17  17      -1.075897848    1.171354 \n",
              "18  18      -1.439425594    1.163303 \n",
              "19  19      -0.401662040    1.176330 \n",
              "20  20      -0.716273658    1.141858 \n",
              "21  21      -1.167391593    1.101150 \n",
              "22  22      -0.399066547    1.129507 \n",
              "23  23       0.193078429    1.117819 \n",
              "24  24      -0.058972613    1.158981 \n",
              "25  25       0.486652007    1.155067 \n",
              "26  26      -0.162313373    1.130868 \n",
              "27  27      -0.112238104    1.158269 \n",
              "28  28      -0.001643407    1.167710 \n",
              "29  29       0.459171029    1.170740 \n",
              "30  30       0.006263336    1.137405 \n",
              "⋮   ⋮       ⋮               ⋮        \n",
              "91  91      1.5168932       1.123809 \n",
              "92  92      1.7212498       1.210091 \n",
              "93  93      0.5486771       1.152342 \n",
              "94  94      1.8573060       1.165979 \n",
              "95  95      0.8585107       1.154658 \n",
              "96  96      2.2692094       1.191139 \n",
              "97  97      0.6980107       1.116961 \n",
              "98  98      0.4251090       1.125368 \n",
              "99  99      1.2195569       1.111418 \n",
              "100 100     0.6378885       1.197802 \n",
              "101 101     0.4243845       1.168460 \n",
              "102 102     0.2234939       1.160688 \n",
              "103 103     0.3046254       1.165791 \n",
              "104 104     0.2075816       1.148945 \n",
              "105 105     0.3841461       1.149458 \n",
              "106 106     0.3738366       1.154529 \n",
              "107 107     1.2241403       1.168015 \n",
              "108 108     1.1005118       1.136558 \n",
              "109 109     0.4347410       1.156125 \n",
              "110 110     0.5140646       1.163997 \n",
              "111 111     0.1406869       1.156665 \n",
              "112 112     1.6067575       1.192228 \n",
              "113 113     1.2105168       1.178594 \n",
              "114 114     0.8057357       1.160088 \n",
              "115 115     1.5807089       1.171133 \n",
              "116 116     1.6281115       1.176398 \n",
              "117 117     0.1427394       1.122057 \n",
              "118 118     1.8279812       1.145023 \n",
              "119 119     0.6820755       1.128439 \n",
              "120 120     2.2355155       1.142447 "
            ]
          },
          "metadata": {},
          "output_type": "display_data"
        }
      ],
      "source": [
        "#Using the predict function to get the estimates of each variety\n",
        "aNoGE=sommer::predict.mmer(mNoGE,Dtable=dtNoGE,D = \"variety\")\n",
        "pNoGE=aNoGE$pvals\n",
        "pNoGE"
      ]
    },
    {
      "cell_type": "markdown",
      "id": "35256983-8540-4d1e-b0d3-6b4813ac1fc4",
      "metadata": {
        "id": "35256983-8540-4d1e-b0d3-6b4813ac1fc4"
      },
      "source": [
        "To estimate accuracy and compare to other models we will be correlating estimates of this model with the true GxE effects. To do this we will assign the same estimate for variety for each of the 3 locations and create a vector that has each GBLUP repeated 3 times."
      ]
    },
    {
      "cell_type": "markdown",
      "id": "4634ce9c-71b6-4d94-ad23-1fd1f90dc39e",
      "metadata": {
        "id": "4634ce9c-71b6-4d94-ad23-1fd1f90dc39e"
      },
      "source": [
        "We will do this using for loops."
      ]
    },
    {
      "cell_type": "markdown",
      "id": "8e5a2a0c-034a-46e9-abf5-166a9352ae83",
      "metadata": {
        "id": "8e5a2a0c-034a-46e9-abf5-166a9352ae83"
      },
      "source": [
        "First we allocate a vector of length 360 to store 3 GBLUPs for each of the 120 varities"
      ]
    },
    {
      "cell_type": "code",
      "execution_count": null,
      "id": "2ab77499-44c4-4157-9790-f0be017aae9a",
      "metadata": {
        "tags": [],
        "id": "2ab77499-44c4-4157-9790-f0be017aae9a"
      },
      "outputs": [],
      "source": [
        "pNoGE360=rep(0,360)"
      ]
    },
    {
      "cell_type": "markdown",
      "id": "42f7ad06-0b4c-4fc4-986d-c648bc705079",
      "metadata": {
        "id": "42f7ad06-0b4c-4fc4-986d-c648bc705079"
      },
      "source": [
        "Now we use nested for loops to assign values to the vector `pNoGE360` in the disired order:"
      ]
    },
    {
      "cell_type": "code",
      "execution_count": null,
      "id": "3363feb2-7a34-453d-8b6c-1845a52a3417",
      "metadata": {
        "tags": [],
        "id": "3363feb2-7a34-453d-8b6c-1845a52a3417",
        "outputId": "627f4e51-9f7f-4835-fe31-e4b450c4bf50"
      },
      "outputs": [
        {
          "data": {
            "text/html": [
              "<style>\n",
              ".list-inline {list-style: none; margin:0; padding: 0}\n",
              ".list-inline>li {display: inline-block}\n",
              ".list-inline>li:not(:last-child)::after {content: \"\\00b7\"; padding: 0 .5ex}\n",
              "</style>\n",
              "<ol class=list-inline><li>0.0730530878943686</li><li>0.0730530878943686</li><li>0.0730530878943686</li><li>-0.805670377027557</li><li>-0.805670377027557</li><li>-0.805670377027557</li></ol>\n"
            ],
            "text/latex": [
              "\\begin{enumerate*}\n",
              "\\item 0.0730530878943686\n",
              "\\item 0.0730530878943686\n",
              "\\item 0.0730530878943686\n",
              "\\item -0.805670377027557\n",
              "\\item -0.805670377027557\n",
              "\\item -0.805670377027557\n",
              "\\end{enumerate*}\n"
            ],
            "text/markdown": [
              "1. 0.0730530878943686\n",
              "2. 0.0730530878943686\n",
              "3. 0.0730530878943686\n",
              "4. -0.805670377027557\n",
              "5. -0.805670377027557\n",
              "6. -0.805670377027557\n",
              "\n",
              "\n"
            ],
            "text/plain": [
              "[1]  0.07305309  0.07305309  0.07305309 -0.80567038 -0.80567038 -0.80567038"
            ]
          },
          "metadata": {},
          "output_type": "display_data"
        }
      ],
      "source": [
        "count=1 # counter to track the position in pNoGE360\n",
        "for(i in c(1:120)){ # for loop to cycle through the 120 GBLUP estimates in pNoGE\n",
        "\n",
        "    for (j in c(1:3)){ # for loop to move 3 position in the vector pNoGE360 to duplicate GBLUPs\n",
        "\n",
        "        pNoGE360[count]= pNoGE$predicted.value[i]\n",
        "       count=count+1 # adding 1 to the counter to move to the next position\n",
        "    } # closing for loop to move 3 position in the vector pNoGE360 to duplicate GBLUPs\n",
        "\n",
        "} # closing for loop to cycle through the 120 GBLUP estimates in pNoGE\n",
        "pNoGE360=as.double(pNoGE360)\n",
        "head(pNoGE360) # looking at the first positions in the vector"
      ]
    },
    {
      "cell_type": "markdown",
      "id": "135ba052-03d8-49a4-b140-cb4c4c80f20d",
      "metadata": {
        "id": "135ba052-03d8-49a4-b140-cb4c4c80f20d"
      },
      "source": [
        "# Model 2 Compound Symetric (no genomic relationship matrix)"
      ]
    },
    {
      "cell_type": "code",
      "execution_count": null,
      "id": "907dffe6-c804-49ad-b67c-435799223dd8",
      "metadata": {
        "tags": [],
        "id": "907dffe6-c804-49ad-b67c-435799223dd8",
        "outputId": "04015b72-3603-40a1-a776-cd6e9295fb04"
      },
      "outputs": [
        {
          "name": "stdout",
          "output_type": "stream",
          "text": [
            "iteration    LogLik     wall    cpu(sec)   restrained\n",
            "    1      -214.791   19:7:55      0           0\n",
            "    2      -203.656   19:7:55      0           0\n",
            "    3      -201.249   19:7:55      0           0\n",
            "    4      -201.056   19:7:56      1           0\n",
            "    5      -201.055   19:7:56      1           0\n",
            "    6      -201.054   19:7:56      1           0\n"
          ]
        },
        {
          "data": {
            "text/html": [
              "<dl>\n",
              "\t<dt>$groups</dt>\n",
              "\t\t<dd><table class=\"dataframe\">\n",
              "<caption>A matrix: 2 × 1 of type int</caption>\n",
              "<thead>\n",
              "\t<tr><th></th><th scope=col>phenotype</th></tr>\n",
              "</thead>\n",
              "<tbody>\n",
              "\t<tr><th scope=row>u:variety</th><td>120</td></tr>\n",
              "\t<tr><th scope=row>u:loc:variety</th><td>360</td></tr>\n",
              "</tbody>\n",
              "</table>\n",
              "</dd>\n",
              "\t<dt>$varcomp</dt>\n",
              "\t\t<dd><table class=\"dataframe\">\n",
              "<caption>A data.frame: 3 × 4</caption>\n",
              "<thead>\n",
              "\t<tr><th></th><th scope=col>VarComp</th><th scope=col>VarCompSE</th><th scope=col>Zratio</th><th scope=col>Constraint</th></tr>\n",
              "\t<tr><th></th><th scope=col>&lt;dbl&gt;</th><th scope=col>&lt;dbl&gt;</th><th scope=col>&lt;dbl&gt;</th><th scope=col>&lt;chr&gt;</th></tr>\n",
              "</thead>\n",
              "<tbody>\n",
              "\t<tr><th scope=row>u:variety.phenotype-phenotype</th><td>1.208593</td><td>0.2177436</td><td> 5.550531</td><td>Positive</td></tr>\n",
              "\t<tr><th scope=row>u:loc:variety.phenotype-phenotype</th><td>0.366827</td><td>0.1409505</td><td> 2.602524</td><td>Positive</td></tr>\n",
              "\t<tr><th scope=row>units.phenotype-phenotype</th><td>1.917125</td><td>0.1428958</td><td>13.416247</td><td>Positive</td></tr>\n",
              "</tbody>\n",
              "</table>\n",
              "</dd>\n",
              "\t<dt>$betas</dt>\n",
              "\t\t<dd><table class=\"dataframe\">\n",
              "<caption>A data.frame: 3 × 5</caption>\n",
              "<thead>\n",
              "\t<tr><th scope=col>Trait</th><th scope=col>Effect</th><th scope=col>Estimate</th><th scope=col>Std.Error</th><th scope=col>t.value</th></tr>\n",
              "\t<tr><th scope=col>&lt;fct&gt;</th><th scope=col>&lt;fct&gt;</th><th scope=col>&lt;dbl&gt;</th><th scope=col>&lt;dbl&gt;</th><th scope=col>&lt;dbl&gt;</th></tr>\n",
              "</thead>\n",
              "<tbody>\n",
              "\t<tr><td>phenotype</td><td>(Intercept)</td><td>-0.4226534</td><td>0.1453152</td><td>-2.908528</td></tr>\n",
              "\t<tr><td>phenotype</td><td>loc2       </td><td> 0.8818094</td><td>0.1486265</td><td> 5.933058</td></tr>\n",
              "\t<tr><td>phenotype</td><td>loc3       </td><td> 2.2687929</td><td>0.1486265</td><td>15.265067</td></tr>\n",
              "</tbody>\n",
              "</table>\n",
              "</dd>\n",
              "\t<dt>$method</dt>\n",
              "\t\t<dd>'NR'</dd>\n",
              "\t<dt>$logo</dt>\n",
              "\t\t<dd><table class=\"dataframe\">\n",
              "<caption>A data.frame: 1 × 5</caption>\n",
              "<thead>\n",
              "\t<tr><th></th><th scope=col>logLik</th><th scope=col>AIC</th><th scope=col>BIC</th><th scope=col>Method</th><th scope=col>Converge</th></tr>\n",
              "\t<tr><th></th><th scope=col>&lt;dbl&gt;</th><th scope=col>&lt;dbl&gt;</th><th scope=col>&lt;dbl&gt;</th><th scope=col>&lt;chr&gt;</th><th scope=col>&lt;lgl&gt;</th></tr>\n",
              "</thead>\n",
              "<tbody>\n",
              "\t<tr><th scope=row>Value</th><td>-201.0545</td><td>408.109</td><td>421.8467</td><td>NR</td><td>TRUE</td></tr>\n",
              "</tbody>\n",
              "</table>\n",
              "</dd>\n",
              "</dl>\n"
            ],
            "text/latex": [
              "\\begin{description}\n",
              "\\item[\\$groups] A matrix: 2 × 1 of type int\n",
              "\\begin{tabular}{r|l}\n",
              "  & phenotype\\\\\n",
              "\\hline\n",
              "\tu:variety & 120\\\\\n",
              "\tu:loc:variety & 360\\\\\n",
              "\\end{tabular}\n",
              "\n",
              "\\item[\\$varcomp] A data.frame: 3 × 4\n",
              "\\begin{tabular}{r|llll}\n",
              "  & VarComp & VarCompSE & Zratio & Constraint\\\\\n",
              "  & <dbl> & <dbl> & <dbl> & <chr>\\\\\n",
              "\\hline\n",
              "\tu:variety.phenotype-phenotype & 1.208593 & 0.2177436 &  5.550531 & Positive\\\\\n",
              "\tu:loc:variety.phenotype-phenotype & 0.366827 & 0.1409505 &  2.602524 & Positive\\\\\n",
              "\tunits.phenotype-phenotype & 1.917125 & 0.1428958 & 13.416247 & Positive\\\\\n",
              "\\end{tabular}\n",
              "\n",
              "\\item[\\$betas] A data.frame: 3 × 5\n",
              "\\begin{tabular}{lllll}\n",
              " Trait & Effect & Estimate & Std.Error & t.value\\\\\n",
              " <fct> & <fct> & <dbl> & <dbl> & <dbl>\\\\\n",
              "\\hline\n",
              "\t phenotype & (Intercept) & -0.4226534 & 0.1453152 & -2.908528\\\\\n",
              "\t phenotype & loc2        &  0.8818094 & 0.1486265 &  5.933058\\\\\n",
              "\t phenotype & loc3        &  2.2687929 & 0.1486265 & 15.265067\\\\\n",
              "\\end{tabular}\n",
              "\n",
              "\\item[\\$method] 'NR'\n",
              "\\item[\\$logo] A data.frame: 1 × 5\n",
              "\\begin{tabular}{r|lllll}\n",
              "  & logLik & AIC & BIC & Method & Converge\\\\\n",
              "  & <dbl> & <dbl> & <dbl> & <chr> & <lgl>\\\\\n",
              "\\hline\n",
              "\tValue & -201.0545 & 408.109 & 421.8467 & NR & TRUE\\\\\n",
              "\\end{tabular}\n",
              "\n",
              "\\end{description}\n"
            ],
            "text/markdown": [
              "$groups\n",
              ":   \n",
              "A matrix: 2 × 1 of type int\n",
              "\n",
              "| <!--/--> | phenotype |\n",
              "|---|---|\n",
              "| u:variety | 120 |\n",
              "| u:loc:variety | 360 |\n",
              "\n",
              "\n",
              "$varcomp\n",
              ":   \n",
              "A data.frame: 3 × 4\n",
              "\n",
              "| <!--/--> | VarComp &lt;dbl&gt; | VarCompSE &lt;dbl&gt; | Zratio &lt;dbl&gt; | Constraint &lt;chr&gt; |\n",
              "|---|---|---|---|---|\n",
              "| u:variety.phenotype-phenotype | 1.208593 | 0.2177436 |  5.550531 | Positive |\n",
              "| u:loc:variety.phenotype-phenotype | 0.366827 | 0.1409505 |  2.602524 | Positive |\n",
              "| units.phenotype-phenotype | 1.917125 | 0.1428958 | 13.416247 | Positive |\n",
              "\n",
              "\n",
              "$betas\n",
              ":   \n",
              "A data.frame: 3 × 5\n",
              "\n",
              "| Trait &lt;fct&gt; | Effect &lt;fct&gt; | Estimate &lt;dbl&gt; | Std.Error &lt;dbl&gt; | t.value &lt;dbl&gt; |\n",
              "|---|---|---|---|---|\n",
              "| phenotype | (Intercept) | -0.4226534 | 0.1453152 | -2.908528 |\n",
              "| phenotype | loc2        |  0.8818094 | 0.1486265 |  5.933058 |\n",
              "| phenotype | loc3        |  2.2687929 | 0.1486265 | 15.265067 |\n",
              "\n",
              "\n",
              "$method\n",
              ":   'NR'\n",
              "$logo\n",
              ":   \n",
              "A data.frame: 1 × 5\n",
              "\n",
              "| <!--/--> | logLik &lt;dbl&gt; | AIC &lt;dbl&gt; | BIC &lt;dbl&gt; | Method &lt;chr&gt; | Converge &lt;lgl&gt; |\n",
              "|---|---|---|---|---|---|\n",
              "| Value | -201.0545 | 408.109 | 421.8467 | NR | TRUE |\n",
              "\n",
              "\n",
              "\n",
              "\n"
            ],
            "text/plain": [
              "===================================================================\n",
              "             Multivariate Linear Mixed Model fit by REML             \n",
              "**************************  sommer 4.3  ************************** \n",
              "===================================================================\n",
              "         logLik     AIC      BIC Method Converge\n",
              "Value -201.0545 408.109 421.8467     NR     TRUE\n",
              "===================================================================\n",
              "Variance-Covariance components:\n",
              "                                  VarComp VarCompSE Zratio Constraint\n",
              "u:variety.phenotype-phenotype      1.2086    0.2177  5.551   Positive\n",
              "u:loc:variety.phenotype-phenotype  0.3668    0.1410  2.603   Positive\n",
              "units.phenotype-phenotype          1.9171    0.1429 13.416   Positive\n",
              "===================================================================\n",
              "Fixed effects:\n",
              "      Trait      Effect Estimate Std.Error t.value\n",
              "1 phenotype (Intercept)  -0.4227    0.1453  -2.909\n",
              "2 phenotype        loc2   0.8818    0.1486   5.933\n",
              "3 phenotype        loc3   2.2688    0.1486  15.265\n",
              "===================================================================\n",
              "Groups and observations:\n",
              "              phenotype\n",
              "u:variety           120\n",
              "u:loc:variety       360\n",
              "===================================================================\n",
              "Use the '$' sign to access results and parameters"
            ]
          },
          "metadata": {},
          "output_type": "display_data"
        }
      ],
      "source": [
        "#Model 2\n",
        "mgeCS <- sommer::mmer(phenotype~loc,\n",
        "              random= ~ vsr(variety) + vsr(loc:variety),\n",
        "              rcov= ~ units,\n",
        "              data=dataf, verbose = TRUE)\n",
        "#Looking at the summary of the results\n",
        "summary(mgeCS)"
      ]
    },
    {
      "cell_type": "markdown",
      "id": "4a19e904-c690-4573-8671-dd97e0cd810f",
      "metadata": {
        "id": "4a19e904-c690-4573-8671-dd97e0cd810f"
      },
      "source": [
        "Looking at `$varcomp` we can see there is significant GxE variance (.3668) indicating the presence of GxE."
      ]
    },
    {
      "cell_type": "markdown",
      "id": "dba92293-3081-4b93-905e-5776ddd989b1",
      "metadata": {
        "id": "dba92293-3081-4b93-905e-5776ddd989b1"
      },
      "source": [
        "No let's use the predict function to get GBLUPs for each location."
      ]
    },
    {
      "cell_type": "markdown",
      "id": "a1c45124-04f1-468d-a655-d4a6249ad0b0",
      "metadata": {
        "id": "a1c45124-04f1-468d-a655-d4a6249ad0b0"
      },
      "source": [
        "First we modify the Dtable:"
      ]
    },
    {
      "cell_type": "code",
      "execution_count": null,
      "id": "1a5966a3-2281-446c-b8c6-a6507e8d3689",
      "metadata": {
        "id": "1a5966a3-2281-446c-b8c6-a6507e8d3689",
        "outputId": "c1e051f2-0623-4f49-a51a-2f35a8354fb5"
      },
      "outputs": [
        {
          "data": {
            "text/html": [
              "<table class=\"dataframe\">\n",
              "<caption>A data.frame: 4 × 4</caption>\n",
              "<thead>\n",
              "\t<tr><th scope=col>type</th><th scope=col>term</th><th scope=col>include</th><th scope=col>average</th></tr>\n",
              "\t<tr><th scope=col>&lt;chr&gt;</th><th scope=col>&lt;chr&gt;</th><th scope=col>&lt;lgl&gt;</th><th scope=col>&lt;lgl&gt;</th></tr>\n",
              "</thead>\n",
              "<tbody>\n",
              "\t<tr><td>fixed </td><td>1          </td><td>FALSE</td><td>FALSE</td></tr>\n",
              "\t<tr><td>fixed </td><td>loc        </td><td>FALSE</td><td>FALSE</td></tr>\n",
              "\t<tr><td>random</td><td>variety    </td><td>FALSE</td><td>FALSE</td></tr>\n",
              "\t<tr><td>random</td><td>loc:variety</td><td>FALSE</td><td>FALSE</td></tr>\n",
              "</tbody>\n",
              "</table>\n"
            ],
            "text/latex": [
              "A data.frame: 4 × 4\n",
              "\\begin{tabular}{llll}\n",
              " type & term & include & average\\\\\n",
              " <chr> & <chr> & <lgl> & <lgl>\\\\\n",
              "\\hline\n",
              "\t fixed  & 1           & FALSE & FALSE\\\\\n",
              "\t fixed  & loc         & FALSE & FALSE\\\\\n",
              "\t random & variety     & FALSE & FALSE\\\\\n",
              "\t random & loc:variety & FALSE & FALSE\\\\\n",
              "\\end{tabular}\n"
            ],
            "text/markdown": [
              "\n",
              "A data.frame: 4 × 4\n",
              "\n",
              "| type &lt;chr&gt; | term &lt;chr&gt; | include &lt;lgl&gt; | average &lt;lgl&gt; |\n",
              "|---|---|---|---|\n",
              "| fixed  | 1           | FALSE | FALSE |\n",
              "| fixed  | loc         | FALSE | FALSE |\n",
              "| random | variety     | FALSE | FALSE |\n",
              "| random | loc:variety | FALSE | FALSE |\n",
              "\n"
            ],
            "text/plain": [
              "  type   term        include average\n",
              "1 fixed  1           FALSE   FALSE  \n",
              "2 fixed  loc         FALSE   FALSE  \n",
              "3 random variety     FALSE   FALSE  \n",
              "4 random loc:variety FALSE   FALSE  "
            ]
          },
          "metadata": {},
          "output_type": "display_data"
        },
        {
          "data": {
            "text/html": [
              "<table class=\"dataframe\">\n",
              "<caption>A data.frame: 4 × 4</caption>\n",
              "<thead>\n",
              "\t<tr><th scope=col>type</th><th scope=col>term</th><th scope=col>include</th><th scope=col>average</th></tr>\n",
              "\t<tr><th scope=col>&lt;chr&gt;</th><th scope=col>&lt;chr&gt;</th><th scope=col>&lt;lgl&gt;</th><th scope=col>&lt;lgl&gt;</th></tr>\n",
              "</thead>\n",
              "<tbody>\n",
              "\t<tr><td>fixed </td><td>1          </td><td>TRUE</td><td>FALSE</td></tr>\n",
              "\t<tr><td>fixed </td><td>loc        </td><td>TRUE</td><td> TRUE</td></tr>\n",
              "\t<tr><td>random</td><td>variety    </td><td>TRUE</td><td>FALSE</td></tr>\n",
              "\t<tr><td>random</td><td>loc:variety</td><td>TRUE</td><td>FALSE</td></tr>\n",
              "</tbody>\n",
              "</table>\n"
            ],
            "text/latex": [
              "A data.frame: 4 × 4\n",
              "\\begin{tabular}{llll}\n",
              " type & term & include & average\\\\\n",
              " <chr> & <chr> & <lgl> & <lgl>\\\\\n",
              "\\hline\n",
              "\t fixed  & 1           & TRUE & FALSE\\\\\n",
              "\t fixed  & loc         & TRUE &  TRUE\\\\\n",
              "\t random & variety     & TRUE & FALSE\\\\\n",
              "\t random & loc:variety & TRUE & FALSE\\\\\n",
              "\\end{tabular}\n"
            ],
            "text/markdown": [
              "\n",
              "A data.frame: 4 × 4\n",
              "\n",
              "| type &lt;chr&gt; | term &lt;chr&gt; | include &lt;lgl&gt; | average &lt;lgl&gt; |\n",
              "|---|---|---|---|\n",
              "| fixed  | 1           | TRUE | FALSE |\n",
              "| fixed  | loc         | TRUE |  TRUE |\n",
              "| random | variety     | TRUE | FALSE |\n",
              "| random | loc:variety | TRUE | FALSE |\n",
              "\n"
            ],
            "text/plain": [
              "  type   term        include average\n",
              "1 fixed  1           TRUE    FALSE  \n",
              "2 fixed  loc         TRUE     TRUE  \n",
              "3 random variety     TRUE    FALSE  \n",
              "4 random loc:variety TRUE    FALSE  "
            ]
          },
          "metadata": {},
          "output_type": "display_data"
        }
      ],
      "source": [
        "dtCS=mgeCS$Dtable\n",
        "dtCS\n",
        "dtCS[1,\"include\"]=TRUE # intercept\n",
        "dtCS[2,\"include\"]=TRUE # loc\n",
        "dtCS[2,\"average\"]=TRUE # loc\n",
        "dtCS[3,\"include\"]=TRUE # variety\n",
        "dtCS[4,\"include\"]=TRUE # loc:variety\n",
        "dtCS"
      ]
    },
    {
      "cell_type": "markdown",
      "id": "1eccd055-460d-48c9-a365-32f0a42b8fa9",
      "metadata": {
        "id": "1eccd055-460d-48c9-a365-32f0a42b8fa9"
      },
      "source": [
        "Now we generate the predictions:"
      ]
    },
    {
      "cell_type": "code",
      "execution_count": null,
      "id": "070c8970-51ca-420e-8239-5390f26b597a",
      "metadata": {
        "tags": [],
        "id": "070c8970-51ca-420e-8239-5390f26b597a",
        "outputId": "fccb47cf-9d13-4228-b67f-d23150b9e8c2"
      },
      "outputs": [
        {
          "data": {
            "text/html": [
              "<table class=\"dataframe\">\n",
              "<caption>A data.frame: 360 × 3</caption>\n",
              "<thead>\n",
              "\t<tr><th></th><th scope=col>loc:variety</th><th scope=col>predicted.value</th><th scope=col>std.error</th></tr>\n",
              "\t<tr><th></th><th scope=col>&lt;chr&gt;</th><th scope=col>&lt;dbl&gt;</th><th scope=col>&lt;dbl&gt;</th></tr>\n",
              "</thead>\n",
              "<tbody>\n",
              "\t<tr><th scope=row>loc1:variety1</th><td>loc1:variety1 </td><td>-1.26595072</td><td>1.486527</td></tr>\n",
              "\t<tr><th scope=row>loc2:variety1</th><td>loc2:variety1 </td><td>-0.79431948</td><td>1.484668</td></tr>\n",
              "\t<tr><th scope=row>loc3:variety1</th><td>loc3:variety1 </td><td>-0.38043359</td><td>1.484668</td></tr>\n",
              "\t<tr><th scope=row>loc1:variety2</th><td>loc1:variety2 </td><td>-2.29484733</td><td>1.486527</td></tr>\n",
              "\t<tr><th scope=row>loc2:variety2</th><td>loc2:variety2 </td><td>-1.89284094</td><td>1.484668</td></tr>\n",
              "\t<tr><th scope=row>loc3:variety2</th><td>loc3:variety2 </td><td>-1.07583529</td><td>1.484668</td></tr>\n",
              "\t<tr><th scope=row>loc1:variety3</th><td>loc1:variety3 </td><td>-0.97800173</td><td>1.486527</td></tr>\n",
              "\t<tr><th scope=row>loc2:variety3</th><td>loc2:variety3 </td><td>-0.70255486</td><td>1.484668</td></tr>\n",
              "\t<tr><th scope=row>loc3:variety3</th><td>loc3:variety3 </td><td>-0.42512143</td><td>1.484668</td></tr>\n",
              "\t<tr><th scope=row>loc1:variety4</th><td>loc1:variety4 </td><td> 0.70858254</td><td>1.486527</td></tr>\n",
              "\t<tr><th scope=row>loc2:variety4</th><td>loc2:variety4 </td><td> 0.81018668</td><td>1.484668</td></tr>\n",
              "\t<tr><th scope=row>loc3:variety4</th><td>loc3:variety4 </td><td> 1.82981035</td><td>1.484668</td></tr>\n",
              "\t<tr><th scope=row>loc1:variety5</th><td>loc1:variety5 </td><td>-0.24797838</td><td>1.486527</td></tr>\n",
              "\t<tr><th scope=row>loc2:variety5</th><td>loc2:variety5 </td><td>-0.31342628</td><td>1.484668</td></tr>\n",
              "\t<tr><th scope=row>loc3:variety5</th><td>loc3:variety5 </td><td> 0.59485984</td><td>1.484668</td></tr>\n",
              "\t<tr><th scope=row>loc1:variety6</th><td>loc1:variety6 </td><td> 0.09572245</td><td>1.486527</td></tr>\n",
              "\t<tr><th scope=row>loc2:variety6</th><td>loc2:variety6 </td><td> 0.51930488</td><td>1.484668</td></tr>\n",
              "\t<tr><th scope=row>loc3:variety6</th><td>loc3:variety6 </td><td> 2.00139581</td><td>1.484668</td></tr>\n",
              "\t<tr><th scope=row>loc1:variety7</th><td>loc1:variety7 </td><td>-0.24814169</td><td>1.486527</td></tr>\n",
              "\t<tr><th scope=row>loc2:variety7</th><td>loc2:variety7 </td><td> 0.02448159</td><td>1.484668</td></tr>\n",
              "\t<tr><th scope=row>loc3:variety7</th><td>loc3:variety7 </td><td> 0.26931475</td><td>1.484668</td></tr>\n",
              "\t<tr><th scope=row>loc1:variety8</th><td>loc1:variety8 </td><td>-1.16573567</td><td>1.486527</td></tr>\n",
              "\t<tr><th scope=row>loc2:variety8</th><td>loc2:variety8 </td><td>-1.13701259</td><td>1.484668</td></tr>\n",
              "\t<tr><th scope=row>loc3:variety8</th><td>loc3:variety8 </td><td>-0.49833815</td><td>1.484668</td></tr>\n",
              "\t<tr><th scope=row>loc1:variety9</th><td>loc1:variety9 </td><td>-0.21589867</td><td>1.486527</td></tr>\n",
              "\t<tr><th scope=row>loc2:variety9</th><td>loc2:variety9 </td><td>-0.03424416</td><td>1.484668</td></tr>\n",
              "\t<tr><th scope=row>loc3:variety9</th><td>loc3:variety9 </td><td> 0.29635456</td><td>1.484668</td></tr>\n",
              "\t<tr><th scope=row>loc1:variety10</th><td>loc1:variety10</td><td>-0.72016792</td><td>1.486527</td></tr>\n",
              "\t<tr><th scope=row>loc2:variety10</th><td>loc2:variety10</td><td>-0.13207292</td><td>1.484668</td></tr>\n",
              "\t<tr><th scope=row>loc3:variety10</th><td>loc3:variety10</td><td> 0.37506995</td><td>1.484668</td></tr>\n",
              "\t<tr><th scope=row>⋮</th><td>⋮</td><td>⋮</td><td>⋮</td></tr>\n",
              "\t<tr><th scope=row>loc1:variety111</th><td>loc1:variety111</td><td>-1.454424e+00</td><td>1.486527</td></tr>\n",
              "\t<tr><th scope=row>loc2:variety111</th><td>loc2:variety111</td><td>-5.366507e-01</td><td>1.484668</td></tr>\n",
              "\t<tr><th scope=row>loc3:variety111</th><td>loc3:variety111</td><td>-7.210013e-02</td><td>1.484668</td></tr>\n",
              "\t<tr><th scope=row>loc1:variety112</th><td>loc1:variety112</td><td> 8.184885e-01</td><td>1.486527</td></tr>\n",
              "\t<tr><th scope=row>loc2:variety112</th><td>loc2:variety112</td><td> 1.764123e+00</td><td>1.484668</td></tr>\n",
              "\t<tr><th scope=row>loc3:variety112</th><td>loc3:variety112</td><td> 1.837524e+00</td><td>1.484668</td></tr>\n",
              "\t<tr><th scope=row>loc1:variety113</th><td>loc1:variety113</td><td>-8.549641e-05</td><td>1.486527</td></tr>\n",
              "\t<tr><th scope=row>loc2:variety113</th><td>loc2:variety113</td><td> 1.991697e-01</td><td>1.484668</td></tr>\n",
              "\t<tr><th scope=row>loc3:variety113</th><td>loc3:variety113</td><td> 1.149873e+00</td><td>1.484668</td></tr>\n",
              "\t<tr><th scope=row>loc1:variety114</th><td>loc1:variety114</td><td>-2.937789e-01</td><td>1.486527</td></tr>\n",
              "\t<tr><th scope=row>loc2:variety114</th><td>loc2:variety114</td><td> 3.479299e-01</td><td>1.484668</td></tr>\n",
              "\t<tr><th scope=row>loc3:variety114</th><td>loc3:variety114</td><td> 1.010005e+00</td><td>1.484668</td></tr>\n",
              "\t<tr><th scope=row>loc1:variety115</th><td>loc1:variety115</td><td>-3.700271e-01</td><td>1.486527</td></tr>\n",
              "\t<tr><th scope=row>loc2:variety115</th><td>loc2:variety115</td><td> 1.198881e+00</td><td>1.484668</td></tr>\n",
              "\t<tr><th scope=row>loc3:variety115</th><td>loc3:variety115</td><td> 1.657565e+00</td><td>1.484668</td></tr>\n",
              "\t<tr><th scope=row>loc1:variety116</th><td>loc1:variety116</td><td> 8.554502e-01</td><td>1.486527</td></tr>\n",
              "\t<tr><th scope=row>loc2:variety116</th><td>loc2:variety116</td><td> 9.508614e-01</td><td>1.484668</td></tr>\n",
              "\t<tr><th scope=row>loc3:variety116</th><td>loc3:variety116</td><td> 1.654396e+00</td><td>1.484668</td></tr>\n",
              "\t<tr><th scope=row>loc1:variety117</th><td>loc1:variety117</td><td>-9.285111e-01</td><td>1.486527</td></tr>\n",
              "\t<tr><th scope=row>loc2:variety117</th><td>loc2:variety117</td><td>-4.364372e-01</td><td>1.484668</td></tr>\n",
              "\t<tr><th scope=row>loc3:variety117</th><td>loc3:variety117</td><td> 3.394590e-01</td><td>1.484668</td></tr>\n",
              "\t<tr><th scope=row>loc1:variety118</th><td>loc1:variety118</td><td> 6.380794e-01</td><td>1.486527</td></tr>\n",
              "\t<tr><th scope=row>loc2:variety118</th><td>loc2:variety118</td><td> 1.185327e+00</td><td>1.484668</td></tr>\n",
              "\t<tr><th scope=row>loc3:variety118</th><td>loc3:variety118</td><td> 2.256814e+00</td><td>1.484668</td></tr>\n",
              "\t<tr><th scope=row>loc1:variety119</th><td>loc1:variety119</td><td>-1.429781e+00</td><td>1.486527</td></tr>\n",
              "\t<tr><th scope=row>loc2:variety119</th><td>loc2:variety119</td><td>-7.504656e-01</td><td>1.484668</td></tr>\n",
              "\t<tr><th scope=row>loc3:variety119</th><td>loc3:variety119</td><td>-9.278546e-02</td><td>1.484668</td></tr>\n",
              "\t<tr><th scope=row>loc1:variety120</th><td>loc1:variety120</td><td> 1.017620e+00</td><td>1.486527</td></tr>\n",
              "\t<tr><th scope=row>loc2:variety120</th><td>loc2:variety120</td><td> 1.807241e+00</td><td>1.484668</td></tr>\n",
              "\t<tr><th scope=row>loc3:variety120</th><td>loc3:variety120</td><td> 2.763554e+00</td><td>1.484668</td></tr>\n",
              "</tbody>\n",
              "</table>\n"
            ],
            "text/latex": [
              "A data.frame: 360 × 3\n",
              "\\begin{tabular}{r|lll}\n",
              "  & loc:variety & predicted.value & std.error\\\\\n",
              "  & <chr> & <dbl> & <dbl>\\\\\n",
              "\\hline\n",
              "\tloc1:variety1 & loc1:variety1  & -1.26595072 & 1.486527\\\\\n",
              "\tloc2:variety1 & loc2:variety1  & -0.79431948 & 1.484668\\\\\n",
              "\tloc3:variety1 & loc3:variety1  & -0.38043359 & 1.484668\\\\\n",
              "\tloc1:variety2 & loc1:variety2  & -2.29484733 & 1.486527\\\\\n",
              "\tloc2:variety2 & loc2:variety2  & -1.89284094 & 1.484668\\\\\n",
              "\tloc3:variety2 & loc3:variety2  & -1.07583529 & 1.484668\\\\\n",
              "\tloc1:variety3 & loc1:variety3  & -0.97800173 & 1.486527\\\\\n",
              "\tloc2:variety3 & loc2:variety3  & -0.70255486 & 1.484668\\\\\n",
              "\tloc3:variety3 & loc3:variety3  & -0.42512143 & 1.484668\\\\\n",
              "\tloc1:variety4 & loc1:variety4  &  0.70858254 & 1.486527\\\\\n",
              "\tloc2:variety4 & loc2:variety4  &  0.81018668 & 1.484668\\\\\n",
              "\tloc3:variety4 & loc3:variety4  &  1.82981035 & 1.484668\\\\\n",
              "\tloc1:variety5 & loc1:variety5  & -0.24797838 & 1.486527\\\\\n",
              "\tloc2:variety5 & loc2:variety5  & -0.31342628 & 1.484668\\\\\n",
              "\tloc3:variety5 & loc3:variety5  &  0.59485984 & 1.484668\\\\\n",
              "\tloc1:variety6 & loc1:variety6  &  0.09572245 & 1.486527\\\\\n",
              "\tloc2:variety6 & loc2:variety6  &  0.51930488 & 1.484668\\\\\n",
              "\tloc3:variety6 & loc3:variety6  &  2.00139581 & 1.484668\\\\\n",
              "\tloc1:variety7 & loc1:variety7  & -0.24814169 & 1.486527\\\\\n",
              "\tloc2:variety7 & loc2:variety7  &  0.02448159 & 1.484668\\\\\n",
              "\tloc3:variety7 & loc3:variety7  &  0.26931475 & 1.484668\\\\\n",
              "\tloc1:variety8 & loc1:variety8  & -1.16573567 & 1.486527\\\\\n",
              "\tloc2:variety8 & loc2:variety8  & -1.13701259 & 1.484668\\\\\n",
              "\tloc3:variety8 & loc3:variety8  & -0.49833815 & 1.484668\\\\\n",
              "\tloc1:variety9 & loc1:variety9  & -0.21589867 & 1.486527\\\\\n",
              "\tloc2:variety9 & loc2:variety9  & -0.03424416 & 1.484668\\\\\n",
              "\tloc3:variety9 & loc3:variety9  &  0.29635456 & 1.484668\\\\\n",
              "\tloc1:variety10 & loc1:variety10 & -0.72016792 & 1.486527\\\\\n",
              "\tloc2:variety10 & loc2:variety10 & -0.13207292 & 1.484668\\\\\n",
              "\tloc3:variety10 & loc3:variety10 &  0.37506995 & 1.484668\\\\\n",
              "\t⋮ & ⋮ & ⋮ & ⋮\\\\\n",
              "\tloc1:variety111 & loc1:variety111 & -1.454424e+00 & 1.486527\\\\\n",
              "\tloc2:variety111 & loc2:variety111 & -5.366507e-01 & 1.484668\\\\\n",
              "\tloc3:variety111 & loc3:variety111 & -7.210013e-02 & 1.484668\\\\\n",
              "\tloc1:variety112 & loc1:variety112 &  8.184885e-01 & 1.486527\\\\\n",
              "\tloc2:variety112 & loc2:variety112 &  1.764123e+00 & 1.484668\\\\\n",
              "\tloc3:variety112 & loc3:variety112 &  1.837524e+00 & 1.484668\\\\\n",
              "\tloc1:variety113 & loc1:variety113 & -8.549641e-05 & 1.486527\\\\\n",
              "\tloc2:variety113 & loc2:variety113 &  1.991697e-01 & 1.484668\\\\\n",
              "\tloc3:variety113 & loc3:variety113 &  1.149873e+00 & 1.484668\\\\\n",
              "\tloc1:variety114 & loc1:variety114 & -2.937789e-01 & 1.486527\\\\\n",
              "\tloc2:variety114 & loc2:variety114 &  3.479299e-01 & 1.484668\\\\\n",
              "\tloc3:variety114 & loc3:variety114 &  1.010005e+00 & 1.484668\\\\\n",
              "\tloc1:variety115 & loc1:variety115 & -3.700271e-01 & 1.486527\\\\\n",
              "\tloc2:variety115 & loc2:variety115 &  1.198881e+00 & 1.484668\\\\\n",
              "\tloc3:variety115 & loc3:variety115 &  1.657565e+00 & 1.484668\\\\\n",
              "\tloc1:variety116 & loc1:variety116 &  8.554502e-01 & 1.486527\\\\\n",
              "\tloc2:variety116 & loc2:variety116 &  9.508614e-01 & 1.484668\\\\\n",
              "\tloc3:variety116 & loc3:variety116 &  1.654396e+00 & 1.484668\\\\\n",
              "\tloc1:variety117 & loc1:variety117 & -9.285111e-01 & 1.486527\\\\\n",
              "\tloc2:variety117 & loc2:variety117 & -4.364372e-01 & 1.484668\\\\\n",
              "\tloc3:variety117 & loc3:variety117 &  3.394590e-01 & 1.484668\\\\\n",
              "\tloc1:variety118 & loc1:variety118 &  6.380794e-01 & 1.486527\\\\\n",
              "\tloc2:variety118 & loc2:variety118 &  1.185327e+00 & 1.484668\\\\\n",
              "\tloc3:variety118 & loc3:variety118 &  2.256814e+00 & 1.484668\\\\\n",
              "\tloc1:variety119 & loc1:variety119 & -1.429781e+00 & 1.486527\\\\\n",
              "\tloc2:variety119 & loc2:variety119 & -7.504656e-01 & 1.484668\\\\\n",
              "\tloc3:variety119 & loc3:variety119 & -9.278546e-02 & 1.484668\\\\\n",
              "\tloc1:variety120 & loc1:variety120 &  1.017620e+00 & 1.486527\\\\\n",
              "\tloc2:variety120 & loc2:variety120 &  1.807241e+00 & 1.484668\\\\\n",
              "\tloc3:variety120 & loc3:variety120 &  2.763554e+00 & 1.484668\\\\\n",
              "\\end{tabular}\n"
            ],
            "text/markdown": [
              "\n",
              "A data.frame: 360 × 3\n",
              "\n",
              "| <!--/--> | loc:variety &lt;chr&gt; | predicted.value &lt;dbl&gt; | std.error &lt;dbl&gt; |\n",
              "|---|---|---|---|\n",
              "| loc1:variety1 | loc1:variety1  | -1.26595072 | 1.486527 |\n",
              "| loc2:variety1 | loc2:variety1  | -0.79431948 | 1.484668 |\n",
              "| loc3:variety1 | loc3:variety1  | -0.38043359 | 1.484668 |\n",
              "| loc1:variety2 | loc1:variety2  | -2.29484733 | 1.486527 |\n",
              "| loc2:variety2 | loc2:variety2  | -1.89284094 | 1.484668 |\n",
              "| loc3:variety2 | loc3:variety2  | -1.07583529 | 1.484668 |\n",
              "| loc1:variety3 | loc1:variety3  | -0.97800173 | 1.486527 |\n",
              "| loc2:variety3 | loc2:variety3  | -0.70255486 | 1.484668 |\n",
              "| loc3:variety3 | loc3:variety3  | -0.42512143 | 1.484668 |\n",
              "| loc1:variety4 | loc1:variety4  |  0.70858254 | 1.486527 |\n",
              "| loc2:variety4 | loc2:variety4  |  0.81018668 | 1.484668 |\n",
              "| loc3:variety4 | loc3:variety4  |  1.82981035 | 1.484668 |\n",
              "| loc1:variety5 | loc1:variety5  | -0.24797838 | 1.486527 |\n",
              "| loc2:variety5 | loc2:variety5  | -0.31342628 | 1.484668 |\n",
              "| loc3:variety5 | loc3:variety5  |  0.59485984 | 1.484668 |\n",
              "| loc1:variety6 | loc1:variety6  |  0.09572245 | 1.486527 |\n",
              "| loc2:variety6 | loc2:variety6  |  0.51930488 | 1.484668 |\n",
              "| loc3:variety6 | loc3:variety6  |  2.00139581 | 1.484668 |\n",
              "| loc1:variety7 | loc1:variety7  | -0.24814169 | 1.486527 |\n",
              "| loc2:variety7 | loc2:variety7  |  0.02448159 | 1.484668 |\n",
              "| loc3:variety7 | loc3:variety7  |  0.26931475 | 1.484668 |\n",
              "| loc1:variety8 | loc1:variety8  | -1.16573567 | 1.486527 |\n",
              "| loc2:variety8 | loc2:variety8  | -1.13701259 | 1.484668 |\n",
              "| loc3:variety8 | loc3:variety8  | -0.49833815 | 1.484668 |\n",
              "| loc1:variety9 | loc1:variety9  | -0.21589867 | 1.486527 |\n",
              "| loc2:variety9 | loc2:variety9  | -0.03424416 | 1.484668 |\n",
              "| loc3:variety9 | loc3:variety9  |  0.29635456 | 1.484668 |\n",
              "| loc1:variety10 | loc1:variety10 | -0.72016792 | 1.486527 |\n",
              "| loc2:variety10 | loc2:variety10 | -0.13207292 | 1.484668 |\n",
              "| loc3:variety10 | loc3:variety10 |  0.37506995 | 1.484668 |\n",
              "| ⋮ | ⋮ | ⋮ | ⋮ |\n",
              "| loc1:variety111 | loc1:variety111 | -1.454424e+00 | 1.486527 |\n",
              "| loc2:variety111 | loc2:variety111 | -5.366507e-01 | 1.484668 |\n",
              "| loc3:variety111 | loc3:variety111 | -7.210013e-02 | 1.484668 |\n",
              "| loc1:variety112 | loc1:variety112 |  8.184885e-01 | 1.486527 |\n",
              "| loc2:variety112 | loc2:variety112 |  1.764123e+00 | 1.484668 |\n",
              "| loc3:variety112 | loc3:variety112 |  1.837524e+00 | 1.484668 |\n",
              "| loc1:variety113 | loc1:variety113 | -8.549641e-05 | 1.486527 |\n",
              "| loc2:variety113 | loc2:variety113 |  1.991697e-01 | 1.484668 |\n",
              "| loc3:variety113 | loc3:variety113 |  1.149873e+00 | 1.484668 |\n",
              "| loc1:variety114 | loc1:variety114 | -2.937789e-01 | 1.486527 |\n",
              "| loc2:variety114 | loc2:variety114 |  3.479299e-01 | 1.484668 |\n",
              "| loc3:variety114 | loc3:variety114 |  1.010005e+00 | 1.484668 |\n",
              "| loc1:variety115 | loc1:variety115 | -3.700271e-01 | 1.486527 |\n",
              "| loc2:variety115 | loc2:variety115 |  1.198881e+00 | 1.484668 |\n",
              "| loc3:variety115 | loc3:variety115 |  1.657565e+00 | 1.484668 |\n",
              "| loc1:variety116 | loc1:variety116 |  8.554502e-01 | 1.486527 |\n",
              "| loc2:variety116 | loc2:variety116 |  9.508614e-01 | 1.484668 |\n",
              "| loc3:variety116 | loc3:variety116 |  1.654396e+00 | 1.484668 |\n",
              "| loc1:variety117 | loc1:variety117 | -9.285111e-01 | 1.486527 |\n",
              "| loc2:variety117 | loc2:variety117 | -4.364372e-01 | 1.484668 |\n",
              "| loc3:variety117 | loc3:variety117 |  3.394590e-01 | 1.484668 |\n",
              "| loc1:variety118 | loc1:variety118 |  6.380794e-01 | 1.486527 |\n",
              "| loc2:variety118 | loc2:variety118 |  1.185327e+00 | 1.484668 |\n",
              "| loc3:variety118 | loc3:variety118 |  2.256814e+00 | 1.484668 |\n",
              "| loc1:variety119 | loc1:variety119 | -1.429781e+00 | 1.486527 |\n",
              "| loc2:variety119 | loc2:variety119 | -7.504656e-01 | 1.484668 |\n",
              "| loc3:variety119 | loc3:variety119 | -9.278546e-02 | 1.484668 |\n",
              "| loc1:variety120 | loc1:variety120 |  1.017620e+00 | 1.486527 |\n",
              "| loc2:variety120 | loc2:variety120 |  1.807241e+00 | 1.484668 |\n",
              "| loc3:variety120 | loc3:variety120 |  2.763554e+00 | 1.484668 |\n",
              "\n"
            ],
            "text/plain": [
              "                loc:variety     predicted.value std.error\n",
              "loc1:variety1   loc1:variety1   -1.26595072     1.486527 \n",
              "loc2:variety1   loc2:variety1   -0.79431948     1.484668 \n",
              "loc3:variety1   loc3:variety1   -0.38043359     1.484668 \n",
              "loc1:variety2   loc1:variety2   -2.29484733     1.486527 \n",
              "loc2:variety2   loc2:variety2   -1.89284094     1.484668 \n",
              "loc3:variety2   loc3:variety2   -1.07583529     1.484668 \n",
              "loc1:variety3   loc1:variety3   -0.97800173     1.486527 \n",
              "loc2:variety3   loc2:variety3   -0.70255486     1.484668 \n",
              "loc3:variety3   loc3:variety3   -0.42512143     1.484668 \n",
              "loc1:variety4   loc1:variety4    0.70858254     1.486527 \n",
              "loc2:variety4   loc2:variety4    0.81018668     1.484668 \n",
              "loc3:variety4   loc3:variety4    1.82981035     1.484668 \n",
              "loc1:variety5   loc1:variety5   -0.24797838     1.486527 \n",
              "loc2:variety5   loc2:variety5   -0.31342628     1.484668 \n",
              "loc3:variety5   loc3:variety5    0.59485984     1.484668 \n",
              "loc1:variety6   loc1:variety6    0.09572245     1.486527 \n",
              "loc2:variety6   loc2:variety6    0.51930488     1.484668 \n",
              "loc3:variety6   loc3:variety6    2.00139581     1.484668 \n",
              "loc1:variety7   loc1:variety7   -0.24814169     1.486527 \n",
              "loc2:variety7   loc2:variety7    0.02448159     1.484668 \n",
              "loc3:variety7   loc3:variety7    0.26931475     1.484668 \n",
              "loc1:variety8   loc1:variety8   -1.16573567     1.486527 \n",
              "loc2:variety8   loc2:variety8   -1.13701259     1.484668 \n",
              "loc3:variety8   loc3:variety8   -0.49833815     1.484668 \n",
              "loc1:variety9   loc1:variety9   -0.21589867     1.486527 \n",
              "loc2:variety9   loc2:variety9   -0.03424416     1.484668 \n",
              "loc3:variety9   loc3:variety9    0.29635456     1.484668 \n",
              "loc1:variety10  loc1:variety10  -0.72016792     1.486527 \n",
              "loc2:variety10  loc2:variety10  -0.13207292     1.484668 \n",
              "loc3:variety10  loc3:variety10   0.37506995     1.484668 \n",
              "⋮               ⋮               ⋮               ⋮        \n",
              "loc1:variety111 loc1:variety111 -1.454424e+00   1.486527 \n",
              "loc2:variety111 loc2:variety111 -5.366507e-01   1.484668 \n",
              "loc3:variety111 loc3:variety111 -7.210013e-02   1.484668 \n",
              "loc1:variety112 loc1:variety112  8.184885e-01   1.486527 \n",
              "loc2:variety112 loc2:variety112  1.764123e+00   1.484668 \n",
              "loc3:variety112 loc3:variety112  1.837524e+00   1.484668 \n",
              "loc1:variety113 loc1:variety113 -8.549641e-05   1.486527 \n",
              "loc2:variety113 loc2:variety113  1.991697e-01   1.484668 \n",
              "loc3:variety113 loc3:variety113  1.149873e+00   1.484668 \n",
              "loc1:variety114 loc1:variety114 -2.937789e-01   1.486527 \n",
              "loc2:variety114 loc2:variety114  3.479299e-01   1.484668 \n",
              "loc3:variety114 loc3:variety114  1.010005e+00   1.484668 \n",
              "loc1:variety115 loc1:variety115 -3.700271e-01   1.486527 \n",
              "loc2:variety115 loc2:variety115  1.198881e+00   1.484668 \n",
              "loc3:variety115 loc3:variety115  1.657565e+00   1.484668 \n",
              "loc1:variety116 loc1:variety116  8.554502e-01   1.486527 \n",
              "loc2:variety116 loc2:variety116  9.508614e-01   1.484668 \n",
              "loc3:variety116 loc3:variety116  1.654396e+00   1.484668 \n",
              "loc1:variety117 loc1:variety117 -9.285111e-01   1.486527 \n",
              "loc2:variety117 loc2:variety117 -4.364372e-01   1.484668 \n",
              "loc3:variety117 loc3:variety117  3.394590e-01   1.484668 \n",
              "loc1:variety118 loc1:variety118  6.380794e-01   1.486527 \n",
              "loc2:variety118 loc2:variety118  1.185327e+00   1.484668 \n",
              "loc3:variety118 loc3:variety118  2.256814e+00   1.484668 \n",
              "loc1:variety119 loc1:variety119 -1.429781e+00   1.486527 \n",
              "loc2:variety119 loc2:variety119 -7.504656e-01   1.484668 \n",
              "loc3:variety119 loc3:variety119 -9.278546e-02   1.484668 \n",
              "loc1:variety120 loc1:variety120  1.017620e+00   1.486527 \n",
              "loc2:variety120 loc2:variety120  1.807241e+00   1.484668 \n",
              "loc3:variety120 loc3:variety120  2.763554e+00   1.484668 "
            ]
          },
          "metadata": {},
          "output_type": "display_data"
        }
      ],
      "source": [
        "aCS=sommer::predict.mmer(mgeCS, Dtable=dtCS, D=\"loc:variety\")\n",
        "pCS=aCS$pvals\n",
        "pCS"
      ]
    },
    {
      "cell_type": "markdown",
      "id": "e0358421-ca4b-401d-b2c2-5f1a362f0b4b",
      "metadata": {
        "tags": [],
        "id": "e0358421-ca4b-401d-b2c2-5f1a362f0b4b"
      },
      "source": [
        "For the purposes of calculating the accuracy of the two different models we will use the true values from the input file \"TrueValues.csv\"."
      ]
    },
    {
      "cell_type": "code",
      "execution_count": null,
      "id": "c121b7bd-1677-48a4-998a-439e7a845a3a",
      "metadata": {
        "tags": [],
        "id": "c121b7bd-1677-48a4-998a-439e7a845a3a",
        "outputId": "8444474f-9d7e-417f-d3f3-8dcd40ab93a5"
      },
      "outputs": [
        {
          "data": {
            "text/html": [
              "<table class=\"dataframe\">\n",
              "<caption>A data.frame: 6 × 3</caption>\n",
              "<thead>\n",
              "\t<tr><th></th><th scope=col>Loc</th><th scope=col>Variety</th><th scope=col>TrueGE</th></tr>\n",
              "\t<tr><th></th><th scope=col>&lt;int&gt;</th><th scope=col>&lt;int&gt;</th><th scope=col>&lt;dbl&gt;</th></tr>\n",
              "</thead>\n",
              "<tbody>\n",
              "\t<tr><th scope=row>1</th><td>1</td><td>1</td><td>-0.56891875</td></tr>\n",
              "\t<tr><th scope=row>2</th><td>2</td><td>1</td><td> 0.48991525</td></tr>\n",
              "\t<tr><th scope=row>3</th><td>3</td><td>1</td><td> 1.97575859</td></tr>\n",
              "\t<tr><th scope=row>4</th><td>1</td><td>2</td><td>-1.53729728</td></tr>\n",
              "\t<tr><th scope=row>5</th><td>2</td><td>2</td><td>-0.86216147</td></tr>\n",
              "\t<tr><th scope=row>6</th><td>3</td><td>2</td><td> 0.08524489</td></tr>\n",
              "</tbody>\n",
              "</table>\n"
            ],
            "text/latex": [
              "A data.frame: 6 × 3\n",
              "\\begin{tabular}{r|lll}\n",
              "  & Loc & Variety & TrueGE\\\\\n",
              "  & <int> & <int> & <dbl>\\\\\n",
              "\\hline\n",
              "\t1 & 1 & 1 & -0.56891875\\\\\n",
              "\t2 & 2 & 1 &  0.48991525\\\\\n",
              "\t3 & 3 & 1 &  1.97575859\\\\\n",
              "\t4 & 1 & 2 & -1.53729728\\\\\n",
              "\t5 & 2 & 2 & -0.86216147\\\\\n",
              "\t6 & 3 & 2 &  0.08524489\\\\\n",
              "\\end{tabular}\n"
            ],
            "text/markdown": [
              "\n",
              "A data.frame: 6 × 3\n",
              "\n",
              "| <!--/--> | Loc &lt;int&gt; | Variety &lt;int&gt; | TrueGE &lt;dbl&gt; |\n",
              "|---|---|---|---|\n",
              "| 1 | 1 | 1 | -0.56891875 |\n",
              "| 2 | 2 | 1 |  0.48991525 |\n",
              "| 3 | 3 | 1 |  1.97575859 |\n",
              "| 4 | 1 | 2 | -1.53729728 |\n",
              "| 5 | 2 | 2 | -0.86216147 |\n",
              "| 6 | 3 | 2 |  0.08524489 |\n",
              "\n"
            ],
            "text/plain": [
              "  Loc Variety TrueGE     \n",
              "1 1   1       -0.56891875\n",
              "2 2   1        0.48991525\n",
              "3 3   1        1.97575859\n",
              "4 1   2       -1.53729728\n",
              "5 2   2       -0.86216147\n",
              "6 3   2        0.08524489"
            ]
          },
          "metadata": {},
          "output_type": "display_data"
        }
      ],
      "source": [
        "trueGE=read.csv(\"https://raw.githubusercontent.com/Robbins-Lab/PLSCI-7201/refs/heads/main/Modules/Module7/datasets/TrueValues.csv\",header=TRUE)\n",
        "head(trueGE)"
      ]
    },
    {
      "cell_type": "code",
      "execution_count": null,
      "id": "beeb7619-e64a-4f66-8eef-c5378ad23a00",
      "metadata": {
        "tags": [],
        "id": "beeb7619-e64a-4f66-8eef-c5378ad23a00",
        "outputId": "3b9ceb8c-5604-4d50-f040-b8ead53448fe"
      },
      "outputs": [
        {
          "name": "stdout",
          "output_type": "stream",
          "text": [
            "[1] \"correlation of preditions from model 1 (no GxE) with true values\"\n",
            "[1] 0.6720577\n",
            "[1] \"correlation of GxE preditions\"\n",
            "[1] 0.8501959\n"
          ]
        }
      ],
      "source": [
        "#Printing out the correlations\n",
        "print(\"correlation of preditions from model 1 (no GxE) with true values\")\n",
        "print(cor(pNoGE360,trueGE$TrueGE))\n",
        "print(\"correlation of GxE preditions\")\n",
        "print(cor(pCS$predicted.value,trueGE$TrueGE))"
      ]
    },
    {
      "cell_type": "markdown",
      "id": "0302fe53-32fc-499c-a1c4-0f4b2b2804af",
      "metadata": {
        "id": "0302fe53-32fc-499c-a1c4-0f4b2b2804af"
      },
      "source": [
        "# Random and Fixed Effects\n",
        "When to treat something as a random effect?\n",
        "\n",
        "The decisiosn to treat something as random or fixed in a model is not always clear, but will depend on several factors:\n",
        "\n",
        "**What is the purpose of the analysis, and what will the estimates be used for?**\n",
        "* When conducting hypothesis testing it is often best to treat the effects of interest as fixed to facilitate the use of standard statistical tests (i.e. t-test)\n",
        "* When using the estimates to for ranking (i.e. select the top 10% of all varieties to advance) treating the effect as random can improve accuracy as we have seen in the examples used in this course.\n",
        "\n",
        "**Do you think prior knowledge on the the statistical distribution will improve accuracy?**\n",
        "* We have seen in this course that the use of prior knowledge relating to genetic relatedness can improve accuracy.\n",
        "* The degree to which knowledge of the statistical distribution of a variable will impact the accuracy of estimates depends on the amount of data we have. When estimating the genetic performance of a variety with 100 plots of data, the impact of the prior knowledge of the distribution would be less than if we only had 2 plots of data.\n",
        "* Think of prior iformation on statistical distributions as a suppliment to observed phenotypic data. The less phenotypic data available, on a specific variety for instance, the more the prior knowledge of the statistical distributoin will impact the estimates.\n",
        "\n",
        "**Is there enough information to accurately estimate the paramerters of the the statistical distribution?**\n",
        "* For effects of interest it is important to have reliable estimates of variance and covariance components for the associated statistical distributions.\n",
        "* If I have an experiment with only two environments, I shouldn't expect to get a good variance component estimate for the distribution of environmental effects. In this case it is probably best treat this effect as fixed assuming you have no prior knowledge of the true value of the variance component and have enough data to estimate as a fixed effect.\n"
      ]
    },
    {
      "cell_type": "markdown",
      "id": "9f4ded49-d307-41c2-a496-e18cfe096ef3",
      "metadata": {
        "id": "9f4ded49-d307-41c2-a496-e18cfe096ef3"
      },
      "source": [
        "# Final Activity\n",
        "Insert new code cells in the notebook and modify the code for the compound symetric model to include the genomic relationship matrix for the main effect.\n",
        "\n",
        "Use the predict function to get the GBLUPs and compare the results to model 1 (no GxE) and model 2 (compound symetric with no genomic relationship matrix). **Which model was most accurate? (use model output and correlations with true values to justify your answer**"
      ]
    },
    {
      "cell_type": "code",
      "execution_count": null,
      "id": "c4dd34ee-582c-44e5-92d1-f4ce4e3dd2dd",
      "metadata": {
        "id": "c4dd34ee-582c-44e5-92d1-f4ce4e3dd2dd"
      },
      "outputs": [],
      "source": [
        "#Model 2\n",
        "mgeCSwGRM <- sommer::mmer(phenotype~loc,\n",
        "              random= ~ ,\n",
        "              rcov= ~ units,\n",
        "              data=dataf, verbose = TRUE)\n",
        "#Look at the summary of the results\n",
        "\n",
        "\n",
        "#Generate predictions using the Dtable\n",
        "\n",
        "\n",
        "\n",
        "#Calculate correlations for all model\n",
        "print(\"correlation of predictions from model 1 (no GxE) with true values\")\n",
        "print()\n",
        "print(\"correlation of GxE predictions\")\n",
        "print()\n",
        "print(\"correlation of GxE predictions with GRM\")\n",
        "print()\n",
        "\n"
      ]
    },
    {
      "cell_type": "markdown",
      "id": "0aebfd28-8954-45fa-b453-a53714c5f731",
      "metadata": {
        "id": "0aebfd28-8954-45fa-b453-a53714c5f731"
      },
      "source": [
        "# Answer\n"
      ]
    },
    {
      "cell_type": "code",
      "execution_count": null,
      "id": "d8ec814d-9032-4bbf-a292-2d9d08826c34",
      "metadata": {
        "id": "d8ec814d-9032-4bbf-a292-2d9d08826c34"
      },
      "outputs": [],
      "source": []
    }
  ],
  "metadata": {
    "kernelspec": {
      "display_name": "R",
      "language": "R",
      "name": "ir"
    },
    "language_info": {
      "codemirror_mode": "r",
      "file_extension": ".r",
      "mimetype": "text/x-r-source",
      "name": "R",
      "pygments_lexer": "r",
      "version": "4.3.3"
    },
    "colab": {
      "provenance": []
    }
  },
  "nbformat": 4,
  "nbformat_minor": 5
}