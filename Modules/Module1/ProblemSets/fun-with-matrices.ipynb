{
 "cells": [
  {
   "cell_type": "markdown",
   "id": "20280feb",
   "metadata": {
    "lines_to_next_cell": 0
   },
   "source": [
    "## To answer questions please complete any code cells with \"your code here\" in them. \n",
    "## For any text, insert a Markdown cell beginning with ***answer:***"
   ]
  },
  {
   "cell_type": "markdown",
   "id": "6ed6c4ce-e07f-45e2-a93a-dd7cb6fab28e",
   "metadata": {},
   "source": [
    "# Introduction to Matrix operations\n",
    "\n",
    "Let's review some basic matrix operations.\n",
    "First build the following  3 x 3 matrix \n",
    "$\\mathbf{X} = \\begin{bmatrix} 1 & 2 & 3\\\\4&5&6 \\\\7&8&9 \\end{bmatrix}$\n",
    "\n",
    "by completing this code:\n",
    "```r\n",
    "  mat_vals <- seq()\n",
    "  X <- matrix(mat_vals, nrow=)\n",
    "```\n",
    "\n",
    "Put you code here, and print out your matrix to make sure you got it right!"
   ]
  },
  {
   "cell_type": "code",
   "execution_count": null,
   "id": "b809d907",
   "metadata": {
    "lines_to_next_cell": 2
   },
   "outputs": [],
   "source": [
    "# Your code here\n"
   ]
  },
  {
   "cell_type": "markdown",
   "id": "bead465b",
   "metadata": {
    "lines_to_next_cell": 0
   },
   "source": [
    "Add $\\mathbf{X}$ to $\\mathbf{Y}$ and store it as $\\mathbf{Z1}$. "
   ]
  },
  {
   "cell_type": "code",
   "execution_count": null,
   "id": "fe85a39c",
   "metadata": {
    "tags": []
   },
   "outputs": [],
   "source": [
    "Y <- 15:23\n",
    "dim(Y) <- c(3,3)\n",
    "# Your code here\n"
   ]
  },
  {
   "cell_type": "markdown",
   "id": "881b50a1",
   "metadata": {
    "lines_to_next_cell": 0,
    "tags": []
   },
   "source": [
    "Add $\\mathbf{Y}$ to $\\mathbf{X}$ and store it as $\\mathbf{Z2}$."
   ]
  },
  {
   "cell_type": "code",
   "execution_count": null,
   "id": "f4b889ee",
   "metadata": {},
   "outputs": [],
   "source": [
    "# Your code here"
   ]
  },
  {
   "cell_type": "markdown",
   "id": "b0106f11",
   "metadata": {
    "lines_to_next_cell": 0
   },
   "source": [
    "Use the identical() function to test if $\\mathbf{Z1} = \\mathbf{Z2}$ "
   ]
  },
  {
   "cell_type": "code",
   "execution_count": null,
   "id": "7762bf06",
   "metadata": {
    "lines_to_next_cell": 2
   },
   "outputs": [],
   "source": [
    "# Your code here\n"
   ]
  },
  {
   "cell_type": "markdown",
   "id": "98964c2b",
   "metadata": {
    "lines_to_next_cell": 0
   },
   "source": [
    "**What does this demonstrate about matrix addition?**\n",
    "\n",
    "Now lets try matrix multiplication using the operator\n",
    "```r \n",
    "%*%\n",
    "``` \n",
    "Matrix multiple $\\mathbf{Y}\\mathbf{X}$ and store it as a variable named YX"
   ]
  },
  {
   "cell_type": "code",
   "execution_count": null,
   "id": "e50555dd",
   "metadata": {},
   "outputs": [],
   "source": [
    "# Your code here\n"
   ]
  },
  {
   "cell_type": "markdown",
   "id": "9fa7df87",
   "metadata": {
    "lines_to_next_cell": 0
   },
   "source": [
    "Multiply $\\mathbf{X}\\mathbf{Y}$ and store it as a variable name XY"
   ]
  },
  {
   "cell_type": "code",
   "execution_count": null,
   "id": "3409778e",
   "metadata": {
    "lines_to_next_cell": 2
   },
   "outputs": [],
   "source": [
    "# Your code here\n"
   ]
  },
  {
   "cell_type": "markdown",
   "id": "6bd0d251",
   "metadata": {
    "lines_to_next_cell": 0
   },
   "source": [
    "**Are these matrices the same? What does this demonstrate?**"
   ]
  },
  {
   "cell_type": "code",
   "execution_count": null,
   "id": "c7785f2f",
   "metadata": {
    "lines_to_next_cell": 2
   },
   "outputs": [],
   "source": [
    "# Your code here\n"
   ]
  },
  {
   "cell_type": "markdown",
   "id": "ea123cba",
   "metadata": {
    "lines_to_next_cell": 0
   },
   "source": [
    "Make a 3 x 3 identity matrix ($\\mathbf{I}$) using the diag() function and store it as variable I"
   ]
  },
  {
   "cell_type": "code",
   "execution_count": null,
   "id": "f69fdfde",
   "metadata": {
    "lines_to_next_cell": 2
   },
   "outputs": [],
   "source": [
    "# Your code here"
   ]
  },
  {
   "cell_type": "markdown",
   "id": "8330cc8b",
   "metadata": {
    "lines_to_next_cell": 0
   },
   "source": [
    "Matrix multiply  $\\mathbf{I}$ by $\\mathbf{X}$"
   ]
  },
  {
   "cell_type": "code",
   "execution_count": null,
   "id": "f56e85de",
   "metadata": {
    "lines_to_next_cell": 2
   },
   "outputs": [],
   "source": [
    "# Your code here\n"
   ]
  },
  {
   "cell_type": "markdown",
   "id": "7e946c5c",
   "metadata": {},
   "source": [
    "**How is $\\mathbf{X}$ transformed when multiplied by $\\mathbf{I}$?**\n",
    "\n",
    "Let's try multiplying $\\mathbf{X}$ by a new matrix, $\\mathbf{B}$, and also\n",
    "try adding $\\mathbf{X}$ and  $\\mathbf{B}$ below **Note: This will not work.**\n",
    "Change the code that creates $\\mathbf{B}$, so that both addition and \n",
    "multiplication work."
   ]
  },
  {
   "cell_type": "code",
   "execution_count": null,
   "id": "b8d2c090",
   "metadata": {
    "lines_to_next_cell": 2
   },
   "outputs": [],
   "source": [
    "B <- matrix(c(1,2,2,1), nrow=2)"
   ]
  },
  {
   "cell_type": "markdown",
   "id": "55935f24",
   "metadata": {
    "lines_to_next_cell": 0
   },
   "source": [
    "**What error messages did you get when trying these operations? What do the messages mean\n",
    "and how did you fix $\\mathbf{B}$ so that the operations worked?**\n"
   ]
  },
  {
   "cell_type": "markdown",
   "id": "a875c880-a896-4208-8eb8-fb290a213ac7",
   "metadata": {},
   "source": [
    "# Calulating the inverse of a matrix\n",
    "## In Matrix Algebra the inverse is equivalent to dividing\n",
    "## In R the function `solve()` is used to calculate the inverse"
   ]
  },
  {
   "cell_type": "markdown",
   "id": "e6293cf1-2689-4163-a894-41d6227b3396",
   "metadata": {},
   "source": [
    "In the code cell below take the inverse of $\\mathbf{C}$ and save it as $\\mathbf{Cinv}$ often denoted as $\\mathbf{C^{-1}}$"
   ]
  },
  {
   "cell_type": "code",
   "execution_count": 2,
   "id": "d4dceb75-471f-4530-aefc-dc75603a68cb",
   "metadata": {},
   "outputs": [],
   "source": [
    "mat_vals=c(3,0,0,0,2,1,0,1,2)\n",
    "C<-matrix(mat_vals, nrow=3)\n",
    "# your code here"
   ]
  },
  {
   "cell_type": "markdown",
   "id": "0d0b994c-6317-4258-b4e9-20716ad37d7e",
   "metadata": {},
   "source": [
    "Now multiply $\\mathbf{C}\\mathbf{C^{-1}}$ and $\\mathbf{C^{-1}}\\mathbf{C}$. What is the result?"
   ]
  },
  {
   "cell_type": "code",
   "execution_count": null,
   "id": "3986ad1b-5397-48b1-b3dd-c6e368577a89",
   "metadata": {},
   "outputs": [],
   "source": [
    "#your code here"
   ]
  },
  {
   "cell_type": "markdown",
   "id": "cb631a85-1de0-4d71-a5f9-9a44406c0f96",
   "metadata": {},
   "source": [
    "# Calculating a mean"
   ]
  },
  {
   "cell_type": "code",
   "execution_count": 1,
   "id": "914fc59a",
   "metadata": {
    "echo": false
   },
   "outputs": [
    {
     "data": {
      "image/png": "[encoded data removed]",
      "text/plain": [
       "Plot with title “A Distribution”"
      ]
     },
     "metadata": {
      "image/png": {
       "height": 420,
       "width": 420
      }
     },
     "output_type": "display_data"
    }
   ],
   "source": [
    "\n",
    "hist(rnorm(100), main=\"A Distribution\", xlab=\"Variable x\")\n"
   ]
  },
  {
   "cell_type": "markdown",
   "id": "5348aaf4",
   "metadata": {
    "lines_to_next_cell": 0,
    "tags": []
   },
   "source": [
    "The width of the distribution is related to its **variance** and the center by its\n",
    "**mean**. The mean of a sample x ($\\mu_x$) is calculated as \n",
    "$\\frac{\\Sigma x_{i}}{n}$.\n",
    "\n",
    "The vector $x$ below corresponds to a sample of x. Complete the following code\n",
    "to calculated the mean of $x$.\n",
    "```r\n",
    "# sampling 20 values from a normal distribution with mean=3 and variance=1\n",
    "x <- rnorm(20,3,1)\n",
    "mu_x <- sum()/length()\n",
    "mu_x\n",
    "```"
   ]
  },
  {
   "cell_type": "code",
   "execution_count": null,
   "id": "1b2b95a1",
   "metadata": {},
   "outputs": [],
   "source": [
    "x <- rnorm(20,3,1)\n",
    "# Your code here"
   ]
  },
  {
   "cell_type": "markdown",
   "id": "28b89841",
   "metadata": {
    "lines_to_next_cell": 0
   },
   "source": [
    "Use the R function mean() to check your answer"
   ]
  },
  {
   "cell_type": "code",
   "execution_count": null,
   "id": "fcc1d66e",
   "metadata": {
    "lines_to_next_cell": 2
   },
   "outputs": [],
   "source": [
    "# Your code here"
   ]
  },
  {
   "cell_type": "markdown",
   "id": "e72a9a0b",
   "metadata": {
    "lines_to_next_cell": 0
   },
   "source": [
    "Now let's use matrix/vector multiplication to calculate the mean. Creat a vector $a$ such that $a^{t}x is equal to the sum of x. "
   ]
  },
  {
   "cell_type": "code",
   "execution_count": null,
   "id": "cc13b696",
   "metadata": {
    "lines_to_next_cell": 0
   },
   "outputs": [],
   "source": [
    "# Your code here"
   ]
  },
  {
   "cell_type": "markdown",
   "id": "bf894ca2",
   "metadata": {},
   "source": [
    "Use the R function sum() to check your answer."
   ]
  },
  {
   "cell_type": "code",
   "execution_count": null,
   "id": "a5551289",
   "metadata": {},
   "outputs": [],
   "source": [
    "# Your code here\n"
   ]
  },
  {
   "cell_type": "markdown",
   "id": "6a318f97",
   "metadata": {
    "lines_to_next_cell": 0
   },
   "source": [
    "Finally caculate the mean of $x$ as $\\frac{a^{t}x}{n}$ "
   ]
  },
  {
   "cell_type": "code",
   "execution_count": null,
   "id": "c0e75130",
   "metadata": {},
   "outputs": [],
   "source": [
    "# Your code here"
   ]
  }
 ],
 "metadata": {
  "jupytext": {
   "cell_metadata_filter": "echo,tags,-all",
   "main_language": "R",
   "notebook_metadata_filter": "-all"
  },
  "kernelspec": {
   "display_name": "R",
   "language": "R",
   "name": "ir"
  },
  "language_info": {
   "codemirror_mode": "r",
   "file_extension": ".r",
   "mimetype": "text/x-r-source",
   "name": "R",
   "pygments_lexer": "r",
   "version": "4.3.3"
  }
 },
 "nbformat": 4,
 "nbformat_minor": 5
}
