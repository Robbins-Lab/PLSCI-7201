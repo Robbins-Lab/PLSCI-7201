{
 "cells": [
  {
   "cell_type": "markdown",
   "id": "f66545ab",
   "metadata": {
    "lines_to_next_cell": 0
   },
   "source": [
    "\n",
    "# Hello Jupyter!"
   ]
  },
  {
   "cell_type": "markdown",
   "id": "bc351e07-8782-458b-9169-83e011c5b1cf",
   "metadata": {},
   "source": [
    "# A Jupyter notebook is a series of \"cells\" that can be:\n",
    "### **Code** (mostly R in this class but some Python) - When creating a new notebook you specify the coding language\n",
    "### **Raw** - This cell simply displays raw unformatted text - good for simple comments if you don't want to use Markdown\n",
    "### **Markdown** - Markdown provides functionality to format text and write equations (among other things). \n",
    "### This cell is written in Markdown\n",
    "__________________"
   ]
  },
  {
   "cell_type": "markdown",
   "id": "8748644d-ce30-4d75-a5bf-6601a72ef2fe",
   "metadata": {},
   "source": [
    "# **Markdown** takes some time to master but here is a quick reference guide to get you started:\n",
    "## https://www.markdownguide.org/basic-syntax/\n",
    "____________"
   ]
  },
  {
   "cell_type": "markdown",
   "id": "e8c05880-32ad-4563-a458-a72eb07aae8d",
   "metadata": {},
   "source": [
    "# Why are we using Jupyter for this class?\n",
    "## It enables me to present a formated presentation with *live* code cells\n",
    "### - Let's us practice and reinforce concepts as we cover them.\n",
    "### - Breaks up the time in class (No one wants to listen to a two hour lecture on statistics).\n",
    "### - Provides a nice template for those that are new to coding. "
   ]
  },
  {
   "cell_type": "markdown",
   "id": "ee3eb35c",
   "metadata": {},
   "source": [
    "# Let's create a new cell and run the R Code below.\n",
    "## Some R code\n",
    "```r\n",
    " X=rnorm(100,0,1)\n",
    " hist(X, main=\"A Histogram\", xlab=\"Value\", ylab=\"Frequency\")\n",
    "\n",
    "```"
   ]
  },
  {
   "cell_type": "code",
   "execution_count": null,
   "id": "93c1b50f-8bcd-4668-8955-030fafdc747b",
   "metadata": {},
   "outputs": [],
   "source": []
  }
 ],
 "metadata": {
  "jupytext": {
   "cell_metadata_filter": "-all",
   "main_language": "R",
   "notebook_metadata_filter": "-all"
  },
  "kernelspec": {
   "display_name": "R",
   "language": "R",
   "name": "ir"
  },
  "language_info": {
   "codemirror_mode": "r",
   "file_extension": ".r",
   "mimetype": "text/x-r-source",
   "name": "R",
   "pygments_lexer": "r",
   "version": "4.3.3"
  }
 },
 "nbformat": 4,
 "nbformat_minor": 5
}
