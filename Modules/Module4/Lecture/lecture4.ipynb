{
 "cells": [
  {
   "cell_type": "markdown",
   "id": "b2686fd5",
   "metadata": {
    "lines_to_next_cell": 0,
    "tags": []
   },
   "source": [
    "# OLS Recap\n",
    "\n",
    "- ### The goal of OLS is to find the best linear fit to the data\n",
    "- ### Coefficients $\\beta$ are given by $(\\mathbf{X}'\\mathbf{X})^{-1}\\mathbf{X}'y$\n",
    "- ### Derived from minimizing sum of squares\n",
    "- ### Also referred to as BLUEs\n",
    "- ### Called regression when the independent variable is quantitative\n",
    "\n",
    "\n"
   ]
  },
  {
   "cell_type": "code",
   "execution_count": null,
   "id": "0dc2ae53",
   "metadata": {
    "echo": false,
    "message": false,
    "tags": []
   },
   "outputs": [],
   "source": [
    "library(tidyverse)\n",
    "orange.dat <- read.csv(\"datasets/orange.csv\", stringsAsFactors=F)\n",
    "orange.dat$Tree <- as.factor(orange.dat$Tree)\n",
    "p1 <- ggplot(orange.dat, aes(x=age, y=circumference)) +\n",
    "             geom_point() + xlab(\"Tree age\") + ylab(\"Circumference\") +\n",
    "            ggtitle(\"Orange Tree age vs. circumference\") +\n",
    "            geom_smooth(method = \"lm\", se = FALSE) +\n",
    "            theme_bw(base_size=18) +\n",
    "            theme(panel.background=element_blank(),\n",
    "                  panel.grid=element_blank(),\n",
    "                  plot.title=element_text(hjust=0.5))\n",
    "p1\n"
   ]
  },
  {
   "cell_type": "markdown",
   "id": "6f3f7991",
   "metadata": {},
   "source": [
    "\n",
    "---\n",
    "# OLS Recap\n",
    "\n",
    "- ### When there are multiple independent variables we use the term multiple linear regression\n",
    "\n",
    "![](images/mlr.png)\n",
    "---\n",
    "# Design matrix $\\mathbf{X}$\n",
    "\n",
    "\n",
    "- ### Relates observations in $y$ to explanatory variables \n",
    "\n",
    "\n",
    "\n",
    "### $y_{1} = \\mathbf{1}*\\mu_{blue} + \\mathbf{0}*\\mu_{red} + e$\n",
    "### $y_{2} = \\mathbf{1}*\\mu_{blue} + \\mathbf{0}*\\mu_{red} + e$\n",
    "### $y_{3} = \\mathbf{0}*\\mu_{blue} + \\mathbf{1}*\\mu_{red} + e$\n",
    "### $y_{4} = \\mathbf{0}*\\mu_{blue} + \\mathbf{1}*\\mu_{red} + e$\n",
    "\n",
    "\n",
    "---\n",
    "# Design matrix $\\mathbf{X}$\n",
    "\n",
    "\n",
    "- ### Relates observations in $y$ to explanatory variables \n",
    "\n",
    "\n",
    "\n",
    "\\begin{equation}\n",
    "  \\mathbf{X} =\n",
    "  \\begin{bmatrix}\n",
    "    1 & 0  \\\\\n",
    "    1 & 0 \\\\\n",
    "    0 & 1 \\\\\n",
    "    0 & 1 \\\\\n",
    "  \\end{bmatrix}\n",
    "\\end{equation}\n",
    "\n",
    "---\n",
    "# Alternative parameterizations\n",
    "\n",
    "\n",
    "### Cell means \n",
    "\n",
    "### $y_{ij} = \\mu_{i} + e_{ij}$\n",
    "\n",
    "\\begin{equation}\n",
    "  \\begin{bmatrix}\n",
    "    1 & 0  \\\\\n",
    "    1 & 0 \\\\\n",
    "    0 & 1 \\\\\n",
    "    0 & 1 \\\\\n",
    "  \\end{bmatrix}\n",
    "\\end{equation}\n",
    "\n",
    "\n",
    "\n",
    "\n",
    "### Additive\n",
    "\n",
    "### $y_{ij} = \\mu + \\alpha_{i} + e_{ij}$\n",
    "\\begin{equation}\n",
    "  \\begin{bmatrix}\n",
    "    1 & 0  \\\\\n",
    "    1 & 0 \\\\\n",
    "    1 & 1 \\\\\n",
    "    1 & 1 \\\\\n",
    "  \\end{bmatrix}\n",
    "\\end{equation}\n",
    "\n",
    "\n",
    "\n"
   ]
  },
  {
   "cell_type": "markdown",
   "id": "d4e36368",
   "metadata": {
    "lines_to_next_cell": 0
   },
   "source": [
    "---\n",
    "# Design matrix $\\mathbf{X}$\n",
    "\n",
    "\n",
    "- ### We have been building the design matrix for categorical variables, what if the variable is quantitative?\n",
    "\n",
    "\n",
    "\n"
   ]
  },
  {
   "cell_type": "markdown",
   "id": "823433ef-ea76-46dd-bff2-b5f5b2ebbc9c",
   "metadata": {},
   "source": [
    "---\n",
    "# Examples"
   ]
  },
  {
   "cell_type": "code",
   "execution_count": null,
   "id": "6d04d052",
   "metadata": {
    "echo": false,
    "lines_to_next_cell": 2
   },
   "outputs": [],
   "source": [
    "head(model.matrix(~age, data=orange.dat), n=20)\n"
   ]
  },
  {
   "cell_type": "code",
   "execution_count": null,
   "id": "f49092f3-a1e0-44c5-ab74-00ca9ddeb530",
   "metadata": {},
   "outputs": [],
   "source": [
    "head(model.matrix(~age + Tree, data=orange.dat), n=20)"
   ]
  },
  {
   "cell_type": "code",
   "execution_count": null,
   "id": "bf100815",
   "metadata": {
    "echo": false,
    "lines_to_next_cell": 2
   },
   "outputs": [],
   "source": [
    "head(model.matrix(~age:Tree + Tree, data=orange.dat), n=20)"
   ]
  },
  {
   "cell_type": "code",
   "execution_count": null,
   "id": "a2ec72b3",
   "metadata": {
    "echo": false,
    "jupyter": {
     "source_hidden": true
    },
    "lines_to_next_cell": 2,
    "message": false
   },
   "outputs": [],
   "source": [
    "p2 <- ggplot(orange.dat, aes(x=age, y=circumference, color=Tree)) +\n",
    "             geom_point() + xlab(\"Tree age\") + ylab(\"Circumference\") +\n",
    "            ggtitle(\"Orange Tree age vs. circumference\") +\n",
    "            geom_smooth(method = \"lm\", se = FALSE) +\n",
    "            theme_bw(base_size=18) +\n",
    "            theme(panel.background=element_blank(),\n",
    "                  panel.grid=element_blank(),\n",
    "                  plot.title=element_text(hjust=0.5))\n",
    "p2"
   ]
  },
  {
   "cell_type": "markdown",
   "id": "949afb8b",
   "metadata": {
    "lines_to_next_cell": 0
   },
   "source": [
    "\n",
    "---\n",
    "# Model equations\n",
    "\n",
    "- ### Simple linear regression \n",
    " + ### $y_{i} = \\beta_{0} + x\\beta_{i1} + e$\n",
    " \n",
    "- ### Multiple linear regression \n",
    " + ### $y_{i}= \\beta_{0} + x\\beta_{i1} + x\\beta_{i2} + x\\beta_{i3} + e$\n",
    " \n",
    "---\n",
    "# Fixed effects model\n",
    "\n",
    "- ### With OLS we have been estimating fixed effects\n",
    "- ### $\\beta$ does not vary\n",
    "- ### $y \\sim N(\\mathbf{X}\\beta, \\sigma^{2})$\n",
    "\n",
    "\n",
    "### $y_{1} = \\mathbf{1}*\\mu_{blue} + \\mathbf{0}*\\mu_{red} + e$\n",
    "### $y_{2} = \\mathbf{1}*\\mu_{blue} + \\mathbf{0}*\\mu_{red} + e$\n",
    "### $y_{3} = \\mathbf{0}*\\mu_{blue} + \\mathbf{1}*\\mu_{red} + e$\n",
    "### $y_{4} = \\mathbf{0}*\\mu_{blue} + \\mathbf{1}*\\mu_{red} + e$\n",
    "\n",
    "\n",
    "\n",
    "---\n",
    "# How well are we modeling the data?\n",
    "\n"
   ]
  },
  {
   "cell_type": "code",
   "execution_count": null,
   "id": "fff78513",
   "metadata": {
    "echo": false,
    "lines_to_next_cell": 0,
    "message": false
   },
   "outputs": [],
   "source": [
    "p1"
   ]
  },
  {
   "cell_type": "code",
   "execution_count": null,
   "id": "b2269363",
   "metadata": {
    "echo": false,
    "message": false
   },
   "outputs": [],
   "source": [
    "set.seed(100)\n",
    "bad.dat <- data.frame(age=rnorm(40, 800),\n",
    "                      circumference=rnorm(40, 125))\n",
    "p3 <- ggplot(bad.dat, aes(x=age, y=circumference)) +\n",
    "             geom_point() + xlab(\"Tree age\") + ylab(\"Circumference\") +\n",
    "            ggtitle(\"Orange Tree age vs. circumference\") +\n",
    "            geom_smooth(method = \"lm\", se = FALSE) +\n",
    "            theme_bw(base_size=18) +\n",
    "            theme(panel.background=element_blank(),\n",
    "                  panel.grid=element_blank(),\n",
    "                  plot.title=element_text(hjust=0.5))\n",
    "p3"
   ]
  },
  {
   "cell_type": "markdown",
   "id": "995614aa",
   "metadata": {},
   "source": [
    "\n",
    "---\n",
    "# How well are we modeling the data?\n",
    "\n",
    "\n",
    "- #### $SS_{Total} = (data-mean)^{2}$\n",
    "- #### $SS_{Error}= (data-line)^{2}$\n",
    "- #### $R^{2} = \\frac{SS_{Total} - SS_{Error}}{SS(Total)}$\n",
    "\n",
    "\n",
    "![](images/R.png)\n",
    "\n",
    "```r\n",
    "SSTotal = (y - mean(y)) ** 2\n",
    "```\n",
    "\n",
    "]\n",
    "\n",
    "---\n",
    "# How well are we modeling the data?\n",
    "\n",
    "### $SS_{Total} = SS_{Regression} + SS_{Error}$\n",
    "\n",
    "### Total variability in y = varibility explained by model + unexplained variability\n",
    "\n",
    "![](images/table.png)\n",
    "\n",
    "### **Is the realationship we have modeled significant?**"
   ]
  },
  {
   "cell_type": "markdown",
   "id": "b0270d42",
   "metadata": {},
   "source": [
    "---\n",
    "# ANOVA\n",
    "\n",
    "- ### Analysis of Variance \n",
    "- ### The same as regression on dummy variables\n",
    "               \n",
    "---\n",
    "# Hypothesis testing\n",
    "                                        \n",
    "- ### Assuming some null hypothesis, how likely is our estimate\n",
    " + ### $H_{o}$ = null hypothesis and $H_{a}$ = alternative hypothesis\n",
    "- ### Examples\n",
    " + ### $\\beta_{1} = 0$                                      \n",
    " + ### $\\beta_{1} = \\beta_{2}$\n",
    " + ### $\\mu_{1} = \\mu_{2} = \\mu_{3} = \\mu_{4}$\n",
    "\n",
    "---\n",
    "# Hypothesis test \n",
    "\n",
    "\n",
    "![](images/tails.jpg)\n",
    "\n",
    "\n",
    "---\n",
    "# Z test\n",
    "\n",
    "### **We take a sample. What is the probablility that our sample mean is different from the poulation mean?**\n",
    "- ### Sample mean $\\bar{x} = 1.702$\n",
    "- ### Sample size $n=50$\n",
    "- ### Population mean $\\mu=1.700$\n",
    "- ### Population variance $\\sigma^{2}=0.0625$\n",
    "- ### Standard Error (SE) $\\frac{\\sigma}{\\sqrt(n)}$\n",
    "\n",
    "\n",
    "\\begin{equation}\n",
    "Z = \\frac{\\bar{x} - \\mu}{\\frac{\\sigma}{\\sqrt{n}}}\n",
    "\\end{equation}"
   ]
  },
  {
   "cell_type": "code",
   "execution_count": null,
   "id": "dc70d55a",
   "metadata": {
    "echo": true,
    "lines_to_next_cell": 2
   },
   "outputs": [],
   "source": [
    "z_stat = (1.702 - 1.7)/(sqrt(0.0625)/sqrt(50))\n",
    "z_stat\n"
   ]
  },
  {
   "cell_type": "code",
   "execution_count": null,
   "id": "c43dc9a9",
   "metadata": {},
   "outputs": [],
   "source": [
    "pval =(1 -pnorm(z_stat)) * 2\n",
    "pval\n"
   ]
  },
  {
   "cell_type": "markdown",
   "id": "e83bde50",
   "metadata": {},
   "source": [
    "\n",
    "---\n",
    "# More on Standard errors\n",
    "\n",
    "\n",
    "- ### Standard deviation is the square root of the sample variance\n",
    "- ### Standard error (SE) is the square root of sample means variance\n",
    "- ### In practice SE is estimated from a single sample\n"
   ]
  },
  {
   "cell_type": "code",
   "execution_count": null,
   "id": "a6a03154",
   "metadata": {
    "echo": false,
    "lines_to_next_cell": 2
   },
   "outputs": [],
   "source": [
    "set.seed(100)\n",
    "pop <- rnorm(10000)\n",
    "hist(pop, xlab=\"\", ylab=\"\", main=\"Population\")\n",
    "print(paste(\"Population sd:\", sd(pop)))\n"
   ]
  },
  {
   "cell_type": "markdown",
   "id": "bb37a8c0",
   "metadata": {},
   "source": [
    "\n",
    "\n",
    "---\n",
    "# More on Standard errors\n",
    "\n",
    "- ### Standard deviation is the square root of the sample variance\n",
    "- ### Standard error (SE) is the square root of sample means\n",
    "- ### In practice SE is estimated from a single sample\n",
    "\n"
   ]
  },
  {
   "cell_type": "code",
   "execution_count": null,
   "id": "7278570e",
   "metadata": {
    "echo": false,
    "lines_to_next_cell": 2
   },
   "outputs": [],
   "source": [
    "samples <- c()\n",
    "for(i in 1:1000){\n",
    "  samples <- c(samples, mean(sample(pop, 10, replace=T)))\n",
    "}\n",
    "hist(samples, xlab=\"\", ylab=\"\", main=\"Distirbution of Sample Means\")\n",
    "sd(samples)"
   ]
  },
  {
   "cell_type": "markdown",
   "id": "c6e72cc1",
   "metadata": {},
   "source": [
    "\n",
    "\n",
    "---\n",
    "# t distribution\n",
    "\n",
    "- ### In practice we do not know $\\sigma$, it must be estimated from our sample $\\hat{\\sigma}$\n",
    "- ### Additionally sample sizes are often small\n",
    "- ### t-distribution better accommodates uncertainty \n",
    "\n",
    "\n",
    "![](images/t_dist.png)\n",
    "\n",
    "---\n",
    "# Back to our regression model\n",
    "\n",
    "### **How do we get a p-value?**\n",
    "\n",
    "![](images/table.png)\n",
    "\n",
    "---\n",
    "# F distribution\n",
    "\n",
    "- ###  F-statistic = $\\frac{MSR}{MSE}$\n",
    "- ### F - distribution is parameterized by $df_{Regression}$ and $df_{Error}$\n",
    "\n",
    "\n",
    "![](images/f.png)\n"
   ]
  },
  {
   "cell_type": "markdown",
   "id": "439342ea",
   "metadata": {},
   "source": [
    "---\n",
    "# Model comparison\n",
    "\n",
    "### Full model\n",
    "\n",
    "### $y_{i}= \\beta_{0} + x\\beta_{i1} + x\\beta_{i2} + x\\beta_{i3} + e$\n",
    "\n",
    "### Reduced model \n",
    "\n",
    "### $y_{i}= \\beta_{0} + x\\beta_{i1} + e$\n",
    "\n",
    "\\begin{equation}\n",
    "F = \\frac{(SSE(Reduced) - SSE(Full))/ (df_{Reduced} - df_{full})}{SSE(Full)/df_{Full}}\n",
    "\\end{equation}\n",
    "\n",
    "###  **What is the null hypothesis being tested?**\n"
   ]
  }
 ],
 "metadata": {
  "jupytext": {
   "cell_metadata_filter": "message,echo,-all",
   "main_language": "R",
   "notebook_metadata_filter": "-all"
  },
  "kernelspec": {
   "display_name": "R",
   "language": "R",
   "name": "ir"
  },
  "language_info": {
   "codemirror_mode": "r",
   "file_extension": ".r",
   "mimetype": "text/x-r-source",
   "name": "R",
   "pygments_lexer": "r",
   "version": "4.3.3"
  }
 },
 "nbformat": 4,
 "nbformat_minor": 5
}
