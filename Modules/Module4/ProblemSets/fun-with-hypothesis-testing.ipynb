{
 "cells": [
  {
   "cell_type": "markdown",
   "id": "f7e17a5f",
   "metadata": {
    "lines_to_next_cell": 0
   },
   "source": [
    "# Part 1 Factors\n",
    "\n",
    "**Read in the data set oranges.csv using the default settings of read.csv(). Save to the variable orange.dat**"
   ]
  },
  {
   "cell_type": "code",
   "execution_count": null,
   "id": "3075b674",
   "metadata": {},
   "outputs": [],
   "source": [
    "# Your code here\n",
    "orange.dat <- read.csv(\"orange.csv\")"
   ]
  },
  {
   "cell_type": "markdown",
   "id": "3dce0e98",
   "metadata": {
    "lines_to_next_cell": 0
   },
   "source": [
    "After you read in a data set, your next step should always be to inspect the\n",
    "data set using str(). **Print out the results of running str() on your data set. What information is provided?**"
   ]
  },
  {
   "cell_type": "code",
   "execution_count": null,
   "id": "17499354",
   "metadata": {
    "lines_to_next_cell": 0
   },
   "outputs": [],
   "source": [
    "# Your code here\n",
    "str(orange.dat)\n",
    "orange.dat$Tree"
   ]
  },
  {
   "cell_type": "markdown",
   "id": "1614cb6c",
   "metadata": {
    "lines_to_next_cell": 0
   },
   "source": [
    "The column names, data types, and number of observations are given.\n",
    "\n",
    "What were the data types of Tree and season? **Change these vectors to type factor using as.factor().**"
   ]
  },
  {
   "cell_type": "code",
   "execution_count": null,
   "id": "f31e0d05",
   "metadata": {},
   "outputs": [],
   "source": [
    "# Your code here\n",
    "orange.dat$Season <- as.factor(orange.dat$Season)\n",
    "orange.dat$Tree <- as.factor(orange.dat$Tree)"
   ]
  },
  {
   "cell_type": "markdown",
   "id": "842f21e8",
   "metadata": {
    "lines_to_next_cell": 0
   },
   "source": [
    "They are of type int, but should be factors.\n",
    "\n",
    "**Add a new column named TreeID that is the Tree factor plus \"Tree\".**\n",
    "For example, \"Tree1\"."
   ]
  },
  {
   "cell_type": "code",
   "execution_count": null,
   "id": "a0660c7e",
   "metadata": {
    "lines_to_next_cell": 2
   },
   "outputs": [],
   "source": [
    "# Your code here\n",
    "orange.dat$TreeID <- paste(\"Tree\", orange.dat$Tree)\n",
    "orange.dat"
   ]
  },
  {
   "cell_type": "markdown",
   "id": "6a67780f",
   "metadata": {
    "lines_to_next_cell": 0
   },
   "source": [
    "Try to convert TreeID to a numeric using as.numeric(). Then try converting\n",
    "TreeID first to a factor and then to numeric.**What does this tell you about how factors are represented in R?**"
   ]
  },
  {
   "cell_type": "code",
   "execution_count": null,
   "id": "4340b66d",
   "metadata": {},
   "outputs": [],
   "source": [
    "# Your code here\n",
    "# as.numeric(orange.data$TreeID)\n",
    "as.numeric(as.factor(orange.dat$TreeID))"
   ]
  },
  {
   "cell_type": "markdown",
   "id": "7a780f93",
   "metadata": {
    "lines_to_next_cell": 0
   },
   "source": [
    "Factors are not treated in the same way as characters.\n",
    "\n",
    "Use the function model.matrix to construct a design matrix for a model \n",
    "that regresses circumference on age, tree, and season. \n",
    "**Create both parameterizions discussed using model.matrix(\\~formula) and model.matrix(~formula-1). Print both matrices out and interpret both design matrices. What does the intercept term represent?**"
   ]
  },
  {
   "cell_type": "code",
   "execution_count": null,
   "id": "9c60ede1",
   "metadata": {
    "lines_to_next_cell": 0
   },
   "outputs": [],
   "source": [
    "# Your code here\n",
    "model.matrix(~age + Tree + Season, data=orange.dat)\n",
    "\n",
    "model.matrix(~age + Tree + Season - 1, data=orange.dat)"
   ]
  },
  {
   "cell_type": "markdown",
   "id": "0bacd76b",
   "metadata": {},
   "source": []
  },
  {
   "cell_type": "markdown",
   "id": "b825af3c",
   "metadata": {
    "lines_to_next_cell": 0
   },
   "source": [
    "# Part 2 Hypothesis Testing\n",
    "\n",
    "Using the orange data set, create two variables Tree1 and Tree2, with the circumferences\n",
    "from each. "
   ]
  },
  {
   "cell_type": "code",
   "execution_count": null,
   "id": "02091062",
   "metadata": {
    "lines_to_next_cell": 2
   },
   "outputs": [],
   "source": [
    "# Your code here"
   ]
  },
  {
   "cell_type": "markdown",
   "id": "a671f19d",
   "metadata": {
    "lines_to_next_cell": 0
   },
   "source": [
    "Test for the significance of the difference between both groups using a two-sample\n",
    "z-test. **Calculate the z statistic and then the p-value using pnorm(). State the null hypothesis and whether or not you reject it. (1 pt)** "
   ]
  },
  {
   "cell_type": "code",
   "execution_count": null,
   "id": "39d59788",
   "metadata": {
    "lines_to_next_cell": 2
   },
   "outputs": [],
   "source": [
    "# Your code here"
   ]
  },
  {
   "cell_type": "markdown",
   "id": "61c57262",
   "metadata": {
    "lines_to_next_cell": 0
   },
   "source": [
    "Do a t test instead of a z test using t.test(). **Compare the p-value you obtained from the z test with the t-test and explain why they are different. Which test is more appropriate?(2 pt)**"
   ]
  },
  {
   "cell_type": "code",
   "execution_count": null,
   "id": "3322a619",
   "metadata": {
    "lines_to_next_cell": 2
   },
   "outputs": [],
   "source": [
    "# Your code here"
   ]
  },
  {
   "cell_type": "markdown",
   "id": "9644ff8d",
   "metadata": {
    "lines_to_next_cell": 0
   },
   "source": [
    "Now we will use the functions lm and aov(). These function use a similar\n",
    "modeling syntax as the sommer function. **Using the orange data set, fit a model regressing circumference on Tree using both functions. Print the summary() of both fits and compare the outputs. What is the null hypothesis being tested and do you reject it? What does rejecting\n",
    "the null mean in this context? (2 pt)**"
   ]
  },
  {
   "cell_type": "code",
   "execution_count": null,
   "id": "58422716",
   "metadata": {},
   "outputs": [],
   "source": [
    "# Your code here"
   ]
  },
  {
   "cell_type": "markdown",
   "id": "785ec85e",
   "metadata": {},
   "source": [
    "Using lm, regress circumference against Tree, Season, and age.\n",
    "**Print a summary of the model and interpret the model results.(2 pts)**"
   ]
  },
  {
   "cell_type": "code",
   "execution_count": null,
   "id": "2d08580b",
   "metadata": {},
   "outputs": [],
   "source": [
    "# Your code here"
   ]
  },
  {
   "cell_type": "markdown",
   "id": "96a1f81f",
   "metadata": {
    "lines_to_next_cell": 0
   },
   "source": [
    "**Using lm, fit a reduced model without age and season. Print the model summary.(1 pt)**"
   ]
  },
  {
   "cell_type": "code",
   "execution_count": null,
   "id": "ffff5eff",
   "metadata": {},
   "outputs": [],
   "source": [
    "# Your code here"
   ]
  },
  {
   "cell_type": "markdown",
   "id": "050e102a",
   "metadata": {
    "lines_to_next_cell": 0
   },
   "source": [
    "**Compare the reduced model to the full model. What is the null hypothesis being tested? Calculate whether the full model is significantly different than the reduced model.(2 pts)**"
   ]
  },
  {
   "cell_type": "code",
   "execution_count": null,
   "id": "730483f2",
   "metadata": {
    "lines_to_next_cell": 0
   },
   "outputs": [],
   "source": [
    "# Your code here"
   ]
  },
  {
   "cell_type": "markdown",
   "id": "bcbcb41e",
   "metadata": {},
   "source": [
    "\n"
   ]
  }
 ],
 "metadata": {
  "jupytext": {
   "cell_metadata_filter": "-all",
   "main_language": "R",
   "notebook_metadata_filter": "-all"
  },
  "kernelspec": {
   "display_name": "R",
   "language": "R",
   "name": "ir"
  },
  "language_info": {
   "codemirror_mode": "r",
   "file_extension": ".r",
   "mimetype": "text/x-r-source",
   "name": "R",
   "pygments_lexer": "r",
   "version": "4.3.3"
  }
 },
 "nbformat": 4,
 "nbformat_minor": 5
}
