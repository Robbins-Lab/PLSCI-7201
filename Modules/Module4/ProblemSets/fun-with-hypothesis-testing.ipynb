{
 "cells": [
  {
   "cell_type": "markdown",
   "id": "f7e17a5f",
   "metadata": {
    "lines_to_next_cell": 0
   },
   "source": [
    "# Part 1 Factors\n",
    "\n",
    "**Read in the data set oranges.csv using the default settings of read.csv(). Save to the variable orange.dat**"
   ]
  },
  {
   "cell_type": "code",
   "execution_count": 1,
   "id": "3075b674",
   "metadata": {},
   "outputs": [],
   "source": [
    "# Your code here\n",
    "orange.dat <- read.csv(\"orange.csv\")"
   ]
  },
  {
   "cell_type": "markdown",
   "id": "3dce0e98",
   "metadata": {
    "lines_to_next_cell": 0
   },
   "source": [
    "After you read in a data set, your next step should always be to inspect the\n",
    "data set using str(). **Print out the results of running str() on your data set. What information is provided?**"
   ]
  },
  {
   "cell_type": "code",
   "execution_count": 2,
   "id": "17499354",
   "metadata": {
    "lines_to_next_cell": 0
   },
   "outputs": [
    {
     "name": "stdout",
     "output_type": "stream",
     "text": [
      "'data.frame':\t35 obs. of  4 variables:\n",
      " $ Tree         : int  1 1 1 1 1 1 1 2 2 2 ...\n",
      " $ age          : int  118 484 664 1004 1231 1372 1582 118 484 664 ...\n",
      " $ circumference: int  30 58 87 115 120 142 145 33 69 111 ...\n",
      " $ Season       : int  1 1 2 2 1 2 1 1 1 2 ...\n"
     ]
    },
    {
     "data": {
      "text/html": [
       "<style>\n",
       ".list-inline {list-style: none; margin:0; padding: 0}\n",
       ".list-inline>li {display: inline-block}\n",
       ".list-inline>li:not(:last-child)::after {content: \"\\00b7\"; padding: 0 .5ex}\n",
       "</style>\n",
       "<ol class=list-inline><li>1</li><li>1</li><li>1</li><li>1</li><li>1</li><li>1</li><li>1</li><li>2</li><li>2</li><li>2</li><li>2</li><li>2</li><li>2</li><li>2</li><li>3</li><li>3</li><li>3</li><li>3</li><li>3</li><li>3</li><li>3</li><li>4</li><li>4</li><li>4</li><li>4</li><li>4</li><li>4</li><li>4</li><li>5</li><li>5</li><li>5</li><li>5</li><li>5</li><li>5</li><li>5</li></ol>\n"
      ],
      "text/latex": [
       "\\begin{enumerate*}\n",
       "\\item 1\n",
       "\\item 1\n",
       "\\item 1\n",
       "\\item 1\n",
       "\\item 1\n",
       "\\item 1\n",
       "\\item 1\n",
       "\\item 2\n",
       "\\item 2\n",
       "\\item 2\n",
       "\\item 2\n",
       "\\item 2\n",
       "\\item 2\n",
       "\\item 2\n",
       "\\item 3\n",
       "\\item 3\n",
       "\\item 3\n",
       "\\item 3\n",
       "\\item 3\n",
       "\\item 3\n",
       "\\item 3\n",
       "\\item 4\n",
       "\\item 4\n",
       "\\item 4\n",
       "\\item 4\n",
       "\\item 4\n",
       "\\item 4\n",
       "\\item 4\n",
       "\\item 5\n",
       "\\item 5\n",
       "\\item 5\n",
       "\\item 5\n",
       "\\item 5\n",
       "\\item 5\n",
       "\\item 5\n",
       "\\end{enumerate*}\n"
      ],
      "text/markdown": [
       "1. 1\n",
       "2. 1\n",
       "3. 1\n",
       "4. 1\n",
       "5. 1\n",
       "6. 1\n",
       "7. 1\n",
       "8. 2\n",
       "9. 2\n",
       "10. 2\n",
       "11. 2\n",
       "12. 2\n",
       "13. 2\n",
       "14. 2\n",
       "15. 3\n",
       "16. 3\n",
       "17. 3\n",
       "18. 3\n",
       "19. 3\n",
       "20. 3\n",
       "21. 3\n",
       "22. 4\n",
       "23. 4\n",
       "24. 4\n",
       "25. 4\n",
       "26. 4\n",
       "27. 4\n",
       "28. 4\n",
       "29. 5\n",
       "30. 5\n",
       "31. 5\n",
       "32. 5\n",
       "33. 5\n",
       "34. 5\n",
       "35. 5\n",
       "\n",
       "\n"
      ],
      "text/plain": [
       " [1] 1 1 1 1 1 1 1 2 2 2 2 2 2 2 3 3 3 3 3 3 3 4 4 4 4 4 4 4 5 5 5 5 5 5 5"
      ]
     },
     "metadata": {},
     "output_type": "display_data"
    }
   ],
   "source": [
    "# Your code here\n",
    "str(orange.dat)\n",
    "orange.dat$Tree"
   ]
  },
  {
   "cell_type": "code",
   "execution_count": null,
   "id": "8d0a3d6d-95f5-4d5c-a844-6b851e0f3745",
   "metadata": {},
   "outputs": [],
   "source": [
    "orange.dat$"
   ]
  },
  {
   "cell_type": "markdown",
   "id": "1614cb6c",
   "metadata": {
    "lines_to_next_cell": 0
   },
   "source": [
    "The column names, data types, and number of observations are given.\n",
    "\n",
    "What were the data types of Tree and season? **Change these vectors to type factor using as.factor().**"
   ]
  },
  {
   "cell_type": "code",
   "execution_count": 3,
   "id": "f31e0d05",
   "metadata": {},
   "outputs": [],
   "source": [
    "# Your code here\n",
    "orange.dat$Season <- as.factor(orange.dat$Season)\n",
    "orange.dat$Tree <- as.factor(orange.dat$Tree)"
   ]
  },
  {
   "cell_type": "markdown",
   "id": "842f21e8",
   "metadata": {
    "lines_to_next_cell": 0
   },
   "source": [
    "They are of type int, but should be factors.\n",
    "\n",
    "**Add a new column named TreeID that is the Tree factor plus \"Tree\".**\n",
    "For example, \"Tree1\"."
   ]
  },
  {
   "cell_type": "code",
   "execution_count": 4,
   "id": "a0660c7e",
   "metadata": {
    "lines_to_next_cell": 2
   },
   "outputs": [
    {
     "data": {
      "text/html": [
       "<table class=\"dataframe\">\n",
       "<caption>A data.frame: 35 × 5</caption>\n",
       "<thead>\n",
       "\t<tr><th scope=col>Tree</th><th scope=col>age</th><th scope=col>circumference</th><th scope=col>Season</th><th scope=col>TreeID</th></tr>\n",
       "\t<tr><th scope=col>&lt;fct&gt;</th><th scope=col>&lt;int&gt;</th><th scope=col>&lt;int&gt;</th><th scope=col>&lt;fct&gt;</th><th scope=col>&lt;chr&gt;</th></tr>\n",
       "</thead>\n",
       "<tbody>\n",
       "\t<tr><td>1</td><td> 118</td><td> 30</td><td>1</td><td>Tree 1</td></tr>\n",
       "\t<tr><td>1</td><td> 484</td><td> 58</td><td>1</td><td>Tree 1</td></tr>\n",
       "\t<tr><td>1</td><td> 664</td><td> 87</td><td>2</td><td>Tree 1</td></tr>\n",
       "\t<tr><td>1</td><td>1004</td><td>115</td><td>2</td><td>Tree 1</td></tr>\n",
       "\t<tr><td>1</td><td>1231</td><td>120</td><td>1</td><td>Tree 1</td></tr>\n",
       "\t<tr><td>1</td><td>1372</td><td>142</td><td>2</td><td>Tree 1</td></tr>\n",
       "\t<tr><td>1</td><td>1582</td><td>145</td><td>1</td><td>Tree 1</td></tr>\n",
       "\t<tr><td>2</td><td> 118</td><td> 33</td><td>1</td><td>Tree 2</td></tr>\n",
       "\t<tr><td>2</td><td> 484</td><td> 69</td><td>1</td><td>Tree 2</td></tr>\n",
       "\t<tr><td>2</td><td> 664</td><td>111</td><td>2</td><td>Tree 2</td></tr>\n",
       "\t<tr><td>2</td><td>1004</td><td>156</td><td>2</td><td>Tree 2</td></tr>\n",
       "\t<tr><td>2</td><td>1231</td><td>172</td><td>1</td><td>Tree 2</td></tr>\n",
       "\t<tr><td>2</td><td>1372</td><td>203</td><td>2</td><td>Tree 2</td></tr>\n",
       "\t<tr><td>2</td><td>1582</td><td>203</td><td>1</td><td>Tree 2</td></tr>\n",
       "\t<tr><td>3</td><td> 118</td><td> 30</td><td>1</td><td>Tree 3</td></tr>\n",
       "\t<tr><td>3</td><td> 484</td><td> 51</td><td>1</td><td>Tree 3</td></tr>\n",
       "\t<tr><td>3</td><td> 664</td><td> 75</td><td>2</td><td>Tree 3</td></tr>\n",
       "\t<tr><td>3</td><td>1004</td><td>108</td><td>2</td><td>Tree 3</td></tr>\n",
       "\t<tr><td>3</td><td>1231</td><td>115</td><td>1</td><td>Tree 3</td></tr>\n",
       "\t<tr><td>3</td><td>1372</td><td>139</td><td>2</td><td>Tree 3</td></tr>\n",
       "\t<tr><td>3</td><td>1582</td><td>140</td><td>1</td><td>Tree 3</td></tr>\n",
       "\t<tr><td>4</td><td> 118</td><td> 32</td><td>1</td><td>Tree 4</td></tr>\n",
       "\t<tr><td>4</td><td> 484</td><td> 62</td><td>1</td><td>Tree 4</td></tr>\n",
       "\t<tr><td>4</td><td> 664</td><td>112</td><td>2</td><td>Tree 4</td></tr>\n",
       "\t<tr><td>4</td><td>1004</td><td>167</td><td>2</td><td>Tree 4</td></tr>\n",
       "\t<tr><td>4</td><td>1231</td><td>179</td><td>1</td><td>Tree 4</td></tr>\n",
       "\t<tr><td>4</td><td>1372</td><td>209</td><td>2</td><td>Tree 4</td></tr>\n",
       "\t<tr><td>4</td><td>1582</td><td>214</td><td>1</td><td>Tree 4</td></tr>\n",
       "\t<tr><td>5</td><td> 118</td><td> 30</td><td>1</td><td>Tree 5</td></tr>\n",
       "\t<tr><td>5</td><td> 484</td><td> 49</td><td>1</td><td>Tree 5</td></tr>\n",
       "\t<tr><td>5</td><td> 664</td><td> 81</td><td>2</td><td>Tree 5</td></tr>\n",
       "\t<tr><td>5</td><td>1004</td><td>125</td><td>2</td><td>Tree 5</td></tr>\n",
       "\t<tr><td>5</td><td>1231</td><td>142</td><td>1</td><td>Tree 5</td></tr>\n",
       "\t<tr><td>5</td><td>1372</td><td>174</td><td>2</td><td>Tree 5</td></tr>\n",
       "\t<tr><td>5</td><td>1582</td><td>177</td><td>1</td><td>Tree 5</td></tr>\n",
       "</tbody>\n",
       "</table>\n"
      ],
      "text/latex": [
       "A data.frame: 35 × 5\n",
       "\\begin{tabular}{lllll}\n",
       " Tree & age & circumference & Season & TreeID\\\\\n",
       " <fct> & <int> & <int> & <fct> & <chr>\\\\\n",
       "\\hline\n",
       "\t 1 &  118 &  30 & 1 & Tree 1\\\\\n",
       "\t 1 &  484 &  58 & 1 & Tree 1\\\\\n",
       "\t 1 &  664 &  87 & 2 & Tree 1\\\\\n",
       "\t 1 & 1004 & 115 & 2 & Tree 1\\\\\n",
       "\t 1 & 1231 & 120 & 1 & Tree 1\\\\\n",
       "\t 1 & 1372 & 142 & 2 & Tree 1\\\\\n",
       "\t 1 & 1582 & 145 & 1 & Tree 1\\\\\n",
       "\t 2 &  118 &  33 & 1 & Tree 2\\\\\n",
       "\t 2 &  484 &  69 & 1 & Tree 2\\\\\n",
       "\t 2 &  664 & 111 & 2 & Tree 2\\\\\n",
       "\t 2 & 1004 & 156 & 2 & Tree 2\\\\\n",
       "\t 2 & 1231 & 172 & 1 & Tree 2\\\\\n",
       "\t 2 & 1372 & 203 & 2 & Tree 2\\\\\n",
       "\t 2 & 1582 & 203 & 1 & Tree 2\\\\\n",
       "\t 3 &  118 &  30 & 1 & Tree 3\\\\\n",
       "\t 3 &  484 &  51 & 1 & Tree 3\\\\\n",
       "\t 3 &  664 &  75 & 2 & Tree 3\\\\\n",
       "\t 3 & 1004 & 108 & 2 & Tree 3\\\\\n",
       "\t 3 & 1231 & 115 & 1 & Tree 3\\\\\n",
       "\t 3 & 1372 & 139 & 2 & Tree 3\\\\\n",
       "\t 3 & 1582 & 140 & 1 & Tree 3\\\\\n",
       "\t 4 &  118 &  32 & 1 & Tree 4\\\\\n",
       "\t 4 &  484 &  62 & 1 & Tree 4\\\\\n",
       "\t 4 &  664 & 112 & 2 & Tree 4\\\\\n",
       "\t 4 & 1004 & 167 & 2 & Tree 4\\\\\n",
       "\t 4 & 1231 & 179 & 1 & Tree 4\\\\\n",
       "\t 4 & 1372 & 209 & 2 & Tree 4\\\\\n",
       "\t 4 & 1582 & 214 & 1 & Tree 4\\\\\n",
       "\t 5 &  118 &  30 & 1 & Tree 5\\\\\n",
       "\t 5 &  484 &  49 & 1 & Tree 5\\\\\n",
       "\t 5 &  664 &  81 & 2 & Tree 5\\\\\n",
       "\t 5 & 1004 & 125 & 2 & Tree 5\\\\\n",
       "\t 5 & 1231 & 142 & 1 & Tree 5\\\\\n",
       "\t 5 & 1372 & 174 & 2 & Tree 5\\\\\n",
       "\t 5 & 1582 & 177 & 1 & Tree 5\\\\\n",
       "\\end{tabular}\n"
      ],
      "text/markdown": [
       "\n",
       "A data.frame: 35 × 5\n",
       "\n",
       "| Tree &lt;fct&gt; | age &lt;int&gt; | circumference &lt;int&gt; | Season &lt;fct&gt; | TreeID &lt;chr&gt; |\n",
       "|---|---|---|---|---|\n",
       "| 1 |  118 |  30 | 1 | Tree 1 |\n",
       "| 1 |  484 |  58 | 1 | Tree 1 |\n",
       "| 1 |  664 |  87 | 2 | Tree 1 |\n",
       "| 1 | 1004 | 115 | 2 | Tree 1 |\n",
       "| 1 | 1231 | 120 | 1 | Tree 1 |\n",
       "| 1 | 1372 | 142 | 2 | Tree 1 |\n",
       "| 1 | 1582 | 145 | 1 | Tree 1 |\n",
       "| 2 |  118 |  33 | 1 | Tree 2 |\n",
       "| 2 |  484 |  69 | 1 | Tree 2 |\n",
       "| 2 |  664 | 111 | 2 | Tree 2 |\n",
       "| 2 | 1004 | 156 | 2 | Tree 2 |\n",
       "| 2 | 1231 | 172 | 1 | Tree 2 |\n",
       "| 2 | 1372 | 203 | 2 | Tree 2 |\n",
       "| 2 | 1582 | 203 | 1 | Tree 2 |\n",
       "| 3 |  118 |  30 | 1 | Tree 3 |\n",
       "| 3 |  484 |  51 | 1 | Tree 3 |\n",
       "| 3 |  664 |  75 | 2 | Tree 3 |\n",
       "| 3 | 1004 | 108 | 2 | Tree 3 |\n",
       "| 3 | 1231 | 115 | 1 | Tree 3 |\n",
       "| 3 | 1372 | 139 | 2 | Tree 3 |\n",
       "| 3 | 1582 | 140 | 1 | Tree 3 |\n",
       "| 4 |  118 |  32 | 1 | Tree 4 |\n",
       "| 4 |  484 |  62 | 1 | Tree 4 |\n",
       "| 4 |  664 | 112 | 2 | Tree 4 |\n",
       "| 4 | 1004 | 167 | 2 | Tree 4 |\n",
       "| 4 | 1231 | 179 | 1 | Tree 4 |\n",
       "| 4 | 1372 | 209 | 2 | Tree 4 |\n",
       "| 4 | 1582 | 214 | 1 | Tree 4 |\n",
       "| 5 |  118 |  30 | 1 | Tree 5 |\n",
       "| 5 |  484 |  49 | 1 | Tree 5 |\n",
       "| 5 |  664 |  81 | 2 | Tree 5 |\n",
       "| 5 | 1004 | 125 | 2 | Tree 5 |\n",
       "| 5 | 1231 | 142 | 1 | Tree 5 |\n",
       "| 5 | 1372 | 174 | 2 | Tree 5 |\n",
       "| 5 | 1582 | 177 | 1 | Tree 5 |\n",
       "\n"
      ],
      "text/plain": [
       "   Tree age  circumference Season TreeID\n",
       "1  1     118  30           1      Tree 1\n",
       "2  1     484  58           1      Tree 1\n",
       "3  1     664  87           2      Tree 1\n",
       "4  1    1004 115           2      Tree 1\n",
       "5  1    1231 120           1      Tree 1\n",
       "6  1    1372 142           2      Tree 1\n",
       "7  1    1582 145           1      Tree 1\n",
       "8  2     118  33           1      Tree 2\n",
       "9  2     484  69           1      Tree 2\n",
       "10 2     664 111           2      Tree 2\n",
       "11 2    1004 156           2      Tree 2\n",
       "12 2    1231 172           1      Tree 2\n",
       "13 2    1372 203           2      Tree 2\n",
       "14 2    1582 203           1      Tree 2\n",
       "15 3     118  30           1      Tree 3\n",
       "16 3     484  51           1      Tree 3\n",
       "17 3     664  75           2      Tree 3\n",
       "18 3    1004 108           2      Tree 3\n",
       "19 3    1231 115           1      Tree 3\n",
       "20 3    1372 139           2      Tree 3\n",
       "21 3    1582 140           1      Tree 3\n",
       "22 4     118  32           1      Tree 4\n",
       "23 4     484  62           1      Tree 4\n",
       "24 4     664 112           2      Tree 4\n",
       "25 4    1004 167           2      Tree 4\n",
       "26 4    1231 179           1      Tree 4\n",
       "27 4    1372 209           2      Tree 4\n",
       "28 4    1582 214           1      Tree 4\n",
       "29 5     118  30           1      Tree 5\n",
       "30 5     484  49           1      Tree 5\n",
       "31 5     664  81           2      Tree 5\n",
       "32 5    1004 125           2      Tree 5\n",
       "33 5    1231 142           1      Tree 5\n",
       "34 5    1372 174           2      Tree 5\n",
       "35 5    1582 177           1      Tree 5"
      ]
     },
     "metadata": {},
     "output_type": "display_data"
    }
   ],
   "source": [
    "# Your code here\n",
    "orange.dat$TreeID <- paste(\"Tree\", orange.dat$Tree)\n",
    "orange.dat"
   ]
  },
  {
   "cell_type": "markdown",
   "id": "6a67780f",
   "metadata": {
    "lines_to_next_cell": 0
   },
   "source": [
    "Try to convert TreeID to a numeric using as.numeric(). Then try converting\n",
    "TreeID first to a factor and then to numeric.**What does this tell you about how factors are represented in R?**"
   ]
  },
  {
   "cell_type": "code",
   "execution_count": 5,
   "id": "4340b66d",
   "metadata": {},
   "outputs": [
    {
     "data": {
      "text/html": [
       "<style>\n",
       ".list-inline {list-style: none; margin:0; padding: 0}\n",
       ".list-inline>li {display: inline-block}\n",
       ".list-inline>li:not(:last-child)::after {content: \"\\00b7\"; padding: 0 .5ex}\n",
       "</style>\n",
       "<ol class=list-inline><li>1</li><li>1</li><li>1</li><li>1</li><li>1</li><li>1</li><li>1</li><li>2</li><li>2</li><li>2</li><li>2</li><li>2</li><li>2</li><li>2</li><li>3</li><li>3</li><li>3</li><li>3</li><li>3</li><li>3</li><li>3</li><li>4</li><li>4</li><li>4</li><li>4</li><li>4</li><li>4</li><li>4</li><li>5</li><li>5</li><li>5</li><li>5</li><li>5</li><li>5</li><li>5</li></ol>\n"
      ],
      "text/latex": [
       "\\begin{enumerate*}\n",
       "\\item 1\n",
       "\\item 1\n",
       "\\item 1\n",
       "\\item 1\n",
       "\\item 1\n",
       "\\item 1\n",
       "\\item 1\n",
       "\\item 2\n",
       "\\item 2\n",
       "\\item 2\n",
       "\\item 2\n",
       "\\item 2\n",
       "\\item 2\n",
       "\\item 2\n",
       "\\item 3\n",
       "\\item 3\n",
       "\\item 3\n",
       "\\item 3\n",
       "\\item 3\n",
       "\\item 3\n",
       "\\item 3\n",
       "\\item 4\n",
       "\\item 4\n",
       "\\item 4\n",
       "\\item 4\n",
       "\\item 4\n",
       "\\item 4\n",
       "\\item 4\n",
       "\\item 5\n",
       "\\item 5\n",
       "\\item 5\n",
       "\\item 5\n",
       "\\item 5\n",
       "\\item 5\n",
       "\\item 5\n",
       "\\end{enumerate*}\n"
      ],
      "text/markdown": [
       "1. 1\n",
       "2. 1\n",
       "3. 1\n",
       "4. 1\n",
       "5. 1\n",
       "6. 1\n",
       "7. 1\n",
       "8. 2\n",
       "9. 2\n",
       "10. 2\n",
       "11. 2\n",
       "12. 2\n",
       "13. 2\n",
       "14. 2\n",
       "15. 3\n",
       "16. 3\n",
       "17. 3\n",
       "18. 3\n",
       "19. 3\n",
       "20. 3\n",
       "21. 3\n",
       "22. 4\n",
       "23. 4\n",
       "24. 4\n",
       "25. 4\n",
       "26. 4\n",
       "27. 4\n",
       "28. 4\n",
       "29. 5\n",
       "30. 5\n",
       "31. 5\n",
       "32. 5\n",
       "33. 5\n",
       "34. 5\n",
       "35. 5\n",
       "\n",
       "\n"
      ],
      "text/plain": [
       " [1] 1 1 1 1 1 1 1 2 2 2 2 2 2 2 3 3 3 3 3 3 3 4 4 4 4 4 4 4 5 5 5 5 5 5 5"
      ]
     },
     "metadata": {},
     "output_type": "display_data"
    }
   ],
   "source": [
    "# Your code here\n",
    "# as.numeric(orange.data$TreeID)\n",
    "as.numeric(as.factor(orange.dat$TreeID))"
   ]
  },
  {
   "cell_type": "markdown",
   "id": "7a780f93",
   "metadata": {
    "lines_to_next_cell": 0
   },
   "source": [
    "Factors are not treated in the same way as characters.\n",
    "\n",
    "Use the function model.matrix to construct a design matrix for a model \n",
    "that regresses circumference on age, tree, and season. \n",
    "**Create both parameterizions discussed using model.matrix(\\~formula) and model.matrix(~formula-1). Print both matrices out and interpret both design matrices. What does the intercept term represent?**"
   ]
  },
  {
   "cell_type": "code",
   "execution_count": 6,
   "id": "9c60ede1",
   "metadata": {
    "lines_to_next_cell": 0
   },
   "outputs": [
    {
     "data": {
      "text/html": [
       "<table class=\"dataframe\">\n",
       "<caption>A matrix: 35 × 7 of type dbl</caption>\n",
       "<thead>\n",
       "\t<tr><th></th><th scope=col>(Intercept)</th><th scope=col>age</th><th scope=col>Tree2</th><th scope=col>Tree3</th><th scope=col>Tree4</th><th scope=col>Tree5</th><th scope=col>Season2</th></tr>\n",
       "</thead>\n",
       "<tbody>\n",
       "\t<tr><th scope=row>1</th><td>1</td><td> 118</td><td>0</td><td>0</td><td>0</td><td>0</td><td>0</td></tr>\n",
       "\t<tr><th scope=row>2</th><td>1</td><td> 484</td><td>0</td><td>0</td><td>0</td><td>0</td><td>0</td></tr>\n",
       "\t<tr><th scope=row>3</th><td>1</td><td> 664</td><td>0</td><td>0</td><td>0</td><td>0</td><td>1</td></tr>\n",
       "\t<tr><th scope=row>4</th><td>1</td><td>1004</td><td>0</td><td>0</td><td>0</td><td>0</td><td>1</td></tr>\n",
       "\t<tr><th scope=row>5</th><td>1</td><td>1231</td><td>0</td><td>0</td><td>0</td><td>0</td><td>0</td></tr>\n",
       "\t<tr><th scope=row>6</th><td>1</td><td>1372</td><td>0</td><td>0</td><td>0</td><td>0</td><td>1</td></tr>\n",
       "\t<tr><th scope=row>7</th><td>1</td><td>1582</td><td>0</td><td>0</td><td>0</td><td>0</td><td>0</td></tr>\n",
       "\t<tr><th scope=row>8</th><td>1</td><td> 118</td><td>1</td><td>0</td><td>0</td><td>0</td><td>0</td></tr>\n",
       "\t<tr><th scope=row>9</th><td>1</td><td> 484</td><td>1</td><td>0</td><td>0</td><td>0</td><td>0</td></tr>\n",
       "\t<tr><th scope=row>10</th><td>1</td><td> 664</td><td>1</td><td>0</td><td>0</td><td>0</td><td>1</td></tr>\n",
       "\t<tr><th scope=row>11</th><td>1</td><td>1004</td><td>1</td><td>0</td><td>0</td><td>0</td><td>1</td></tr>\n",
       "\t<tr><th scope=row>12</th><td>1</td><td>1231</td><td>1</td><td>0</td><td>0</td><td>0</td><td>0</td></tr>\n",
       "\t<tr><th scope=row>13</th><td>1</td><td>1372</td><td>1</td><td>0</td><td>0</td><td>0</td><td>1</td></tr>\n",
       "\t<tr><th scope=row>14</th><td>1</td><td>1582</td><td>1</td><td>0</td><td>0</td><td>0</td><td>0</td></tr>\n",
       "\t<tr><th scope=row>15</th><td>1</td><td> 118</td><td>0</td><td>1</td><td>0</td><td>0</td><td>0</td></tr>\n",
       "\t<tr><th scope=row>16</th><td>1</td><td> 484</td><td>0</td><td>1</td><td>0</td><td>0</td><td>0</td></tr>\n",
       "\t<tr><th scope=row>17</th><td>1</td><td> 664</td><td>0</td><td>1</td><td>0</td><td>0</td><td>1</td></tr>\n",
       "\t<tr><th scope=row>18</th><td>1</td><td>1004</td><td>0</td><td>1</td><td>0</td><td>0</td><td>1</td></tr>\n",
       "\t<tr><th scope=row>19</th><td>1</td><td>1231</td><td>0</td><td>1</td><td>0</td><td>0</td><td>0</td></tr>\n",
       "\t<tr><th scope=row>20</th><td>1</td><td>1372</td><td>0</td><td>1</td><td>0</td><td>0</td><td>1</td></tr>\n",
       "\t<tr><th scope=row>21</th><td>1</td><td>1582</td><td>0</td><td>1</td><td>0</td><td>0</td><td>0</td></tr>\n",
       "\t<tr><th scope=row>22</th><td>1</td><td> 118</td><td>0</td><td>0</td><td>1</td><td>0</td><td>0</td></tr>\n",
       "\t<tr><th scope=row>23</th><td>1</td><td> 484</td><td>0</td><td>0</td><td>1</td><td>0</td><td>0</td></tr>\n",
       "\t<tr><th scope=row>24</th><td>1</td><td> 664</td><td>0</td><td>0</td><td>1</td><td>0</td><td>1</td></tr>\n",
       "\t<tr><th scope=row>25</th><td>1</td><td>1004</td><td>0</td><td>0</td><td>1</td><td>0</td><td>1</td></tr>\n",
       "\t<tr><th scope=row>26</th><td>1</td><td>1231</td><td>0</td><td>0</td><td>1</td><td>0</td><td>0</td></tr>\n",
       "\t<tr><th scope=row>27</th><td>1</td><td>1372</td><td>0</td><td>0</td><td>1</td><td>0</td><td>1</td></tr>\n",
       "\t<tr><th scope=row>28</th><td>1</td><td>1582</td><td>0</td><td>0</td><td>1</td><td>0</td><td>0</td></tr>\n",
       "\t<tr><th scope=row>29</th><td>1</td><td> 118</td><td>0</td><td>0</td><td>0</td><td>1</td><td>0</td></tr>\n",
       "\t<tr><th scope=row>30</th><td>1</td><td> 484</td><td>0</td><td>0</td><td>0</td><td>1</td><td>0</td></tr>\n",
       "\t<tr><th scope=row>31</th><td>1</td><td> 664</td><td>0</td><td>0</td><td>0</td><td>1</td><td>1</td></tr>\n",
       "\t<tr><th scope=row>32</th><td>1</td><td>1004</td><td>0</td><td>0</td><td>0</td><td>1</td><td>1</td></tr>\n",
       "\t<tr><th scope=row>33</th><td>1</td><td>1231</td><td>0</td><td>0</td><td>0</td><td>1</td><td>0</td></tr>\n",
       "\t<tr><th scope=row>34</th><td>1</td><td>1372</td><td>0</td><td>0</td><td>0</td><td>1</td><td>1</td></tr>\n",
       "\t<tr><th scope=row>35</th><td>1</td><td>1582</td><td>0</td><td>0</td><td>0</td><td>1</td><td>0</td></tr>\n",
       "</tbody>\n",
       "</table>\n"
      ],
      "text/latex": [
       "A matrix: 35 × 7 of type dbl\n",
       "\\begin{tabular}{r|lllllll}\n",
       "  & (Intercept) & age & Tree2 & Tree3 & Tree4 & Tree5 & Season2\\\\\n",
       "\\hline\n",
       "\t1 & 1 &  118 & 0 & 0 & 0 & 0 & 0\\\\\n",
       "\t2 & 1 &  484 & 0 & 0 & 0 & 0 & 0\\\\\n",
       "\t3 & 1 &  664 & 0 & 0 & 0 & 0 & 1\\\\\n",
       "\t4 & 1 & 1004 & 0 & 0 & 0 & 0 & 1\\\\\n",
       "\t5 & 1 & 1231 & 0 & 0 & 0 & 0 & 0\\\\\n",
       "\t6 & 1 & 1372 & 0 & 0 & 0 & 0 & 1\\\\\n",
       "\t7 & 1 & 1582 & 0 & 0 & 0 & 0 & 0\\\\\n",
       "\t8 & 1 &  118 & 1 & 0 & 0 & 0 & 0\\\\\n",
       "\t9 & 1 &  484 & 1 & 0 & 0 & 0 & 0\\\\\n",
       "\t10 & 1 &  664 & 1 & 0 & 0 & 0 & 1\\\\\n",
       "\t11 & 1 & 1004 & 1 & 0 & 0 & 0 & 1\\\\\n",
       "\t12 & 1 & 1231 & 1 & 0 & 0 & 0 & 0\\\\\n",
       "\t13 & 1 & 1372 & 1 & 0 & 0 & 0 & 1\\\\\n",
       "\t14 & 1 & 1582 & 1 & 0 & 0 & 0 & 0\\\\\n",
       "\t15 & 1 &  118 & 0 & 1 & 0 & 0 & 0\\\\\n",
       "\t16 & 1 &  484 & 0 & 1 & 0 & 0 & 0\\\\\n",
       "\t17 & 1 &  664 & 0 & 1 & 0 & 0 & 1\\\\\n",
       "\t18 & 1 & 1004 & 0 & 1 & 0 & 0 & 1\\\\\n",
       "\t19 & 1 & 1231 & 0 & 1 & 0 & 0 & 0\\\\\n",
       "\t20 & 1 & 1372 & 0 & 1 & 0 & 0 & 1\\\\\n",
       "\t21 & 1 & 1582 & 0 & 1 & 0 & 0 & 0\\\\\n",
       "\t22 & 1 &  118 & 0 & 0 & 1 & 0 & 0\\\\\n",
       "\t23 & 1 &  484 & 0 & 0 & 1 & 0 & 0\\\\\n",
       "\t24 & 1 &  664 & 0 & 0 & 1 & 0 & 1\\\\\n",
       "\t25 & 1 & 1004 & 0 & 0 & 1 & 0 & 1\\\\\n",
       "\t26 & 1 & 1231 & 0 & 0 & 1 & 0 & 0\\\\\n",
       "\t27 & 1 & 1372 & 0 & 0 & 1 & 0 & 1\\\\\n",
       "\t28 & 1 & 1582 & 0 & 0 & 1 & 0 & 0\\\\\n",
       "\t29 & 1 &  118 & 0 & 0 & 0 & 1 & 0\\\\\n",
       "\t30 & 1 &  484 & 0 & 0 & 0 & 1 & 0\\\\\n",
       "\t31 & 1 &  664 & 0 & 0 & 0 & 1 & 1\\\\\n",
       "\t32 & 1 & 1004 & 0 & 0 & 0 & 1 & 1\\\\\n",
       "\t33 & 1 & 1231 & 0 & 0 & 0 & 1 & 0\\\\\n",
       "\t34 & 1 & 1372 & 0 & 0 & 0 & 1 & 1\\\\\n",
       "\t35 & 1 & 1582 & 0 & 0 & 0 & 1 & 0\\\\\n",
       "\\end{tabular}\n"
      ],
      "text/markdown": [
       "\n",
       "A matrix: 35 × 7 of type dbl\n",
       "\n",
       "| <!--/--> | (Intercept) | age | Tree2 | Tree3 | Tree4 | Tree5 | Season2 |\n",
       "|---|---|---|---|---|---|---|---|\n",
       "| 1 | 1 |  118 | 0 | 0 | 0 | 0 | 0 |\n",
       "| 2 | 1 |  484 | 0 | 0 | 0 | 0 | 0 |\n",
       "| 3 | 1 |  664 | 0 | 0 | 0 | 0 | 1 |\n",
       "| 4 | 1 | 1004 | 0 | 0 | 0 | 0 | 1 |\n",
       "| 5 | 1 | 1231 | 0 | 0 | 0 | 0 | 0 |\n",
       "| 6 | 1 | 1372 | 0 | 0 | 0 | 0 | 1 |\n",
       "| 7 | 1 | 1582 | 0 | 0 | 0 | 0 | 0 |\n",
       "| 8 | 1 |  118 | 1 | 0 | 0 | 0 | 0 |\n",
       "| 9 | 1 |  484 | 1 | 0 | 0 | 0 | 0 |\n",
       "| 10 | 1 |  664 | 1 | 0 | 0 | 0 | 1 |\n",
       "| 11 | 1 | 1004 | 1 | 0 | 0 | 0 | 1 |\n",
       "| 12 | 1 | 1231 | 1 | 0 | 0 | 0 | 0 |\n",
       "| 13 | 1 | 1372 | 1 | 0 | 0 | 0 | 1 |\n",
       "| 14 | 1 | 1582 | 1 | 0 | 0 | 0 | 0 |\n",
       "| 15 | 1 |  118 | 0 | 1 | 0 | 0 | 0 |\n",
       "| 16 | 1 |  484 | 0 | 1 | 0 | 0 | 0 |\n",
       "| 17 | 1 |  664 | 0 | 1 | 0 | 0 | 1 |\n",
       "| 18 | 1 | 1004 | 0 | 1 | 0 | 0 | 1 |\n",
       "| 19 | 1 | 1231 | 0 | 1 | 0 | 0 | 0 |\n",
       "| 20 | 1 | 1372 | 0 | 1 | 0 | 0 | 1 |\n",
       "| 21 | 1 | 1582 | 0 | 1 | 0 | 0 | 0 |\n",
       "| 22 | 1 |  118 | 0 | 0 | 1 | 0 | 0 |\n",
       "| 23 | 1 |  484 | 0 | 0 | 1 | 0 | 0 |\n",
       "| 24 | 1 |  664 | 0 | 0 | 1 | 0 | 1 |\n",
       "| 25 | 1 | 1004 | 0 | 0 | 1 | 0 | 1 |\n",
       "| 26 | 1 | 1231 | 0 | 0 | 1 | 0 | 0 |\n",
       "| 27 | 1 | 1372 | 0 | 0 | 1 | 0 | 1 |\n",
       "| 28 | 1 | 1582 | 0 | 0 | 1 | 0 | 0 |\n",
       "| 29 | 1 |  118 | 0 | 0 | 0 | 1 | 0 |\n",
       "| 30 | 1 |  484 | 0 | 0 | 0 | 1 | 0 |\n",
       "| 31 | 1 |  664 | 0 | 0 | 0 | 1 | 1 |\n",
       "| 32 | 1 | 1004 | 0 | 0 | 0 | 1 | 1 |\n",
       "| 33 | 1 | 1231 | 0 | 0 | 0 | 1 | 0 |\n",
       "| 34 | 1 | 1372 | 0 | 0 | 0 | 1 | 1 |\n",
       "| 35 | 1 | 1582 | 0 | 0 | 0 | 1 | 0 |\n",
       "\n"
      ],
      "text/plain": [
       "   (Intercept) age  Tree2 Tree3 Tree4 Tree5 Season2\n",
       "1  1            118 0     0     0     0     0      \n",
       "2  1            484 0     0     0     0     0      \n",
       "3  1            664 0     0     0     0     1      \n",
       "4  1           1004 0     0     0     0     1      \n",
       "5  1           1231 0     0     0     0     0      \n",
       "6  1           1372 0     0     0     0     1      \n",
       "7  1           1582 0     0     0     0     0      \n",
       "8  1            118 1     0     0     0     0      \n",
       "9  1            484 1     0     0     0     0      \n",
       "10 1            664 1     0     0     0     1      \n",
       "11 1           1004 1     0     0     0     1      \n",
       "12 1           1231 1     0     0     0     0      \n",
       "13 1           1372 1     0     0     0     1      \n",
       "14 1           1582 1     0     0     0     0      \n",
       "15 1            118 0     1     0     0     0      \n",
       "16 1            484 0     1     0     0     0      \n",
       "17 1            664 0     1     0     0     1      \n",
       "18 1           1004 0     1     0     0     1      \n",
       "19 1           1231 0     1     0     0     0      \n",
       "20 1           1372 0     1     0     0     1      \n",
       "21 1           1582 0     1     0     0     0      \n",
       "22 1            118 0     0     1     0     0      \n",
       "23 1            484 0     0     1     0     0      \n",
       "24 1            664 0     0     1     0     1      \n",
       "25 1           1004 0     0     1     0     1      \n",
       "26 1           1231 0     0     1     0     0      \n",
       "27 1           1372 0     0     1     0     1      \n",
       "28 1           1582 0     0     1     0     0      \n",
       "29 1            118 0     0     0     1     0      \n",
       "30 1            484 0     0     0     1     0      \n",
       "31 1            664 0     0     0     1     1      \n",
       "32 1           1004 0     0     0     1     1      \n",
       "33 1           1231 0     0     0     1     0      \n",
       "34 1           1372 0     0     0     1     1      \n",
       "35 1           1582 0     0     0     1     0      "
      ]
     },
     "metadata": {},
     "output_type": "display_data"
    },
    {
     "data": {
      "text/html": [
       "<table class=\"dataframe\">\n",
       "<caption>A matrix: 35 × 7 of type dbl</caption>\n",
       "<thead>\n",
       "\t<tr><th></th><th scope=col>age</th><th scope=col>Tree1</th><th scope=col>Tree2</th><th scope=col>Tree3</th><th scope=col>Tree4</th><th scope=col>Tree5</th><th scope=col>Season2</th></tr>\n",
       "</thead>\n",
       "<tbody>\n",
       "\t<tr><th scope=row>1</th><td> 118</td><td>1</td><td>0</td><td>0</td><td>0</td><td>0</td><td>0</td></tr>\n",
       "\t<tr><th scope=row>2</th><td> 484</td><td>1</td><td>0</td><td>0</td><td>0</td><td>0</td><td>0</td></tr>\n",
       "\t<tr><th scope=row>3</th><td> 664</td><td>1</td><td>0</td><td>0</td><td>0</td><td>0</td><td>1</td></tr>\n",
       "\t<tr><th scope=row>4</th><td>1004</td><td>1</td><td>0</td><td>0</td><td>0</td><td>0</td><td>1</td></tr>\n",
       "\t<tr><th scope=row>5</th><td>1231</td><td>1</td><td>0</td><td>0</td><td>0</td><td>0</td><td>0</td></tr>\n",
       "\t<tr><th scope=row>6</th><td>1372</td><td>1</td><td>0</td><td>0</td><td>0</td><td>0</td><td>1</td></tr>\n",
       "\t<tr><th scope=row>7</th><td>1582</td><td>1</td><td>0</td><td>0</td><td>0</td><td>0</td><td>0</td></tr>\n",
       "\t<tr><th scope=row>8</th><td> 118</td><td>0</td><td>1</td><td>0</td><td>0</td><td>0</td><td>0</td></tr>\n",
       "\t<tr><th scope=row>9</th><td> 484</td><td>0</td><td>1</td><td>0</td><td>0</td><td>0</td><td>0</td></tr>\n",
       "\t<tr><th scope=row>10</th><td> 664</td><td>0</td><td>1</td><td>0</td><td>0</td><td>0</td><td>1</td></tr>\n",
       "\t<tr><th scope=row>11</th><td>1004</td><td>0</td><td>1</td><td>0</td><td>0</td><td>0</td><td>1</td></tr>\n",
       "\t<tr><th scope=row>12</th><td>1231</td><td>0</td><td>1</td><td>0</td><td>0</td><td>0</td><td>0</td></tr>\n",
       "\t<tr><th scope=row>13</th><td>1372</td><td>0</td><td>1</td><td>0</td><td>0</td><td>0</td><td>1</td></tr>\n",
       "\t<tr><th scope=row>14</th><td>1582</td><td>0</td><td>1</td><td>0</td><td>0</td><td>0</td><td>0</td></tr>\n",
       "\t<tr><th scope=row>15</th><td> 118</td><td>0</td><td>0</td><td>1</td><td>0</td><td>0</td><td>0</td></tr>\n",
       "\t<tr><th scope=row>16</th><td> 484</td><td>0</td><td>0</td><td>1</td><td>0</td><td>0</td><td>0</td></tr>\n",
       "\t<tr><th scope=row>17</th><td> 664</td><td>0</td><td>0</td><td>1</td><td>0</td><td>0</td><td>1</td></tr>\n",
       "\t<tr><th scope=row>18</th><td>1004</td><td>0</td><td>0</td><td>1</td><td>0</td><td>0</td><td>1</td></tr>\n",
       "\t<tr><th scope=row>19</th><td>1231</td><td>0</td><td>0</td><td>1</td><td>0</td><td>0</td><td>0</td></tr>\n",
       "\t<tr><th scope=row>20</th><td>1372</td><td>0</td><td>0</td><td>1</td><td>0</td><td>0</td><td>1</td></tr>\n",
       "\t<tr><th scope=row>21</th><td>1582</td><td>0</td><td>0</td><td>1</td><td>0</td><td>0</td><td>0</td></tr>\n",
       "\t<tr><th scope=row>22</th><td> 118</td><td>0</td><td>0</td><td>0</td><td>1</td><td>0</td><td>0</td></tr>\n",
       "\t<tr><th scope=row>23</th><td> 484</td><td>0</td><td>0</td><td>0</td><td>1</td><td>0</td><td>0</td></tr>\n",
       "\t<tr><th scope=row>24</th><td> 664</td><td>0</td><td>0</td><td>0</td><td>1</td><td>0</td><td>1</td></tr>\n",
       "\t<tr><th scope=row>25</th><td>1004</td><td>0</td><td>0</td><td>0</td><td>1</td><td>0</td><td>1</td></tr>\n",
       "\t<tr><th scope=row>26</th><td>1231</td><td>0</td><td>0</td><td>0</td><td>1</td><td>0</td><td>0</td></tr>\n",
       "\t<tr><th scope=row>27</th><td>1372</td><td>0</td><td>0</td><td>0</td><td>1</td><td>0</td><td>1</td></tr>\n",
       "\t<tr><th scope=row>28</th><td>1582</td><td>0</td><td>0</td><td>0</td><td>1</td><td>0</td><td>0</td></tr>\n",
       "\t<tr><th scope=row>29</th><td> 118</td><td>0</td><td>0</td><td>0</td><td>0</td><td>1</td><td>0</td></tr>\n",
       "\t<tr><th scope=row>30</th><td> 484</td><td>0</td><td>0</td><td>0</td><td>0</td><td>1</td><td>0</td></tr>\n",
       "\t<tr><th scope=row>31</th><td> 664</td><td>0</td><td>0</td><td>0</td><td>0</td><td>1</td><td>1</td></tr>\n",
       "\t<tr><th scope=row>32</th><td>1004</td><td>0</td><td>0</td><td>0</td><td>0</td><td>1</td><td>1</td></tr>\n",
       "\t<tr><th scope=row>33</th><td>1231</td><td>0</td><td>0</td><td>0</td><td>0</td><td>1</td><td>0</td></tr>\n",
       "\t<tr><th scope=row>34</th><td>1372</td><td>0</td><td>0</td><td>0</td><td>0</td><td>1</td><td>1</td></tr>\n",
       "\t<tr><th scope=row>35</th><td>1582</td><td>0</td><td>0</td><td>0</td><td>0</td><td>1</td><td>0</td></tr>\n",
       "</tbody>\n",
       "</table>\n"
      ],
      "text/latex": [
       "A matrix: 35 × 7 of type dbl\n",
       "\\begin{tabular}{r|lllllll}\n",
       "  & age & Tree1 & Tree2 & Tree3 & Tree4 & Tree5 & Season2\\\\\n",
       "\\hline\n",
       "\t1 &  118 & 1 & 0 & 0 & 0 & 0 & 0\\\\\n",
       "\t2 &  484 & 1 & 0 & 0 & 0 & 0 & 0\\\\\n",
       "\t3 &  664 & 1 & 0 & 0 & 0 & 0 & 1\\\\\n",
       "\t4 & 1004 & 1 & 0 & 0 & 0 & 0 & 1\\\\\n",
       "\t5 & 1231 & 1 & 0 & 0 & 0 & 0 & 0\\\\\n",
       "\t6 & 1372 & 1 & 0 & 0 & 0 & 0 & 1\\\\\n",
       "\t7 & 1582 & 1 & 0 & 0 & 0 & 0 & 0\\\\\n",
       "\t8 &  118 & 0 & 1 & 0 & 0 & 0 & 0\\\\\n",
       "\t9 &  484 & 0 & 1 & 0 & 0 & 0 & 0\\\\\n",
       "\t10 &  664 & 0 & 1 & 0 & 0 & 0 & 1\\\\\n",
       "\t11 & 1004 & 0 & 1 & 0 & 0 & 0 & 1\\\\\n",
       "\t12 & 1231 & 0 & 1 & 0 & 0 & 0 & 0\\\\\n",
       "\t13 & 1372 & 0 & 1 & 0 & 0 & 0 & 1\\\\\n",
       "\t14 & 1582 & 0 & 1 & 0 & 0 & 0 & 0\\\\\n",
       "\t15 &  118 & 0 & 0 & 1 & 0 & 0 & 0\\\\\n",
       "\t16 &  484 & 0 & 0 & 1 & 0 & 0 & 0\\\\\n",
       "\t17 &  664 & 0 & 0 & 1 & 0 & 0 & 1\\\\\n",
       "\t18 & 1004 & 0 & 0 & 1 & 0 & 0 & 1\\\\\n",
       "\t19 & 1231 & 0 & 0 & 1 & 0 & 0 & 0\\\\\n",
       "\t20 & 1372 & 0 & 0 & 1 & 0 & 0 & 1\\\\\n",
       "\t21 & 1582 & 0 & 0 & 1 & 0 & 0 & 0\\\\\n",
       "\t22 &  118 & 0 & 0 & 0 & 1 & 0 & 0\\\\\n",
       "\t23 &  484 & 0 & 0 & 0 & 1 & 0 & 0\\\\\n",
       "\t24 &  664 & 0 & 0 & 0 & 1 & 0 & 1\\\\\n",
       "\t25 & 1004 & 0 & 0 & 0 & 1 & 0 & 1\\\\\n",
       "\t26 & 1231 & 0 & 0 & 0 & 1 & 0 & 0\\\\\n",
       "\t27 & 1372 & 0 & 0 & 0 & 1 & 0 & 1\\\\\n",
       "\t28 & 1582 & 0 & 0 & 0 & 1 & 0 & 0\\\\\n",
       "\t29 &  118 & 0 & 0 & 0 & 0 & 1 & 0\\\\\n",
       "\t30 &  484 & 0 & 0 & 0 & 0 & 1 & 0\\\\\n",
       "\t31 &  664 & 0 & 0 & 0 & 0 & 1 & 1\\\\\n",
       "\t32 & 1004 & 0 & 0 & 0 & 0 & 1 & 1\\\\\n",
       "\t33 & 1231 & 0 & 0 & 0 & 0 & 1 & 0\\\\\n",
       "\t34 & 1372 & 0 & 0 & 0 & 0 & 1 & 1\\\\\n",
       "\t35 & 1582 & 0 & 0 & 0 & 0 & 1 & 0\\\\\n",
       "\\end{tabular}\n"
      ],
      "text/markdown": [
       "\n",
       "A matrix: 35 × 7 of type dbl\n",
       "\n",
       "| <!--/--> | age | Tree1 | Tree2 | Tree3 | Tree4 | Tree5 | Season2 |\n",
       "|---|---|---|---|---|---|---|---|\n",
       "| 1 |  118 | 1 | 0 | 0 | 0 | 0 | 0 |\n",
       "| 2 |  484 | 1 | 0 | 0 | 0 | 0 | 0 |\n",
       "| 3 |  664 | 1 | 0 | 0 | 0 | 0 | 1 |\n",
       "| 4 | 1004 | 1 | 0 | 0 | 0 | 0 | 1 |\n",
       "| 5 | 1231 | 1 | 0 | 0 | 0 | 0 | 0 |\n",
       "| 6 | 1372 | 1 | 0 | 0 | 0 | 0 | 1 |\n",
       "| 7 | 1582 | 1 | 0 | 0 | 0 | 0 | 0 |\n",
       "| 8 |  118 | 0 | 1 | 0 | 0 | 0 | 0 |\n",
       "| 9 |  484 | 0 | 1 | 0 | 0 | 0 | 0 |\n",
       "| 10 |  664 | 0 | 1 | 0 | 0 | 0 | 1 |\n",
       "| 11 | 1004 | 0 | 1 | 0 | 0 | 0 | 1 |\n",
       "| 12 | 1231 | 0 | 1 | 0 | 0 | 0 | 0 |\n",
       "| 13 | 1372 | 0 | 1 | 0 | 0 | 0 | 1 |\n",
       "| 14 | 1582 | 0 | 1 | 0 | 0 | 0 | 0 |\n",
       "| 15 |  118 | 0 | 0 | 1 | 0 | 0 | 0 |\n",
       "| 16 |  484 | 0 | 0 | 1 | 0 | 0 | 0 |\n",
       "| 17 |  664 | 0 | 0 | 1 | 0 | 0 | 1 |\n",
       "| 18 | 1004 | 0 | 0 | 1 | 0 | 0 | 1 |\n",
       "| 19 | 1231 | 0 | 0 | 1 | 0 | 0 | 0 |\n",
       "| 20 | 1372 | 0 | 0 | 1 | 0 | 0 | 1 |\n",
       "| 21 | 1582 | 0 | 0 | 1 | 0 | 0 | 0 |\n",
       "| 22 |  118 | 0 | 0 | 0 | 1 | 0 | 0 |\n",
       "| 23 |  484 | 0 | 0 | 0 | 1 | 0 | 0 |\n",
       "| 24 |  664 | 0 | 0 | 0 | 1 | 0 | 1 |\n",
       "| 25 | 1004 | 0 | 0 | 0 | 1 | 0 | 1 |\n",
       "| 26 | 1231 | 0 | 0 | 0 | 1 | 0 | 0 |\n",
       "| 27 | 1372 | 0 | 0 | 0 | 1 | 0 | 1 |\n",
       "| 28 | 1582 | 0 | 0 | 0 | 1 | 0 | 0 |\n",
       "| 29 |  118 | 0 | 0 | 0 | 0 | 1 | 0 |\n",
       "| 30 |  484 | 0 | 0 | 0 | 0 | 1 | 0 |\n",
       "| 31 |  664 | 0 | 0 | 0 | 0 | 1 | 1 |\n",
       "| 32 | 1004 | 0 | 0 | 0 | 0 | 1 | 1 |\n",
       "| 33 | 1231 | 0 | 0 | 0 | 0 | 1 | 0 |\n",
       "| 34 | 1372 | 0 | 0 | 0 | 0 | 1 | 1 |\n",
       "| 35 | 1582 | 0 | 0 | 0 | 0 | 1 | 0 |\n",
       "\n"
      ],
      "text/plain": [
       "   age  Tree1 Tree2 Tree3 Tree4 Tree5 Season2\n",
       "1   118 1     0     0     0     0     0      \n",
       "2   484 1     0     0     0     0     0      \n",
       "3   664 1     0     0     0     0     1      \n",
       "4  1004 1     0     0     0     0     1      \n",
       "5  1231 1     0     0     0     0     0      \n",
       "6  1372 1     0     0     0     0     1      \n",
       "7  1582 1     0     0     0     0     0      \n",
       "8   118 0     1     0     0     0     0      \n",
       "9   484 0     1     0     0     0     0      \n",
       "10  664 0     1     0     0     0     1      \n",
       "11 1004 0     1     0     0     0     1      \n",
       "12 1231 0     1     0     0     0     0      \n",
       "13 1372 0     1     0     0     0     1      \n",
       "14 1582 0     1     0     0     0     0      \n",
       "15  118 0     0     1     0     0     0      \n",
       "16  484 0     0     1     0     0     0      \n",
       "17  664 0     0     1     0     0     1      \n",
       "18 1004 0     0     1     0     0     1      \n",
       "19 1231 0     0     1     0     0     0      \n",
       "20 1372 0     0     1     0     0     1      \n",
       "21 1582 0     0     1     0     0     0      \n",
       "22  118 0     0     0     1     0     0      \n",
       "23  484 0     0     0     1     0     0      \n",
       "24  664 0     0     0     1     0     1      \n",
       "25 1004 0     0     0     1     0     1      \n",
       "26 1231 0     0     0     1     0     0      \n",
       "27 1372 0     0     0     1     0     1      \n",
       "28 1582 0     0     0     1     0     0      \n",
       "29  118 0     0     0     0     1     0      \n",
       "30  484 0     0     0     0     1     0      \n",
       "31  664 0     0     0     0     1     1      \n",
       "32 1004 0     0     0     0     1     1      \n",
       "33 1231 0     0     0     0     1     0      \n",
       "34 1372 0     0     0     0     1     1      \n",
       "35 1582 0     0     0     0     1     0      "
      ]
     },
     "metadata": {},
     "output_type": "display_data"
    }
   ],
   "source": [
    "# Your code here\n",
    "model.matrix(~age + Tree + Season, data=orange.dat)\n",
    "\n",
    "model.matrix(~age + Tree + Season - 1, data=orange.dat)"
   ]
  },
  {
   "cell_type": "markdown",
   "id": "0bacd76b",
   "metadata": {},
   "source": []
  },
  {
   "cell_type": "markdown",
   "id": "b825af3c",
   "metadata": {
    "lines_to_next_cell": 0
   },
   "source": [
    "# Part 2 Hypothesis Testing\n",
    "\n",
    "Using the orange data set, create two variables Tree1 and Tree2, with the circumferences\n",
    "from each. "
   ]
  },
  {
   "cell_type": "code",
   "execution_count": null,
   "id": "02091062",
   "metadata": {
    "lines_to_next_cell": 2
   },
   "outputs": [],
   "source": [
    "# Your code here"
   ]
  },
  {
   "cell_type": "markdown",
   "id": "a671f19d",
   "metadata": {
    "lines_to_next_cell": 0
   },
   "source": [
    "Test for the significance of the difference between both groups using a two-sample\n",
    "z-test. **Calculate the z statistic and then the p-value using pnorm(). State the null hypothesis and whether or not you reject it. (1 pt)** "
   ]
  },
  {
   "cell_type": "code",
   "execution_count": null,
   "id": "39d59788",
   "metadata": {
    "lines_to_next_cell": 2
   },
   "outputs": [],
   "source": [
    "# Your code here"
   ]
  },
  {
   "cell_type": "markdown",
   "id": "61c57262",
   "metadata": {
    "lines_to_next_cell": 0
   },
   "source": [
    "Do a t test instead of a z test using t.test(). **Compare the p-value you obtained from the z test with the t-test and explain why they are different. Which test is more appropriate?(2 pt)**"
   ]
  },
  {
   "cell_type": "code",
   "execution_count": null,
   "id": "3322a619",
   "metadata": {
    "lines_to_next_cell": 2
   },
   "outputs": [],
   "source": [
    "# Your code here"
   ]
  },
  {
   "cell_type": "markdown",
   "id": "9644ff8d",
   "metadata": {
    "lines_to_next_cell": 0
   },
   "source": [
    "Now we will use the functions lm and aov(). These function use a similar\n",
    "modeling syntax as the sommer function. **Using the orange data set, fit a model regressing circumference on Tree using both functions. Print the summary() of both fits and compare the outputs. What is the null hypothesis being tested and do you reject it? What does rejecting\n",
    "the null mean in this context? (2 pt)**"
   ]
  },
  {
   "cell_type": "code",
   "execution_count": null,
   "id": "58422716",
   "metadata": {},
   "outputs": [],
   "source": [
    "# Your code here"
   ]
  },
  {
   "cell_type": "markdown",
   "id": "785ec85e",
   "metadata": {},
   "source": [
    "Using lm, regress circumference against Tree, Season, and age.\n",
    "**Print a summary of the model and interpret the model results.(2 pts)**"
   ]
  },
  {
   "cell_type": "code",
   "execution_count": null,
   "id": "2d08580b",
   "metadata": {},
   "outputs": [],
   "source": [
    "# Your code here"
   ]
  },
  {
   "cell_type": "markdown",
   "id": "96a1f81f",
   "metadata": {
    "lines_to_next_cell": 0
   },
   "source": [
    "**Using lm, fit a reduced model without age and season. Print the model summary.(1 pt)**"
   ]
  },
  {
   "cell_type": "code",
   "execution_count": null,
   "id": "ffff5eff",
   "metadata": {},
   "outputs": [],
   "source": [
    "# Your code here"
   ]
  },
  {
   "cell_type": "markdown",
   "id": "050e102a",
   "metadata": {
    "lines_to_next_cell": 0
   },
   "source": [
    "**Compare the reduced model to the full model. What is the null hypothesis being tested? Calculate whether the full model is significantly different than the reduced model.(2 pts)**"
   ]
  },
  {
   "cell_type": "code",
   "execution_count": null,
   "id": "730483f2",
   "metadata": {
    "lines_to_next_cell": 0
   },
   "outputs": [],
   "source": [
    "# Your code here"
   ]
  },
  {
   "cell_type": "markdown",
   "id": "bcbcb41e",
   "metadata": {},
   "source": [
    "\n"
   ]
  }
 ],
 "metadata": {
  "jupytext": {
   "cell_metadata_filter": "-all",
   "main_language": "R",
   "notebook_metadata_filter": "-all"
  },
  "kernelspec": {
   "display_name": "R",
   "language": "R",
   "name": "ir"
  },
  "language_info": {
   "codemirror_mode": "r",
   "file_extension": ".r",
   "mimetype": "text/x-r-source",
   "name": "R",
   "pygments_lexer": "r",
   "version": "4.3.3"
  }
 },
 "nbformat": 4,
 "nbformat_minor": 5
}
