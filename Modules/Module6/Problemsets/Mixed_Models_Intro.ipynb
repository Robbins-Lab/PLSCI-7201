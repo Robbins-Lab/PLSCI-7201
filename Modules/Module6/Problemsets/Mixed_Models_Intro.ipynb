{
  "cells": [
    {
      "cell_type": "markdown",
      "id": "7e369000-fda3-49da-bc39-8655009f0267",
      "metadata": {
        "jp-MarkdownHeadingCollapsed": true,
        "tags": [],
        "id": "7e369000-fda3-49da-bc39-8655009f0267"
      },
      "source": [
        "# Linear Models\n",
        "\n",
        "When we use the term \"Linear Model\" we are refering to a model in which the models effects are estimated as a linear function of the dependent variable - the **phenotype** in the case of plant breeding applications.\n",
        "\n",
        "The dependent variable is often denoted as $y$\n",
        "\n",
        "When deriving estimators for linear models there are certain properties that are desirable:\n",
        "\n",
        "- **Best** - This means the estimator has the minimum error variance of all possible linear estimators.\n",
        "- **Linear** - As previously mention, this mean the estimator is a linear function of of $y$. The mean is a simple example of a linear estimator as:\n",
        "        $\\bar{y}=\\frac{\\sum_{i=1}^{n} y_i}{n}$\n",
        "- **Unbiased** - An estimator is unbiased when the expectation of the estimator is equal to the expectation of the true value. In other words, as the amount of information used to calculate the estimator increase, the error in the estimate decrease towards 0.\n",
        "\n",
        "When using linear model software in R, the obtained estimates of model effects are the **Best Linear Unbiased Estimates** or **BLUE**."
      ]
    },
    {
      "cell_type": "markdown",
      "id": "d5a51447-2b6a-443c-b70f-21246b490cbc",
      "metadata": {
        "id": "d5a51447-2b6a-443c-b70f-21246b490cbc"
      },
      "source": [
        "# Mixed Models\n",
        "\n",
        "Mixed models contain fixed effects and random effects. The estimate of a random effect is referred to as a **Best Linear Unbiased Predictors (BLUP)**. Here Best and Linear have the same meaning as previously described for BLUEs. The term unbiased is slightly different for random effects, but will not be covered in detail here.\n",
        "\n",
        "When treating something as a random effect, we make specific assumptions about the statistical distribution that gives rise to the observed random effects. When our assumptions about the statistical distribution are correct, and we have enough data to accurately estimate the parameters of the distribution (specifically the variance and covariance), then the additional information tends to result in more accruate estimates of effects.\n",
        "\n",
        "In this assignment we will look at a simple example of repeated measurement to fit a mixed model using 'sommer'. We will also use lme in the class as well.\n"
      ]
    },
    {
      "cell_type": "markdown",
      "id": "136359f3-35b8-4de7-8edd-ccc1c4677ead",
      "metadata": {
        "id": "136359f3-35b8-4de7-8edd-ccc1c4677ead"
      },
      "source": [
        "# The Sommer Mixed Model Package\n",
        "\n",
        "To fit the models we will be using the R package \"sommer\". There are many mixed model packages available and each have thier own specific syntax for specifying models. We strongly recmomend reading the manual for sommer before using the package (https://cran.r-project.org/web/packages/sommer/sommer.pdf).\n",
        "\n",
        "The manaul will give you examples of how to specify models and retrieve estimates from the output. For mixed models it is also important to know how to specify (co)variance structures. In this module we will give some examples but sommer is capable of supporting many (co)vairance sturctures that we will not cover here. It is encouraged that after students feel comfortable fitting basic models, they explore fitting more complex models from the sommer quick start guides:\n",
        "\n",
        "- https://cran.r-project.org/web/packages/sommer/vignettes/v1.sommer.quick.start.pdf\n",
        "- https://cran.r-project.org/web/packages/sommer/vignettes/v3.sommer.qg.pdf\n",
        "- https://cran.r-project.org/web/packages/sommer/vignettes/v4.sommer.gxe.pdf\n",
        "- https://cran.r-project.org/web/packages/sommer/vignettes/v6.sommer.spatial.pdf"
      ]
    },
    {
      "cell_type": "code",
      "source": [
        "req_packages<-c(\"tidyverse\", \"sommer\")\n",
        "\n",
        "for(i in c(1:length(req_packages))){\n",
        "  if (!require(req_packages[i], character.only = TRUE)){\n",
        "   install.packages(req_packages[i])\n",
        "  }\n",
        "}\n"
      ],
      "metadata": {
        "colab": {
          "base_uri": "https://localhost:8080/"
        },
        "id": "b5kmE10Mdyvn",
        "outputId": "b88cec7c-575f-49f3-b919-15e261e67ee4"
      },
      "id": "b5kmE10Mdyvn",
      "execution_count": 6,
      "outputs": [
        {
          "output_type": "stream",
          "name": "stderr",
          "text": [
            "Loading required package: sommer\n",
            "\n",
            "Warning message in library(package, lib.loc = lib.loc, character.only = TRUE, logical.return = TRUE, :\n",
            "“there is no package called ‘sommer’”\n",
            "Installing package into ‘/usr/local/lib/R/site-library’\n",
            "(as ‘lib’ is unspecified)\n",
            "\n",
            "also installing the dependencies ‘RcppArmadillo’, ‘RcppProgress’\n",
            "\n",
            "\n"
          ]
        }
      ]
    },
    {
      "cell_type": "code",
      "execution_count": 7,
      "id": "01cff5aa-f1c3-4231-aec5-22a0b34d4563",
      "metadata": {
        "colab": {
          "base_uri": "https://localhost:8080/"
        },
        "id": "01cff5aa-f1c3-4231-aec5-22a0b34d4563",
        "outputId": "2d3fd7f5-c68c-4d13-a85d-5b14d6025500"
      },
      "outputs": [
        {
          "output_type": "stream",
          "name": "stderr",
          "text": [
            "Loading required package: Matrix\n",
            "\n",
            "\n",
            "Attaching package: ‘Matrix’\n",
            "\n",
            "\n",
            "The following objects are masked from ‘package:tidyr’:\n",
            "\n",
            "    expand, pack, unpack\n",
            "\n",
            "\n",
            "Loading required package: MASS\n",
            "\n",
            "\n",
            "Attaching package: ‘MASS’\n",
            "\n",
            "\n",
            "The following object is masked from ‘package:dplyr’:\n",
            "\n",
            "    select\n",
            "\n",
            "\n",
            "Loading required package: crayon\n",
            "\n",
            "\n",
            "Attaching package: ‘crayon’\n",
            "\n",
            "\n",
            "The following object is masked from ‘package:ggplot2’:\n",
            "\n",
            "    %+%\n",
            "\n",
            "\n"
          ]
        }
      ],
      "source": [
        "#loading packages\n",
        "library(sommer)\n",
        "library(tidyverse)"
      ]
    },
    {
      "cell_type": "markdown",
      "id": "a37bcc2d-9cb0-4f56-9b38-3407a7a77094",
      "metadata": {
        "id": "a37bcc2d-9cb0-4f56-9b38-3407a7a77094"
      },
      "source": [
        "# Analyzing Repeated Measurments\n",
        "\n",
        "When conducting experiments there may be a number of reasons why one might want to collect repeated measurements on the same experimental unit.\n",
        "\n",
        "If there are concerns about the accuracy and reliability of the techniques/instruments being used to take the measurements, researches sometimes opt to take technical replicates.\n",
        "\n",
        "Some experiments involve measuring the same experimental unit repeatedly through time (i.e. measurements may be taken daily, weekly, etc. on the same unit).\n",
        "\n",
        "In such cases, measurements on the same experimental unit will be correlated.\n",
        "\n",
        "To examine modeling approaches we will first simulate data from an experiment with repeated measurements and then apply various models and compare estimates to the true simulated values."
      ]
    },
    {
      "cell_type": "markdown",
      "id": "a9ad4224-04fd-4f09-bb0e-8cfc5334e6f9",
      "metadata": {
        "id": "a9ad4224-04fd-4f09-bb0e-8cfc5334e6f9"
      },
      "source": [
        "# Simulating the data\n",
        "I'm conducting an experiment in which I need to run a complicated assay to phenotype plants given 3 different treatments. Given I have limited space to run the experiment and the assay I'm using to measure the phenotype is error prone, I plan to perform 3 technical replicates for each experimental unit. When analyzing the data I want to make sure I account for any covariance between the repeated measures to get accurate results. In this problem set we will first simulate a balanced dataset and the explore several modeling approaches. We will create an unbalnced dataset by setting some phenotypes to missing and repeat the analyses to examine the impact of missing data and identify the most robust modeling apporach.\n",
        "\n"
      ]
    },
    {
      "cell_type": "markdown",
      "id": "da9c5546-cfbc-48e9-a5b7-1cf7086b64d0",
      "metadata": {
        "id": "da9c5546-cfbc-48e9-a5b7-1cf7086b64d0"
      },
      "source": [
        "## Setting parameters for the simulation"
      ]
    },
    {
      "cell_type": "code",
      "execution_count": 8,
      "id": "3e9f78f8-45aa-4ecf-98ba-f371d87b2417",
      "metadata": {
        "id": "3e9f78f8-45aa-4ecf-98ba-f371d87b2417"
      },
      "outputs": [],
      "source": [
        "nTrt <- 3\n",
        "nExpUnits <- 30\n",
        "nMeasurements <-3"
      ]
    },
    {
      "cell_type": "markdown",
      "id": "19c72246-6095-46f6-9b00-7435c85d1b76",
      "metadata": {
        "id": "19c72246-6095-46f6-9b00-7435c85d1b76"
      },
      "source": [
        "## Sampling values from normal distributions\n"
      ]
    },
    {
      "cell_type": "code",
      "execution_count": 9,
      "id": "2cc8f853-5ca9-4881-ac54-0133759a0360",
      "metadata": {
        "colab": {
          "base_uri": "https://localhost:8080/",
          "height": 51
        },
        "id": "2cc8f853-5ca9-4881-ac54-0133759a0360",
        "outputId": "cea6a73c-3be0-4f62-a321-f271425249f9"
      },
      "outputs": [
        {
          "output_type": "stream",
          "name": "stdout",
          "text": [
            "[1] \"treatment effects\"\n"
          ]
        },
        {
          "output_type": "display_data",
          "data": {
            "text/html": [
              "<style>\n",
              ".list-inline {list-style: none; margin:0; padding: 0}\n",
              ".list-inline>li {display: inline-block}\n",
              ".list-inline>li:not(:last-child)::after {content: \"\\00b7\"; padding: 0 .5ex}\n",
              "</style>\n",
              "<ol class=list-inline><li>0</li><li>1</li><li>-0.5</li></ol>\n"
            ],
            "text/markdown": "1. 0\n2. 1\n3. -0.5\n\n\n",
            "text/latex": "\\begin{enumerate*}\n\\item 0\n\\item 1\n\\item -0.5\n\\end{enumerate*}\n",
            "text/plain": [
              "[1]  0.0  1.0 -0.5"
            ]
          },
          "metadata": {}
        }
      ],
      "source": [
        "set.seed(100)\n",
        "#setting treatment effects\n",
        "trt=c(0,1,-.5)\n",
        "#vector of random residuals associated with the experimental unit\n",
        "expunits=rnorm(nExpUnits,0,(3)**.5)\n",
        "#vector of random residuals associated with measurements\n",
        "error=rnorm(nMeasurements*nExpUnits,0,(1)**.5)\n",
        "\n",
        "print(\"treatment effects\")\n",
        "trt"
      ]
    },
    {
      "cell_type": "markdown",
      "id": "008da177-9d09-48cb-91ce-16f646799048",
      "metadata": {
        "id": "008da177-9d09-48cb-91ce-16f646799048"
      },
      "source": [
        "## Generating dataset from sampled values\n",
        "\n",
        "Here we use the simulated data above to simulate a balanced dataset with experiemental units evenly distributed across the treatments. The data is store as a matrix and will later be converted into a data frame for analysis using sommer. Simulated data will be stored in `dataset`"
      ]
    },
    {
      "cell_type": "code",
      "execution_count": 10,
      "id": "0431c0b5-cd71-44e0-83a1-2a5efede7b21",
      "metadata": {
        "id": "0431c0b5-cd71-44e0-83a1-2a5efede7b21"
      },
      "outputs": [],
      "source": [
        "#simulated dataset\n",
        "dataset <- matrix(0,nExpUnits*nMeasurements,8)\n",
        "###create data frame ....\n",
        "# looping through the effect levels to generate observations\n",
        "\n",
        "count=1\n",
        "\n",
        "for(j in c(1:nExpUnits)){\n",
        "  for(k in c(1:nMeasurements)){\n",
        "    dataset[count,2]=j\n",
        "    dataset[count,3]=k\n",
        "    dataset[count,5]=expunits[j]\n",
        "    dataset[count,6]=error[count]\n",
        "    dataset[count,7]=expunits[j]+error[count]\n",
        "    count=count+1\n",
        "  }\n",
        "}\n",
        "\n",
        "# calculating the number of phenotypes per trait\n",
        "nPhenoPerTrt=(nExpUnits*nMeasurements)/nTrt\n",
        "\n",
        "#add treatment effect\n",
        "count=0\n",
        "for(i in c(1:nTrt)){\n",
        "   dataset[(count+1):(count+nPhenoPerTrt),1]=i\n",
        "   dataset[(count+1):(count+nPhenoPerTrt),4]=trt[i]\n",
        "   dataset[(count+1):(count+nPhenoPerTrt),7]=dataset[(count+1):(count+nPhenoPerTrt),7]+trt[i]\n",
        "   count=count+nPhenoPerTrt\n",
        "}\n"
      ]
    },
    {
      "cell_type": "markdown",
      "id": "9e877ab6-03fd-44dc-8d2c-2ae272e0a481",
      "metadata": {
        "id": "9e877ab6-03fd-44dc-8d2c-2ae272e0a481"
      },
      "source": [
        "# Question 1 (1 pt): What is the simulated residual (co)variance structure?"
      ]
    },
    {
      "cell_type": "markdown",
      "id": "c7bf4a3b-b1e6-4906-a93f-a82b11c72a0c",
      "metadata": {
        "id": "c7bf4a3b-b1e6-4906-a93f-a82b11c72a0c"
      },
      "source": [
        "# Answer:"
      ]
    },
    {
      "cell_type": "markdown",
      "id": "aeba2ab2-8e79-419f-8842-ac881874252d",
      "metadata": {
        "id": "aeba2ab2-8e79-419f-8842-ac881874252d"
      },
      "source": [
        "To examine the impact of missing values on various model parameterizations the following code randomly selects observations and sets them to NA. A uniform random number generator \"runif\" is used to simulate the random process resulting in missing measurements."
      ]
    },
    {
      "cell_type": "code",
      "execution_count": 11,
      "id": "6be6c954-5af3-47a3-983a-4d059b27de8a",
      "metadata": {
        "id": "6be6c954-5af3-47a3-983a-4d059b27de8a"
      },
      "outputs": [],
      "source": [
        "# probability of a data point being NA\n",
        "probMissing=.2\n",
        "\n",
        "#simulate missing data\n",
        "for(i in c(1:length(dataset[,1]))){\n",
        "  if(runif(1)<probMissing){\n",
        "     dataset[i,8]=NA\n",
        "  } else {\n",
        "     dataset[i,8]=dataset[i,7]\n",
        "  }\n",
        "}"
      ]
    },
    {
      "cell_type": "markdown",
      "id": "b48ed7cd-9569-492c-baf9-e3a4ed7c90a1",
      "metadata": {
        "id": "b48ed7cd-9569-492c-baf9-e3a4ed7c90a1"
      },
      "source": [
        "One way to account for repeated measurements on the same observational unit is to average across the replicated measures. The following code takes the average of the repeated measures using both the complete dataset and the data with missing measurements. Means will be stored in `datasetM`"
      ]
    },
    {
      "cell_type": "code",
      "execution_count": 12,
      "id": "0f1fea48-cfeb-4755-b159-599534435e11",
      "metadata": {
        "id": "0f1fea48-cfeb-4755-b159-599534435e11"
      },
      "outputs": [],
      "source": [
        "#calculate means\n",
        "datasetM=matrix(0,nExpUnits,4)\n",
        "#summing phenotypes\n",
        "count=1\n",
        "for(i in c(1:nExpUnits)){\n",
        "  for(j in c(1:nMeasurements)){\n",
        "    #summing phenotypes to calculate the mean\n",
        "    datasetM[i,3]=datasetM[i,3]+dataset[count,7]\n",
        "\n",
        "    #statement for missing and count num non missing\n",
        "    if(is.na(dataset[count,8])==FALSE){\n",
        "       datasetM[i,4]=datasetM[i,4]+dataset[count,8]\n",
        "       datasetM[i,2]=datasetM[i,2]+1\n",
        "    }\n",
        "    count=count+1\n",
        "  }\n",
        "}\n",
        "\n",
        "# calculating the number of experimental units per trait\n",
        "nUnitsPerTrt=(nExpUnits)/nTrt\n",
        "\n",
        "#add treatment id and calculate the means\n",
        "\n",
        "count=0\n",
        "for(i in c(1:nTrt)){\n",
        "   datasetM[(count+1):(count+nUnitsPerTrt),1]=i\n",
        "  for(i in c((count+1):(count+nUnitsPerTrt))){\n",
        "     #calculate the means\n",
        "     datasetM[i,3]=datasetM[i,3]*(1/nMeasurements)\n",
        "     if(datasetM[i,2]>0){\n",
        "       datasetM[i,4]=datasetM[i,4]*(1/datasetM[i,2])\n",
        "     } else {\n",
        "       #setting equal to NA is all measurements are missing\n",
        "       datasetM[i,4]=NA\n",
        "     }\n",
        "   }\n",
        "   count=count+nUnitsPerTrt\n",
        "}\n"
      ]
    },
    {
      "cell_type": "markdown",
      "id": "8a6e4c05-6937-44fe-956a-5d1f72c28723",
      "metadata": {
        "id": "8a6e4c05-6937-44fe-956a-5d1f72c28723"
      },
      "source": [
        "# Creating a data frame\n",
        "\n",
        "The sommer package requires datasets to be in an object called a dataframe. We do this by converting the ids for treatment, and experimental unit into factors and setting the simulated phenotypes as real numbers with double precision.\n"
      ]
    },
    {
      "cell_type": "code",
      "execution_count": 13,
      "id": "6cb8bd5f-1f65-4bba-b567-0f47153b23c1",
      "metadata": {
        "tags": [],
        "id": "6cb8bd5f-1f65-4bba-b567-0f47153b23c1"
      },
      "outputs": [],
      "source": [
        "# creating a data frame from the input data\n",
        "\n",
        "#creating a data objects for asreml\n",
        "dataf=data.frame(trt = as.factor(dataset[,1]),\n",
        "                   exp_unit = as.factor(dataset[,2]),\n",
        "                   tech_rep = as.factor(dataset[,3]),\n",
        "                   true_trt= as.double(dataset[,4]),\n",
        "                   true_unit= as.double(dataset[,5]),\n",
        "                   true_residual= as.double(dataset[,6]),\n",
        "                   phenotype = as.double(dataset[,7]),\n",
        "                   phenotypeMissing = as.double(dataset[,8]))\n",
        "\n",
        "\n",
        "datafM=data.frame(trt = as.factor(datasetM[,1]),\n",
        "                   phenotypeMean = as.double(datasetM[,3]),\n",
        "                   phenotypeMeanMissing = as.double(datasetM[,4]))\n"
      ]
    },
    {
      "cell_type": "markdown",
      "id": "30291ad6-73fb-4065-9373-0cd7ee7f8538",
      "metadata": {
        "id": "30291ad6-73fb-4065-9373-0cd7ee7f8538"
      },
      "source": [
        "When creating the data frame we name each column in the data set and these are the names we will use when specifying the model\n",
        "\n",
        "For effects in which we want to estimate values for each level (i.e. block) we use the `as.factor()` command so sommer will know how to treat the effect in the model. In the case of treatment the numbers for each block (1,2,3) are arbitrary and have no relation to the effect of block. The same is true for technical replicate.\n",
        "\n",
        "For effects in which the numeric value has meaning and we want to fit a regression coefficient, we use the `as.double()` command. We also use the `as.double()` command for the phenotypes we want to model as continuous triats."
      ]
    },
    {
      "cell_type": "markdown",
      "id": "90e94201-098f-4c84-bdd3-e7d16bf896f9",
      "metadata": {
        "id": "90e94201-098f-4c84-bdd3-e7d16bf896f9"
      },
      "source": [
        "## Now it is time to analyze the data using sommer. First let's focus on the complete data"
      ]
    },
    {
      "cell_type": "markdown",
      "id": "54510136-7d8d-4054-bff2-64644c08c905",
      "metadata": {
        "tags": [],
        "id": "54510136-7d8d-4054-bff2-64644c08c905"
      },
      "source": [
        "# Model 1 - only treatment and Residuals IID\n",
        "\n",
        "First we will run a simple model . The results of the analysis will be stored as \"model1\""
      ]
    },
    {
      "cell_type": "code",
      "execution_count": 25,
      "id": "8164404a-4afe-42f4-94f9-5de161ea1f0d",
      "metadata": {
        "tags": [],
        "colab": {
          "base_uri": "https://localhost:8080/"
        },
        "id": "8164404a-4afe-42f4-94f9-5de161ea1f0d",
        "outputId": "40825a5c-133b-4a4b-f3e1-94ccf1284416"
      },
      "outputs": [
        {
          "output_type": "stream",
          "name": "stderr",
          "text": [
            "This function has been deprecated. Please start using 'mmes' and its auxiliary functions (e.g., 'vsm', 'usm', 'dsm', 'ism', etc.). This function will be no longer maintained.\n",
            "\n"
          ]
        },
        {
          "output_type": "stream",
          "name": "stdout",
          "text": [
            "iteration    LogLik     wall    cpu(sec)   restrained\n",
            "    1      -33.5405   18:34:5      0           0\n",
            "    2      -33.5405   18:34:5      0           0\n",
            "    3      -33.5405   18:34:5      0           0\n",
            "    4      -33.5405   18:34:5      0           0\n"
          ]
        }
      ],
      "source": [
        "model1 <-mmer(phenotype ~ 1 + trt,\n",
        "                 rcov=~units,\n",
        "                 data = dataf)\n",
        "\n"
      ]
    },
    {
      "cell_type": "markdown",
      "id": "59c3f612-6a84-4681-ad5c-d40bf0c9c05f",
      "metadata": {
        "id": "59c3f612-6a84-4681-ad5c-d40bf0c9c05f"
      },
      "source": [
        "Before we look at the results, let's break down the model statement\n",
        "\n",
        "- `mmer()` is the mixed model solver used by sommer. There is also a `mmec()` function for solving mixed models that we will not cover here. For certain types of analysis 'mmec' will run faster.\n",
        "- The first line of the model statement specifies the phenotype and then the fixed effects \"block and variety.\n",
        "- The second line gives the covariance structure for the residuals `rcov= ~units` is the default structure in which residuals are treated as being identically and indepenedently distributed. When using the default structure this line can be omitted, but there are many ways in which the residual covariance can be modeled and I prefer to always explicitly state the structure I'm using.\n",
        "- The last line tells sommer which data frame to use and I set the verbose flag to TRUE so the **convergence** information is printed to the screen.\n",
        "\n",
        "**Convergence** - Mixed models must be solved iteratively as you need estimates of the model effects to estimate variance composnents and you need the variance components to estimate the random effects. This means the solver must start by randomly initializing the variance components and interatively update the solutions until cpnvergence has been achieled. Mixed models do not always converge for a variety of reasons, so it is important to first check for model convergence before using and of the model outputs."
      ]
    },
    {
      "cell_type": "markdown",
      "id": "824813a7-449a-4249-a1f1-6d7eae6d35fc",
      "metadata": {
        "id": "824813a7-449a-4249-a1f1-6d7eae6d35fc"
      },
      "source": [
        "# Model Output\n",
        "\n",
        "Now lets look at key component of the model output. First we will use the function `summary()` to look at what is contained in the object **model1**."
      ]
    },
    {
      "cell_type": "code",
      "execution_count": 26,
      "id": "b23d57b9-5cb6-42db-8b99-8569ae4bfc1c",
      "metadata": {
        "tags": [],
        "colab": {
          "base_uri": "https://localhost:8080/",
          "height": 613
        },
        "id": "b23d57b9-5cb6-42db-8b99-8569ae4bfc1c",
        "outputId": "2d892056-dca0-442c-a359-d26c0ee1bd1a"
      },
      "outputs": [
        {
          "output_type": "stream",
          "name": "stderr",
          "text": [
            "This function has been deprecated. Please start using 'mmes' and its auxiliary functions (e.g., 'vsm', 'usm', 'dsm', 'ism', etc.). This function will be no longer maintained.\n",
            "\n"
          ]
        },
        {
          "output_type": "display_data",
          "data": {
            "text/html": [
              "<dl>\n",
              "\t<dt>$groups</dt>\n",
              "\t\t<dd>NULL</dd>\n",
              "\t<dt>$varcomp</dt>\n",
              "\t\t<dd><table class=\"dataframe\">\n",
              "<caption>A data.frame: 1 × 4</caption>\n",
              "<thead>\n",
              "\t<tr><th></th><th scope=col>VarComp</th><th scope=col>VarCompSE</th><th scope=col>Zratio</th><th scope=col>Constraint</th></tr>\n",
              "\t<tr><th></th><th scope=col>&lt;dbl&gt;</th><th scope=col>&lt;dbl&gt;</th><th scope=col>&lt;dbl&gt;</th><th scope=col>&lt;chr&gt;</th></tr>\n",
              "</thead>\n",
              "<tbody>\n",
              "\t<tr><th scope=row>units.phenotype-phenotype</th><td>2.848182</td><td>0.4318402</td><td>6.595453</td><td>Positive</td></tr>\n",
              "</tbody>\n",
              "</table>\n",
              "</dd>\n",
              "\t<dt>$betas</dt>\n",
              "\t\t<dd><table class=\"dataframe\">\n",
              "<caption>A data.frame: 3 × 5</caption>\n",
              "<thead>\n",
              "\t<tr><th scope=col>Trait</th><th scope=col>Effect</th><th scope=col>Estimate</th><th scope=col>Std.Error</th><th scope=col>t.value</th></tr>\n",
              "\t<tr><th scope=col>&lt;fct&gt;</th><th scope=col>&lt;fct&gt;</th><th scope=col>&lt;dbl&gt;</th><th scope=col>&lt;dbl&gt;</th><th scope=col>&lt;dbl&gt;</th></tr>\n",
              "</thead>\n",
              "<tbody>\n",
              "\t<tr><td>phenotype</td><td>(Intercept)</td><td> 0.06147164</td><td>0.3081224</td><td> 0.199504</td></tr>\n",
              "\t<tr><td>phenotype</td><td>trt2       </td><td> 1.29941929</td><td>0.4357508</td><td> 2.982024</td></tr>\n",
              "\t<tr><td>phenotype</td><td>trt3       </td><td>-0.86005383</td><td>0.4357508</td><td>-1.973729</td></tr>\n",
              "</tbody>\n",
              "</table>\n",
              "</dd>\n",
              "\t<dt>$method</dt>\n",
              "\t\t<dd>'NR'</dd>\n",
              "\t<dt>$logo</dt>\n",
              "\t\t<dd><table class=\"dataframe\">\n",
              "<caption>A data.frame: 1 × 5</caption>\n",
              "<thead>\n",
              "\t<tr><th></th><th scope=col>logLik</th><th scope=col>AIC</th><th scope=col>BIC</th><th scope=col>Method</th><th scope=col>Converge</th></tr>\n",
              "\t<tr><th></th><th scope=col>&lt;dbl&gt;</th><th scope=col>&lt;dbl&gt;</th><th scope=col>&lt;dbl&gt;</th><th scope=col>&lt;chr&gt;</th><th scope=col>&lt;lgl&gt;</th></tr>\n",
              "</thead>\n",
              "<tbody>\n",
              "\t<tr><th scope=row>Value</th><td>-33.54047</td><td>73.08094</td><td>80.58037</td><td>NR</td><td>TRUE</td></tr>\n",
              "</tbody>\n",
              "</table>\n",
              "</dd>\n",
              "</dl>\n"
            ],
            "text/markdown": "$groups\n:   NULL\n$varcomp\n:   \nA data.frame: 1 × 4\n\n| <!--/--> | VarComp &lt;dbl&gt; | VarCompSE &lt;dbl&gt; | Zratio &lt;dbl&gt; | Constraint &lt;chr&gt; |\n|---|---|---|---|---|\n| units.phenotype-phenotype | 2.848182 | 0.4318402 | 6.595453 | Positive |\n\n\n$betas\n:   \nA data.frame: 3 × 5\n\n| Trait &lt;fct&gt; | Effect &lt;fct&gt; | Estimate &lt;dbl&gt; | Std.Error &lt;dbl&gt; | t.value &lt;dbl&gt; |\n|---|---|---|---|---|\n| phenotype | (Intercept) |  0.06147164 | 0.3081224 |  0.199504 |\n| phenotype | trt2        |  1.29941929 | 0.4357508 |  2.982024 |\n| phenotype | trt3        | -0.86005383 | 0.4357508 | -1.973729 |\n\n\n$method\n:   'NR'\n$logo\n:   \nA data.frame: 1 × 5\n\n| <!--/--> | logLik &lt;dbl&gt; | AIC &lt;dbl&gt; | BIC &lt;dbl&gt; | Method &lt;chr&gt; | Converge &lt;lgl&gt; |\n|---|---|---|---|---|---|\n| Value | -33.54047 | 73.08094 | 80.58037 | NR | TRUE |\n\n\n\n\n",
            "text/latex": "\\begin{description}\n\\item[\\$groups] NULL\n\\item[\\$varcomp] A data.frame: 1 × 4\n\\begin{tabular}{r|llll}\n  & VarComp & VarCompSE & Zratio & Constraint\\\\\n  & <dbl> & <dbl> & <dbl> & <chr>\\\\\n\\hline\n\tunits.phenotype-phenotype & 2.848182 & 0.4318402 & 6.595453 & Positive\\\\\n\\end{tabular}\n\n\\item[\\$betas] A data.frame: 3 × 5\n\\begin{tabular}{lllll}\n Trait & Effect & Estimate & Std.Error & t.value\\\\\n <fct> & <fct> & <dbl> & <dbl> & <dbl>\\\\\n\\hline\n\t phenotype & (Intercept) &  0.06147164 & 0.3081224 &  0.199504\\\\\n\t phenotype & trt2        &  1.29941929 & 0.4357508 &  2.982024\\\\\n\t phenotype & trt3        & -0.86005383 & 0.4357508 & -1.973729\\\\\n\\end{tabular}\n\n\\item[\\$method] 'NR'\n\\item[\\$logo] A data.frame: 1 × 5\n\\begin{tabular}{r|lllll}\n  & logLik & AIC & BIC & Method & Converge\\\\\n  & <dbl> & <dbl> & <dbl> & <chr> & <lgl>\\\\\n\\hline\n\tValue & -33.54047 & 73.08094 & 80.58037 & NR & TRUE\\\\\n\\end{tabular}\n\n\\end{description}\n",
            "text/plain": [
              "$groups\n",
              "NULL\n",
              "\n",
              "$varcomp\n",
              "                           VarComp VarCompSE   Zratio Constraint\n",
              "units.phenotype-phenotype 2.848182 0.4318402 6.595453   Positive\n",
              "\n",
              "$betas\n",
              "      Trait      Effect    Estimate Std.Error   t.value\n",
              "1 phenotype (Intercept)  0.06147164 0.3081224  0.199504\n",
              "2 phenotype        trt2  1.29941929 0.4357508  2.982024\n",
              "3 phenotype        trt3 -0.86005383 0.4357508 -1.973729\n",
              "\n",
              "$method\n",
              "[1] \"NR\"\n",
              "\n",
              "$logo\n",
              "         logLik      AIC      BIC Method Converge\n",
              "Value -33.54047 73.08094 80.58037     NR     TRUE\n",
              "\n",
              "attr(,\"class\")\n",
              "[1] \"summary.mmer\" \"list\"        "
            ]
          },
          "metadata": {}
        }
      ],
      "source": [
        "summary(model1)"
      ]
    },
    {
      "cell_type": "markdown",
      "id": "3f853f45-356e-44c9-abae-44afbdcc0a58",
      "metadata": {
        "id": "3f853f45-356e-44c9-abae-44afbdcc0a58"
      },
      "source": [
        "**$groups** - Provides grouping information for more complicated covariance structures\n",
        "\n",
        "**$varcomp** - provdes estimates of the variance components, in this case only for the residual variance component as there are no random effects in the model.\n",
        "\n",
        "**$beta** - provides the estimates and standard errors of the fixed effects\n",
        "\n",
        "**method** - Gives the method used to solve the mixed model equations `NR` is a second derivative method that will not be covered in this course.\n",
        "\n",
        "**$logo** - Provides information on model fit and whether the model converged. Here we can see that Converged = TRUE, so we know the model converged successfuly. **Always confirm the model converged before using any results**.  "
      ]
    },
    {
      "cell_type": "markdown",
      "id": "3ae3a4c8-afd8-42b5-830b-e9139d87dffc",
      "metadata": {
        "id": "3ae3a4c8-afd8-42b5-830b-e9139d87dffc"
      },
      "source": [
        "# Solutions\n",
        "\n",
        "To pull out spcific components of **model1** we use `$`\n",
        "\n",
        "The fixed effect solutions can be pulled out of the model object using the command `model1_ped$Beta`"
      ]
    },
    {
      "cell_type": "code",
      "execution_count": 27,
      "id": "4bb91020-e5a6-4244-97f2-67577d09fa0f",
      "metadata": {
        "tags": [],
        "colab": {
          "base_uri": "https://localhost:8080/",
          "height": 190
        },
        "id": "4bb91020-e5a6-4244-97f2-67577d09fa0f",
        "outputId": "2253859e-dc3e-4596-e435-e560a1d1f566"
      },
      "outputs": [
        {
          "output_type": "display_data",
          "data": {
            "text/html": [
              "<table class=\"dataframe\">\n",
              "<caption>A data.frame: 3 × 3</caption>\n",
              "<thead>\n",
              "\t<tr><th scope=col>Trait</th><th scope=col>Effect</th><th scope=col>Estimate</th></tr>\n",
              "\t<tr><th scope=col>&lt;fct&gt;</th><th scope=col>&lt;fct&gt;</th><th scope=col>&lt;dbl&gt;</th></tr>\n",
              "</thead>\n",
              "<tbody>\n",
              "\t<tr><td>phenotype</td><td>(Intercept)</td><td> 0.06147164</td></tr>\n",
              "\t<tr><td>phenotype</td><td>trt2       </td><td> 1.29941929</td></tr>\n",
              "\t<tr><td>phenotype</td><td>trt3       </td><td>-0.86005383</td></tr>\n",
              "</tbody>\n",
              "</table>\n"
            ],
            "text/markdown": "\nA data.frame: 3 × 3\n\n| Trait &lt;fct&gt; | Effect &lt;fct&gt; | Estimate &lt;dbl&gt; |\n|---|---|---|\n| phenotype | (Intercept) |  0.06147164 |\n| phenotype | trt2        |  1.29941929 |\n| phenotype | trt3        | -0.86005383 |\n\n",
            "text/latex": "A data.frame: 3 × 3\n\\begin{tabular}{lll}\n Trait & Effect & Estimate\\\\\n <fct> & <fct> & <dbl>\\\\\n\\hline\n\t phenotype & (Intercept) &  0.06147164\\\\\n\t phenotype & trt2        &  1.29941929\\\\\n\t phenotype & trt3        & -0.86005383\\\\\n\\end{tabular}\n",
            "text/plain": [
              "  Trait     Effect      Estimate   \n",
              "1 phenotype (Intercept)  0.06147164\n",
              "2 phenotype trt2         1.29941929\n",
              "3 phenotype trt3        -0.86005383"
            ]
          },
          "metadata": {}
        }
      ],
      "source": [
        "sol_fixed=model1$Beta\n",
        "sol_fixed"
      ]
    },
    {
      "cell_type": "markdown",
      "id": "f67d891c-595b-451c-b02e-14efdf2a64cb",
      "metadata": {
        "id": "f67d891c-595b-451c-b02e-14efdf2a64cb"
      },
      "source": [
        "Now I have my estimates from model 1, let's run a second model adds `exp_unit` as a random effect."
      ]
    },
    {
      "cell_type": "markdown",
      "id": "24f9207a-a655-4a50-9d2d-c6d630a9ac2a",
      "metadata": {
        "id": "24f9207a-a655-4a50-9d2d-c6d630a9ac2a"
      },
      "source": [
        "# Model 2 - Including `exp_unit` as a random effect"
      ]
    },
    {
      "cell_type": "code",
      "execution_count": 28,
      "id": "82712295-f8d6-4dae-a300-1322b8ea4e85",
      "metadata": {
        "tags": [],
        "colab": {
          "base_uri": "https://localhost:8080/"
        },
        "id": "82712295-f8d6-4dae-a300-1322b8ea4e85",
        "outputId": "c0f80dba-f968-46ca-b846-556a9a84543d"
      },
      "outputs": [
        {
          "output_type": "stream",
          "name": "stderr",
          "text": [
            "This function has been deprecated. Please start using 'mmes' and its auxiliary functions (e.g., 'vsm', 'usm', 'dsm', 'ism', etc.). This function will be no longer maintained.\n",
            "\n"
          ]
        },
        {
          "output_type": "stream",
          "name": "stdout",
          "text": [
            "iteration    LogLik     wall    cpu(sec)   restrained\n",
            "    1      -26.8771   18:34:26      0           0\n",
            "    2      -21.8612   18:34:26      0           0\n",
            "    3      -20.5112   18:34:26      0           0\n",
            "    4      -20.3965   18:34:26      0           0\n",
            "    5      -20.3954   18:34:26      0           0\n",
            "    6      -20.3954   18:34:26      0           0\n"
          ]
        }
      ],
      "source": [
        "model2 <- mmer(phenotype ~ 1 + trt,\n",
        "                 random = ~  exp_unit,\n",
        "                 rcov=~ units,\n",
        "                 data = dataf)"
      ]
    },
    {
      "cell_type": "markdown",
      "id": "21c4f212-9dfb-42a4-bf81-92b9b39b3bd9",
      "metadata": {
        "id": "21c4f212-9dfb-42a4-bf81-92b9b39b3bd9"
      },
      "source": [
        "As you can see the model statement is similar but we now have a new row for the random effect: `random= ~ exp_unit,`\n",
        "\n",
        "`random= ~` tells the model that we are giving it terms we want to treat as random.\n"
      ]
    },
    {
      "cell_type": "markdown",
      "id": "ed207fb8-b7af-4f5a-9367-80dfb43f18be",
      "metadata": {
        "id": "ed207fb8-b7af-4f5a-9367-80dfb43f18be"
      },
      "source": [
        "# Compare the output of model1 and model2. How do they differ? (1 pt)"
      ]
    },
    {
      "cell_type": "code",
      "execution_count": null,
      "id": "2b3c5d46-e6c4-490f-bdf4-87905ae1f46b",
      "metadata": {
        "id": "2b3c5d46-e6c4-490f-bdf4-87905ae1f46b"
      },
      "outputs": [],
      "source": [
        "# code to compare the model output"
      ]
    },
    {
      "cell_type": "markdown",
      "id": "f558938c-955f-4ee3-a1f9-f4345ef79ab5",
      "metadata": {
        "id": "f558938c-955f-4ee3-a1f9-f4345ef79ab5"
      },
      "source": [
        "# Answer:"
      ]
    },
    {
      "cell_type": "markdown",
      "id": "fffb3197-c641-42d2-a3cf-51c13aee255a",
      "metadata": {
        "id": "fffb3197-c641-42d2-a3cf-51c13aee255a"
      },
      "source": [
        "# Run two additional models (2 pts)\n",
        "## `model3` should have `exp_unit as a fixed effect\n",
        "## `model4` should use the means of the complete dataset as the phenotype `datafM$phenotypeMean` only include trt as fixed and treat residuals as IID."
      ]
    },
    {
      "cell_type": "code",
      "execution_count": null,
      "id": "69df1d96-abda-46d1-a118-bad2e1024458",
      "metadata": {
        "id": "69df1d96-abda-46d1-a118-bad2e1024458"
      },
      "outputs": [],
      "source": [
        "# code for running the models here"
      ]
    },
    {
      "cell_type": "markdown",
      "id": "8ebc8fa2-06d5-443e-be74-493b4546455c",
      "metadata": {
        "id": "8ebc8fa2-06d5-443e-be74-493b4546455c"
      },
      "source": [
        "# Compare the results of the 4 models. Do any of the models give the same results? Which model(s) do you think are giving the correct results and why?  (1 pt)"
      ]
    },
    {
      "cell_type": "code",
      "execution_count": null,
      "id": "2cbb207a-4d9e-4654-aea3-7ba3144006c9",
      "metadata": {
        "id": "2cbb207a-4d9e-4654-aea3-7ba3144006c9"
      },
      "outputs": [],
      "source": [
        "# Code to compare the model output"
      ]
    },
    {
      "cell_type": "markdown",
      "id": "bcbff6e2-7749-45cc-bd31-ac4183b06c0e",
      "metadata": {
        "id": "bcbff6e2-7749-45cc-bd31-ac4183b06c0e"
      },
      "source": [
        "# Answer"
      ]
    },
    {
      "cell_type": "markdown",
      "id": "7b837337-4bcf-4402-8e17-ae658b40ac91",
      "metadata": {
        "id": "7b837337-4bcf-4402-8e17-ae658b40ac91"
      },
      "source": [
        "# Now repeat the 4 analyses but use the phenotype with missing data (`dataf$phenotypeMissing`) and phenotypic mean calculated using missing data (`datafM$phenotypeMeanMissing`). (4 pts)  "
      ]
    },
    {
      "cell_type": "code",
      "execution_count": null,
      "id": "fe53e310-6add-4ea7-baf0-9c157a7d27e9",
      "metadata": {
        "id": "fe53e310-6add-4ea7-baf0-9c157a7d27e9"
      },
      "outputs": [],
      "source": [
        "# code to run the 4 models here"
      ]
    },
    {
      "cell_type": "code",
      "execution_count": null,
      "id": "56e6e350-67d2-451a-bb01-5d109a96ee10",
      "metadata": {
        "id": "56e6e350-67d2-451a-bb01-5d109a96ee10"
      },
      "outputs": [],
      "source": [
        "# code to compare the results"
      ]
    },
    {
      "cell_type": "markdown",
      "id": "5b662cc9-c721-4a44-96c2-d064596377e3",
      "metadata": {
        "id": "5b662cc9-c721-4a44-96c2-d064596377e3"
      },
      "source": [
        "# Compare the model output. Do any of the models give the same results? Which model do you think is best and why? (1 pt)"
      ]
    },
    {
      "cell_type": "markdown",
      "id": "640293b7-a110-425c-8ce6-1276d99ff9f0",
      "metadata": {
        "id": "640293b7-a110-425c-8ce6-1276d99ff9f0"
      },
      "source": [
        "# Answer"
      ]
    },
    {
      "cell_type": "code",
      "execution_count": null,
      "id": "32df9e95-beb3-4624-ae7a-2fdeb27f5561",
      "metadata": {
        "id": "32df9e95-beb3-4624-ae7a-2fdeb27f5561"
      },
      "outputs": [],
      "source": []
    }
  ],
  "metadata": {
    "kernelspec": {
      "display_name": "R",
      "language": "R",
      "name": "ir"
    },
    "language_info": {
      "codemirror_mode": "r",
      "file_extension": ".r",
      "mimetype": "text/x-r-source",
      "name": "R",
      "pygments_lexer": "r",
      "version": "4.3.3"
    },
    "colab": {
      "provenance": []
    }
  },
  "nbformat": 4,
  "nbformat_minor": 5
}