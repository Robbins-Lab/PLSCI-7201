{
 "cells": [
  {
   "cell_type": "markdown",
   "id": "90ac7b67-65eb-446e-a0f8-9f468cc38a1c",
   "metadata": {},
   "source": [
    "![](images/slide1.png)\n",
    "___"
   ]
  },
  {
   "cell_type": "code",
   "execution_count": null,
   "id": "67b5f08d-09df-489a-b7ab-8d5dee47e983",
   "metadata": {},
   "outputs": [],
   "source": []
  },
  {
   "cell_type": "markdown",
   "id": "95b4071f-1ea4-40bf-ba0f-8dc821a17395",
   "metadata": {},
   "source": [
    "![](images/slide2.png)\n",
    "___\n"
   ]
  },
  {
   "cell_type": "code",
   "execution_count": null,
   "id": "da68be09-ba4e-411b-b6e8-d902d0fcaa1c",
   "metadata": {},
   "outputs": [],
   "source": []
  },
  {
   "cell_type": "markdown",
   "id": "1dc82380-7d7e-4273-9381-55b72c21f0d3",
   "metadata": {},
   "source": [
    "![](images/slide3.png)\n",
    "___\n"
   ]
  },
  {
   "cell_type": "code",
   "execution_count": null,
   "id": "75284cde-b74e-48b5-9967-73c5e467ee5f",
   "metadata": {},
   "outputs": [],
   "source": []
  },
  {
   "cell_type": "markdown",
   "id": "b2593d5d-6b63-4571-9216-485679409076",
   "metadata": {},
   "source": [
    "![](images/slide4.png)\n",
    "___\n"
   ]
  },
  {
   "cell_type": "code",
   "execution_count": null,
   "id": "05d3b74b-96b6-4d9c-8b7d-e4cc27befb1c",
   "metadata": {},
   "outputs": [],
   "source": []
  },
  {
   "cell_type": "markdown",
   "id": "e3f7450f-2d07-4e9d-b8e0-ab00989fc1a2",
   "metadata": {},
   "source": [
    "![](images/slide5.png)\n",
    "___\n"
   ]
  },
  {
   "cell_type": "code",
   "execution_count": null,
   "id": "11b37887-a4f9-4efe-8307-2a07f8a5490c",
   "metadata": {},
   "outputs": [],
   "source": []
  },
  {
   "cell_type": "markdown",
   "id": "02984236-056c-4a6d-bf03-4fd02936adfd",
   "metadata": {},
   "source": [
    "![](images/slide6.png)\n",
    "___\n"
   ]
  },
  {
   "cell_type": "code",
   "execution_count": null,
   "id": "0a02e943-bffc-4f53-be57-d95a0beda0cc",
   "metadata": {},
   "outputs": [],
   "source": []
  },
  {
   "cell_type": "markdown",
   "id": "86317c72-d39b-4e52-bc07-13ad6e00890a",
   "metadata": {},
   "source": [
    "![](images/slide7.png)\n",
    "___\n"
   ]
  },
  {
   "cell_type": "code",
   "execution_count": null,
   "id": "3c4ae93c-8a10-461f-a9b7-0f915d325c3b",
   "metadata": {},
   "outputs": [],
   "source": []
  },
  {
   "cell_type": "markdown",
   "id": "6dfeeef4-7f1d-4aa9-89d2-e48be2b45677",
   "metadata": {},
   "source": [
    "![](images/slide8.png)\n",
    "___\n"
   ]
  },
  {
   "cell_type": "code",
   "execution_count": null,
   "id": "5c70cff5-2634-4379-ab41-1a2794855bf8",
   "metadata": {},
   "outputs": [],
   "source": []
  },
  {
   "cell_type": "markdown",
   "id": "c2ba541e-bfbb-468d-8a3b-8ca3bab9de7f",
   "metadata": {},
   "source": [
    "![](images/slide9.png)\n",
    "___\n"
   ]
  },
  {
   "cell_type": "code",
   "execution_count": null,
   "id": "3d81bb2e-dba7-4da2-bce8-5df1774c8ae0",
   "metadata": {},
   "outputs": [],
   "source": []
  },
  {
   "cell_type": "markdown",
   "id": "ac6587da-5290-42c5-b588-141290d18364",
   "metadata": {},
   "source": [
    "![](images/slide10.png)\n",
    "___"
   ]
  },
  {
   "cell_type": "code",
   "execution_count": null,
   "id": "8444d103-df95-49c5-8be4-7d911dc582ab",
   "metadata": {},
   "outputs": [],
   "source": []
  },
  {
   "cell_type": "markdown",
   "id": "c65a1610-3a80-4104-b31c-94d0ee671e4d",
   "metadata": {},
   "source": [
    "## What is the advantage of modeling an effect as random?\n",
    "## When should an effect be treated as random versus fixed?"
   ]
  },
  {
   "cell_type": "markdown",
   "id": "d8535f34-f2d5-4c2d-a591-f2b1a9ac5296",
   "metadata": {},
   "source": [
    "![](images/slide12.png)\n",
    "\n",
    "![](images/slide13.png)\n",
    "\n",
    "![](images/slide14.png)\n",
    "\n",
    "![](images/slide15.png)\n",
    "\n",
    "![](images/slide16.png)\n",
    "\n",
    "![](images/slide17.png)\n",
    "\n",
    "![](images/slide18.png)\n",
    "\n",
    "![](images/slide19.png)\n",
    "\n",
    "![](images/slide20.png)\n",
    "\n",
    "![](images/slide21.png)\n"
   ]
  },
  {
   "cell_type": "code",
   "execution_count": null,
   "id": "1a460fd9-36bc-4f3e-8850-42953d313663",
   "metadata": {},
   "outputs": [],
   "source": []
  },
  {
   "cell_type": "code",
   "execution_count": null,
   "id": "8d26d198-9d45-4271-a4a3-bd88481eedb7",
   "metadata": {},
   "outputs": [],
   "source": []
  },
  {
   "cell_type": "code",
   "execution_count": null,
   "id": "3d427c60-6293-4f33-a2e0-3e4ec2bf46bf",
   "metadata": {},
   "outputs": [],
   "source": []
  }
 ],
 "metadata": {
  "kernelspec": {
   "display_name": "R",
   "language": "R",
   "name": "ir"
  },
  "language_info": {
   "codemirror_mode": "r",
   "file_extension": ".r",
   "mimetype": "text/x-r-source",
   "name": "R",
   "pygments_lexer": "r",
   "version": "4.3.3"
  }
 },
 "nbformat": 4,
 "nbformat_minor": 5
}
