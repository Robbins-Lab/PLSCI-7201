{
 "cells": [
  {
   "cell_type": "markdown",
   "id": "55935f24",
   "metadata": {},
   "source": [
    "# Part 1  Variance and Covariance\n",
    "\n",
    "The mean and variance are important descriptors of a distribution. They are\n",
    "sometimes referred to as moments of a distribution. This is a\n",
    "distribution of random variable x:"
   ]
  },
  {
   "cell_type": "code",
   "execution_count": null,
   "id": "914fc59a",
   "metadata": {
    "echo": false
   },
   "outputs": [],
   "source": [
    "\n",
    "hist(rnorm(100), main=\"A Distribution\", xlab=\"Variable x\")\n"
   ]
  },
  {
   "cell_type": "markdown",
   "id": "86eb94b7",
   "metadata": {
    "lines_to_next_cell": 0
   },
   "source": [
    "Complete this code to calculate the variance of $x$ using only vectors \n",
    "```r\n",
    "x<-rnorm(100)\n",
    "centered_x <- x - mu_x\n",
    "sigma_x <- \n",
    "sigma_x\n",
    "```"
   ]
  },
  {
   "cell_type": "code",
   "execution_count": null,
   "id": "ad221485",
   "metadata": {
    "lines_to_next_cell": 2
   },
   "outputs": [],
   "source": [
    "# Your code here"
   ]
  },
  {
   "cell_type": "markdown",
   "id": "28b89841",
   "metadata": {
    "lines_to_next_cell": 0
   },
   "source": [
    "Use the R functions var() to check your answer"
   ]
  },
  {
   "cell_type": "code",
   "execution_count": null,
   "id": "fcc1d66e",
   "metadata": {
    "lines_to_next_cell": 2
   },
   "outputs": [],
   "source": [
    "# Your code here"
   ]
  },
  {
   "cell_type": "markdown",
   "id": "e72a9a0b",
   "metadata": {
    "lines_to_next_cell": 0
   },
   "source": [
    "Consider a matrix ($\\mathbf{A}$)with three columns representing random variables\n",
    "x,y,z."
   ]
  },
  {
   "cell_type": "code",
   "execution_count": null,
   "id": "cc13b696",
   "metadata": {
    "lines_to_next_cell": 0
   },
   "outputs": [],
   "source": [
    "set.seed(100)\n",
    "A <- matrix(c(x,y=rnorm(100,3,3),z=rnorm(100,1,2)),ncol=3, byrow=F)\n",
    "A"
   ]
  },
  {
   "cell_type": "markdown",
   "id": "bf894ca2",
   "metadata": {},
   "source": [
    "Use the R function scale() to subtract each column's mean for each \n",
    "column (center each column) and save the result as A2. **Make sure to set\n",
    "center=T and scale=F as arguments to the scale() function!**"
   ]
  },
  {
   "cell_type": "code",
   "execution_count": null,
   "id": "a5551289",
   "metadata": {},
   "outputs": [],
   "source": [
    "# Your code here\n"
   ]
  },
  {
   "cell_type": "markdown",
   "id": "6a318f97",
   "metadata": {
    "lines_to_next_cell": 0
   },
   "source": [
    "Multiple the transpose of $\\mathbf{A2}^{t}$ by $\\mathbf{A2}$ and save it\n",
    "as variable AA"
   ]
  },
  {
   "cell_type": "code",
   "execution_count": null,
   "id": "c0e75130",
   "metadata": {},
   "outputs": [],
   "source": [
    "# Your code here"
   ]
  },
  {
   "cell_type": "markdown",
   "id": "86005c11",
   "metadata": {
    "lines_to_next_cell": 0
   },
   "source": [
    "Divide the matrix AA by $n-1$ "
   ]
  },
  {
   "cell_type": "code",
   "execution_count": null,
   "id": "0d0a80c9",
   "metadata": {},
   "outputs": [],
   "source": [
    "# Your code here"
   ]
  },
  {
   "cell_type": "markdown",
   "id": "ed253e91",
   "metadata": {},
   "source": [
    "# **Question: Looking at the diagonals of AA/(n-1), what do these value represent? (Hint: look at element 1,1 and compare to previous exercise).**"
   ]
  },
  {
   "cell_type": "markdown",
   "id": "37ec26fa-5c9c-4fc6-9bd5-1df7708cd5f2",
   "metadata": {},
   "source": [
    "# **Answer here:**"
   ]
  },
  {
   "cell_type": "markdown",
   "id": "7c9500f6",
   "metadata": {
    "lines_to_next_cell": 0
   },
   "source": [
    "# Part 2 Design Matrix\n",
    "\n",
    "An experiment was conducted to test the effect of chemical x relative to a control.\n",
    "The treatment structure is represented by the following\n",
    "data.frame named experiment."
   ]
  },
  {
   "cell_type": "code",
   "execution_count": null,
   "id": "502458c3",
   "metadata": {},
   "outputs": [],
   "source": [
    "experiment <- data.frame(group=as.factor(c(rep(\"control\",3), rep(\"treatment\",3))))\n",
    "experiment"
   ]
  },
  {
   "cell_type": "markdown",
   "id": "0760517b",
   "metadata": {
    "lines_to_next_cell": 0
   },
   "source": [
    "This design can be represented by  the follow equations\n",
    "\n",
    "$y_{1} = 1*\\mu_{control} + 0*\\mu_{treatment} + residual$ \n",
    "\n",
    "$y_{2} = 1*\\mu_{control} + 0*\\mu_{treatment} + residual$ \n",
    "\n",
    "$y_{3} = 1*\\mu_{control} + 0*\\mu_{treatment} + residual$ \n",
    "\n",
    "$y_{4} = 0*\\mu_{control} + 1*\\mu_{treatment} + residual$ \n",
    "\n",
    "$y_{5} = 0*\\mu_{control} + 1*\\mu_{treatment} + residual$ \n",
    "\n",
    "$y_{6} = 0*\\mu_{control} + 1*\\mu_{treatment} + residual$ \n",
    "\n",
    "Use the R function matrix() to build the design matrix and store it in variable X and\n",
    "print X."
   ]
  },
  {
   "cell_type": "code",
   "execution_count": null,
   "id": "5ae8e5d3",
   "metadata": {},
   "outputs": [],
   "source": [
    "# Your code here"
   ]
  },
  {
   "cell_type": "markdown",
   "id": "bea8f7a7",
   "metadata": {},
   "source": [
    "Use the R function model.matrix() to check your \n",
    "answer by completing this code\n",
    "```r\n",
    "X <- model.matrix(~group-1, data=)\n",
    "X\n",
    "```"
   ]
  },
  {
   "cell_type": "code",
   "execution_count": null,
   "id": "15c3ac94",
   "metadata": {},
   "outputs": [],
   "source": [
    "# Your code here"
   ]
  },
  {
   "cell_type": "markdown",
   "id": "9a07f892",
   "metadata": {},
   "source": [
    "# **Question: How many replicates are there in each group?**"
   ]
  },
  {
   "cell_type": "markdown",
   "id": "28860972-023a-460a-a2ed-b6bc8dab7b5d",
   "metadata": {},
   "source": [
    "# **Answer Here:**"
   ]
  },
  {
   "cell_type": "markdown",
   "id": "ab60ac82",
   "metadata": {
    "lines_to_next_cell": 0
   },
   "source": [
    "# Part 3 Solving Equations\n",
    "**Simulate $y$ such that $\\mu_{control}=0$, $\\mu_{treatment}=3$, and residuals are normally distributed with mean=0 and variance =2.**"
   ]
  },
  {
   "cell_type": "code",
   "execution_count": null,
   "id": "fc9649ef",
   "metadata": {
    "lines_to_next_cell": 2
   },
   "outputs": [],
   "source": [
    "# Your code here"
   ]
  },
  {
   "cell_type": "markdown",
   "id": "add84f5c",
   "metadata": {},
   "source": [
    "**Use the equation covered in class to find the BLUE for $\\mu_{control}$ and $\\mu_{treatment}$**"
   ]
  },
  {
   "cell_type": "code",
   "execution_count": null,
   "id": "72a5aecd-d7fa-4551-bf29-e4b6a9abd338",
   "metadata": {},
   "outputs": [],
   "source": [
    "# Your code here"
   ]
  },
  {
   "cell_type": "markdown",
   "id": "2e757125-503e-450a-bc30-bdcdf24751b5",
   "metadata": {},
   "source": [
    "**Now simulate 50 $y$ values, 25 in each treatment group, and sove for $\\mu_{control}$ and $\\mu_{treatment}$"
   ]
  },
  {
   "cell_type": "code",
   "execution_count": null,
   "id": "86002c59-e894-4e70-8bb8-d9c9b8152fb0",
   "metadata": {},
   "outputs": [],
   "source": [
    "# Your code here"
   ]
  }
 ],
 "metadata": {
  "jupytext": {
   "cell_metadata_filter": "echo,tags,-all",
   "main_language": "R",
   "notebook_metadata_filter": "-all"
  },
  "kernelspec": {
   "display_name": "R",
   "language": "R",
   "name": "ir"
  },
  "language_info": {
   "codemirror_mode": "r",
   "file_extension": ".r",
   "mimetype": "text/x-r-source",
   "name": "R",
   "pygments_lexer": "r",
   "version": "4.3.3"
  }
 },
 "nbformat": 4,
 "nbformat_minor": 5
}
